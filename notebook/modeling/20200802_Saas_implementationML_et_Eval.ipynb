{
 "cells": [
  {
   "cell_type": "markdown",
   "metadata": {},
   "source": [
    "## Brief description of the notebook\n",
    "\n",
    "In This notebook ,we aim for semi supervised ML algorithms for AD within our saas dataset.\n",
    " the dataset saas is the output of our previous processing and aggregation of features (notebook SaasV1Visualization&Generation)\n",
    "For threshold definition we rely on chebyshev inequality\n",
    "For validation, we use the chebyshev inequality threshold to build the ground truth, we use it along with confusion matrix and ROC-AUC to assess performance.\n",
    "\n",
    " \n",
    "For Anomaly detection we rely on tools from PYOD Library ,which is a comprehensive and scalable Python toolkit for detecting outlying objects in multivariate data. for further reading https://pyod.readthedocs.io/en/latest/\n",
    "\n",
    "for our case,We chose to apply two commonly used algorithms for AD:\n",
    "    \n",
    "     ISOLATION FOREST\n",
    "         The IsolationForest ‘isolates’ observations by randomly selecting a feature and then randomly selecting\n",
    "         a split value between the maximum and minimum values of the selected feature. \n",
    "     KNN\n",
    "        kNN class for outlier detection. For an observation, its distance to its kth nearest neighbor could be\n",
    "        viewed as the outlying score. It could be viewed as a way to measure the density. \n",
    "        \n",
    "     LOF\n",
    "         LOF Wrapper of scikit-learn LOF Class with more functionalities. \n",
    "         Unsupervised Outlier Detection using Local Outlier Factor (LOF).\n",
    "    The anomaly score of each sample is called Local Outlier Factor. It measures the local deviation of density of a given sample with respect to its neighbors. It is local in that the anomaly score depends on how isolated the object is with respect to the surrounding neighborhood. More precisely, locality is given by k-nearest neighbors, whose distance is used to estimate the local density. By comparing the local density of a sample to the local densities of its neighbors, one can identify samples that have a substantially lower density than their neighbors. These are considered outliers.\n",
    "    \n",
    "     OCSVM\n",
    "         Wrapper of scikit-learn one-class SVM Class with more functionalities. Unsupervised Outlier Detection.\n",
    "    Estimate the support of a high-dimensional distribution.\n",
    "     \n",
    "     COF\n",
    "         Connectivity-Based Outlier Factor (COF) COF uses the ratio of average chaining distance of data point and \n",
    "         the average of average chaining distance of k nearest neighbor of the data point, as the outlier score for observations."
   ]
  },
  {
   "cell_type": "code",
   "execution_count": 1,
   "metadata": {},
   "outputs": [],
   "source": [
    "\n",
    "import pandas as pd  # manipulation et l'analyse des données\n",
    "import numpy as np   #numpy pour manipuler les tableaux et faire des operations scientifiques\n",
    "\n",
    "import matplotlib # pour  tracer et visualiser des données sous formes de graphiques\n",
    "import matplotlib.pyplot as plt\n",
    "import seaborn as sns # tracer et visualiser des données sous des formats avancées (statistique par exemple)\n",
    "\n",
    "#Scipy : bibliotheque scientifique sous python\n",
    "from scipy.stats import norm\n",
    "from scipy.stats import kstest, norm #pour etudier la normalité des données\n",
    "import scikitplot as skplt #outil de visualisation\n",
    "\n",
    "#apprentissage:\n",
    "#sklearn bibliotheque destinée à l'apprentissage automatique.\n",
    "from sklearn.model_selection import train_test_split\n",
    "\n",
    "#pyod :bibliotheque python dediée a la detection d'anomalie\n",
    "from pyod.models.iforest import IForest #Isolation Forest\n",
    "from pyod.models.knn import KNN     #K-Nearest-Neighbour\n",
    "from pyod.models.lof import LOF    #Local Outlier Factor\n",
    "from pyod.models.ocsvm import OCSVM  # One class SVM\n",
    "from pyod.models.cof import COF       #Connectivity-based Outlier Factor\n",
    "\n",
    "#Evaluation:\n",
    "from sklearn.datasets import make_classification\n",
    "from sklearn.model_selection import StratifiedShuffleSplit\n",
    "from sklearn.metrics import accuracy_score, f1_score, precision_score, recall_score,\\\n",
    "    classification_report, confusion_matrix\n",
    "from pyod.utils.data import evaluate_print\n",
    "\n"
   ]
  },
  {
   "cell_type": "code",
   "execution_count": 2,
   "metadata": {},
   "outputs": [],
   "source": [
    "%matplotlib inline\n",
    "np.random.seed = 0"
   ]
  },
  {
   "cell_type": "code",
   "execution_count": 3,
   "metadata": {},
   "outputs": [
    {
     "data": {
      "text/plain": [
       "array([[<matplotlib.axes._subplots.AxesSubplot object at 0x00000253DED9E548>]],\n",
       "      dtype=object)"
      ]
     },
     "execution_count": 3,
     "metadata": {},
     "output_type": "execute_result"
    },
    {
     "data": {
      "image/png": "[encoded data removed]",
      "text/plain": [
       "<Figure size 432x288 with 1 Axes>"
      ]
     },
     "metadata": {
      "needs_background": "light"
     },
     "output_type": "display_data"
    }
   ],
   "source": [
    "df_saas =pd.read_csv(\"saas.csv\",parse_dates=['timestamp'] ,\n",
    "                       index_col=['timestamp'])#comment if timestamp indexing not wanted\n",
    "df_sas = df_saas[['count']]\n",
    "df_sas.hist()\n",
    "\n"
   ]
  },
  {
   "cell_type": "code",
   "execution_count": 4,
   "metadata": {},
   "outputs": [
    {
     "name": "stdout",
     "output_type": "stream",
     "text": [
      "<class 'pandas.core.frame.DataFrame'>\n",
      "DatetimeIndex: 1904 entries, 2019-06-06 09:43:21 to 2020-06-25 20:56:55\n",
      "Data columns (total 23 columns):\n",
      " #   Column      Non-Null Count  Dtype  \n",
      "---  ------      --------------  -----  \n",
      " 0   user_id     1904 non-null   int64  \n",
      " 1   event_type  1904 non-null   object \n",
      " 2   cl_0        1904 non-null   int64  \n",
      " 3   cl_1        1904 non-null   int64  \n",
      " 4   cl_2        1904 non-null   float64\n",
      " 5   cl_3        1904 non-null   float64\n",
      " 6   cl_4        1904 non-null   float64\n",
      " 7   cl_5        1904 non-null   float64\n",
      " 8   cl_6        1904 non-null   float64\n",
      " 9   cl_7        1904 non-null   float64\n",
      " 10  cl_8        1904 non-null   float64\n",
      " 11  cl_9        1904 non-null   float64\n",
      " 12  cl_10       1904 non-null   float64\n",
      " 13  cl_11       1904 non-null   float64\n",
      " 14  cl_12       1904 non-null   float64\n",
      " 15  cl_13       1904 non-null   float64\n",
      " 16  cl_14       1904 non-null   float64\n",
      " 17  cl_15       1904 non-null   float64\n",
      " 18  cl_16       1904 non-null   float64\n",
      " 19  cl_17       1904 non-null   float64\n",
      " 20  cl_18       1904 non-null   float64\n",
      " 21  cl_19       1904 non-null   float64\n",
      " 22  count       1904 non-null   int64  \n",
      "dtypes: float64(18), int64(4), object(1)\n",
      "memory usage: 357.0+ KB\n"
     ]
    }
   ],
   "source": [
    "df_saas.info()"
   ]
  },
  {
   "cell_type": "markdown",
   "metadata": {},
   "source": [
    "## SaaS Data normality, chebyshev rule and threshold"
   ]
  },
  {
   "cell_type": "code",
   "execution_count": 5,
   "metadata": {},
   "outputs": [
    {
     "name": "stdout",
     "output_type": "stream",
     "text": [
      "SaaS data normality test\n",
      "ks_statistic  1.0\n",
      "p_value  0.0\n"
     ]
    }
   ],
   "source": [
    "print(\"SaaS data normality test\")\n",
    "ks_statistic, p_value = kstest(df_sas, 'norm')\n",
    "print(\"ks_statistic \" ,ks_statistic)\n",
    "print(\"p_value \" ,p_value)"
   ]
  },
  {
   "cell_type": "markdown",
   "metadata": {},
   "source": [
    "    The Test Statistic of the KS Test is the Kolmogorov Smirnov Statistic, which follows a \n",
    "    Kolmogorov distribution if the null hypothesis is true.\n",
    "\n",
    "    If the observed data perfectly follow a normal distribution, the value of the KS statistic will be 0.\n",
    "    The P-Value is used to decide whether the difference is large enough to reject the null hypothesis\n",
    "\n",
    "    If the P-Value of the KS Test is larger than 0.05, we assume a normal distribution\n",
    "    If the P-Value of the KS Test is smaller than 0.05, we do not assume a normal distribution"
   ]
  },
  {
   "cell_type": "markdown",
   "metadata": {},
   "source": [
    "## “Chebyshev Bound”."
   ]
  },
  {
   "cell_type": "code",
   "execution_count": 6,
   "metadata": {},
   "outputs": [],
   "source": [
    "def find_anomalies(random_data):\n",
    "    sigma = np.std(random_data)\n",
    "    mu = np.mean(random_data)\n",
    "    print('DATA MEAN :')\n",
    "    print(mu)\n",
    "    print('  STD : ')\n",
    "    print(sigma)\n",
    "    \n",
    "    # Set upper and lower limit to 2 standard deviation\n",
    "    print(\"\")\n",
    "    print('upper  value')\n",
    "    upper_limit = mu+ (2*sigma)\n",
    "    print(upper_limit)\n",
    "    print('lower value')\n",
    "    lower_limit = mu- (2*sigma)\n",
    "    print(lower_limit)\n",
    "    \n",
    "    # Find outliers\n",
    "    anomalies = []\n",
    "    for outlier in random_data:\n",
    "        if outlier > upper_limit or outlier < lower_limit:\n",
    "            anomalies.append(outlier)\n",
    "    return upper_limit,anomalies"
   ]
  },
  {
   "cell_type": "code",
   "execution_count": 7,
   "metadata": {},
   "outputs": [
    {
     "name": "stdout",
     "output_type": "stream",
     "text": [
      "DATA MEAN :\n",
      "1.986344537815126\n",
      "  STD : \n",
      "2.9255148363602306\n",
      "\n",
      "upper  value\n",
      "7.837374210535588\n",
      "lower value\n",
      "-3.864685134905335\n"
     ]
    }
   ],
   "source": [
    "lim , anom = find_anomalies(df_sas['count'] )\n"
   ]
  },
  {
   "cell_type": "code",
   "execution_count": 8,
   "metadata": {},
   "outputs": [
    {
     "name": "stdout",
     "output_type": "stream",
     "text": [
      "---------------------------------------------\n",
      "\n",
      " Events outside of the upper limit per user_id+clients per seconds-min-hour-day-month:  \n"
     ]
    },
    {
     "data": {
      "text/html": [
       "<div>\n",
       "<style scoped>\n",
       "    .dataframe tbody tr th:only-of-type {\n",
       "        vertical-align: middle;\n",
       "    }\n",
       "\n",
       "    .dataframe tbody tr th {\n",
       "        vertical-align: top;\n",
       "    }\n",
       "\n",
       "    .dataframe thead th {\n",
       "        text-align: right;\n",
       "    }\n",
       "</style>\n",
       "<table border=\"1\" class=\"dataframe\">\n",
       "  <thead>\n",
       "    <tr style=\"text-align: right;\">\n",
       "      <th></th>\n",
       "      <th>count</th>\n",
       "    </tr>\n",
       "    <tr>\n",
       "      <th>timestamp</th>\n",
       "      <th></th>\n",
       "    </tr>\n",
       "  </thead>\n",
       "  <tbody>\n",
       "    <tr>\n",
       "      <th>2019-06-30 20:02:15</th>\n",
       "      <td>22</td>\n",
       "    </tr>\n",
       "    <tr>\n",
       "      <th>2019-06-30 20:02:16</th>\n",
       "      <td>23</td>\n",
       "    </tr>\n",
       "    <tr>\n",
       "      <th>2019-06-30 20:02:17</th>\n",
       "      <td>22</td>\n",
       "    </tr>\n",
       "    <tr>\n",
       "      <th>2019-06-30 20:02:18</th>\n",
       "      <td>22</td>\n",
       "    </tr>\n",
       "    <tr>\n",
       "      <th>2019-06-30 20:02:19</th>\n",
       "      <td>20</td>\n",
       "    </tr>\n",
       "    <tr>\n",
       "      <th>2019-07-02 20:02:10</th>\n",
       "      <td>17</td>\n",
       "    </tr>\n",
       "    <tr>\n",
       "      <th>2019-07-02 20:02:11</th>\n",
       "      <td>11</td>\n",
       "    </tr>\n",
       "    <tr>\n",
       "      <th>2019-07-02 20:02:12</th>\n",
       "      <td>21</td>\n",
       "    </tr>\n",
       "    <tr>\n",
       "      <th>2019-07-02 20:02:13</th>\n",
       "      <td>24</td>\n",
       "    </tr>\n",
       "    <tr>\n",
       "      <th>2019-07-02 20:02:14</th>\n",
       "      <td>24</td>\n",
       "    </tr>\n",
       "    <tr>\n",
       "      <th>2019-07-02 20:02:15</th>\n",
       "      <td>14</td>\n",
       "    </tr>\n",
       "    <tr>\n",
       "      <th>2019-07-03 20:02:10</th>\n",
       "      <td>23</td>\n",
       "    </tr>\n",
       "    <tr>\n",
       "      <th>2019-07-03 20:02:12</th>\n",
       "      <td>23</td>\n",
       "    </tr>\n",
       "    <tr>\n",
       "      <th>2019-07-03 20:02:13</th>\n",
       "      <td>10</td>\n",
       "    </tr>\n",
       "    <tr>\n",
       "      <th>2019-07-03 20:02:14</th>\n",
       "      <td>18</td>\n",
       "    </tr>\n",
       "    <tr>\n",
       "      <th>2019-07-03 20:02:15</th>\n",
       "      <td>22</td>\n",
       "    </tr>\n",
       "    <tr>\n",
       "      <th>2019-07-04 20:02:09</th>\n",
       "      <td>14</td>\n",
       "    </tr>\n",
       "    <tr>\n",
       "      <th>2019-07-04 20:02:11</th>\n",
       "      <td>24</td>\n",
       "    </tr>\n",
       "    <tr>\n",
       "      <th>2019-07-04 20:02:12</th>\n",
       "      <td>26</td>\n",
       "    </tr>\n",
       "    <tr>\n",
       "      <th>2019-07-04 20:02:13</th>\n",
       "      <td>24</td>\n",
       "    </tr>\n",
       "    <tr>\n",
       "      <th>2019-07-04 20:02:14</th>\n",
       "      <td>16</td>\n",
       "    </tr>\n",
       "    <tr>\n",
       "      <th>2019-07-05 20:02:14</th>\n",
       "      <td>21</td>\n",
       "    </tr>\n",
       "    <tr>\n",
       "      <th>2019-07-05 20:02:15</th>\n",
       "      <td>25</td>\n",
       "    </tr>\n",
       "    <tr>\n",
       "      <th>2019-07-05 20:02:16</th>\n",
       "      <td>27</td>\n",
       "    </tr>\n",
       "    <tr>\n",
       "      <th>2019-07-05 20:02:17</th>\n",
       "      <td>20</td>\n",
       "    </tr>\n",
       "    <tr>\n",
       "      <th>2019-07-06 20:02:09</th>\n",
       "      <td>24</td>\n",
       "    </tr>\n",
       "    <tr>\n",
       "      <th>2019-07-06 20:02:10</th>\n",
       "      <td>8</td>\n",
       "    </tr>\n",
       "    <tr>\n",
       "      <th>2019-07-06 20:02:11</th>\n",
       "      <td>20</td>\n",
       "    </tr>\n",
       "    <tr>\n",
       "      <th>2019-07-06 20:02:12</th>\n",
       "      <td>27</td>\n",
       "    </tr>\n",
       "    <tr>\n",
       "      <th>2019-07-06 20:02:13</th>\n",
       "      <td>23</td>\n",
       "    </tr>\n",
       "    <tr>\n",
       "      <th>2019-07-09 20:02:09</th>\n",
       "      <td>10</td>\n",
       "    </tr>\n",
       "    <tr>\n",
       "      <th>2019-07-09 20:02:10</th>\n",
       "      <td>25</td>\n",
       "    </tr>\n",
       "    <tr>\n",
       "      <th>2019-07-09 20:02:11</th>\n",
       "      <td>22</td>\n",
       "    </tr>\n",
       "    <tr>\n",
       "      <th>2019-07-09 20:02:12</th>\n",
       "      <td>24</td>\n",
       "    </tr>\n",
       "    <tr>\n",
       "      <th>2019-07-09 20:02:13</th>\n",
       "      <td>25</td>\n",
       "    </tr>\n",
       "    <tr>\n",
       "      <th>2019-09-05 20:02:17</th>\n",
       "      <td>10</td>\n",
       "    </tr>\n",
       "    <tr>\n",
       "      <th>2019-09-05 20:02:18</th>\n",
       "      <td>21</td>\n",
       "    </tr>\n",
       "    <tr>\n",
       "      <th>2019-09-05 20:02:19</th>\n",
       "      <td>22</td>\n",
       "    </tr>\n",
       "    <tr>\n",
       "      <th>2019-09-05 20:02:20</th>\n",
       "      <td>22</td>\n",
       "    </tr>\n",
       "    <tr>\n",
       "      <th>2019-09-05 20:02:21</th>\n",
       "      <td>22</td>\n",
       "    </tr>\n",
       "    <tr>\n",
       "      <th>2019-09-05 20:02:22</th>\n",
       "      <td>11</td>\n",
       "    </tr>\n",
       "    <tr>\n",
       "      <th>2020-06-20 20:02:59</th>\n",
       "      <td>10</td>\n",
       "    </tr>\n",
       "    <tr>\n",
       "      <th>2020-06-20 20:03:02</th>\n",
       "      <td>12</td>\n",
       "    </tr>\n",
       "    <tr>\n",
       "      <th>2020-06-20 20:03:05</th>\n",
       "      <td>12</td>\n",
       "    </tr>\n",
       "    <tr>\n",
       "      <th>2020-06-20 20:03:08</th>\n",
       "      <td>8</td>\n",
       "    </tr>\n",
       "  </tbody>\n",
       "</table>\n",
       "</div>"
      ],
      "text/plain": [
       "                     count\n",
       "timestamp                 \n",
       "2019-06-30 20:02:15     22\n",
       "2019-06-30 20:02:16     23\n",
       "2019-06-30 20:02:17     22\n",
       "2019-06-30 20:02:18     22\n",
       "2019-06-30 20:02:19     20\n",
       "2019-07-02 20:02:10     17\n",
       "2019-07-02 20:02:11     11\n",
       "2019-07-02 20:02:12     21\n",
       "2019-07-02 20:02:13     24\n",
       "2019-07-02 20:02:14     24\n",
       "2019-07-02 20:02:15     14\n",
       "2019-07-03 20:02:10     23\n",
       "2019-07-03 20:02:12     23\n",
       "2019-07-03 20:02:13     10\n",
       "2019-07-03 20:02:14     18\n",
       "2019-07-03 20:02:15     22\n",
       "2019-07-04 20:02:09     14\n",
       "2019-07-04 20:02:11     24\n",
       "2019-07-04 20:02:12     26\n",
       "2019-07-04 20:02:13     24\n",
       "2019-07-04 20:02:14     16\n",
       "2019-07-05 20:02:14     21\n",
       "2019-07-05 20:02:15     25\n",
       "2019-07-05 20:02:16     27\n",
       "2019-07-05 20:02:17     20\n",
       "2019-07-06 20:02:09     24\n",
       "2019-07-06 20:02:10      8\n",
       "2019-07-06 20:02:11     20\n",
       "2019-07-06 20:02:12     27\n",
       "2019-07-06 20:02:13     23\n",
       "2019-07-09 20:02:09     10\n",
       "2019-07-09 20:02:10     25\n",
       "2019-07-09 20:02:11     22\n",
       "2019-07-09 20:02:12     24\n",
       "2019-07-09 20:02:13     25\n",
       "2019-09-05 20:02:17     10\n",
       "2019-09-05 20:02:18     21\n",
       "2019-09-05 20:02:19     22\n",
       "2019-09-05 20:02:20     22\n",
       "2019-09-05 20:02:21     22\n",
       "2019-09-05 20:02:22     11\n",
       "2020-06-20 20:02:59     10\n",
       "2020-06-20 20:03:02     12\n",
       "2020-06-20 20:03:05     12\n",
       "2020-06-20 20:03:08      8"
      ]
     },
     "execution_count": 8,
     "metadata": {},
     "output_type": "execute_result"
    }
   ],
   "source": [
    "print(\"---------------------------------------------\")\n",
    "print(\"\")\n",
    "print(' Events outside of the upper limit per user_id+clients per seconds-min-hour-day-month:  ')\n",
    "evt_anom = df_sas[ df_sas['count'] > lim ]\n",
    "evt_anom\n",
    "\n",
    "#uncomment for further details about the data>threshold\n",
    "#evt_anom =  df_saas[  df_saas['count'] > lim ]\n",
    "#evt_anom"
   ]
  },
  {
   "cell_type": "code",
   "execution_count": 9,
   "metadata": {},
   "outputs": [
    {
     "data": {
      "image/png": "[encoded data removed]",
      "text/plain": [
       "<Figure size 1440x720 with 1 Axes>"
      ]
     },
     "metadata": {
      "needs_background": "light"
     },
     "output_type": "display_data"
    }
   ],
   "source": [
    "\n",
    "#plotting the count graphic/ figure \n",
    "df_sas['count'].plot(#kind='line',\n",
    "             figsize=(20, 10), # pass a tuple (x, y) size\n",
    "             )\n",
    "\n",
    "plt.title('ALL Activity rate (aggregation by seconds and clients list) ')\n",
    "plt.ylabel(' Activity Rate')\n",
    "plt.xlabel('time')\n",
    "\n",
    "plt.show() "
   ]
  },
  {
   "cell_type": "code",
   "execution_count": null,
   "metadata": {},
   "outputs": [],
   "source": []
  },
  {
   "cell_type": "code",
   "execution_count": 10,
   "metadata": {},
   "outputs": [
    {
     "data": {
      "image/png": "[encoded data removed]",
      "text/plain": [
       "<Figure size 1080x360 with 2 Axes>"
      ]
     },
     "metadata": {
      "needs_background": "light"
     },
     "output_type": "display_data"
    }
   ],
   "source": [
    "x = df_sas['count'] # we take our count vectors into an array\n",
    "\n",
    "fig, axes = plt.subplots(1,2, figsize=(15,5), sharey=True, gridspec_kw={'width_ratios': [3,  2]})\n",
    "# time plot with median Q1 and Q3 displayed\n",
    "\n",
    "x.plot(ax=axes[0], label='x')\n",
    "axes[0].axhline(x.median(), color='y', label='Median (Q2)')\n",
    "axes[0].axhline(x.quantile(0.25), color='c', linestyle='--', label='Q3')\n",
    "axes[0].axhline(x.quantile(0.75), color='c', linestyle='--', label='Q1')\n",
    "axes[0].axhline(lim, color='r', linestyle='--', linewidth=1, label='up')\n",
    "#axes[0].axhline(down_limit, color='r', linestyle='--', linewidth=1, label='down')\n",
    " \n",
    "\n",
    "# boxplot\n",
    "x.plot.box(ax=axes[1])\n",
    "axes[1].axhline(x.median(), color='g')\n",
    "axes[1].axhline(x.quantile(0.25), color='c', linestyle='--')\n",
    "axes[1].axhline(x.quantile(0.75), color='c', linestyle='--')\n",
    "axes[1].axhline(lim, color='r', linestyle='--', linewidth=1)\n",
    "fig.legend();"
   ]
  },
  {
   "cell_type": "markdown",
   "metadata": {},
   "source": [
    "le 1er quartile est la donnée de la série qui sépare les 25 % inférieurs des données (notation Q1) ;\n",
    "le 2e quartile est la donnée de la série qui sépare les 50 % inférieurs des données (notation Q2) ; il est également appelé médiane ;\n",
    "le 3e quartile est la donnée de la série qui sépare les 75 % inférieurs des données (notation Q3) \n",
    "\n",
    "La différence entre le troisième quartile et le premier quartile s'appelle écart interquartile ;\n",
    " c'est un critère de dispersion de la série. \n"
   ]
  },
  {
   "cell_type": "markdown",
   "metadata": {},
   "source": [
    "# ML Anomaly Detection\n",
    "##  Preparing data for outliers detection"
   ]
  },
  {
   "cell_type": "code",
   "execution_count": 11,
   "metadata": {},
   "outputs": [
    {
     "name": "stdout",
     "output_type": "stream",
     "text": [
      "<class 'pandas.core.frame.DataFrame'>\n",
      "DatetimeIndex: 1904 entries, 2019-06-06 09:43:21 to 2020-06-25 20:56:55\n",
      "Data columns (total 1 columns):\n",
      " #   Column  Non-Null Count  Dtype\n",
      "---  ------  --------------  -----\n",
      " 0   count   1904 non-null   int64\n",
      "dtypes: int64(1)\n",
      "memory usage: 29.8 KB\n"
     ]
    }
   ],
   "source": [
    "df_sas.info() #checking infos"
   ]
  },
  {
   "cell_type": "markdown",
   "metadata": {},
   "source": [
    "### building the ground Truth\n",
    "In order to build the ground truth, we rely on chebyshev rule to separate abnormal activity rates that are above the limit from the normal levels."
   ]
  },
  {
   "cell_type": "code",
   "execution_count": 12,
   "metadata": {},
   "outputs": [
    {
     "name": "stdout",
     "output_type": "stream",
     "text": [
      "<class 'pandas.core.frame.DataFrame'>\n",
      "DatetimeIndex: 1904 entries, 2019-06-06 09:43:21 to 2020-06-25 20:56:55\n",
      "Data columns (total 1 columns):\n",
      " #   Column  Non-Null Count  Dtype\n",
      "---  ------  --------------  -----\n",
      " 0   count   1904 non-null   int64\n",
      "dtypes: int64(1)\n",
      "memory usage: 29.8 KB\n"
     ]
    }
   ],
   "source": [
    "df_sas.head()\n",
    "df_sas.info()"
   ]
  },
  {
   "cell_type": "code",
   "execution_count": 13,
   "metadata": {},
   "outputs": [
    {
     "data": {
      "text/plain": [
       "False    1859\n",
       "True       45\n",
       "Name: is_outlier, dtype: int64"
      ]
     },
     "execution_count": 13,
     "metadata": {},
     "output_type": "execute_result"
    }
   ],
   "source": [
    "x = df_sas['count']\n",
    "is_outlier = (x > lim) #outliers are the values that > limit defined by chebyshev's inequality rule\n",
    "\n",
    "df_sas = pd.concat([x, is_outlier], axis=1, keys=['x', 'is_outlier'])#we add the \"labels\" to our dataframe \n",
    "df_sas['is_outlier'].value_counts()"
   ]
  },
  {
   "cell_type": "code",
   "execution_count": 14,
   "metadata": {},
   "outputs": [
    {
     "data": {
      "text/html": [
       "<div>\n",
       "<style scoped>\n",
       "    .dataframe tbody tr th:only-of-type {\n",
       "        vertical-align: middle;\n",
       "    }\n",
       "\n",
       "    .dataframe tbody tr th {\n",
       "        vertical-align: top;\n",
       "    }\n",
       "\n",
       "    .dataframe thead th {\n",
       "        text-align: right;\n",
       "    }\n",
       "</style>\n",
       "<table border=\"1\" class=\"dataframe\">\n",
       "  <thead>\n",
       "    <tr style=\"text-align: right;\">\n",
       "      <th></th>\n",
       "      <th>x</th>\n",
       "      <th>is_outlier</th>\n",
       "    </tr>\n",
       "    <tr>\n",
       "      <th>timestamp</th>\n",
       "      <th></th>\n",
       "      <th></th>\n",
       "    </tr>\n",
       "  </thead>\n",
       "  <tbody>\n",
       "    <tr>\n",
       "      <th>2019-06-06 09:43:21</th>\n",
       "      <td>1</td>\n",
       "      <td>False</td>\n",
       "    </tr>\n",
       "    <tr>\n",
       "      <th>2019-06-24 06:29:17</th>\n",
       "      <td>1</td>\n",
       "      <td>False</td>\n",
       "    </tr>\n",
       "    <tr>\n",
       "      <th>2019-06-24 20:02:12</th>\n",
       "      <td>1</td>\n",
       "      <td>False</td>\n",
       "    </tr>\n",
       "    <tr>\n",
       "      <th>2019-06-24 20:46:40</th>\n",
       "      <td>1</td>\n",
       "      <td>False</td>\n",
       "    </tr>\n",
       "    <tr>\n",
       "      <th>2019-06-25 20:02:09</th>\n",
       "      <td>1</td>\n",
       "      <td>False</td>\n",
       "    </tr>\n",
       "    <tr>\n",
       "      <th>...</th>\n",
       "      <td>...</td>\n",
       "      <td>...</td>\n",
       "    </tr>\n",
       "    <tr>\n",
       "      <th>2020-06-25 20:56:51</th>\n",
       "      <td>3</td>\n",
       "      <td>False</td>\n",
       "    </tr>\n",
       "    <tr>\n",
       "      <th>2020-06-25 20:56:52</th>\n",
       "      <td>2</td>\n",
       "      <td>False</td>\n",
       "    </tr>\n",
       "    <tr>\n",
       "      <th>2020-06-25 20:56:53</th>\n",
       "      <td>2</td>\n",
       "      <td>False</td>\n",
       "    </tr>\n",
       "    <tr>\n",
       "      <th>2020-06-25 20:56:54</th>\n",
       "      <td>3</td>\n",
       "      <td>False</td>\n",
       "    </tr>\n",
       "    <tr>\n",
       "      <th>2020-06-25 20:56:55</th>\n",
       "      <td>1</td>\n",
       "      <td>False</td>\n",
       "    </tr>\n",
       "  </tbody>\n",
       "</table>\n",
       "<p>1904 rows × 2 columns</p>\n",
       "</div>"
      ],
      "text/plain": [
       "                     x  is_outlier\n",
       "timestamp                         \n",
       "2019-06-06 09:43:21  1       False\n",
       "2019-06-24 06:29:17  1       False\n",
       "2019-06-24 20:02:12  1       False\n",
       "2019-06-24 20:46:40  1       False\n",
       "2019-06-25 20:02:09  1       False\n",
       "...                 ..         ...\n",
       "2020-06-25 20:56:51  3       False\n",
       "2020-06-25 20:56:52  2       False\n",
       "2020-06-25 20:56:53  2       False\n",
       "2020-06-25 20:56:54  3       False\n",
       "2020-06-25 20:56:55  1       False\n",
       "\n",
       "[1904 rows x 2 columns]"
      ]
     },
     "execution_count": 14,
     "metadata": {},
     "output_type": "execute_result"
    }
   ],
   "source": [
    "df_sas"
   ]
  },
  {
   "cell_type": "code",
   "execution_count": 15,
   "metadata": {},
   "outputs": [
    {
     "name": "stdout",
     "output_type": "stream",
     "text": [
      "Number of theoretical outliers: 45\n",
      "Number of theoretical  inliers: 1859\n",
      "Percentage of outliers (contamination): 0.023634453781512604\n"
     ]
    }
   ],
   "source": [
    "print(f'Number of theoretical outliers: {len(df_sas[df_sas.is_outlier])}')\n",
    "print(f'Number of theoretical  inliers: {len(df_sas[~df_sas.is_outlier])}') \n",
    "print(f'Percentage of outliers (contamination): {len(df_sas[df_sas.is_outlier]) * 1. / len(df_sas)}') "
   ]
  },
  {
   "cell_type": "code",
   "execution_count": 16,
   "metadata": {},
   "outputs": [],
   "source": [
    "#defining our y variable ,which we gonna use later for validation aka ground truth\n",
    "y_true=df_sas.is_outlier.astype(int)#we convert the \"labels\" from boolean True/False to 1/0 (numeric)\n",
    "y =  y_true.copy()\n"
   ]
  },
  {
   "cell_type": "markdown",
   "metadata": {},
   "source": [
    "### Data normalisation"
   ]
  },
  {
   "cell_type": "code",
   "execution_count": 17,
   "metadata": {},
   "outputs": [],
   "source": [
    "df = pd.read_csv('saas.csv')"
   ]
  },
  {
   "cell_type": "code",
   "execution_count": 18,
   "metadata": {},
   "outputs": [
    {
     "data": {
      "text/plain": [
       "(1904, 24)"
      ]
     },
     "execution_count": 18,
     "metadata": {},
     "output_type": "execute_result"
    }
   ],
   "source": [
    "df.head()\n",
    "df.shape"
   ]
  },
  {
   "cell_type": "code",
   "execution_count": 19,
   "metadata": {},
   "outputs": [],
   "source": [
    "X = df['count']#get the count values in an array\n",
    "\n",
    "# formating data for the algorithm (should be a 2D numpy array, see sklearn API)\n",
    "X=x.values.reshape(-1, 1)\n",
    "\n",
    "#When you do unsupervised learning, it is always a safe step to standardize the predictors\n",
    "from sklearn.preprocessing import StandardScaler\n",
    "X = StandardScaler().fit_transform(X)\n"
   ]
  },
  {
   "cell_type": "code",
   "execution_count": 20,
   "metadata": {},
   "outputs": [
    {
     "data": {
      "text/plain": [
       "array([[-0.33715246],\n",
       "       [-0.33715246],\n",
       "       [-0.33715246],\n",
       "       ...,\n",
       "       [ 0.00466771],\n",
       "       [ 0.34648789],\n",
       "       [-0.33715246]])"
      ]
     },
     "execution_count": 20,
     "metadata": {},
     "output_type": "execute_result"
    }
   ],
   "source": [
    "X #our new values are between -1 and 1"
   ]
  },
  {
   "cell_type": "markdown",
   "metadata": {},
   "source": [
    "### Splitting train test set"
   ]
  },
  {
   "cell_type": "code",
   "execution_count": 21,
   "metadata": {},
   "outputs": [
    {
     "name": "stdout",
     "output_type": "stream",
     "text": [
      "X_train:  (1332, 1)\n",
      "X_test :  (572, 1)\n"
     ]
    }
   ],
   "source": [
    "# Split the dataset in two parts\n",
    "#train set 70% of data\n",
    "#test set 30% of data\n",
    "#here, we are still in an unsupervised learning, we only add the ground truth (y_true) to the split_train_test so that\n",
    "#we get correspond y_train and y_test to evaluate our train set x_train and testset x_test\n",
    "X_train, X_test ,y_train ,y_test = train_test_split(X,y_true, test_size=0.3, random_state=42)\n",
    "\n",
    "print('X_train: ' , X_train.shape )\n",
    "print('X_test : ' , X_test.shape)\n",
    "\n",
    "\n",
    "#print('y_train: ' , y_train.shape )\n",
    "#print('y_test : ' , y_test.shape)"
   ]
  },
  {
   "cell_type": "code",
   "execution_count": 22,
   "metadata": {},
   "outputs": [],
   "source": [
    "l_test = X_test.size\n",
    "l_train = X_train.size"
   ]
  },
  {
   "cell_type": "code",
   "execution_count": 23,
   "metadata": {},
   "outputs": [],
   "source": [
    "df_test_plot = df_sas.tail(l_test)\n",
    "# this dataframe will be used for saving the results of each ML model performed on test data"
   ]
  },
  {
   "cell_type": "code",
   "execution_count": 24,
   "metadata": {},
   "outputs": [],
   "source": [
    "y_val =y_test.astype(int) "
   ]
  },
  {
   "cell_type": "markdown",
   "metadata": {},
   "source": [
    "# ISOLATION FOREST PYOD VERSION\n",
    "\n",
    "https://pyod.readthedocs.io/en/latest/pyod.models.html#module-pyod.models.iforest\n",
    "https://scikit-learn.org/stable/modules/generated/sklearn.ensemble.IsolationForest.html#sklearn.ensemble.IsolationForest"
   ]
  },
  {
   "cell_type": "code",
   "execution_count": 25,
   "metadata": {},
   "outputs": [],
   "source": [
    "# creating the outlier detector\n",
    "clf_iforest = IForest(\n",
    "    behaviour='new',\n",
    "    random_state=47,\n",
    "    n_estimators=100,#, # the number of base estimators\n",
    "    #max_samples=0.8, #number of samples to draw from X to train each base estimator\n",
    "    contamination=0.01, #proportion of outliers in the data set -->threshold to decision function\n",
    "   # max_features=1.0 \n",
    "    )"
   ]
  },
  {
   "cell_type": "code",
   "execution_count": 26,
   "metadata": {},
   "outputs": [
    {
     "data": {
      "text/plain": [
       "IForest(behaviour='new', bootstrap=False, contamination=0.01,\n",
       "    max_features=1.0, max_samples='auto', n_estimators=100, n_jobs=1,\n",
       "    random_state=47, verbose=0)"
      ]
     },
     "execution_count": 26,
     "metadata": {},
     "output_type": "execute_result"
    }
   ],
   "source": [
    "# \"fitting\" the detector \n",
    "clf_iforest.fit(X_train)"
   ]
  },
  {
   "cell_type": "code",
   "execution_count": 27,
   "metadata": {},
   "outputs": [
    {
     "data": {
      "text/plain": [
       "IForest(behaviour='new', bootstrap=False, contamination=0.01,\n",
       "    max_features=1.0, max_samples='auto', n_estimators=100, n_jobs=1,\n",
       "    random_state=47, verbose=0)"
      ]
     },
     "execution_count": 27,
     "metadata": {},
     "output_type": "execute_result"
    }
   ],
   "source": [
    "clf_iforest"
   ]
  },
  {
   "cell_type": "markdown",
   "metadata": {},
   "source": [
    "I apply the trained model *clf_iforest* to predict the anomaly score for each observation in the test data.\n",
    "How do we define an outlier? An outlier is a point that is distant from other points, so the outlier score is defined by distance. \n",
    "The PyOD function .decision_function() calculates the distance or the anomaly score for each data point.\n"
   ]
  },
  {
   "cell_type": "code",
   "execution_count": 28,
   "metadata": {},
   "outputs": [],
   "source": [
    "# clf.decision_function: Predict raw anomaly score of X using the fitted detector.\n",
    "# We apply the model to the test data X_test to get the outlier scores.\n",
    "y_test_scores = clf_iforest.decision_function(X_test )  # outlier scores\n",
    "y_test_scores = pd.Series(y_test_scores)\n"
   ]
  },
  {
   "cell_type": "code",
   "execution_count": 29,
   "metadata": {},
   "outputs": [
    {
     "data": {
      "text/plain": [
       "0     -0.332515\n",
       "1     -0.332515\n",
       "2     -0.332515\n",
       "3     -0.332515\n",
       "4     -0.354012\n",
       "         ...   \n",
       "567   -0.332515\n",
       "568   -0.354012\n",
       "569   -0.332515\n",
       "570   -0.354012\n",
       "571   -0.332515\n",
       "Length: 572, dtype: float64"
      ]
     },
     "execution_count": 29,
     "metadata": {},
     "output_type": "execute_result"
    }
   ],
   "source": [
    "y_test_scores"
   ]
  },
  {
   "cell_type": "code",
   "execution_count": 30,
   "metadata": {},
   "outputs": [
    {
     "data": {
      "image/png": "[encoded data removed]",
      "text/plain": [
       "<Figure size 432x288 with 1 Axes>"
      ]
     },
     "metadata": {
      "needs_background": "light"
     },
     "output_type": "display_data"
    }
   ],
   "source": [
    "plt.hist(y_test_scores, bins='auto')  # arguments are passed to np.histogram\n",
    "plt.title(\"Histogram for Model IF Anomaly Scores\")\n",
    "plt.show()"
   ]
  },
  {
   "cell_type": "markdown",
   "metadata": {},
   "source": [
    "    in the X axis, the histogram shows the “score” values whoch are the average distance of those observations to others. \n",
    "    A high “score” means that observation is far away from the norm.\n",
    "    high scores tend to be at low frequency, which validates the assumption of outlier presence\n",
    "    in the Y axis, the number of corresponding obsrvations/entrees\n",
    "\n"
   ]
  },
  {
   "cell_type": "markdown",
   "metadata": {},
   "source": [
    "## Visualizing the \"outlierness\" score computed by the isolation forest algorithm"
   ]
  },
  {
   "cell_type": "markdown",
   "metadata": {},
   "source": [
    "### On the TRAIN DATA"
   ]
  },
  {
   "cell_type": "code",
   "execution_count": 31,
   "metadata": {},
   "outputs": [],
   "source": [
    "df_train_plot = df_sas.head(l_train) #this dataframe is for saving th results of Ml model performed on trainset\n"
   ]
  },
  {
   "cell_type": "code",
   "execution_count": 32,
   "metadata": {},
   "outputs": [
    {
     "name": "stdout",
     "output_type": "stream",
     "text": [
      "Wall time: 101 ms\n"
     ]
    },
    {
     "name": "stderr",
     "output_type": "stream",
     "text": [
      "C:\\Users\\Syrine.benaziza\\Anaconda3\\lib\\site-packages\\ipykernel_launcher.py:1: SettingWithCopyWarning: \n",
      "A value is trying to be set on a copy of a slice from a DataFrame.\n",
      "Try using .loc[row_indexer,col_indexer] = value instead\n",
      "\n",
      "See the caveats in the documentation: https://pandas.pydata.org/pandas-docs/stable/user_guide/indexing.html#returning-a-view-versus-a-copy\n",
      "  \"\"\"Entry point for launching an IPython kernel.\n",
      "C:\\Users\\Syrine.benaziza\\Anaconda3\\lib\\site-packages\\ipykernel_launcher.py:2: SettingWithCopyWarning: \n",
      "A value is trying to be set on a copy of a slice from a DataFrame.\n",
      "Try using .loc[row_indexer,col_indexer] = value instead\n",
      "\n",
      "See the caveats in the documentation: https://pandas.pydata.org/pandas-docs/stable/user_guide/indexing.html#returning-a-view-versus-a-copy\n",
      "  \n"
     ]
    },
    {
     "data": {
      "text/html": [
       "<div>\n",
       "<style scoped>\n",
       "    .dataframe tbody tr th:only-of-type {\n",
       "        vertical-align: middle;\n",
       "    }\n",
       "\n",
       "    .dataframe tbody tr th {\n",
       "        vertical-align: top;\n",
       "    }\n",
       "\n",
       "    .dataframe thead th {\n",
       "        text-align: right;\n",
       "    }\n",
       "</style>\n",
       "<table border=\"1\" class=\"dataframe\">\n",
       "  <thead>\n",
       "    <tr style=\"text-align: right;\">\n",
       "      <th></th>\n",
       "      <th>x</th>\n",
       "      <th>is_outlier</th>\n",
       "      <th>isolation_forest_score</th>\n",
       "      <th>isolation_forest_outliers</th>\n",
       "    </tr>\n",
       "    <tr>\n",
       "      <th>timestamp</th>\n",
       "      <th></th>\n",
       "      <th></th>\n",
       "      <th></th>\n",
       "      <th></th>\n",
       "    </tr>\n",
       "  </thead>\n",
       "  <tbody>\n",
       "    <tr>\n",
       "      <th>2019-06-06 09:43:21</th>\n",
       "      <td>1</td>\n",
       "      <td>False</td>\n",
       "      <td>-0.354012</td>\n",
       "      <td>0</td>\n",
       "    </tr>\n",
       "    <tr>\n",
       "      <th>2019-06-24 06:29:17</th>\n",
       "      <td>1</td>\n",
       "      <td>False</td>\n",
       "      <td>-0.332515</td>\n",
       "      <td>0</td>\n",
       "    </tr>\n",
       "    <tr>\n",
       "      <th>2019-06-24 20:02:12</th>\n",
       "      <td>1</td>\n",
       "      <td>False</td>\n",
       "      <td>-0.354012</td>\n",
       "      <td>0</td>\n",
       "    </tr>\n",
       "    <tr>\n",
       "      <th>2019-06-24 20:46:40</th>\n",
       "      <td>1</td>\n",
       "      <td>False</td>\n",
       "      <td>-0.332515</td>\n",
       "      <td>0</td>\n",
       "    </tr>\n",
       "    <tr>\n",
       "      <th>2019-06-25 20:02:09</th>\n",
       "      <td>1</td>\n",
       "      <td>False</td>\n",
       "      <td>-0.332515</td>\n",
       "      <td>0</td>\n",
       "    </tr>\n",
       "    <tr>\n",
       "      <th>...</th>\n",
       "      <td>...</td>\n",
       "      <td>...</td>\n",
       "      <td>...</td>\n",
       "      <td>...</td>\n",
       "    </tr>\n",
       "    <tr>\n",
       "      <th>2020-03-05 21:49:47</th>\n",
       "      <td>1</td>\n",
       "      <td>False</td>\n",
       "      <td>-0.354012</td>\n",
       "      <td>0</td>\n",
       "    </tr>\n",
       "    <tr>\n",
       "      <th>2020-03-05 21:49:48</th>\n",
       "      <td>2</td>\n",
       "      <td>False</td>\n",
       "      <td>-0.332515</td>\n",
       "      <td>0</td>\n",
       "    </tr>\n",
       "    <tr>\n",
       "      <th>2020-03-05 21:49:49</th>\n",
       "      <td>2</td>\n",
       "      <td>False</td>\n",
       "      <td>-0.332515</td>\n",
       "      <td>0</td>\n",
       "    </tr>\n",
       "    <tr>\n",
       "      <th>2020-03-05 21:49:50</th>\n",
       "      <td>2</td>\n",
       "      <td>False</td>\n",
       "      <td>-0.332515</td>\n",
       "      <td>0</td>\n",
       "    </tr>\n",
       "    <tr>\n",
       "      <th>2020-03-05 21:49:51</th>\n",
       "      <td>2</td>\n",
       "      <td>False</td>\n",
       "      <td>-0.354012</td>\n",
       "      <td>0</td>\n",
       "    </tr>\n",
       "  </tbody>\n",
       "</table>\n",
       "<p>1332 rows × 4 columns</p>\n",
       "</div>"
      ],
      "text/plain": [
       "                     x  is_outlier  isolation_forest_score  \\\n",
       "timestamp                                                    \n",
       "2019-06-06 09:43:21  1       False               -0.354012   \n",
       "2019-06-24 06:29:17  1       False               -0.332515   \n",
       "2019-06-24 20:02:12  1       False               -0.354012   \n",
       "2019-06-24 20:46:40  1       False               -0.332515   \n",
       "2019-06-25 20:02:09  1       False               -0.332515   \n",
       "...                 ..         ...                     ...   \n",
       "2020-03-05 21:49:47  1       False               -0.354012   \n",
       "2020-03-05 21:49:48  2       False               -0.332515   \n",
       "2020-03-05 21:49:49  2       False               -0.332515   \n",
       "2020-03-05 21:49:50  2       False               -0.332515   \n",
       "2020-03-05 21:49:51  2       False               -0.354012   \n",
       "\n",
       "                     isolation_forest_outliers  \n",
       "timestamp                                       \n",
       "2019-06-06 09:43:21                          0  \n",
       "2019-06-24 06:29:17                          0  \n",
       "2019-06-24 20:02:12                          0  \n",
       "2019-06-24 20:46:40                          0  \n",
       "2019-06-25 20:02:09                          0  \n",
       "...                                        ...  \n",
       "2020-03-05 21:49:47                          0  \n",
       "2020-03-05 21:49:48                          0  \n",
       "2020-03-05 21:49:49                          0  \n",
       "2020-03-05 21:49:50                          0  \n",
       "2020-03-05 21:49:51                          0  \n",
       "\n",
       "[1332 rows x 4 columns]"
      ]
     },
     "execution_count": 32,
     "metadata": {},
     "output_type": "execute_result"
    }
   ],
   "source": [
    "%%time\n",
    "df_train_plot['isolation_forest_score'] = clf_iforest.decision_function(X_train)#calculate score of observations on trainset\n",
    "df_train_plot['isolation_forest_outliers'] = clf_iforest.predict(X_train)#decide for observations based on their scores whether they are outliers or inliers\n",
    "\n",
    "df_train_plot"
   ]
  },
  {
   "cell_type": "code",
   "execution_count": 33,
   "metadata": {},
   "outputs": [
    {
     "data": {
      "text/plain": [
       "1     815\n",
       "2     466\n",
       "22      8\n",
       "24      6\n",
       "7       5\n",
       "23      4\n",
       "10      3\n",
       "25      3\n",
       "21      3\n",
       "20      3\n",
       "3       2\n",
       "6       2\n",
       "27      2\n",
       "11      2\n",
       "14      2\n",
       "8       1\n",
       "26      1\n",
       "5       1\n",
       "17      1\n",
       "18      1\n",
       "16      1\n",
       "Name: x, dtype: int64"
      ]
     },
     "execution_count": 33,
     "metadata": {},
     "output_type": "execute_result"
    }
   ],
   "source": [
    "df_train_plot['x'].value_counts()"
   ]
  },
  {
   "cell_type": "code",
   "execution_count": 34,
   "metadata": {},
   "outputs": [
    {
     "data": {
      "image/png": "[encoded data removed]",
      "text/plain": [
       "<Figure size 432x288 with 1 Axes>"
      ]
     },
     "metadata": {
      "needs_background": "light"
     },
     "output_type": "display_data"
    }
   ],
   "source": [
    "# Plot hist\n",
    "import matplotlib.pyplot as plt\n",
    "plt.hist(df_train_plot['isolation_forest_score'], bins='auto')  # arguments are passed to np.histogram\n",
    "plt.title(\"Histogram with 'auto' bins\")\n",
    "plt.show()"
   ]
  },
  {
   "cell_type": "markdown",
   "metadata": {},
   "source": [
    "in the X axis, the histogram shows the “score” values which are the average distance of those observations to others. \n",
    "A high “score” means that observation is far away from the norm.\n",
    "high scores tend to be at low frequency, which validates the assumption of outlier presence\n",
    "in the Y axis, the number of corresponding obsrvations/entrees"
   ]
  },
  {
   "cell_type": "code",
   "execution_count": 35,
   "metadata": {},
   "outputs": [
    {
     "data": {
      "text/plain": [
       "<matplotlib.axes._subplots.AxesSubplot at 0x253df887808>"
      ]
     },
     "execution_count": 35,
     "metadata": {},
     "output_type": "execute_result"
    },
    {
     "data": {
      "image/png": "[encoded data removed]",
      "text/plain": [
       "<Figure size 1152x576 with 1 Axes>"
      ]
     },
     "metadata": {
      "needs_background": "light"
     },
     "output_type": "display_data"
    }
   ],
   "source": [
    "#scatterplot the obtained results on the trainset\n",
    "fig, ax = plt.subplots(figsize=(16,8))\n",
    "markers = {0: \"s\", 1: \"X\"}\n",
    "sns.scatterplot(\n",
    "    data=df_train_plot, \n",
    "    x='x', \n",
    "    y='isolation_forest_score', \n",
    "    #hue='is_outlier',\n",
    "    hue='isolation_forest_outliers',\n",
    "\n",
    "    palette=\"Set1\",\n",
    "    sizes=(40, 200), #hue_norm=(0, 9),\n",
    "    style='isolation_forest_outliers',\n",
    "    markers= markers,\n",
    "    ax=ax\n",
    ")"
   ]
  },
  {
   "cell_type": "markdown",
   "metadata": {},
   "source": [
    "in the Y axis, the plot shows the “score” values whoch are the average distance of those observations to others. \n",
    "A high “score” means that observation is far away from the norm.\n",
    "in the X axis, the 'count ' values.\n",
    "*note* in the training,fitting and prediction,the model uses normalized count values.Here, we only use non-normalized values to make the plot readable"
   ]
  },
  {
   "cell_type": "markdown",
   "metadata": {},
   "source": [
    "### on the TEST DATA"
   ]
  },
  {
   "cell_type": "code",
   "execution_count": 36,
   "metadata": {},
   "outputs": [
    {
     "name": "stdout",
     "output_type": "stream",
     "text": [
      "Wall time: 78 ms\n"
     ]
    },
    {
     "name": "stderr",
     "output_type": "stream",
     "text": [
      "C:\\Users\\Syrine.benaziza\\Anaconda3\\lib\\site-packages\\ipykernel_launcher.py:1: SettingWithCopyWarning: \n",
      "A value is trying to be set on a copy of a slice from a DataFrame.\n",
      "Try using .loc[row_indexer,col_indexer] = value instead\n",
      "\n",
      "See the caveats in the documentation: https://pandas.pydata.org/pandas-docs/stable/user_guide/indexing.html#returning-a-view-versus-a-copy\n",
      "  \"\"\"Entry point for launching an IPython kernel.\n",
      "C:\\Users\\Syrine.benaziza\\Anaconda3\\lib\\site-packages\\ipykernel_launcher.py:2: SettingWithCopyWarning: \n",
      "A value is trying to be set on a copy of a slice from a DataFrame.\n",
      "Try using .loc[row_indexer,col_indexer] = value instead\n",
      "\n",
      "See the caveats in the documentation: https://pandas.pydata.org/pandas-docs/stable/user_guide/indexing.html#returning-a-view-versus-a-copy\n",
      "  \n"
     ]
    },
    {
     "data": {
      "text/html": [
       "<div>\n",
       "<style scoped>\n",
       "    .dataframe tbody tr th:only-of-type {\n",
       "        vertical-align: middle;\n",
       "    }\n",
       "\n",
       "    .dataframe tbody tr th {\n",
       "        vertical-align: top;\n",
       "    }\n",
       "\n",
       "    .dataframe thead th {\n",
       "        text-align: right;\n",
       "    }\n",
       "</style>\n",
       "<table border=\"1\" class=\"dataframe\">\n",
       "  <thead>\n",
       "    <tr style=\"text-align: right;\">\n",
       "      <th></th>\n",
       "      <th>x</th>\n",
       "      <th>is_outlier</th>\n",
       "      <th>isolation_forest_score</th>\n",
       "      <th>isolation_forest_outliers</th>\n",
       "    </tr>\n",
       "    <tr>\n",
       "      <th>timestamp</th>\n",
       "      <th></th>\n",
       "      <th></th>\n",
       "      <th></th>\n",
       "      <th></th>\n",
       "    </tr>\n",
       "  </thead>\n",
       "  <tbody>\n",
       "    <tr>\n",
       "      <th>2020-03-05 21:49:52</th>\n",
       "      <td>2</td>\n",
       "      <td>False</td>\n",
       "      <td>-0.332515</td>\n",
       "      <td>0</td>\n",
       "    </tr>\n",
       "    <tr>\n",
       "      <th>2020-03-05 21:49:53</th>\n",
       "      <td>2</td>\n",
       "      <td>False</td>\n",
       "      <td>-0.332515</td>\n",
       "      <td>0</td>\n",
       "    </tr>\n",
       "    <tr>\n",
       "      <th>2020-03-05 21:49:54</th>\n",
       "      <td>2</td>\n",
       "      <td>False</td>\n",
       "      <td>-0.332515</td>\n",
       "      <td>0</td>\n",
       "    </tr>\n",
       "    <tr>\n",
       "      <th>2020-03-05 21:49:55</th>\n",
       "      <td>2</td>\n",
       "      <td>False</td>\n",
       "      <td>-0.332515</td>\n",
       "      <td>0</td>\n",
       "    </tr>\n",
       "    <tr>\n",
       "      <th>2020-03-05 21:49:56</th>\n",
       "      <td>2</td>\n",
       "      <td>False</td>\n",
       "      <td>-0.354012</td>\n",
       "      <td>0</td>\n",
       "    </tr>\n",
       "    <tr>\n",
       "      <th>...</th>\n",
       "      <td>...</td>\n",
       "      <td>...</td>\n",
       "      <td>...</td>\n",
       "      <td>...</td>\n",
       "    </tr>\n",
       "    <tr>\n",
       "      <th>2020-06-25 20:56:51</th>\n",
       "      <td>3</td>\n",
       "      <td>False</td>\n",
       "      <td>-0.332515</td>\n",
       "      <td>0</td>\n",
       "    </tr>\n",
       "    <tr>\n",
       "      <th>2020-06-25 20:56:52</th>\n",
       "      <td>2</td>\n",
       "      <td>False</td>\n",
       "      <td>-0.354012</td>\n",
       "      <td>0</td>\n",
       "    </tr>\n",
       "    <tr>\n",
       "      <th>2020-06-25 20:56:53</th>\n",
       "      <td>2</td>\n",
       "      <td>False</td>\n",
       "      <td>-0.332515</td>\n",
       "      <td>0</td>\n",
       "    </tr>\n",
       "    <tr>\n",
       "      <th>2020-06-25 20:56:54</th>\n",
       "      <td>3</td>\n",
       "      <td>False</td>\n",
       "      <td>-0.354012</td>\n",
       "      <td>0</td>\n",
       "    </tr>\n",
       "    <tr>\n",
       "      <th>2020-06-25 20:56:55</th>\n",
       "      <td>1</td>\n",
       "      <td>False</td>\n",
       "      <td>-0.332515</td>\n",
       "      <td>0</td>\n",
       "    </tr>\n",
       "  </tbody>\n",
       "</table>\n",
       "<p>572 rows × 4 columns</p>\n",
       "</div>"
      ],
      "text/plain": [
       "                     x  is_outlier  isolation_forest_score  \\\n",
       "timestamp                                                    \n",
       "2020-03-05 21:49:52  2       False               -0.332515   \n",
       "2020-03-05 21:49:53  2       False               -0.332515   \n",
       "2020-03-05 21:49:54  2       False               -0.332515   \n",
       "2020-03-05 21:49:55  2       False               -0.332515   \n",
       "2020-03-05 21:49:56  2       False               -0.354012   \n",
       "...                 ..         ...                     ...   \n",
       "2020-06-25 20:56:51  3       False               -0.332515   \n",
       "2020-06-25 20:56:52  2       False               -0.354012   \n",
       "2020-06-25 20:56:53  2       False               -0.332515   \n",
       "2020-06-25 20:56:54  3       False               -0.354012   \n",
       "2020-06-25 20:56:55  1       False               -0.332515   \n",
       "\n",
       "                     isolation_forest_outliers  \n",
       "timestamp                                       \n",
       "2020-03-05 21:49:52                          0  \n",
       "2020-03-05 21:49:53                          0  \n",
       "2020-03-05 21:49:54                          0  \n",
       "2020-03-05 21:49:55                          0  \n",
       "2020-03-05 21:49:56                          0  \n",
       "...                                        ...  \n",
       "2020-06-25 20:56:51                          0  \n",
       "2020-06-25 20:56:52                          0  \n",
       "2020-06-25 20:56:53                          0  \n",
       "2020-06-25 20:56:54                          0  \n",
       "2020-06-25 20:56:55                          0  \n",
       "\n",
       "[572 rows x 4 columns]"
      ]
     },
     "execution_count": 36,
     "metadata": {},
     "output_type": "execute_result"
    }
   ],
   "source": [
    "%%time\n",
    "\n",
    "df_test_plot['isolation_forest_score'] = clf_iforest.decision_function(X_test)#calculate score for each observation in testset\n",
    "df_test_plot['isolation_forest_outliers'] = clf_iforest.predict(X_test)# decide for calculated scores if an observation is an outlier or inlier\n",
    "\n",
    "df_test_plot"
   ]
  },
  {
   "cell_type": "code",
   "execution_count": 37,
   "metadata": {},
   "outputs": [
    {
     "data": {
      "text/plain": [
       "<matplotlib.axes._subplots.AxesSubplot at 0x253dfa1a448>"
      ]
     },
     "execution_count": 37,
     "metadata": {},
     "output_type": "execute_result"
    },
    {
     "data": {
      "image/png": "[encoded data removed]",
      "text/plain": [
       "<Figure size 1152x576 with 1 Axes>"
      ]
     },
     "metadata": {
      "needs_background": "light"
     },
     "output_type": "display_data"
    }
   ],
   "source": [
    "#plot the resuls on testset\n",
    "fig, ax = plt.subplots(figsize=(16,8))\n",
    "markers = {0: \"s\", 1: \"X\"}\n",
    "sns.scatterplot(\n",
    "    data=df_test_plot, \n",
    "    x='x', \n",
    "    y='isolation_forest_score', \n",
    "     #hue='is_outlier',\n",
    "    hue='isolation_forest_outliers',\n",
    "\n",
    "    palette=\"Set1\",\n",
    "    sizes=(40, 200), hue_norm=(0, 9),\n",
    "    style='isolation_forest_outliers',\n",
    "    markers= markers,\n",
    "    ax=ax\n",
    ")"
   ]
  },
  {
   "cell_type": "markdown",
   "metadata": {},
   "source": [
    "in the Y axis, the plot shows the “score” values which are the average distance of those observations to others. \n",
    "A high “score” means that observation is far away from the norm.\n",
    "in the X axis, the 'count ' values.\n",
    "*note* in the training,fitting and prediction,the model uses normalized count values.Here, we only use non-normalized values to make the plot readable"
   ]
  },
  {
   "cell_type": "markdown",
   "metadata": {},
   "source": [
    "#### Plot IF results on Test set with Ground Truth labels"
   ]
  },
  {
   "cell_type": "code",
   "execution_count": 38,
   "metadata": {},
   "outputs": [
    {
     "data": {
      "text/plain": [
       "<matplotlib.axes._subplots.AxesSubplot at 0x253dfa7ed08>"
      ]
     },
     "execution_count": 38,
     "metadata": {},
     "output_type": "execute_result"
    },
    {
     "data": {
      "image/png": "[encoded data removed]",
      "text/plain": [
       "<Figure size 1152x576 with 1 Axes>"
      ]
     },
     "metadata": {
      "needs_background": "light"
     },
     "output_type": "display_data"
    }
   ],
   "source": [
    "fig, ax = plt.subplots(figsize=(16,8))\n",
    "markers = {0: \"s\", 1: \"X\"}\n",
    "sns.scatterplot(\n",
    "    data=df_test_plot, \n",
    "    x='x', \n",
    "    y='isolation_forest_score', \n",
    "    hue='is_outlier',\n",
    "\n",
    "    palette=\"Set1\",\n",
    "    sizes=(40, 200), hue_norm=(0, 9),\n",
    "    style='isolation_forest_outliers',\n",
    "    markers= markers,\n",
    "    ax=ax\n",
    ")"
   ]
  },
  {
   "cell_type": "markdown",
   "metadata": {},
   "source": [
    "in the Y axis, the plot shows the “score” values whoch are the average distance of those observations to others. \n",
    "A high “score” means that observation is far away from the norm.\n",
    "in the X axis, the 'count ' values.\n",
    "\n"
   ]
  },
  {
   "cell_type": "markdown",
   "metadata": {},
   "source": [
    "## Evaluating isolation forest algorithm\n"
   ]
  },
  {
   "cell_type": "code",
   "execution_count": 39,
   "metadata": {},
   "outputs": [
    {
     "name": "stdout",
     "output_type": "stream",
     "text": [
      "\n",
      "On Training Data:\n",
      "Isolation Forest ROC:0.7, precision @ rank n:1.0\n",
      "\n",
      "On Test Data:\n",
      "Isolation Forest ROC:0.85, precision @ rank n:1.0\n"
     ]
    }
   ],
   "source": [
    "clf_name = 'Isolation Forest'\n",
    "# evaluate and print the results\n",
    "print(\"\\nOn Training Data:\")\n",
    "evaluate_print(clf_name, y_train, df_train_plot.isolation_forest_outliers)\n",
    "print(\"\\nOn Test Data:\")\n",
    "evaluate_print(clf_name, y_test, df_test_plot.isolation_forest_outliers)"
   ]
  },
  {
   "cell_type": "code",
   "execution_count": 40,
   "metadata": {},
   "outputs": [
    {
     "name": "stdout",
     "output_type": "stream",
     "text": [
      "f1_score  0.9104337387128765\n",
      "precision_score  0.9973451327433629\n",
      "recall_score  0.85\n"
     ]
    }
   ],
   "source": [
    "\n",
    "\n",
    "y_pred=df_test_plot.isolation_forest_outliers\n",
    "\n",
    "#The F1 score: weighted average of the precision and recall, \n",
    "  #  where an F1 score reaches its best value at 1 and worst score at 0. \n",
    "  #  The relative contribution of precision and recall to the F1 score are equal.\n",
    "    #F1 = 2 * (precision * recall) / (precision + recall)\n",
    "print('f1_score ', f1_score(y_val\n",
    "                            , y_pred, average=\"macro\"))\n",
    "\n",
    "\n",
    "#The precision is the ratio tp / (tp + fp) where tp is the number of true positives and \n",
    "#fp the number of false positives.\n",
    "#The precision is intuitively the ability of the classifier not to label as positive a sample that is negative.\n",
    "print('precision_score ',precision_score(y_val, y_pred, average=\"macro\"))\n",
    "\n",
    "\n",
    "#The recall is the ratio tp / (tp + fn) where tp is the number of true positives and fn the number \n",
    "#of false negatives.\n",
    "#The recall is intuitively the ability of the classifier to find all the positive samples.\n",
    "print('recall_score ',recall_score(y_val, y_pred, average=\"macro\"))"
   ]
  },
  {
   "cell_type": "code",
   "execution_count": 41,
   "metadata": {},
   "outputs": [
    {
     "data": {
      "text/plain": [
       "array([[562,   0],\n",
       "       [  3,   7]], dtype=int64)"
      ]
     },
     "execution_count": 41,
     "metadata": {},
     "output_type": "execute_result"
    }
   ],
   "source": [
    "\n",
    "\n",
    "confusion_matrix(y_val, y_pred=df_test_plot.isolation_forest_outliers )\n",
    "\n"
   ]
  },
  {
   "cell_type": "code",
   "execution_count": 42,
   "metadata": {},
   "outputs": [
    {
     "data": {
      "image/png": "[encoded data removed]",
      "text/plain": [
       "<Figure size 432x288 with 2 Axes>"
      ]
     },
     "metadata": {
      "needs_background": "light"
     },
     "output_type": "display_data"
    }
   ],
   "source": [
    "\n",
    "\n",
    "# plot the comfusion matrix  in the test set\n",
    "y_preds = clf_iforest.predict(X_test)\n",
    "\n",
    "\n",
    "skplt.metrics.plot_confusion_matrix(y_test,y_preds, normalize=False,\n",
    "                                    title=\" Isolation forest Consfusion Matrix on Test Set\")\n",
    "plt.show()"
   ]
  },
  {
   "cell_type": "markdown",
   "metadata": {},
   "source": [
    "# K Nearest Neighbors\n",
    "    https://pyod.readthedocs.io/en/latest/pyod.models.html#module-pyod.models.knn\n"
   ]
  },
  {
   "cell_type": "code",
   "execution_count": 43,
   "metadata": {},
   "outputs": [],
   "source": [
    "clf_knn = KNN(\n",
    "    contamination=0.01,\n",
    "    n_neighbors=5,\n",
    "    method='median',\n",
    "    algorithm= 'ball_tree',\n",
    "    #leaf_size=30,\n",
    "    metric='minkowski'\n",
    ")\n"
   ]
  },
  {
   "cell_type": "code",
   "execution_count": 44,
   "metadata": {},
   "outputs": [
    {
     "name": "stdout",
     "output_type": "stream",
     "text": [
      "Wall time: 297 ms\n"
     ]
    },
    {
     "name": "stderr",
     "output_type": "stream",
     "text": [
      "C:\\Users\\Syrine.benaziza\\Anaconda3\\lib\\site-packages\\ipykernel_launcher.py:4: SettingWithCopyWarning: \n",
      "A value is trying to be set on a copy of a slice from a DataFrame.\n",
      "Try using .loc[row_indexer,col_indexer] = value instead\n",
      "\n",
      "See the caveats in the documentation: https://pandas.pydata.org/pandas-docs/stable/user_guide/indexing.html#returning-a-view-versus-a-copy\n",
      "  after removing the cwd from sys.path.\n",
      "C:\\Users\\Syrine.benaziza\\Anaconda3\\lib\\site-packages\\ipykernel_launcher.py:5: SettingWithCopyWarning: \n",
      "A value is trying to be set on a copy of a slice from a DataFrame.\n",
      "Try using .loc[row_indexer,col_indexer] = value instead\n",
      "\n",
      "See the caveats in the documentation: https://pandas.pydata.org/pandas-docs/stable/user_guide/indexing.html#returning-a-view-versus-a-copy\n",
      "  \"\"\"\n"
     ]
    }
   ],
   "source": [
    "%%time\n",
    "\n",
    "clf_knn.fit(X_train) #fit the model\n",
    "\n",
    "#train visualization\n",
    "df_train_plot['KNN_score'] = clf_knn.decision_function(X_train)#calculate the scores on trainset observations\n",
    "df_train_plot['KNN_outliers'] = clf_knn.predict(X_train)#decide for the calculated scores whether an observation is an outlier or not\n"
   ]
  },
  {
   "cell_type": "code",
   "execution_count": 45,
   "metadata": {},
   "outputs": [
    {
     "data": {
      "text/html": [
       "<div>\n",
       "<style scoped>\n",
       "    .dataframe tbody tr th:only-of-type {\n",
       "        vertical-align: middle;\n",
       "    }\n",
       "\n",
       "    .dataframe tbody tr th {\n",
       "        vertical-align: top;\n",
       "    }\n",
       "\n",
       "    .dataframe thead th {\n",
       "        text-align: right;\n",
       "    }\n",
       "</style>\n",
       "<table border=\"1\" class=\"dataframe\">\n",
       "  <thead>\n",
       "    <tr style=\"text-align: right;\">\n",
       "      <th></th>\n",
       "      <th>x</th>\n",
       "      <th>is_outlier</th>\n",
       "      <th>isolation_forest_score</th>\n",
       "      <th>isolation_forest_outliers</th>\n",
       "      <th>KNN_score</th>\n",
       "      <th>KNN_outliers</th>\n",
       "    </tr>\n",
       "    <tr>\n",
       "      <th>timestamp</th>\n",
       "      <th></th>\n",
       "      <th></th>\n",
       "      <th></th>\n",
       "      <th></th>\n",
       "      <th></th>\n",
       "      <th></th>\n",
       "    </tr>\n",
       "  </thead>\n",
       "  <tbody>\n",
       "    <tr>\n",
       "      <th>2019-06-06 09:43:21</th>\n",
       "      <td>1</td>\n",
       "      <td>False</td>\n",
       "      <td>-0.354012</td>\n",
       "      <td>0</td>\n",
       "      <td>0.0</td>\n",
       "      <td>0</td>\n",
       "    </tr>\n",
       "    <tr>\n",
       "      <th>2019-06-24 06:29:17</th>\n",
       "      <td>1</td>\n",
       "      <td>False</td>\n",
       "      <td>-0.332515</td>\n",
       "      <td>0</td>\n",
       "      <td>0.0</td>\n",
       "      <td>0</td>\n",
       "    </tr>\n",
       "    <tr>\n",
       "      <th>2019-06-24 20:02:12</th>\n",
       "      <td>1</td>\n",
       "      <td>False</td>\n",
       "      <td>-0.354012</td>\n",
       "      <td>0</td>\n",
       "      <td>0.0</td>\n",
       "      <td>0</td>\n",
       "    </tr>\n",
       "    <tr>\n",
       "      <th>2019-06-24 20:46:40</th>\n",
       "      <td>1</td>\n",
       "      <td>False</td>\n",
       "      <td>-0.332515</td>\n",
       "      <td>0</td>\n",
       "      <td>0.0</td>\n",
       "      <td>0</td>\n",
       "    </tr>\n",
       "    <tr>\n",
       "      <th>2019-06-25 20:02:09</th>\n",
       "      <td>1</td>\n",
       "      <td>False</td>\n",
       "      <td>-0.332515</td>\n",
       "      <td>0</td>\n",
       "      <td>0.0</td>\n",
       "      <td>0</td>\n",
       "    </tr>\n",
       "    <tr>\n",
       "      <th>...</th>\n",
       "      <td>...</td>\n",
       "      <td>...</td>\n",
       "      <td>...</td>\n",
       "      <td>...</td>\n",
       "      <td>...</td>\n",
       "      <td>...</td>\n",
       "    </tr>\n",
       "    <tr>\n",
       "      <th>2020-03-05 21:49:47</th>\n",
       "      <td>1</td>\n",
       "      <td>False</td>\n",
       "      <td>-0.354012</td>\n",
       "      <td>0</td>\n",
       "      <td>0.0</td>\n",
       "      <td>0</td>\n",
       "    </tr>\n",
       "    <tr>\n",
       "      <th>2020-03-05 21:49:48</th>\n",
       "      <td>2</td>\n",
       "      <td>False</td>\n",
       "      <td>-0.332515</td>\n",
       "      <td>0</td>\n",
       "      <td>0.0</td>\n",
       "      <td>0</td>\n",
       "    </tr>\n",
       "    <tr>\n",
       "      <th>2020-03-05 21:49:49</th>\n",
       "      <td>2</td>\n",
       "      <td>False</td>\n",
       "      <td>-0.332515</td>\n",
       "      <td>0</td>\n",
       "      <td>0.0</td>\n",
       "      <td>0</td>\n",
       "    </tr>\n",
       "    <tr>\n",
       "      <th>2020-03-05 21:49:50</th>\n",
       "      <td>2</td>\n",
       "      <td>False</td>\n",
       "      <td>-0.332515</td>\n",
       "      <td>0</td>\n",
       "      <td>0.0</td>\n",
       "      <td>0</td>\n",
       "    </tr>\n",
       "    <tr>\n",
       "      <th>2020-03-05 21:49:51</th>\n",
       "      <td>2</td>\n",
       "      <td>False</td>\n",
       "      <td>-0.354012</td>\n",
       "      <td>0</td>\n",
       "      <td>0.0</td>\n",
       "      <td>0</td>\n",
       "    </tr>\n",
       "  </tbody>\n",
       "</table>\n",
       "<p>1332 rows × 6 columns</p>\n",
       "</div>"
      ],
      "text/plain": [
       "                     x  is_outlier  isolation_forest_score  \\\n",
       "timestamp                                                    \n",
       "2019-06-06 09:43:21  1       False               -0.354012   \n",
       "2019-06-24 06:29:17  1       False               -0.332515   \n",
       "2019-06-24 20:02:12  1       False               -0.354012   \n",
       "2019-06-24 20:46:40  1       False               -0.332515   \n",
       "2019-06-25 20:02:09  1       False               -0.332515   \n",
       "...                 ..         ...                     ...   \n",
       "2020-03-05 21:49:47  1       False               -0.354012   \n",
       "2020-03-05 21:49:48  2       False               -0.332515   \n",
       "2020-03-05 21:49:49  2       False               -0.332515   \n",
       "2020-03-05 21:49:50  2       False               -0.332515   \n",
       "2020-03-05 21:49:51  2       False               -0.354012   \n",
       "\n",
       "                     isolation_forest_outliers  KNN_score  KNN_outliers  \n",
       "timestamp                                                                \n",
       "2019-06-06 09:43:21                          0        0.0             0  \n",
       "2019-06-24 06:29:17                          0        0.0             0  \n",
       "2019-06-24 20:02:12                          0        0.0             0  \n",
       "2019-06-24 20:46:40                          0        0.0             0  \n",
       "2019-06-25 20:02:09                          0        0.0             0  \n",
       "...                                        ...        ...           ...  \n",
       "2020-03-05 21:49:47                          0        0.0             0  \n",
       "2020-03-05 21:49:48                          0        0.0             0  \n",
       "2020-03-05 21:49:49                          0        0.0             0  \n",
       "2020-03-05 21:49:50                          0        0.0             0  \n",
       "2020-03-05 21:49:51                          0        0.0             0  \n",
       "\n",
       "[1332 rows x 6 columns]"
      ]
     },
     "execution_count": 45,
     "metadata": {},
     "output_type": "execute_result"
    }
   ],
   "source": [
    "\n",
    "df_train_plot\n"
   ]
  },
  {
   "cell_type": "code",
   "execution_count": 46,
   "metadata": {},
   "outputs": [
    {
     "data": {
      "text/plain": [
       "<matplotlib.axes._subplots.AxesSubplot at 0x253e12935c8>"
      ]
     },
     "execution_count": 46,
     "metadata": {},
     "output_type": "execute_result"
    },
    {
     "data": {
      "image/png": "[encoded data removed]",
      "text/plain": [
       "<Figure size 1152x576 with 1 Axes>"
      ]
     },
     "metadata": {
      "needs_background": "light"
     },
     "output_type": "display_data"
    }
   ],
   "source": [
    "#scatterplot the results on trainset\n",
    "fig, ax = plt.subplots(figsize=(16,8))\n",
    "markers = {0: \"s\", 1: \"X\"}\n",
    "sns.scatterplot(\n",
    "    data=df_train_plot, \n",
    "    x='x', \n",
    "    y='KNN_score', \n",
    "    #hue='is_outlier',\n",
    "    hue='KNN_outliers',\n",
    "    style='KNN_outliers',\n",
    "    palette=\"Set1\",\n",
    "    sizes=(40, 200), hue_norm=(0, 9),\n",
    "    markers= markers,\n",
    "    ax=ax\n",
    ")"
   ]
  },
  {
   "cell_type": "markdown",
   "metadata": {},
   "source": [
    "in the Y axis, the plot shows the “score” values whoch are the average distance of those observations to others. \n",
    "A high “score” means that observation is far away from the norm.\n",
    "in the X axis, the 'count ' values.\n",
    "*note* in the training,fitting and prediction,the model uses normalized count values.Here, we only use non-normalized values to make the plot readable"
   ]
  },
  {
   "cell_type": "code",
   "execution_count": 47,
   "metadata": {},
   "outputs": [
    {
     "name": "stdout",
     "output_type": "stream",
     "text": [
      "Wall time: 138 ms\n"
     ]
    },
    {
     "name": "stderr",
     "output_type": "stream",
     "text": [
      "C:\\Users\\Syrine.benaziza\\Anaconda3\\lib\\site-packages\\ipykernel_launcher.py:11: SettingWithCopyWarning: \n",
      "A value is trying to be set on a copy of a slice from a DataFrame.\n",
      "Try using .loc[row_indexer,col_indexer] = value instead\n",
      "\n",
      "See the caveats in the documentation: https://pandas.pydata.org/pandas-docs/stable/user_guide/indexing.html#returning-a-view-versus-a-copy\n",
      "  # This is added back by InteractiveShellApp.init_path()\n",
      "C:\\Users\\Syrine.benaziza\\Anaconda3\\lib\\site-packages\\ipykernel_launcher.py:12: SettingWithCopyWarning: \n",
      "A value is trying to be set on a copy of a slice from a DataFrame.\n",
      "Try using .loc[row_indexer,col_indexer] = value instead\n",
      "\n",
      "See the caveats in the documentation: https://pandas.pydata.org/pandas-docs/stable/user_guide/indexing.html#returning-a-view-versus-a-copy\n",
      "  if sys.path[0] == '':\n"
     ]
    },
    {
     "data": {
      "text/html": [
       "<div>\n",
       "<style scoped>\n",
       "    .dataframe tbody tr th:only-of-type {\n",
       "        vertical-align: middle;\n",
       "    }\n",
       "\n",
       "    .dataframe tbody tr th {\n",
       "        vertical-align: top;\n",
       "    }\n",
       "\n",
       "    .dataframe thead th {\n",
       "        text-align: right;\n",
       "    }\n",
       "</style>\n",
       "<table border=\"1\" class=\"dataframe\">\n",
       "  <thead>\n",
       "    <tr style=\"text-align: right;\">\n",
       "      <th></th>\n",
       "      <th>x</th>\n",
       "      <th>is_outlier</th>\n",
       "      <th>isolation_forest_score</th>\n",
       "      <th>isolation_forest_outliers</th>\n",
       "      <th>KNN_score</th>\n",
       "      <th>KNN_outliers</th>\n",
       "    </tr>\n",
       "    <tr>\n",
       "      <th>timestamp</th>\n",
       "      <th></th>\n",
       "      <th></th>\n",
       "      <th></th>\n",
       "      <th></th>\n",
       "      <th></th>\n",
       "      <th></th>\n",
       "    </tr>\n",
       "  </thead>\n",
       "  <tbody>\n",
       "    <tr>\n",
       "      <th>2020-03-05 21:49:52</th>\n",
       "      <td>2</td>\n",
       "      <td>False</td>\n",
       "      <td>-0.332515</td>\n",
       "      <td>0</td>\n",
       "      <td>0.0</td>\n",
       "      <td>0</td>\n",
       "    </tr>\n",
       "    <tr>\n",
       "      <th>2020-03-05 21:49:53</th>\n",
       "      <td>2</td>\n",
       "      <td>False</td>\n",
       "      <td>-0.332515</td>\n",
       "      <td>0</td>\n",
       "      <td>0.0</td>\n",
       "      <td>0</td>\n",
       "    </tr>\n",
       "    <tr>\n",
       "      <th>2020-03-05 21:49:54</th>\n",
       "      <td>2</td>\n",
       "      <td>False</td>\n",
       "      <td>-0.332515</td>\n",
       "      <td>0</td>\n",
       "      <td>0.0</td>\n",
       "      <td>0</td>\n",
       "    </tr>\n",
       "    <tr>\n",
       "      <th>2020-03-05 21:49:55</th>\n",
       "      <td>2</td>\n",
       "      <td>False</td>\n",
       "      <td>-0.332515</td>\n",
       "      <td>0</td>\n",
       "      <td>0.0</td>\n",
       "      <td>0</td>\n",
       "    </tr>\n",
       "    <tr>\n",
       "      <th>2020-03-05 21:49:56</th>\n",
       "      <td>2</td>\n",
       "      <td>False</td>\n",
       "      <td>-0.354012</td>\n",
       "      <td>0</td>\n",
       "      <td>0.0</td>\n",
       "      <td>0</td>\n",
       "    </tr>\n",
       "    <tr>\n",
       "      <th>...</th>\n",
       "      <td>...</td>\n",
       "      <td>...</td>\n",
       "      <td>...</td>\n",
       "      <td>...</td>\n",
       "      <td>...</td>\n",
       "      <td>...</td>\n",
       "    </tr>\n",
       "    <tr>\n",
       "      <th>2020-06-25 20:56:51</th>\n",
       "      <td>3</td>\n",
       "      <td>False</td>\n",
       "      <td>-0.332515</td>\n",
       "      <td>0</td>\n",
       "      <td>0.0</td>\n",
       "      <td>0</td>\n",
       "    </tr>\n",
       "    <tr>\n",
       "      <th>2020-06-25 20:56:52</th>\n",
       "      <td>2</td>\n",
       "      <td>False</td>\n",
       "      <td>-0.354012</td>\n",
       "      <td>0</td>\n",
       "      <td>0.0</td>\n",
       "      <td>0</td>\n",
       "    </tr>\n",
       "    <tr>\n",
       "      <th>2020-06-25 20:56:53</th>\n",
       "      <td>2</td>\n",
       "      <td>False</td>\n",
       "      <td>-0.332515</td>\n",
       "      <td>0</td>\n",
       "      <td>0.0</td>\n",
       "      <td>0</td>\n",
       "    </tr>\n",
       "    <tr>\n",
       "      <th>2020-06-25 20:56:54</th>\n",
       "      <td>3</td>\n",
       "      <td>False</td>\n",
       "      <td>-0.354012</td>\n",
       "      <td>0</td>\n",
       "      <td>0.0</td>\n",
       "      <td>0</td>\n",
       "    </tr>\n",
       "    <tr>\n",
       "      <th>2020-06-25 20:56:55</th>\n",
       "      <td>1</td>\n",
       "      <td>False</td>\n",
       "      <td>-0.332515</td>\n",
       "      <td>0</td>\n",
       "      <td>0.0</td>\n",
       "      <td>0</td>\n",
       "    </tr>\n",
       "  </tbody>\n",
       "</table>\n",
       "<p>572 rows × 6 columns</p>\n",
       "</div>"
      ],
      "text/plain": [
       "                     x  is_outlier  isolation_forest_score  \\\n",
       "timestamp                                                    \n",
       "2020-03-05 21:49:52  2       False               -0.332515   \n",
       "2020-03-05 21:49:53  2       False               -0.332515   \n",
       "2020-03-05 21:49:54  2       False               -0.332515   \n",
       "2020-03-05 21:49:55  2       False               -0.332515   \n",
       "2020-03-05 21:49:56  2       False               -0.354012   \n",
       "...                 ..         ...                     ...   \n",
       "2020-06-25 20:56:51  3       False               -0.332515   \n",
       "2020-06-25 20:56:52  2       False               -0.354012   \n",
       "2020-06-25 20:56:53  2       False               -0.332515   \n",
       "2020-06-25 20:56:54  3       False               -0.354012   \n",
       "2020-06-25 20:56:55  1       False               -0.332515   \n",
       "\n",
       "                     isolation_forest_outliers  KNN_score  KNN_outliers  \n",
       "timestamp                                                                \n",
       "2020-03-05 21:49:52                          0        0.0             0  \n",
       "2020-03-05 21:49:53                          0        0.0             0  \n",
       "2020-03-05 21:49:54                          0        0.0             0  \n",
       "2020-03-05 21:49:55                          0        0.0             0  \n",
       "2020-03-05 21:49:56                          0        0.0             0  \n",
       "...                                        ...        ...           ...  \n",
       "2020-06-25 20:56:51                          0        0.0             0  \n",
       "2020-06-25 20:56:52                          0        0.0             0  \n",
       "2020-06-25 20:56:53                          0        0.0             0  \n",
       "2020-06-25 20:56:54                          0        0.0             0  \n",
       "2020-06-25 20:56:55                          0        0.0             0  \n",
       "\n",
       "[572 rows x 6 columns]"
      ]
     },
     "execution_count": 47,
     "metadata": {},
     "output_type": "execute_result"
    }
   ],
   "source": [
    "%%time\n",
    "# clf.decision_function: Predict raw anomaly score of X using the fitted detector.\n",
    "# We apply the model to the test data X_test to get the outlier scores.\n",
    "#y_test_scores = clf_knn.decision_function(X_test )  # outlier scores in the testset\n",
    "#y_test_scores = pd.Series(y_test_scores)\n",
    "\n",
    "# get the prediction on the test data\n",
    "\n",
    "# clf.decision_function: Predict raw anomaly score of X using the fitted detector.\n",
    "# We apply the model to the test data X_test to get the outlier scores.\n",
    "\n",
    "df_test_plot['KNN_score'] = clf_knn.decision_function(X_test)\n",
    "df_test_plot['KNN_outliers'] = clf_knn.predict(X_test)\n",
    "\n",
    "df_test_plot"
   ]
  },
  {
   "cell_type": "code",
   "execution_count": 48,
   "metadata": {},
   "outputs": [
    {
     "data": {
      "text/plain": [
       "<matplotlib.axes._subplots.AxesSubplot at 0x253e1315388>"
      ]
     },
     "execution_count": 48,
     "metadata": {},
     "output_type": "execute_result"
    },
    {
     "data": {
      "image/png": "[encoded data removed]",
      "text/plain": [
       "<Figure size 1152x576 with 1 Axes>"
      ]
     },
     "metadata": {
      "needs_background": "light"
     },
     "output_type": "display_data"
    }
   ],
   "source": [
    "#test  visualization\n",
    "\n",
    "fig, ax = plt.subplots(figsize=(16,8))\n",
    "sns.scatterplot(\n",
    "    data=df_test_plot, \n",
    "    x='x', \n",
    "    y='KNN_score',\n",
    "    #hue='is_outlier',\n",
    "    hue='KNN_outliers',\n",
    "    style='KNN_outliers',\n",
    "    palette=\"Set1\",\n",
    "    #hue='is_outlier',\n",
    "    markers={0:'.',1:'s'},\n",
    "    ax=ax\n",
    ")"
   ]
  },
  {
   "cell_type": "markdown",
   "metadata": {},
   "source": [
    "in the Y axis, the plot shows the “score” values whoch are the average distance of those observations to others. \n",
    "A high “score” means that observation is far away from the norm.\n",
    "in the X axis, the 'count ' values.\n",
    "*note* in the training,fitting and prediction,the model uses normalized count values.Here, we only use non-normalized values to make the plot readable"
   ]
  },
  {
   "cell_type": "markdown",
   "metadata": {},
   "source": [
    "#### test  visualization avec GroundTruth Labels\n"
   ]
  },
  {
   "cell_type": "code",
   "execution_count": 49,
   "metadata": {},
   "outputs": [
    {
     "data": {
      "text/plain": [
       "<matplotlib.axes._subplots.AxesSubplot at 0x253e126a1c8>"
      ]
     },
     "execution_count": 49,
     "metadata": {},
     "output_type": "execute_result"
    },
    {
     "data": {
      "image/png": "[encoded data removed]",
      "text/plain": [
       "<Figure size 1152x576 with 1 Axes>"
      ]
     },
     "metadata": {
      "needs_background": "light"
     },
     "output_type": "display_data"
    }
   ],
   "source": [
    "#test  visualization\n",
    "\n",
    "fig, ax = plt.subplots(figsize=(16,8))\n",
    "sns.scatterplot(\n",
    "    data=df_test_plot, \n",
    "    x='x', \n",
    "    y='KNN_score', \n",
    "    hue='is_outlier',\n",
    "    style='KNN_outliers',\n",
    "    palette=\"Set1\",\n",
    "    markers={0:'.',1:'s'},\n",
    "    ax=ax\n",
    ")"
   ]
  },
  {
   "cell_type": "code",
   "execution_count": 50,
   "metadata": {},
   "outputs": [
    {
     "name": "stdout",
     "output_type": "stream",
     "text": [
      "f1_score  0.8732269503546098\n",
      "precision_score  0.9964664310954063\n",
      "recall_score  0.8\n"
     ]
    }
   ],
   "source": [
    "\n",
    "\n",
    "confusion_matrix(y_val, y_pred=df_test_plot.KNN_outliers )\n",
    "\n",
    "y_pred=df_test_plot.KNN_outliers\n",
    "\n",
    "#The F1 score: weighted average of the precision and recall, \n",
    "  #  where an F1 score reaches its best value at 1 and worst score at 0. \n",
    "  #  The relative contribution of precision and recall to the F1 score are equal.\n",
    "    #F1 = 2 * (precision * recall) / (precision + recall)\n",
    "print('f1_score ', f1_score(y_val, y_pred, average=\"macro\"))\n",
    "\n",
    "\n",
    "#The precision is the ratio tp / (tp + fp) where tp is the number of true positives and \n",
    "#fp the number of false positives.\n",
    "#The precision is intuitively the ability of the classifier not to label as positive a sample that is negative.\n",
    "print('precision_score ',precision_score(y_val, y_pred, average=\"macro\"))\n",
    "\n",
    "\n",
    "#The recall is the ratio tp / (tp + fn) where tp is the number of true positives and fn the number \n",
    "#of false negatives.\n",
    "#The recall is intuitively the ability of the classifier to find all the positive samples.\n",
    "print('recall_score ',recall_score(y_val, y_pred, average=\"macro\"))"
   ]
  },
  {
   "cell_type": "markdown",
   "metadata": {},
   "source": [
    "After training our KNN Detector model, we can get the prediction labels on the training data and then get the outlier scores of the training data. The higher the scores are, the more abnormal. This indicates the overall abnormality in the data. These features make PyOD a great utility for anomaly detection tasks.\n"
   ]
  },
  {
   "cell_type": "code",
   "execution_count": 51,
   "metadata": {},
   "outputs": [],
   "source": [
    "# Get the prediction labels of the training data \n",
    "y_train_pred = clf_knn.predict(X_train) # binary labels (0: inliers, 1: outliers) # Outlier scores \n",
    "y_train_scores = clf_knn.decision_function(X_train)\n"
   ]
  },
  {
   "cell_type": "markdown",
   "metadata": {},
   "source": [
    "We can evaluate KNN() with respect to the training data. PyOD provides a handy function for this task called evaluate_print(). The default metrics include ROC and Precision @ n. We will pass class name, y_train values and y_train_scores(outlier scores as returned by a fitted model.)\n"
   ]
  },
  {
   "cell_type": "code",
   "execution_count": 52,
   "metadata": {},
   "outputs": [
    {
     "name": "stdout",
     "output_type": "stream",
     "text": [
      "‘KNN’ ROC:0.7, precision @ rank n:1.0\n"
     ]
    }
   ],
   "source": [
    "# Evaluate on the training data e\n",
    "evaluate_print('‘KNN’', y_train, y_train_scores)"
   ]
  },
  {
   "cell_type": "markdown",
   "metadata": {},
   "source": [
    "\n",
    "KNN ROC: 0.9955, precision @ rank n:0 0.6667.\n",
    "\n",
    "We see that the KNN() model has a good performance on the training data. \n",
    "Let’s plot the confusion matrix for the train set.\n"
   ]
  },
  {
   "cell_type": "markdown",
   "metadata": {},
   "source": [
    "We will use decision_function to predict anomaly scores of the test set using the \n",
    "fitted detector(KNN Detector) and evaluate the results.\n"
   ]
  },
  {
   "cell_type": "code",
   "execution_count": 53,
   "metadata": {},
   "outputs": [
    {
     "name": "stdout",
     "output_type": "stream",
     "text": [
      "KNN ROC:0.85, precision @ rank n:1.0\n"
     ]
    }
   ],
   "source": [
    "\n",
    "y_test_scores = clf_knn.decision_function(X_test)  # outlier scores\n",
    "\n",
    "# Evaluate on the training data\n",
    "evaluate_print('KNN', y_test,y_test_scores)\n",
    "#KNN ROC:0.9393, precision @ rank n:0.5408\n"
   ]
  },
  {
   "cell_type": "code",
   "execution_count": 54,
   "metadata": {},
   "outputs": [
    {
     "data": {
      "text/plain": [
       "array([[562,   0],\n",
       "       [  4,   6]], dtype=int64)"
      ]
     },
     "execution_count": 54,
     "metadata": {},
     "output_type": "execute_result"
    }
   ],
   "source": [
    "\n",
    "\n",
    "confusion_matrix(y_val, y_pred=df_test_plot.KNN_outliers )"
   ]
  },
  {
   "cell_type": "code",
   "execution_count": 55,
   "metadata": {},
   "outputs": [
    {
     "data": {
      "image/png": "[encoded data removed]",
      "text/plain": [
       "<Figure size 432x288 with 2 Axes>"
      ]
     },
     "metadata": {
      "needs_background": "light"
     },
     "output_type": "display_data"
    }
   ],
   "source": [
    "#Our KNN() model continues to perform well on the test set. Let’s plot the confusion matrix for the test set.\n",
    "\n",
    "# plot the comfusion matrix  in the test set\n",
    "y_preds = clf_knn.predict(X_test)\n",
    "\n",
    "skplt.metrics.plot_confusion_matrix(y_val,y_preds, normalize=False,\n",
    "                                    title=\"KNN Confusion Matrix on Test Set\")\n",
    "plt.show()"
   ]
  },
  {
   "cell_type": "markdown",
   "metadata": {},
   "source": [
    "## LOF\n"
   ]
  },
  {
   "cell_type": "code",
   "execution_count": 56,
   "metadata": {},
   "outputs": [],
   "source": [
    "clf_lof = LOF(\n",
    "    algorithm='auto',\n",
    "    n_neighbors=30 ,\n",
    "    contamination=0.1,\n",
    "    metric='minkowski',\n",
    "    n_jobs=1)\n",
    "\n",
    "\n",
    "                  "
   ]
  },
  {
   "cell_type": "code",
   "execution_count": 57,
   "metadata": {},
   "outputs": [
    {
     "data": {
      "text/plain": [
       "LOF(algorithm='auto', contamination=0.1, leaf_size=30, metric='minkowski',\n",
       "  metric_params=None, n_jobs=1, n_neighbors=30, p=2)"
      ]
     },
     "execution_count": 57,
     "metadata": {},
     "output_type": "execute_result"
    }
   ],
   "source": [
    "clf_lof"
   ]
  },
  {
   "cell_type": "code",
   "execution_count": 58,
   "metadata": {},
   "outputs": [
    {
     "name": "stdout",
     "output_type": "stream",
     "text": [
      "Wall time: 35 ms\n"
     ]
    },
    {
     "name": "stderr",
     "output_type": "stream",
     "text": [
      "C:\\Users\\Syrine.benaziza\\Anaconda3\\lib\\site-packages\\ipykernel_launcher.py:4: SettingWithCopyWarning: \n",
      "A value is trying to be set on a copy of a slice from a DataFrame.\n",
      "Try using .loc[row_indexer,col_indexer] = value instead\n",
      "\n",
      "See the caveats in the documentation: https://pandas.pydata.org/pandas-docs/stable/user_guide/indexing.html#returning-a-view-versus-a-copy\n",
      "  after removing the cwd from sys.path.\n",
      "C:\\Users\\Syrine.benaziza\\Anaconda3\\lib\\site-packages\\ipykernel_launcher.py:5: SettingWithCopyWarning: \n",
      "A value is trying to be set on a copy of a slice from a DataFrame.\n",
      "Try using .loc[row_indexer,col_indexer] = value instead\n",
      "\n",
      "See the caveats in the documentation: https://pandas.pydata.org/pandas-docs/stable/user_guide/indexing.html#returning-a-view-versus-a-copy\n",
      "  \"\"\"\n"
     ]
    },
    {
     "data": {
      "text/html": [
       "<div>\n",
       "<style scoped>\n",
       "    .dataframe tbody tr th:only-of-type {\n",
       "        vertical-align: middle;\n",
       "    }\n",
       "\n",
       "    .dataframe tbody tr th {\n",
       "        vertical-align: top;\n",
       "    }\n",
       "\n",
       "    .dataframe thead th {\n",
       "        text-align: right;\n",
       "    }\n",
       "</style>\n",
       "<table border=\"1\" class=\"dataframe\">\n",
       "  <thead>\n",
       "    <tr style=\"text-align: right;\">\n",
       "      <th></th>\n",
       "      <th>x</th>\n",
       "      <th>is_outlier</th>\n",
       "      <th>isolation_forest_score</th>\n",
       "      <th>isolation_forest_outliers</th>\n",
       "      <th>KNN_score</th>\n",
       "      <th>KNN_outliers</th>\n",
       "      <th>LOF_score</th>\n",
       "      <th>LOF_outliers</th>\n",
       "    </tr>\n",
       "    <tr>\n",
       "      <th>timestamp</th>\n",
       "      <th></th>\n",
       "      <th></th>\n",
       "      <th></th>\n",
       "      <th></th>\n",
       "      <th></th>\n",
       "      <th></th>\n",
       "      <th></th>\n",
       "      <th></th>\n",
       "    </tr>\n",
       "  </thead>\n",
       "  <tbody>\n",
       "    <tr>\n",
       "      <th>2019-06-06 09:43:21</th>\n",
       "      <td>1</td>\n",
       "      <td>False</td>\n",
       "      <td>-0.354012</td>\n",
       "      <td>0</td>\n",
       "      <td>0.0</td>\n",
       "      <td>0</td>\n",
       "      <td>1.0</td>\n",
       "      <td>0</td>\n",
       "    </tr>\n",
       "    <tr>\n",
       "      <th>2019-06-24 06:29:17</th>\n",
       "      <td>1</td>\n",
       "      <td>False</td>\n",
       "      <td>-0.332515</td>\n",
       "      <td>0</td>\n",
       "      <td>0.0</td>\n",
       "      <td>0</td>\n",
       "      <td>1.0</td>\n",
       "      <td>0</td>\n",
       "    </tr>\n",
       "    <tr>\n",
       "      <th>2019-06-24 20:02:12</th>\n",
       "      <td>1</td>\n",
       "      <td>False</td>\n",
       "      <td>-0.354012</td>\n",
       "      <td>0</td>\n",
       "      <td>0.0</td>\n",
       "      <td>0</td>\n",
       "      <td>1.0</td>\n",
       "      <td>0</td>\n",
       "    </tr>\n",
       "    <tr>\n",
       "      <th>2019-06-24 20:46:40</th>\n",
       "      <td>1</td>\n",
       "      <td>False</td>\n",
       "      <td>-0.332515</td>\n",
       "      <td>0</td>\n",
       "      <td>0.0</td>\n",
       "      <td>0</td>\n",
       "      <td>1.0</td>\n",
       "      <td>0</td>\n",
       "    </tr>\n",
       "    <tr>\n",
       "      <th>2019-06-25 20:02:09</th>\n",
       "      <td>1</td>\n",
       "      <td>False</td>\n",
       "      <td>-0.332515</td>\n",
       "      <td>0</td>\n",
       "      <td>0.0</td>\n",
       "      <td>0</td>\n",
       "      <td>1.0</td>\n",
       "      <td>0</td>\n",
       "    </tr>\n",
       "    <tr>\n",
       "      <th>...</th>\n",
       "      <td>...</td>\n",
       "      <td>...</td>\n",
       "      <td>...</td>\n",
       "      <td>...</td>\n",
       "      <td>...</td>\n",
       "      <td>...</td>\n",
       "      <td>...</td>\n",
       "      <td>...</td>\n",
       "    </tr>\n",
       "    <tr>\n",
       "      <th>2020-03-05 21:49:47</th>\n",
       "      <td>1</td>\n",
       "      <td>False</td>\n",
       "      <td>-0.354012</td>\n",
       "      <td>0</td>\n",
       "      <td>0.0</td>\n",
       "      <td>0</td>\n",
       "      <td>1.0</td>\n",
       "      <td>0</td>\n",
       "    </tr>\n",
       "    <tr>\n",
       "      <th>2020-03-05 21:49:48</th>\n",
       "      <td>2</td>\n",
       "      <td>False</td>\n",
       "      <td>-0.332515</td>\n",
       "      <td>0</td>\n",
       "      <td>0.0</td>\n",
       "      <td>0</td>\n",
       "      <td>1.0</td>\n",
       "      <td>0</td>\n",
       "    </tr>\n",
       "    <tr>\n",
       "      <th>2020-03-05 21:49:49</th>\n",
       "      <td>2</td>\n",
       "      <td>False</td>\n",
       "      <td>-0.332515</td>\n",
       "      <td>0</td>\n",
       "      <td>0.0</td>\n",
       "      <td>0</td>\n",
       "      <td>1.0</td>\n",
       "      <td>0</td>\n",
       "    </tr>\n",
       "    <tr>\n",
       "      <th>2020-03-05 21:49:50</th>\n",
       "      <td>2</td>\n",
       "      <td>False</td>\n",
       "      <td>-0.332515</td>\n",
       "      <td>0</td>\n",
       "      <td>0.0</td>\n",
       "      <td>0</td>\n",
       "      <td>1.0</td>\n",
       "      <td>0</td>\n",
       "    </tr>\n",
       "    <tr>\n",
       "      <th>2020-03-05 21:49:51</th>\n",
       "      <td>2</td>\n",
       "      <td>False</td>\n",
       "      <td>-0.354012</td>\n",
       "      <td>0</td>\n",
       "      <td>0.0</td>\n",
       "      <td>0</td>\n",
       "      <td>1.0</td>\n",
       "      <td>0</td>\n",
       "    </tr>\n",
       "  </tbody>\n",
       "</table>\n",
       "<p>1332 rows × 8 columns</p>\n",
       "</div>"
      ],
      "text/plain": [
       "                     x  is_outlier  isolation_forest_score  \\\n",
       "timestamp                                                    \n",
       "2019-06-06 09:43:21  1       False               -0.354012   \n",
       "2019-06-24 06:29:17  1       False               -0.332515   \n",
       "2019-06-24 20:02:12  1       False               -0.354012   \n",
       "2019-06-24 20:46:40  1       False               -0.332515   \n",
       "2019-06-25 20:02:09  1       False               -0.332515   \n",
       "...                 ..         ...                     ...   \n",
       "2020-03-05 21:49:47  1       False               -0.354012   \n",
       "2020-03-05 21:49:48  2       False               -0.332515   \n",
       "2020-03-05 21:49:49  2       False               -0.332515   \n",
       "2020-03-05 21:49:50  2       False               -0.332515   \n",
       "2020-03-05 21:49:51  2       False               -0.354012   \n",
       "\n",
       "                     isolation_forest_outliers  KNN_score  KNN_outliers  \\\n",
       "timestamp                                                                 \n",
       "2019-06-06 09:43:21                          0        0.0             0   \n",
       "2019-06-24 06:29:17                          0        0.0             0   \n",
       "2019-06-24 20:02:12                          0        0.0             0   \n",
       "2019-06-24 20:46:40                          0        0.0             0   \n",
       "2019-06-25 20:02:09                          0        0.0             0   \n",
       "...                                        ...        ...           ...   \n",
       "2020-03-05 21:49:47                          0        0.0             0   \n",
       "2020-03-05 21:49:48                          0        0.0             0   \n",
       "2020-03-05 21:49:49                          0        0.0             0   \n",
       "2020-03-05 21:49:50                          0        0.0             0   \n",
       "2020-03-05 21:49:51                          0        0.0             0   \n",
       "\n",
       "                     LOF_score  LOF_outliers  \n",
       "timestamp                                     \n",
       "2019-06-06 09:43:21        1.0             0  \n",
       "2019-06-24 06:29:17        1.0             0  \n",
       "2019-06-24 20:02:12        1.0             0  \n",
       "2019-06-24 20:46:40        1.0             0  \n",
       "2019-06-25 20:02:09        1.0             0  \n",
       "...                        ...           ...  \n",
       "2020-03-05 21:49:47        1.0             0  \n",
       "2020-03-05 21:49:48        1.0             0  \n",
       "2020-03-05 21:49:49        1.0             0  \n",
       "2020-03-05 21:49:50        1.0             0  \n",
       "2020-03-05 21:49:51        1.0             0  \n",
       "\n",
       "[1332 rows x 8 columns]"
      ]
     },
     "execution_count": 58,
     "metadata": {},
     "output_type": "execute_result"
    }
   ],
   "source": [
    "%%time\n",
    "clf_lof.fit(X_train)#Adjust the model to trainset\n",
    "\n",
    "#train visualization\n",
    "df_train_plot['LOF_score'] = clf_lof.decision_function(X_train)#calculate score\n",
    "df_train_plot['LOF_outliers'] = clf_lof.predict(X_train)#decide for the calculated scores if an observation is an outlier or inlier\n",
    "\n",
    "df_train_plot\n"
   ]
  },
  {
   "cell_type": "code",
   "execution_count": 59,
   "metadata": {},
   "outputs": [
    {
     "data": {
      "text/plain": [
       "<matplotlib.axes._subplots.AxesSubplot at 0x253e1829cc8>"
      ]
     },
     "execution_count": 59,
     "metadata": {},
     "output_type": "execute_result"
    },
    {
     "data": {
      "image/png": "[encoded data removed]",
      "text/plain": [
       "<Figure size 1152x576 with 1 Axes>"
      ]
     },
     "metadata": {
      "needs_background": "light"
     },
     "output_type": "display_data"
    }
   ],
   "source": [
    "#scatterplot the results\n",
    "fig, ax = plt.subplots(figsize=(16,8))\n",
    "markers = {0: \"s\", 1: \"X\"}\n",
    "sns.scatterplot(\n",
    "    data=df_train_plot, \n",
    "    x='x', \n",
    "    y='LOF_score', \n",
    "    #hue='is_outlier',\n",
    "    hue='LOF_outliers',\n",
    "    style='LOF_outliers',\n",
    "    palette=\"Set1\",\n",
    "    sizes=(40, 200), hue_norm=(0, 9),\n",
    "    markers= markers,\n",
    "    ax=ax\n",
    ")"
   ]
  },
  {
   "cell_type": "markdown",
   "metadata": {},
   "source": [
    "in the Y axis, the plot shows the “score” values whoch are the average distance of those observations to others. \n",
    "A high “score” means that observation is far away from the norm.\n",
    "in the X axis, the 'count ' values.\n",
    "*note* in the training,fitting and prediction,the model uses normalized count values.Here, we only use non-normalized values to make the plot readable"
   ]
  },
  {
   "cell_type": "code",
   "execution_count": 60,
   "metadata": {},
   "outputs": [
    {
     "name": "stderr",
     "output_type": "stream",
     "text": [
      "C:\\Users\\Syrine.benaziza\\Anaconda3\\lib\\site-packages\\ipykernel_launcher.py:11: SettingWithCopyWarning: \n",
      "A value is trying to be set on a copy of a slice from a DataFrame.\n",
      "Try using .loc[row_indexer,col_indexer] = value instead\n",
      "\n",
      "See the caveats in the documentation: https://pandas.pydata.org/pandas-docs/stable/user_guide/indexing.html#returning-a-view-versus-a-copy\n",
      "  # This is added back by InteractiveShellApp.init_path()\n",
      "C:\\Users\\Syrine.benaziza\\Anaconda3\\lib\\site-packages\\ipykernel_launcher.py:12: SettingWithCopyWarning: \n",
      "A value is trying to be set on a copy of a slice from a DataFrame.\n",
      "Try using .loc[row_indexer,col_indexer] = value instead\n",
      "\n",
      "See the caveats in the documentation: https://pandas.pydata.org/pandas-docs/stable/user_guide/indexing.html#returning-a-view-versus-a-copy\n",
      "  if sys.path[0] == '':\n"
     ]
    },
    {
     "data": {
      "text/html": [
       "<div>\n",
       "<style scoped>\n",
       "    .dataframe tbody tr th:only-of-type {\n",
       "        vertical-align: middle;\n",
       "    }\n",
       "\n",
       "    .dataframe tbody tr th {\n",
       "        vertical-align: top;\n",
       "    }\n",
       "\n",
       "    .dataframe thead th {\n",
       "        text-align: right;\n",
       "    }\n",
       "</style>\n",
       "<table border=\"1\" class=\"dataframe\">\n",
       "  <thead>\n",
       "    <tr style=\"text-align: right;\">\n",
       "      <th></th>\n",
       "      <th>x</th>\n",
       "      <th>is_outlier</th>\n",
       "      <th>isolation_forest_score</th>\n",
       "      <th>isolation_forest_outliers</th>\n",
       "      <th>KNN_score</th>\n",
       "      <th>KNN_outliers</th>\n",
       "      <th>LOF_score</th>\n",
       "      <th>LOF_outliers</th>\n",
       "    </tr>\n",
       "    <tr>\n",
       "      <th>timestamp</th>\n",
       "      <th></th>\n",
       "      <th></th>\n",
       "      <th></th>\n",
       "      <th></th>\n",
       "      <th></th>\n",
       "      <th></th>\n",
       "      <th></th>\n",
       "      <th></th>\n",
       "    </tr>\n",
       "  </thead>\n",
       "  <tbody>\n",
       "    <tr>\n",
       "      <th>2020-03-05 21:49:52</th>\n",
       "      <td>2</td>\n",
       "      <td>False</td>\n",
       "      <td>-0.332515</td>\n",
       "      <td>0</td>\n",
       "      <td>0.0</td>\n",
       "      <td>0</td>\n",
       "      <td>1.0</td>\n",
       "      <td>0</td>\n",
       "    </tr>\n",
       "    <tr>\n",
       "      <th>2020-03-05 21:49:53</th>\n",
       "      <td>2</td>\n",
       "      <td>False</td>\n",
       "      <td>-0.332515</td>\n",
       "      <td>0</td>\n",
       "      <td>0.0</td>\n",
       "      <td>0</td>\n",
       "      <td>1.0</td>\n",
       "      <td>0</td>\n",
       "    </tr>\n",
       "    <tr>\n",
       "      <th>2020-03-05 21:49:54</th>\n",
       "      <td>2</td>\n",
       "      <td>False</td>\n",
       "      <td>-0.332515</td>\n",
       "      <td>0</td>\n",
       "      <td>0.0</td>\n",
       "      <td>0</td>\n",
       "      <td>1.0</td>\n",
       "      <td>0</td>\n",
       "    </tr>\n",
       "    <tr>\n",
       "      <th>2020-03-05 21:49:55</th>\n",
       "      <td>2</td>\n",
       "      <td>False</td>\n",
       "      <td>-0.332515</td>\n",
       "      <td>0</td>\n",
       "      <td>0.0</td>\n",
       "      <td>0</td>\n",
       "      <td>1.0</td>\n",
       "      <td>0</td>\n",
       "    </tr>\n",
       "    <tr>\n",
       "      <th>2020-03-05 21:49:56</th>\n",
       "      <td>2</td>\n",
       "      <td>False</td>\n",
       "      <td>-0.354012</td>\n",
       "      <td>0</td>\n",
       "      <td>0.0</td>\n",
       "      <td>0</td>\n",
       "      <td>1.0</td>\n",
       "      <td>0</td>\n",
       "    </tr>\n",
       "    <tr>\n",
       "      <th>...</th>\n",
       "      <td>...</td>\n",
       "      <td>...</td>\n",
       "      <td>...</td>\n",
       "      <td>...</td>\n",
       "      <td>...</td>\n",
       "      <td>...</td>\n",
       "      <td>...</td>\n",
       "      <td>...</td>\n",
       "    </tr>\n",
       "    <tr>\n",
       "      <th>2020-06-25 20:56:51</th>\n",
       "      <td>3</td>\n",
       "      <td>False</td>\n",
       "      <td>-0.332515</td>\n",
       "      <td>0</td>\n",
       "      <td>0.0</td>\n",
       "      <td>0</td>\n",
       "      <td>1.0</td>\n",
       "      <td>0</td>\n",
       "    </tr>\n",
       "    <tr>\n",
       "      <th>2020-06-25 20:56:52</th>\n",
       "      <td>2</td>\n",
       "      <td>False</td>\n",
       "      <td>-0.354012</td>\n",
       "      <td>0</td>\n",
       "      <td>0.0</td>\n",
       "      <td>0</td>\n",
       "      <td>1.0</td>\n",
       "      <td>0</td>\n",
       "    </tr>\n",
       "    <tr>\n",
       "      <th>2020-06-25 20:56:53</th>\n",
       "      <td>2</td>\n",
       "      <td>False</td>\n",
       "      <td>-0.332515</td>\n",
       "      <td>0</td>\n",
       "      <td>0.0</td>\n",
       "      <td>0</td>\n",
       "      <td>1.0</td>\n",
       "      <td>0</td>\n",
       "    </tr>\n",
       "    <tr>\n",
       "      <th>2020-06-25 20:56:54</th>\n",
       "      <td>3</td>\n",
       "      <td>False</td>\n",
       "      <td>-0.354012</td>\n",
       "      <td>0</td>\n",
       "      <td>0.0</td>\n",
       "      <td>0</td>\n",
       "      <td>1.0</td>\n",
       "      <td>0</td>\n",
       "    </tr>\n",
       "    <tr>\n",
       "      <th>2020-06-25 20:56:55</th>\n",
       "      <td>1</td>\n",
       "      <td>False</td>\n",
       "      <td>-0.332515</td>\n",
       "      <td>0</td>\n",
       "      <td>0.0</td>\n",
       "      <td>0</td>\n",
       "      <td>1.0</td>\n",
       "      <td>0</td>\n",
       "    </tr>\n",
       "  </tbody>\n",
       "</table>\n",
       "<p>572 rows × 8 columns</p>\n",
       "</div>"
      ],
      "text/plain": [
       "                     x  is_outlier  isolation_forest_score  \\\n",
       "timestamp                                                    \n",
       "2020-03-05 21:49:52  2       False               -0.332515   \n",
       "2020-03-05 21:49:53  2       False               -0.332515   \n",
       "2020-03-05 21:49:54  2       False               -0.332515   \n",
       "2020-03-05 21:49:55  2       False               -0.332515   \n",
       "2020-03-05 21:49:56  2       False               -0.354012   \n",
       "...                 ..         ...                     ...   \n",
       "2020-06-25 20:56:51  3       False               -0.332515   \n",
       "2020-06-25 20:56:52  2       False               -0.354012   \n",
       "2020-06-25 20:56:53  2       False               -0.332515   \n",
       "2020-06-25 20:56:54  3       False               -0.354012   \n",
       "2020-06-25 20:56:55  1       False               -0.332515   \n",
       "\n",
       "                     isolation_forest_outliers  KNN_score  KNN_outliers  \\\n",
       "timestamp                                                                 \n",
       "2020-03-05 21:49:52                          0        0.0             0   \n",
       "2020-03-05 21:49:53                          0        0.0             0   \n",
       "2020-03-05 21:49:54                          0        0.0             0   \n",
       "2020-03-05 21:49:55                          0        0.0             0   \n",
       "2020-03-05 21:49:56                          0        0.0             0   \n",
       "...                                        ...        ...           ...   \n",
       "2020-06-25 20:56:51                          0        0.0             0   \n",
       "2020-06-25 20:56:52                          0        0.0             0   \n",
       "2020-06-25 20:56:53                          0        0.0             0   \n",
       "2020-06-25 20:56:54                          0        0.0             0   \n",
       "2020-06-25 20:56:55                          0        0.0             0   \n",
       "\n",
       "                     LOF_score  LOF_outliers  \n",
       "timestamp                                     \n",
       "2020-03-05 21:49:52        1.0             0  \n",
       "2020-03-05 21:49:53        1.0             0  \n",
       "2020-03-05 21:49:54        1.0             0  \n",
       "2020-03-05 21:49:55        1.0             0  \n",
       "2020-03-05 21:49:56        1.0             0  \n",
       "...                        ...           ...  \n",
       "2020-06-25 20:56:51        1.0             0  \n",
       "2020-06-25 20:56:52        1.0             0  \n",
       "2020-06-25 20:56:53        1.0             0  \n",
       "2020-06-25 20:56:54        1.0             0  \n",
       "2020-06-25 20:56:55        1.0             0  \n",
       "\n",
       "[572 rows x 8 columns]"
      ]
     },
     "execution_count": 60,
     "metadata": {},
     "output_type": "execute_result"
    }
   ],
   "source": [
    "# get the prediction on the test data\n",
    "\n",
    "# clf.decision_function: Predict raw anomaly score of X using the fitted detector.\n",
    "# We apply the model to the test data X_test to get the outlier scores.\n",
    "y_test_scores =  clf_lof.decision_function(X_test )  # outlier scores\n",
    "y_test_scores = pd.Series(y_test_scores)\n",
    "y_test_pred =  clf_lof.predict(X_test)\n",
    "\n",
    "\n",
    "\n",
    "df_test_plot['LOF_score'] =  clf_lof.decision_function(X_test ) \n",
    "df_test_plot['LOF_outliers'] = clf_lof.predict(X_test)\n",
    "\n",
    "df_test_plot\n",
    "\n",
    "#df_test_plot['LOF_outliers'].value_counts()"
   ]
  },
  {
   "cell_type": "code",
   "execution_count": 61,
   "metadata": {},
   "outputs": [
    {
     "data": {
      "text/plain": [
       "<matplotlib.axes._subplots.AxesSubplot at 0x253e1828e48>"
      ]
     },
     "execution_count": 61,
     "metadata": {},
     "output_type": "execute_result"
    },
    {
     "data": {
      "image/png": "[encoded data removed]",
      "text/plain": [
       "<Figure size 1152x576 with 1 Axes>"
      ]
     },
     "metadata": {
      "needs_background": "light"
     },
     "output_type": "display_data"
    }
   ],
   "source": [
    "fig, ax = plt.subplots(figsize=(16,8))\n",
    "markers = {0: \"s\", 1: \"X\"}\n",
    "sns.scatterplot(\n",
    "    data=df_test_plot, \n",
    "     x='x', \n",
    "    y='LOF_score', \n",
    "    #hue='is_outlier',\n",
    "    hue='LOF_outliers',\n",
    "    style='LOF_outliers',\n",
    "    palette=\"Set1\",\n",
    "    sizes=(40, 200), hue_norm=(0, 9),\n",
    "    markers= markers,\n",
    "    ax=ax\n",
    ")"
   ]
  },
  {
   "cell_type": "markdown",
   "metadata": {},
   "source": [
    "in the Y axis, the plot shows the “score” values whoch are the average distance of those observations to others. \n",
    "A high “score” means that observation is far away from the norm.\n",
    "in the X axis, the 'count ' values.\n",
    "*note* in the training,fitting and prediction,the model uses normalized count values.Here, we only use non-normalized values to make the plot readable"
   ]
  },
  {
   "cell_type": "markdown",
   "metadata": {},
   "source": [
    "#### LOF on  Testset With Ground Truth labels"
   ]
  },
  {
   "cell_type": "code",
   "execution_count": 62,
   "metadata": {},
   "outputs": [
    {
     "data": {
      "text/plain": [
       "<matplotlib.axes._subplots.AxesSubplot at 0x253e191e808>"
      ]
     },
     "execution_count": 62,
     "metadata": {},
     "output_type": "execute_result"
    },
    {
     "data": {
      "image/png": "[encoded data removed]",
      "text/plain": [
       "<Figure size 1152x576 with 1 Axes>"
      ]
     },
     "metadata": {
      "needs_background": "light"
     },
     "output_type": "display_data"
    }
   ],
   "source": [
    "fig, ax = plt.subplots(figsize=(16,8))\n",
    "markers = {0: \"s\", 1: \"X\"}\n",
    "sns.scatterplot(\n",
    "    data=df_test_plot, \n",
    "     x='x', \n",
    "    y='LOF_score', \n",
    "    hue='is_outlier',\n",
    "    style='LOF_outliers',\n",
    "    palette=\"Set1\",\n",
    "    sizes=(40, 200), hue_norm=(0, 9),\n",
    "    markers= markers,\n",
    "    ax=ax\n",
    ")"
   ]
  },
  {
   "cell_type": "markdown",
   "metadata": {},
   "source": [
    "in the Y axis, the plot shows the “score” values whoch are the average distance of those observations to others. \n",
    "A high “score” means that observation is far away from the norm.\n",
    "in the X axis, the 'count ' values.\n",
    "*note* in the training,fitting and prediction,the model uses normalized count values.Here, we only use non-normalized values to make the plot readable"
   ]
  },
  {
   "cell_type": "code",
   "execution_count": 63,
   "metadata": {},
   "outputs": [
    {
     "name": "stdout",
     "output_type": "stream",
     "text": [
      "f1_score  0.8535586277521762\n",
      "precision_score  0.7777777777777778\n",
      "recall_score  0.9928825622775801\n"
     ]
    }
   ],
   "source": [
    "\n",
    "\n",
    "\n",
    "confusion_matrix(y_val, y_pred=df_test_plot.LOF_outliers )\n",
    "\n",
    "y_pred=df_test_plot.LOF_outliers\n",
    "\n",
    "#The F1 score: weighted average of the precision and recall, \n",
    "  #  where an F1 score reaches its best value at 1 and worst score at 0. \n",
    "  #  The relative contribution of precision and recall to the F1 score are equal.\n",
    "    #F1 = 2 * (precision * recall) / (precision + recall)\n",
    "print('f1_score ', f1_score(y_val, y_pred, average=\"macro\"))\n",
    "\n",
    "\n",
    "#The precision is the ratio tp / (tp + fp) where tp is the number of true positives and \n",
    "#fp the number of false positives.\n",
    "#The precision is intuitively the ability of the classifier not to label as positive a sample that is negative.\n",
    "print('precision_score ',precision_score(y_val, y_pred, average=\"macro\"))\n",
    "\n",
    "\n",
    "#The recall is the ratio tp / (tp + fn) where tp is the number of true positives and fn the number \n",
    "#of false negatives.\n",
    "#The recall is intuitively the ability of the classifier to find all the positive samples.\n",
    "print('recall_score ',recall_score(y_val, y_pred, average=\"macro\"))"
   ]
  },
  {
   "cell_type": "code",
   "execution_count": 64,
   "metadata": {},
   "outputs": [
    {
     "data": {
      "image/png": "[encoded data removed]",
      "text/plain": [
       "<Figure size 432x288 with 2 Axes>"
      ]
     },
     "metadata": {
      "needs_background": "light"
     },
     "output_type": "display_data"
    }
   ],
   "source": [
    "#Let’s plot the confusion matrix for the test set.\n",
    "\n",
    "# plot the comfusion matrix  in the test set\n",
    "skplt.metrics.plot_confusion_matrix(y_val,y_pred, normalize=False,\n",
    "                                    title=\"LOF Confusion Matrix on Test Set\")\n",
    "plt.show()"
   ]
  },
  {
   "cell_type": "markdown",
   "metadata": {},
   "source": [
    "## OCSVM"
   ]
  },
  {
   "cell_type": "code",
   "execution_count": 65,
   "metadata": {},
   "outputs": [],
   "source": [
    "\n",
    "clf_ocsvm = OCSVM(kernel='rbf',  gamma='auto',nu=0.5,\n",
    "                  contamination=0.1,tol=0.001, degree = 6,\n",
    "                shrinking=True, cache_size=200,\n",
    "                verbose=True, max_iter=-1)\n",
    "\n",
    "\n",
    "            "
   ]
  },
  {
   "cell_type": "code",
   "execution_count": 66,
   "metadata": {},
   "outputs": [
    {
     "data": {
      "text/plain": [
       "OCSVM(cache_size=200, coef0=0.0, contamination=0.1, degree=6, gamma='auto',\n",
       "   kernel='rbf', max_iter=-1, nu=0.5, shrinking=True, tol=0.001,\n",
       "   verbose=True)"
      ]
     },
     "execution_count": 66,
     "metadata": {},
     "output_type": "execute_result"
    }
   ],
   "source": [
    "clf_ocsvm "
   ]
  },
  {
   "cell_type": "code",
   "execution_count": 67,
   "metadata": {},
   "outputs": [
    {
     "name": "stdout",
     "output_type": "stream",
     "text": [
      "[LibSVM]Wall time: 52.1 ms\n"
     ]
    },
    {
     "name": "stderr",
     "output_type": "stream",
     "text": [
      "C:\\Users\\Syrine.benaziza\\Anaconda3\\lib\\site-packages\\ipykernel_launcher.py:3: SettingWithCopyWarning: \n",
      "A value is trying to be set on a copy of a slice from a DataFrame.\n",
      "Try using .loc[row_indexer,col_indexer] = value instead\n",
      "\n",
      "See the caveats in the documentation: https://pandas.pydata.org/pandas-docs/stable/user_guide/indexing.html#returning-a-view-versus-a-copy\n",
      "  This is separate from the ipykernel package so we can avoid doing imports until\n",
      "C:\\Users\\Syrine.benaziza\\Anaconda3\\lib\\site-packages\\ipykernel_launcher.py:4: SettingWithCopyWarning: \n",
      "A value is trying to be set on a copy of a slice from a DataFrame.\n",
      "Try using .loc[row_indexer,col_indexer] = value instead\n",
      "\n",
      "See the caveats in the documentation: https://pandas.pydata.org/pandas-docs/stable/user_guide/indexing.html#returning-a-view-versus-a-copy\n",
      "  after removing the cwd from sys.path.\n"
     ]
    },
    {
     "data": {
      "text/html": [
       "<div>\n",
       "<style scoped>\n",
       "    .dataframe tbody tr th:only-of-type {\n",
       "        vertical-align: middle;\n",
       "    }\n",
       "\n",
       "    .dataframe tbody tr th {\n",
       "        vertical-align: top;\n",
       "    }\n",
       "\n",
       "    .dataframe thead th {\n",
       "        text-align: right;\n",
       "    }\n",
       "</style>\n",
       "<table border=\"1\" class=\"dataframe\">\n",
       "  <thead>\n",
       "    <tr style=\"text-align: right;\">\n",
       "      <th></th>\n",
       "      <th>x</th>\n",
       "      <th>is_outlier</th>\n",
       "      <th>isolation_forest_score</th>\n",
       "      <th>isolation_forest_outliers</th>\n",
       "      <th>KNN_score</th>\n",
       "      <th>KNN_outliers</th>\n",
       "      <th>LOF_score</th>\n",
       "      <th>LOF_outliers</th>\n",
       "      <th>OCSVM_score</th>\n",
       "      <th>OCSVM_outliers</th>\n",
       "    </tr>\n",
       "    <tr>\n",
       "      <th>timestamp</th>\n",
       "      <th></th>\n",
       "      <th></th>\n",
       "      <th></th>\n",
       "      <th></th>\n",
       "      <th></th>\n",
       "      <th></th>\n",
       "      <th></th>\n",
       "      <th></th>\n",
       "      <th></th>\n",
       "      <th></th>\n",
       "    </tr>\n",
       "  </thead>\n",
       "  <tbody>\n",
       "    <tr>\n",
       "      <th>2019-06-06 09:43:21</th>\n",
       "      <td>1</td>\n",
       "      <td>False</td>\n",
       "      <td>-0.354012</td>\n",
       "      <td>0</td>\n",
       "      <td>0.0</td>\n",
       "      <td>0</td>\n",
       "      <td>1.0</td>\n",
       "      <td>0</td>\n",
       "      <td>0.000007</td>\n",
       "      <td>0</td>\n",
       "    </tr>\n",
       "    <tr>\n",
       "      <th>2019-06-24 06:29:17</th>\n",
       "      <td>1</td>\n",
       "      <td>False</td>\n",
       "      <td>-0.332515</td>\n",
       "      <td>0</td>\n",
       "      <td>0.0</td>\n",
       "      <td>0</td>\n",
       "      <td>1.0</td>\n",
       "      <td>0</td>\n",
       "      <td>0.000006</td>\n",
       "      <td>0</td>\n",
       "    </tr>\n",
       "    <tr>\n",
       "      <th>2019-06-24 20:02:12</th>\n",
       "      <td>1</td>\n",
       "      <td>False</td>\n",
       "      <td>-0.354012</td>\n",
       "      <td>0</td>\n",
       "      <td>0.0</td>\n",
       "      <td>0</td>\n",
       "      <td>1.0</td>\n",
       "      <td>0</td>\n",
       "      <td>0.000007</td>\n",
       "      <td>0</td>\n",
       "    </tr>\n",
       "    <tr>\n",
       "      <th>2019-06-24 20:46:40</th>\n",
       "      <td>1</td>\n",
       "      <td>False</td>\n",
       "      <td>-0.332515</td>\n",
       "      <td>0</td>\n",
       "      <td>0.0</td>\n",
       "      <td>0</td>\n",
       "      <td>1.0</td>\n",
       "      <td>0</td>\n",
       "      <td>0.000006</td>\n",
       "      <td>0</td>\n",
       "    </tr>\n",
       "    <tr>\n",
       "      <th>2019-06-25 20:02:09</th>\n",
       "      <td>1</td>\n",
       "      <td>False</td>\n",
       "      <td>-0.332515</td>\n",
       "      <td>0</td>\n",
       "      <td>0.0</td>\n",
       "      <td>0</td>\n",
       "      <td>1.0</td>\n",
       "      <td>0</td>\n",
       "      <td>0.000006</td>\n",
       "      <td>0</td>\n",
       "    </tr>\n",
       "    <tr>\n",
       "      <th>...</th>\n",
       "      <td>...</td>\n",
       "      <td>...</td>\n",
       "      <td>...</td>\n",
       "      <td>...</td>\n",
       "      <td>...</td>\n",
       "      <td>...</td>\n",
       "      <td>...</td>\n",
       "      <td>...</td>\n",
       "      <td>...</td>\n",
       "      <td>...</td>\n",
       "    </tr>\n",
       "    <tr>\n",
       "      <th>2020-03-05 21:49:47</th>\n",
       "      <td>1</td>\n",
       "      <td>False</td>\n",
       "      <td>-0.354012</td>\n",
       "      <td>0</td>\n",
       "      <td>0.0</td>\n",
       "      <td>0</td>\n",
       "      <td>1.0</td>\n",
       "      <td>0</td>\n",
       "      <td>0.000007</td>\n",
       "      <td>0</td>\n",
       "    </tr>\n",
       "    <tr>\n",
       "      <th>2020-03-05 21:49:48</th>\n",
       "      <td>2</td>\n",
       "      <td>False</td>\n",
       "      <td>-0.332515</td>\n",
       "      <td>0</td>\n",
       "      <td>0.0</td>\n",
       "      <td>0</td>\n",
       "      <td>1.0</td>\n",
       "      <td>0</td>\n",
       "      <td>0.000006</td>\n",
       "      <td>0</td>\n",
       "    </tr>\n",
       "    <tr>\n",
       "      <th>2020-03-05 21:49:49</th>\n",
       "      <td>2</td>\n",
       "      <td>False</td>\n",
       "      <td>-0.332515</td>\n",
       "      <td>0</td>\n",
       "      <td>0.0</td>\n",
       "      <td>0</td>\n",
       "      <td>1.0</td>\n",
       "      <td>0</td>\n",
       "      <td>0.000006</td>\n",
       "      <td>0</td>\n",
       "    </tr>\n",
       "    <tr>\n",
       "      <th>2020-03-05 21:49:50</th>\n",
       "      <td>2</td>\n",
       "      <td>False</td>\n",
       "      <td>-0.332515</td>\n",
       "      <td>0</td>\n",
       "      <td>0.0</td>\n",
       "      <td>0</td>\n",
       "      <td>1.0</td>\n",
       "      <td>0</td>\n",
       "      <td>0.000006</td>\n",
       "      <td>0</td>\n",
       "    </tr>\n",
       "    <tr>\n",
       "      <th>2020-03-05 21:49:51</th>\n",
       "      <td>2</td>\n",
       "      <td>False</td>\n",
       "      <td>-0.354012</td>\n",
       "      <td>0</td>\n",
       "      <td>0.0</td>\n",
       "      <td>0</td>\n",
       "      <td>1.0</td>\n",
       "      <td>0</td>\n",
       "      <td>0.000007</td>\n",
       "      <td>0</td>\n",
       "    </tr>\n",
       "  </tbody>\n",
       "</table>\n",
       "<p>1332 rows × 10 columns</p>\n",
       "</div>"
      ],
      "text/plain": [
       "                     x  is_outlier  isolation_forest_score  \\\n",
       "timestamp                                                    \n",
       "2019-06-06 09:43:21  1       False               -0.354012   \n",
       "2019-06-24 06:29:17  1       False               -0.332515   \n",
       "2019-06-24 20:02:12  1       False               -0.354012   \n",
       "2019-06-24 20:46:40  1       False               -0.332515   \n",
       "2019-06-25 20:02:09  1       False               -0.332515   \n",
       "...                 ..         ...                     ...   \n",
       "2020-03-05 21:49:47  1       False               -0.354012   \n",
       "2020-03-05 21:49:48  2       False               -0.332515   \n",
       "2020-03-05 21:49:49  2       False               -0.332515   \n",
       "2020-03-05 21:49:50  2       False               -0.332515   \n",
       "2020-03-05 21:49:51  2       False               -0.354012   \n",
       "\n",
       "                     isolation_forest_outliers  KNN_score  KNN_outliers  \\\n",
       "timestamp                                                                 \n",
       "2019-06-06 09:43:21                          0        0.0             0   \n",
       "2019-06-24 06:29:17                          0        0.0             0   \n",
       "2019-06-24 20:02:12                          0        0.0             0   \n",
       "2019-06-24 20:46:40                          0        0.0             0   \n",
       "2019-06-25 20:02:09                          0        0.0             0   \n",
       "...                                        ...        ...           ...   \n",
       "2020-03-05 21:49:47                          0        0.0             0   \n",
       "2020-03-05 21:49:48                          0        0.0             0   \n",
       "2020-03-05 21:49:49                          0        0.0             0   \n",
       "2020-03-05 21:49:50                          0        0.0             0   \n",
       "2020-03-05 21:49:51                          0        0.0             0   \n",
       "\n",
       "                     LOF_score  LOF_outliers  OCSVM_score  OCSVM_outliers  \n",
       "timestamp                                                                  \n",
       "2019-06-06 09:43:21        1.0             0     0.000007               0  \n",
       "2019-06-24 06:29:17        1.0             0     0.000006               0  \n",
       "2019-06-24 20:02:12        1.0             0     0.000007               0  \n",
       "2019-06-24 20:46:40        1.0             0     0.000006               0  \n",
       "2019-06-25 20:02:09        1.0             0     0.000006               0  \n",
       "...                        ...           ...          ...             ...  \n",
       "2020-03-05 21:49:47        1.0             0     0.000007               0  \n",
       "2020-03-05 21:49:48        1.0             0     0.000006               0  \n",
       "2020-03-05 21:49:49        1.0             0     0.000006               0  \n",
       "2020-03-05 21:49:50        1.0             0     0.000006               0  \n",
       "2020-03-05 21:49:51        1.0             0     0.000007               0  \n",
       "\n",
       "[1332 rows x 10 columns]"
      ]
     },
     "execution_count": 67,
     "metadata": {},
     "output_type": "execute_result"
    }
   ],
   "source": [
    "%%time\n",
    "clf_ocsvm.fit(X_train)#adjust the model to our trainset\n",
    "\n",
    "df_train_plot['OCSVM_score'] = clf_ocsvm.decision_function(X_train)#calculate scores for the trainset\n",
    "df_train_plot['OCSVM_outliers'] = clf_ocsvm.predict(X_train)#decide\n",
    "\n",
    "df_train_plot\n",
    "\n"
   ]
  },
  {
   "cell_type": "code",
   "execution_count": 68,
   "metadata": {},
   "outputs": [
    {
     "data": {
      "text/plain": [
       "<matplotlib.axes._subplots.AxesSubplot at 0x253dfb11808>"
      ]
     },
     "execution_count": 68,
     "metadata": {},
     "output_type": "execute_result"
    },
    {
     "data": {
      "image/png": "[encoded data removed]",
      "text/plain": [
       "<Figure size 1152x576 with 1 Axes>"
      ]
     },
     "metadata": {
      "needs_background": "light"
     },
     "output_type": "display_data"
    }
   ],
   "source": [
    "#scatterplot the results\n",
    "fig, ax = plt.subplots(figsize=(16,8))\n",
    "markers = {0: \"s\", 1: \"X\"}\n",
    "sns.scatterplot(\n",
    "    data=df_train_plot, \n",
    "    x='x', \n",
    "    y='OCSVM_score', \n",
    "    hue='OCSVM_outliers',\n",
    "    style='OCSVM_outliers',\n",
    "    palette=\"Set1\",\n",
    "    sizes=(40, 200), hue_norm=(0, 9),\n",
    "    markers= markers,\n",
    "    ax=ax\n",
    ")"
   ]
  },
  {
   "cell_type": "markdown",
   "metadata": {},
   "source": [
    "in the Y axis, the plot shows the “score” values which are the average distance of those observations to others. \n",
    "A high “score” means that observation is far away from the norm.\n",
    "in the X axis, the 'count ' values.\n",
    "*note* in the training,fitting and prediction,the model uses normalized count values.Here, we only use non-normalized values to make the plot readable"
   ]
  },
  {
   "cell_type": "code",
   "execution_count": 69,
   "metadata": {},
   "outputs": [
    {
     "name": "stdout",
     "output_type": "stream",
     "text": [
      "Wall time: 12 ms\n"
     ]
    },
    {
     "name": "stderr",
     "output_type": "stream",
     "text": [
      "C:\\Users\\Syrine.benaziza\\Anaconda3\\lib\\site-packages\\ipykernel_launcher.py:12: SettingWithCopyWarning: \n",
      "A value is trying to be set on a copy of a slice from a DataFrame.\n",
      "Try using .loc[row_indexer,col_indexer] = value instead\n",
      "\n",
      "See the caveats in the documentation: https://pandas.pydata.org/pandas-docs/stable/user_guide/indexing.html#returning-a-view-versus-a-copy\n",
      "  if sys.path[0] == '':\n",
      "C:\\Users\\Syrine.benaziza\\Anaconda3\\lib\\site-packages\\ipykernel_launcher.py:13: SettingWithCopyWarning: \n",
      "A value is trying to be set on a copy of a slice from a DataFrame.\n",
      "Try using .loc[row_indexer,col_indexer] = value instead\n",
      "\n",
      "See the caveats in the documentation: https://pandas.pydata.org/pandas-docs/stable/user_guide/indexing.html#returning-a-view-versus-a-copy\n",
      "  del sys.path[0]\n"
     ]
    },
    {
     "data": {
      "text/html": [
       "<div>\n",
       "<style scoped>\n",
       "    .dataframe tbody tr th:only-of-type {\n",
       "        vertical-align: middle;\n",
       "    }\n",
       "\n",
       "    .dataframe tbody tr th {\n",
       "        vertical-align: top;\n",
       "    }\n",
       "\n",
       "    .dataframe thead th {\n",
       "        text-align: right;\n",
       "    }\n",
       "</style>\n",
       "<table border=\"1\" class=\"dataframe\">\n",
       "  <thead>\n",
       "    <tr style=\"text-align: right;\">\n",
       "      <th></th>\n",
       "      <th>x</th>\n",
       "      <th>is_outlier</th>\n",
       "      <th>isolation_forest_score</th>\n",
       "      <th>isolation_forest_outliers</th>\n",
       "      <th>KNN_score</th>\n",
       "      <th>KNN_outliers</th>\n",
       "      <th>LOF_score</th>\n",
       "      <th>LOF_outliers</th>\n",
       "      <th>OCSVM_score</th>\n",
       "      <th>OCSVM_outliers</th>\n",
       "    </tr>\n",
       "    <tr>\n",
       "      <th>timestamp</th>\n",
       "      <th></th>\n",
       "      <th></th>\n",
       "      <th></th>\n",
       "      <th></th>\n",
       "      <th></th>\n",
       "      <th></th>\n",
       "      <th></th>\n",
       "      <th></th>\n",
       "      <th></th>\n",
       "      <th></th>\n",
       "    </tr>\n",
       "  </thead>\n",
       "  <tbody>\n",
       "    <tr>\n",
       "      <th>2020-03-05 21:49:52</th>\n",
       "      <td>2</td>\n",
       "      <td>False</td>\n",
       "      <td>-0.332515</td>\n",
       "      <td>0</td>\n",
       "      <td>0.0</td>\n",
       "      <td>0</td>\n",
       "      <td>1.0</td>\n",
       "      <td>0</td>\n",
       "      <td>0.000006</td>\n",
       "      <td>0</td>\n",
       "    </tr>\n",
       "    <tr>\n",
       "      <th>2020-03-05 21:49:53</th>\n",
       "      <td>2</td>\n",
       "      <td>False</td>\n",
       "      <td>-0.332515</td>\n",
       "      <td>0</td>\n",
       "      <td>0.0</td>\n",
       "      <td>0</td>\n",
       "      <td>1.0</td>\n",
       "      <td>0</td>\n",
       "      <td>0.000006</td>\n",
       "      <td>0</td>\n",
       "    </tr>\n",
       "    <tr>\n",
       "      <th>2020-03-05 21:49:54</th>\n",
       "      <td>2</td>\n",
       "      <td>False</td>\n",
       "      <td>-0.332515</td>\n",
       "      <td>0</td>\n",
       "      <td>0.0</td>\n",
       "      <td>0</td>\n",
       "      <td>1.0</td>\n",
       "      <td>0</td>\n",
       "      <td>0.000006</td>\n",
       "      <td>0</td>\n",
       "    </tr>\n",
       "    <tr>\n",
       "      <th>2020-03-05 21:49:55</th>\n",
       "      <td>2</td>\n",
       "      <td>False</td>\n",
       "      <td>-0.332515</td>\n",
       "      <td>0</td>\n",
       "      <td>0.0</td>\n",
       "      <td>0</td>\n",
       "      <td>1.0</td>\n",
       "      <td>0</td>\n",
       "      <td>0.000006</td>\n",
       "      <td>0</td>\n",
       "    </tr>\n",
       "    <tr>\n",
       "      <th>2020-03-05 21:49:56</th>\n",
       "      <td>2</td>\n",
       "      <td>False</td>\n",
       "      <td>-0.354012</td>\n",
       "      <td>0</td>\n",
       "      <td>0.0</td>\n",
       "      <td>0</td>\n",
       "      <td>1.0</td>\n",
       "      <td>0</td>\n",
       "      <td>0.000007</td>\n",
       "      <td>0</td>\n",
       "    </tr>\n",
       "    <tr>\n",
       "      <th>...</th>\n",
       "      <td>...</td>\n",
       "      <td>...</td>\n",
       "      <td>...</td>\n",
       "      <td>...</td>\n",
       "      <td>...</td>\n",
       "      <td>...</td>\n",
       "      <td>...</td>\n",
       "      <td>...</td>\n",
       "      <td>...</td>\n",
       "      <td>...</td>\n",
       "    </tr>\n",
       "    <tr>\n",
       "      <th>2020-06-25 20:56:51</th>\n",
       "      <td>3</td>\n",
       "      <td>False</td>\n",
       "      <td>-0.332515</td>\n",
       "      <td>0</td>\n",
       "      <td>0.0</td>\n",
       "      <td>0</td>\n",
       "      <td>1.0</td>\n",
       "      <td>0</td>\n",
       "      <td>0.000006</td>\n",
       "      <td>0</td>\n",
       "    </tr>\n",
       "    <tr>\n",
       "      <th>2020-06-25 20:56:52</th>\n",
       "      <td>2</td>\n",
       "      <td>False</td>\n",
       "      <td>-0.354012</td>\n",
       "      <td>0</td>\n",
       "      <td>0.0</td>\n",
       "      <td>0</td>\n",
       "      <td>1.0</td>\n",
       "      <td>0</td>\n",
       "      <td>0.000007</td>\n",
       "      <td>0</td>\n",
       "    </tr>\n",
       "    <tr>\n",
       "      <th>2020-06-25 20:56:53</th>\n",
       "      <td>2</td>\n",
       "      <td>False</td>\n",
       "      <td>-0.332515</td>\n",
       "      <td>0</td>\n",
       "      <td>0.0</td>\n",
       "      <td>0</td>\n",
       "      <td>1.0</td>\n",
       "      <td>0</td>\n",
       "      <td>0.000006</td>\n",
       "      <td>0</td>\n",
       "    </tr>\n",
       "    <tr>\n",
       "      <th>2020-06-25 20:56:54</th>\n",
       "      <td>3</td>\n",
       "      <td>False</td>\n",
       "      <td>-0.354012</td>\n",
       "      <td>0</td>\n",
       "      <td>0.0</td>\n",
       "      <td>0</td>\n",
       "      <td>1.0</td>\n",
       "      <td>0</td>\n",
       "      <td>0.000007</td>\n",
       "      <td>0</td>\n",
       "    </tr>\n",
       "    <tr>\n",
       "      <th>2020-06-25 20:56:55</th>\n",
       "      <td>1</td>\n",
       "      <td>False</td>\n",
       "      <td>-0.332515</td>\n",
       "      <td>0</td>\n",
       "      <td>0.0</td>\n",
       "      <td>0</td>\n",
       "      <td>1.0</td>\n",
       "      <td>0</td>\n",
       "      <td>0.000006</td>\n",
       "      <td>0</td>\n",
       "    </tr>\n",
       "  </tbody>\n",
       "</table>\n",
       "<p>572 rows × 10 columns</p>\n",
       "</div>"
      ],
      "text/plain": [
       "                     x  is_outlier  isolation_forest_score  \\\n",
       "timestamp                                                    \n",
       "2020-03-05 21:49:52  2       False               -0.332515   \n",
       "2020-03-05 21:49:53  2       False               -0.332515   \n",
       "2020-03-05 21:49:54  2       False               -0.332515   \n",
       "2020-03-05 21:49:55  2       False               -0.332515   \n",
       "2020-03-05 21:49:56  2       False               -0.354012   \n",
       "...                 ..         ...                     ...   \n",
       "2020-06-25 20:56:51  3       False               -0.332515   \n",
       "2020-06-25 20:56:52  2       False               -0.354012   \n",
       "2020-06-25 20:56:53  2       False               -0.332515   \n",
       "2020-06-25 20:56:54  3       False               -0.354012   \n",
       "2020-06-25 20:56:55  1       False               -0.332515   \n",
       "\n",
       "                     isolation_forest_outliers  KNN_score  KNN_outliers  \\\n",
       "timestamp                                                                 \n",
       "2020-03-05 21:49:52                          0        0.0             0   \n",
       "2020-03-05 21:49:53                          0        0.0             0   \n",
       "2020-03-05 21:49:54                          0        0.0             0   \n",
       "2020-03-05 21:49:55                          0        0.0             0   \n",
       "2020-03-05 21:49:56                          0        0.0             0   \n",
       "...                                        ...        ...           ...   \n",
       "2020-06-25 20:56:51                          0        0.0             0   \n",
       "2020-06-25 20:56:52                          0        0.0             0   \n",
       "2020-06-25 20:56:53                          0        0.0             0   \n",
       "2020-06-25 20:56:54                          0        0.0             0   \n",
       "2020-06-25 20:56:55                          0        0.0             0   \n",
       "\n",
       "                     LOF_score  LOF_outliers  OCSVM_score  OCSVM_outliers  \n",
       "timestamp                                                                  \n",
       "2020-03-05 21:49:52        1.0             0     0.000006               0  \n",
       "2020-03-05 21:49:53        1.0             0     0.000006               0  \n",
       "2020-03-05 21:49:54        1.0             0     0.000006               0  \n",
       "2020-03-05 21:49:55        1.0             0     0.000006               0  \n",
       "2020-03-05 21:49:56        1.0             0     0.000007               0  \n",
       "...                        ...           ...          ...             ...  \n",
       "2020-06-25 20:56:51        1.0             0     0.000006               0  \n",
       "2020-06-25 20:56:52        1.0             0     0.000007               0  \n",
       "2020-06-25 20:56:53        1.0             0     0.000006               0  \n",
       "2020-06-25 20:56:54        1.0             0     0.000007               0  \n",
       "2020-06-25 20:56:55        1.0             0     0.000006               0  \n",
       "\n",
       "[572 rows x 10 columns]"
      ]
     },
     "execution_count": 69,
     "metadata": {},
     "output_type": "execute_result"
    }
   ],
   "source": [
    "%%time\n",
    "# get the prediction on the test data\n",
    "\n",
    "# clf.decision_function: Predict raw anomaly score of X using the fitted detector.\n",
    "# We apply the model to the test data X_test to get the outlier scores.\n",
    "y_test_scores =  clf_ocsvm.decision_function(X_test )  # outlier scores\n",
    "#y_test_scores = pd.Series(y_test_scores)\n",
    "y_test_pred =  clf_ocsvm.predict(X_test)\n",
    "y_test_scores\n",
    "\n",
    "\n",
    "\n",
    "df_test_plot['OCSVM_score'] = y_test_scores  \n",
    "df_test_plot['OCSVM_outliers'] = y_test_pred \n",
    "\n",
    "df_test_plot\n",
    "\n",
    "#df_test_plot['COF_outliers'].value_counts()"
   ]
  },
  {
   "cell_type": "markdown",
   "metadata": {},
   "source": [
    "#### OCSVM  on testset"
   ]
  },
  {
   "cell_type": "code",
   "execution_count": 70,
   "metadata": {},
   "outputs": [
    {
     "data": {
      "text/plain": [
       "<matplotlib.axes._subplots.AxesSubplot at 0x253df9bd208>"
      ]
     },
     "execution_count": 70,
     "metadata": {},
     "output_type": "execute_result"
    },
    {
     "data": {
      "image/png": "[encoded data removed]",
      "text/plain": [
       "<Figure size 1152x576 with 1 Axes>"
      ]
     },
     "metadata": {
      "needs_background": "light"
     },
     "output_type": "display_data"
    }
   ],
   "source": [
    "fig, ax = plt.subplots(figsize=(16,8))\n",
    "markers = {0: \"s\", 1: \"X\"}\n",
    "sns.scatterplot(\n",
    "    data=df_test_plot, \n",
    "    x='x', \n",
    "    y='OCSVM_score', \n",
    "    hue='OCSVM_outliers',\n",
    "   \n",
    "    style='OCSVM_outliers',\n",
    "    palette=\"Set1\",\n",
    "    sizes=(40, 200), hue_norm=(0, 9),\n",
    "    markers= markers,\n",
    "    ax=ax\n",
    ")"
   ]
  },
  {
   "cell_type": "markdown",
   "metadata": {},
   "source": [
    "in the Y axis, the plot shows the “score” values which are the average distance of those observations to others. \n",
    "A high “score” means that observation is far away from the norm.\n",
    "in the X axis, the 'count ' values.\n",
    "*note* in the training,fitting and prediction,the model uses normalized count values.Here, we only use non-normalized values to make the plot readable"
   ]
  },
  {
   "cell_type": "markdown",
   "metadata": {},
   "source": [
    "#### OCSVM on test set Avec Ground Truth labels"
   ]
  },
  {
   "cell_type": "code",
   "execution_count": 71,
   "metadata": {},
   "outputs": [
    {
     "data": {
      "text/plain": [
       "<matplotlib.axes._subplots.AxesSubplot at 0x253df94b208>"
      ]
     },
     "execution_count": 71,
     "metadata": {},
     "output_type": "execute_result"
    },
    {
     "data": {
      "image/png": "[encoded data removed]",
      "text/plain": [
       "<Figure size 1152x576 with 1 Axes>"
      ]
     },
     "metadata": {
      "needs_background": "light"
     },
     "output_type": "display_data"
    }
   ],
   "source": [
    "fig, ax = plt.subplots(figsize=(16,8))\n",
    "markers = {0: \"s\", 1: \"X\"}\n",
    "sns.scatterplot(\n",
    "    data=df_test_plot, \n",
    "    x='x', \n",
    "    y='OCSVM_score', \n",
    "    hue='is_outlier',\n",
    "    style='OCSVM_outliers',\n",
    "    palette=\"Set1\",\n",
    "    sizes=(40, 200), hue_norm=(0, 9),\n",
    "    markers= markers,\n",
    "    ax=ax\n",
    ")"
   ]
  },
  {
   "cell_type": "code",
   "execution_count": 72,
   "metadata": {},
   "outputs": [
    {
     "name": "stdout",
     "output_type": "stream",
     "text": [
      "=df_test_plot.OCSVM_outliers  timestamp\n",
      "2020-03-05 21:49:52    0\n",
      "2020-03-05 21:49:53    0\n",
      "2020-03-05 21:49:54    0\n",
      "2020-03-05 21:49:55    0\n",
      "2020-03-05 21:49:56    0\n",
      "                      ..\n",
      "2020-06-25 20:56:51    0\n",
      "2020-06-25 20:56:52    0\n",
      "2020-06-25 20:56:53    0\n",
      "2020-06-25 20:56:54    0\n",
      "2020-06-25 20:56:55    0\n",
      "Name: OCSVM_outliers, Length: 572, dtype: int32\n"
     ]
    }
   ],
   "source": [
    "print(\"=df_test_plot.OCSVM_outliers \",df_test_plot.OCSVM_outliers )\n"
   ]
  },
  {
   "cell_type": "code",
   "execution_count": 73,
   "metadata": {},
   "outputs": [
    {
     "name": "stdout",
     "output_type": "stream",
     "text": [
      "f1_score  0.7108482458800931\n",
      "precision_score  0.6428571428571428\n",
      "recall_score  0.9777580071174377\n"
     ]
    }
   ],
   "source": [
    "\n",
    "\n",
    "y_pred=df_test_plot.OCSVM_outliers\n",
    "\n",
    "#The F1 score: weighted average of the precision and recall, \n",
    "  #  where an F1 score reaches its best value at 1 and worst score at 0. \n",
    "  #  The relative contribution of precision and recall to the F1 score are equal.\n",
    "    #F1 = 2 * (precision * recall) / (precision + recall)\n",
    "print('f1_score ', f1_score(y_val, y_pred, average=\"macro\"))\n",
    "\n",
    "\n",
    "#The precision is the ratio tp / (tp + fp) where tp is the number of true positives and \n",
    "#fp the number of false positives.\n",
    "#The precision is intuitively the ability of the classifier not to label as positive a sample that is negative.\n",
    "print('precision_score ',precision_score(y_val, y_pred, average=\"macro\"))\n",
    "\n",
    "\n",
    "#The recall is the ratio tp / (tp + fn) where tp is the number of true positives and fn the number \n",
    "#of false negatives.\n",
    "#The recall is intuitively the ability of the classifier to find all the positive samples.\n",
    "print('recall_score ',recall_score(y_val, y_pred, average=\"macro\"))"
   ]
  },
  {
   "cell_type": "code",
   "execution_count": 74,
   "metadata": {},
   "outputs": [
    {
     "data": {
      "image/png": "[encoded data removed]",
      "text/plain": [
       "<Figure size 432x288 with 2 Axes>"
      ]
     },
     "metadata": {
      "needs_background": "light"
     },
     "output_type": "display_data"
    }
   ],
   "source": [
    "#Let’s plot the confusion matrix for the test set.\n",
    "\n",
    "# plot the comfusion matrix  in the test set\n",
    "\n",
    "skplt.metrics.plot_confusion_matrix(y_val,y_pred, normalize=False,\n",
    "                                    title=\"OCSVM Confusion Matrix on Test Set\")\n",
    "plt.show()"
   ]
  },
  {
   "cell_type": "markdown",
   "metadata": {},
   "source": [
    "## Connectivity-Based Outlier Factor (COF) Algorithm\n",
    "Connectivity-Based Outlier Factor (COF) COF uses the ratio of average chaining distance of data point and the average of average chaining distance of k nearest neighbor of the data point, as the outlier score for observations."
   ]
  },
  {
   "cell_type": "code",
   "execution_count": 75,
   "metadata": {},
   "outputs": [],
   "source": [
    "clf_cof =COF(contamination=0.1, n_neighbors=20)\n"
   ]
  },
  {
   "cell_type": "code",
   "execution_count": 76,
   "metadata": {},
   "outputs": [
    {
     "data": {
      "text/plain": [
       "COF(contamination=0.1, n_neighbors=None)"
      ]
     },
     "execution_count": 76,
     "metadata": {},
     "output_type": "execute_result"
    }
   ],
   "source": [
    "clf_cof"
   ]
  },
  {
   "cell_type": "code",
   "execution_count": null,
   "metadata": {},
   "outputs": [],
   "source": []
  },
  {
   "cell_type": "code",
   "execution_count": 77,
   "metadata": {},
   "outputs": [
    {
     "name": "stderr",
     "output_type": "stream",
     "text": [
      "C:\\Users\\Syrine.benaziza\\Anaconda3\\lib\\site-packages\\pyod\\models\\cof.py:155: RuntimeWarning: invalid value encountered in double_scalars\n",
      "  np.sum(itemgetter(*sbn_path_index[_g])(ac_dist)))\n",
      "C:\\Users\\Syrine.benaziza\\Anaconda3\\lib\\site-packages\\ipykernel_launcher.py:3: SettingWithCopyWarning: \n",
      "A value is trying to be set on a copy of a slice from a DataFrame.\n",
      "Try using .loc[row_indexer,col_indexer] = value instead\n",
      "\n",
      "See the caveats in the documentation: https://pandas.pydata.org/pandas-docs/stable/user_guide/indexing.html#returning-a-view-versus-a-copy\n",
      "  This is separate from the ipykernel package so we can avoid doing imports until\n"
     ]
    },
    {
     "name": "stdout",
     "output_type": "stream",
     "text": [
      "Wall time: 8.11 s\n"
     ]
    },
    {
     "name": "stderr",
     "output_type": "stream",
     "text": [
      "C:\\Users\\Syrine.benaziza\\Anaconda3\\lib\\site-packages\\ipykernel_launcher.py:4: SettingWithCopyWarning: \n",
      "A value is trying to be set on a copy of a slice from a DataFrame.\n",
      "Try using .loc[row_indexer,col_indexer] = value instead\n",
      "\n",
      "See the caveats in the documentation: https://pandas.pydata.org/pandas-docs/stable/user_guide/indexing.html#returning-a-view-versus-a-copy\n",
      "  after removing the cwd from sys.path.\n"
     ]
    },
    {
     "data": {
      "text/html": [
       "<div>\n",
       "<style scoped>\n",
       "    .dataframe tbody tr th:only-of-type {\n",
       "        vertical-align: middle;\n",
       "    }\n",
       "\n",
       "    .dataframe tbody tr th {\n",
       "        vertical-align: top;\n",
       "    }\n",
       "\n",
       "    .dataframe thead th {\n",
       "        text-align: right;\n",
       "    }\n",
       "</style>\n",
       "<table border=\"1\" class=\"dataframe\">\n",
       "  <thead>\n",
       "    <tr style=\"text-align: right;\">\n",
       "      <th></th>\n",
       "      <th>x</th>\n",
       "      <th>is_outlier</th>\n",
       "      <th>isolation_forest_score</th>\n",
       "      <th>isolation_forest_outliers</th>\n",
       "      <th>KNN_score</th>\n",
       "      <th>KNN_outliers</th>\n",
       "      <th>LOF_score</th>\n",
       "      <th>LOF_outliers</th>\n",
       "      <th>OCSVM_score</th>\n",
       "      <th>OCSVM_outliers</th>\n",
       "      <th>COF_score</th>\n",
       "      <th>COF_outliers</th>\n",
       "    </tr>\n",
       "    <tr>\n",
       "      <th>timestamp</th>\n",
       "      <th></th>\n",
       "      <th></th>\n",
       "      <th></th>\n",
       "      <th></th>\n",
       "      <th></th>\n",
       "      <th></th>\n",
       "      <th></th>\n",
       "      <th></th>\n",
       "      <th></th>\n",
       "      <th></th>\n",
       "      <th></th>\n",
       "      <th></th>\n",
       "    </tr>\n",
       "  </thead>\n",
       "  <tbody>\n",
       "    <tr>\n",
       "      <th>2019-06-06 09:43:21</th>\n",
       "      <td>1</td>\n",
       "      <td>False</td>\n",
       "      <td>-0.354012</td>\n",
       "      <td>0</td>\n",
       "      <td>0.0</td>\n",
       "      <td>0</td>\n",
       "      <td>1.0</td>\n",
       "      <td>0</td>\n",
       "      <td>0.000007</td>\n",
       "      <td>0</td>\n",
       "      <td>0.0</td>\n",
       "      <td>0</td>\n",
       "    </tr>\n",
       "    <tr>\n",
       "      <th>2019-06-24 06:29:17</th>\n",
       "      <td>1</td>\n",
       "      <td>False</td>\n",
       "      <td>-0.332515</td>\n",
       "      <td>0</td>\n",
       "      <td>0.0</td>\n",
       "      <td>0</td>\n",
       "      <td>1.0</td>\n",
       "      <td>0</td>\n",
       "      <td>0.000006</td>\n",
       "      <td>0</td>\n",
       "      <td>0.0</td>\n",
       "      <td>0</td>\n",
       "    </tr>\n",
       "    <tr>\n",
       "      <th>2019-06-24 20:02:12</th>\n",
       "      <td>1</td>\n",
       "      <td>False</td>\n",
       "      <td>-0.354012</td>\n",
       "      <td>0</td>\n",
       "      <td>0.0</td>\n",
       "      <td>0</td>\n",
       "      <td>1.0</td>\n",
       "      <td>0</td>\n",
       "      <td>0.000007</td>\n",
       "      <td>0</td>\n",
       "      <td>0.0</td>\n",
       "      <td>0</td>\n",
       "    </tr>\n",
       "    <tr>\n",
       "      <th>2019-06-24 20:46:40</th>\n",
       "      <td>1</td>\n",
       "      <td>False</td>\n",
       "      <td>-0.332515</td>\n",
       "      <td>0</td>\n",
       "      <td>0.0</td>\n",
       "      <td>0</td>\n",
       "      <td>1.0</td>\n",
       "      <td>0</td>\n",
       "      <td>0.000006</td>\n",
       "      <td>0</td>\n",
       "      <td>0.0</td>\n",
       "      <td>0</td>\n",
       "    </tr>\n",
       "    <tr>\n",
       "      <th>2019-06-25 20:02:09</th>\n",
       "      <td>1</td>\n",
       "      <td>False</td>\n",
       "      <td>-0.332515</td>\n",
       "      <td>0</td>\n",
       "      <td>0.0</td>\n",
       "      <td>0</td>\n",
       "      <td>1.0</td>\n",
       "      <td>0</td>\n",
       "      <td>0.000006</td>\n",
       "      <td>0</td>\n",
       "      <td>0.0</td>\n",
       "      <td>0</td>\n",
       "    </tr>\n",
       "    <tr>\n",
       "      <th>...</th>\n",
       "      <td>...</td>\n",
       "      <td>...</td>\n",
       "      <td>...</td>\n",
       "      <td>...</td>\n",
       "      <td>...</td>\n",
       "      <td>...</td>\n",
       "      <td>...</td>\n",
       "      <td>...</td>\n",
       "      <td>...</td>\n",
       "      <td>...</td>\n",
       "      <td>...</td>\n",
       "      <td>...</td>\n",
       "    </tr>\n",
       "    <tr>\n",
       "      <th>2020-03-05 21:49:47</th>\n",
       "      <td>1</td>\n",
       "      <td>False</td>\n",
       "      <td>-0.354012</td>\n",
       "      <td>0</td>\n",
       "      <td>0.0</td>\n",
       "      <td>0</td>\n",
       "      <td>1.0</td>\n",
       "      <td>0</td>\n",
       "      <td>0.000007</td>\n",
       "      <td>0</td>\n",
       "      <td>0.0</td>\n",
       "      <td>0</td>\n",
       "    </tr>\n",
       "    <tr>\n",
       "      <th>2020-03-05 21:49:48</th>\n",
       "      <td>2</td>\n",
       "      <td>False</td>\n",
       "      <td>-0.332515</td>\n",
       "      <td>0</td>\n",
       "      <td>0.0</td>\n",
       "      <td>0</td>\n",
       "      <td>1.0</td>\n",
       "      <td>0</td>\n",
       "      <td>0.000006</td>\n",
       "      <td>0</td>\n",
       "      <td>0.0</td>\n",
       "      <td>0</td>\n",
       "    </tr>\n",
       "    <tr>\n",
       "      <th>2020-03-05 21:49:49</th>\n",
       "      <td>2</td>\n",
       "      <td>False</td>\n",
       "      <td>-0.332515</td>\n",
       "      <td>0</td>\n",
       "      <td>0.0</td>\n",
       "      <td>0</td>\n",
       "      <td>1.0</td>\n",
       "      <td>0</td>\n",
       "      <td>0.000006</td>\n",
       "      <td>0</td>\n",
       "      <td>0.0</td>\n",
       "      <td>0</td>\n",
       "    </tr>\n",
       "    <tr>\n",
       "      <th>2020-03-05 21:49:50</th>\n",
       "      <td>2</td>\n",
       "      <td>False</td>\n",
       "      <td>-0.332515</td>\n",
       "      <td>0</td>\n",
       "      <td>0.0</td>\n",
       "      <td>0</td>\n",
       "      <td>1.0</td>\n",
       "      <td>0</td>\n",
       "      <td>0.000006</td>\n",
       "      <td>0</td>\n",
       "      <td>0.0</td>\n",
       "      <td>0</td>\n",
       "    </tr>\n",
       "    <tr>\n",
       "      <th>2020-03-05 21:49:51</th>\n",
       "      <td>2</td>\n",
       "      <td>False</td>\n",
       "      <td>-0.354012</td>\n",
       "      <td>0</td>\n",
       "      <td>0.0</td>\n",
       "      <td>0</td>\n",
       "      <td>1.0</td>\n",
       "      <td>0</td>\n",
       "      <td>0.000007</td>\n",
       "      <td>0</td>\n",
       "      <td>0.0</td>\n",
       "      <td>0</td>\n",
       "    </tr>\n",
       "  </tbody>\n",
       "</table>\n",
       "<p>1332 rows × 12 columns</p>\n",
       "</div>"
      ],
      "text/plain": [
       "                     x  is_outlier  isolation_forest_score  \\\n",
       "timestamp                                                    \n",
       "2019-06-06 09:43:21  1       False               -0.354012   \n",
       "2019-06-24 06:29:17  1       False               -0.332515   \n",
       "2019-06-24 20:02:12  1       False               -0.354012   \n",
       "2019-06-24 20:46:40  1       False               -0.332515   \n",
       "2019-06-25 20:02:09  1       False               -0.332515   \n",
       "...                 ..         ...                     ...   \n",
       "2020-03-05 21:49:47  1       False               -0.354012   \n",
       "2020-03-05 21:49:48  2       False               -0.332515   \n",
       "2020-03-05 21:49:49  2       False               -0.332515   \n",
       "2020-03-05 21:49:50  2       False               -0.332515   \n",
       "2020-03-05 21:49:51  2       False               -0.354012   \n",
       "\n",
       "                     isolation_forest_outliers  KNN_score  KNN_outliers  \\\n",
       "timestamp                                                                 \n",
       "2019-06-06 09:43:21                          0        0.0             0   \n",
       "2019-06-24 06:29:17                          0        0.0             0   \n",
       "2019-06-24 20:02:12                          0        0.0             0   \n",
       "2019-06-24 20:46:40                          0        0.0             0   \n",
       "2019-06-25 20:02:09                          0        0.0             0   \n",
       "...                                        ...        ...           ...   \n",
       "2020-03-05 21:49:47                          0        0.0             0   \n",
       "2020-03-05 21:49:48                          0        0.0             0   \n",
       "2020-03-05 21:49:49                          0        0.0             0   \n",
       "2020-03-05 21:49:50                          0        0.0             0   \n",
       "2020-03-05 21:49:51                          0        0.0             0   \n",
       "\n",
       "                     LOF_score  LOF_outliers  OCSVM_score  OCSVM_outliers  \\\n",
       "timestamp                                                                   \n",
       "2019-06-06 09:43:21        1.0             0     0.000007               0   \n",
       "2019-06-24 06:29:17        1.0             0     0.000006               0   \n",
       "2019-06-24 20:02:12        1.0             0     0.000007               0   \n",
       "2019-06-24 20:46:40        1.0             0     0.000006               0   \n",
       "2019-06-25 20:02:09        1.0             0     0.000006               0   \n",
       "...                        ...           ...          ...             ...   \n",
       "2020-03-05 21:49:47        1.0             0     0.000007               0   \n",
       "2020-03-05 21:49:48        1.0             0     0.000006               0   \n",
       "2020-03-05 21:49:49        1.0             0     0.000006               0   \n",
       "2020-03-05 21:49:50        1.0             0     0.000006               0   \n",
       "2020-03-05 21:49:51        1.0             0     0.000007               0   \n",
       "\n",
       "                     COF_score  COF_outliers  \n",
       "timestamp                                     \n",
       "2019-06-06 09:43:21        0.0             0  \n",
       "2019-06-24 06:29:17        0.0             0  \n",
       "2019-06-24 20:02:12        0.0             0  \n",
       "2019-06-24 20:46:40        0.0             0  \n",
       "2019-06-25 20:02:09        0.0             0  \n",
       "...                        ...           ...  \n",
       "2020-03-05 21:49:47        0.0             0  \n",
       "2020-03-05 21:49:48        0.0             0  \n",
       "2020-03-05 21:49:49        0.0             0  \n",
       "2020-03-05 21:49:50        0.0             0  \n",
       "2020-03-05 21:49:51        0.0             0  \n",
       "\n",
       "[1332 rows x 12 columns]"
      ]
     },
     "execution_count": 77,
     "metadata": {},
     "output_type": "execute_result"
    }
   ],
   "source": [
    "%%time\n",
    "clf_cof.fit(X_train)\n",
    "#trainset score calculations and predictions\n",
    "df_train_plot['COF_score'] = clf_cof.decision_function(X_train)\n",
    "df_train_plot['COF_outliers'] = clf_cof.predict(X_train)\n",
    "\n",
    "df_train_plot\n"
   ]
  },
  {
   "cell_type": "code",
   "execution_count": 78,
   "metadata": {},
   "outputs": [
    {
     "data": {
      "text/plain": [
       "<matplotlib.axes._subplots.AxesSubplot at 0x253df8c3288>"
      ]
     },
     "execution_count": 78,
     "metadata": {},
     "output_type": "execute_result"
    },
    {
     "data": {
      "image/png": "[encoded data removed]",
      "text/plain": [
       "<Figure size 1152x576 with 1 Axes>"
      ]
     },
     "metadata": {
      "needs_background": "light"
     },
     "output_type": "display_data"
    }
   ],
   "source": [
    "#plot the results on the trainset\n",
    "fig, ax = plt.subplots(figsize=(16,8))\n",
    "markers = {0: \"s\", 1: \"X\"}\n",
    "sns.scatterplot(\n",
    "    data=df_train_plot, \n",
    "    x='x', \n",
    "    y='COF_score', \n",
    "   # hue='is_outlier',\n",
    "    hue='COF_outliers',\n",
    "    style='COF_outliers',\n",
    "    palette=\"Set1\",\n",
    "    sizes=(40, 200), hue_norm=(0, 9),\n",
    "    markers= markers,\n",
    "    ax=ax\n",
    ")"
   ]
  },
  {
   "cell_type": "markdown",
   "metadata": {},
   "source": [
    "in the Y axis, the plot shows the “score” values whoch are the average distance of those observations to others. \n",
    "A high “score” means that observation is far away from the norm.\n",
    "in the X axis, the 'count ' values.\n",
    "*note* in the training,fitting and prediction,the model uses normalized count values.Here, we only use non-normalized values to make the plot readable"
   ]
  },
  {
   "cell_type": "code",
   "execution_count": 79,
   "metadata": {},
   "outputs": [
    {
     "name": "stderr",
     "output_type": "stream",
     "text": [
      "C:\\Users\\Syrine.benaziza\\Anaconda3\\lib\\site-packages\\pyod\\models\\cof.py:155: RuntimeWarning: invalid value encountered in double_scalars\n",
      "  np.sum(itemgetter(*sbn_path_index[_g])(ac_dist)))\n"
     ]
    },
    {
     "name": "stdout",
     "output_type": "stream",
     "text": [
      "Wall time: 1.13 s\n"
     ]
    },
    {
     "name": "stderr",
     "output_type": "stream",
     "text": [
      "C:\\Users\\Syrine.benaziza\\Anaconda3\\lib\\site-packages\\ipykernel_launcher.py:11: SettingWithCopyWarning: \n",
      "A value is trying to be set on a copy of a slice from a DataFrame.\n",
      "Try using .loc[row_indexer,col_indexer] = value instead\n",
      "\n",
      "See the caveats in the documentation: https://pandas.pydata.org/pandas-docs/stable/user_guide/indexing.html#returning-a-view-versus-a-copy\n",
      "  # This is added back by InteractiveShellApp.init_path()\n",
      "C:\\Users\\Syrine.benaziza\\Anaconda3\\lib\\site-packages\\ipykernel_launcher.py:12: SettingWithCopyWarning: \n",
      "A value is trying to be set on a copy of a slice from a DataFrame.\n",
      "Try using .loc[row_indexer,col_indexer] = value instead\n",
      "\n",
      "See the caveats in the documentation: https://pandas.pydata.org/pandas-docs/stable/user_guide/indexing.html#returning-a-view-versus-a-copy\n",
      "  if sys.path[0] == '':\n"
     ]
    },
    {
     "data": {
      "text/html": [
       "<div>\n",
       "<style scoped>\n",
       "    .dataframe tbody tr th:only-of-type {\n",
       "        vertical-align: middle;\n",
       "    }\n",
       "\n",
       "    .dataframe tbody tr th {\n",
       "        vertical-align: top;\n",
       "    }\n",
       "\n",
       "    .dataframe thead th {\n",
       "        text-align: right;\n",
       "    }\n",
       "</style>\n",
       "<table border=\"1\" class=\"dataframe\">\n",
       "  <thead>\n",
       "    <tr style=\"text-align: right;\">\n",
       "      <th></th>\n",
       "      <th>x</th>\n",
       "      <th>is_outlier</th>\n",
       "      <th>isolation_forest_score</th>\n",
       "      <th>isolation_forest_outliers</th>\n",
       "      <th>KNN_score</th>\n",
       "      <th>KNN_outliers</th>\n",
       "      <th>LOF_score</th>\n",
       "      <th>LOF_outliers</th>\n",
       "      <th>OCSVM_score</th>\n",
       "      <th>OCSVM_outliers</th>\n",
       "      <th>COF_score</th>\n",
       "      <th>COF_outliers</th>\n",
       "    </tr>\n",
       "    <tr>\n",
       "      <th>timestamp</th>\n",
       "      <th></th>\n",
       "      <th></th>\n",
       "      <th></th>\n",
       "      <th></th>\n",
       "      <th></th>\n",
       "      <th></th>\n",
       "      <th></th>\n",
       "      <th></th>\n",
       "      <th></th>\n",
       "      <th></th>\n",
       "      <th></th>\n",
       "      <th></th>\n",
       "    </tr>\n",
       "  </thead>\n",
       "  <tbody>\n",
       "    <tr>\n",
       "      <th>2020-03-05 21:49:52</th>\n",
       "      <td>2</td>\n",
       "      <td>False</td>\n",
       "      <td>-0.332515</td>\n",
       "      <td>0</td>\n",
       "      <td>0.0</td>\n",
       "      <td>0</td>\n",
       "      <td>1.0</td>\n",
       "      <td>0</td>\n",
       "      <td>0.000006</td>\n",
       "      <td>0</td>\n",
       "      <td>0.0</td>\n",
       "      <td>0</td>\n",
       "    </tr>\n",
       "    <tr>\n",
       "      <th>2020-03-05 21:49:53</th>\n",
       "      <td>2</td>\n",
       "      <td>False</td>\n",
       "      <td>-0.332515</td>\n",
       "      <td>0</td>\n",
       "      <td>0.0</td>\n",
       "      <td>0</td>\n",
       "      <td>1.0</td>\n",
       "      <td>0</td>\n",
       "      <td>0.000006</td>\n",
       "      <td>0</td>\n",
       "      <td>0.0</td>\n",
       "      <td>0</td>\n",
       "    </tr>\n",
       "    <tr>\n",
       "      <th>2020-03-05 21:49:54</th>\n",
       "      <td>2</td>\n",
       "      <td>False</td>\n",
       "      <td>-0.332515</td>\n",
       "      <td>0</td>\n",
       "      <td>0.0</td>\n",
       "      <td>0</td>\n",
       "      <td>1.0</td>\n",
       "      <td>0</td>\n",
       "      <td>0.000006</td>\n",
       "      <td>0</td>\n",
       "      <td>0.0</td>\n",
       "      <td>0</td>\n",
       "    </tr>\n",
       "    <tr>\n",
       "      <th>2020-03-05 21:49:55</th>\n",
       "      <td>2</td>\n",
       "      <td>False</td>\n",
       "      <td>-0.332515</td>\n",
       "      <td>0</td>\n",
       "      <td>0.0</td>\n",
       "      <td>0</td>\n",
       "      <td>1.0</td>\n",
       "      <td>0</td>\n",
       "      <td>0.000006</td>\n",
       "      <td>0</td>\n",
       "      <td>0.0</td>\n",
       "      <td>0</td>\n",
       "    </tr>\n",
       "    <tr>\n",
       "      <th>2020-03-05 21:49:56</th>\n",
       "      <td>2</td>\n",
       "      <td>False</td>\n",
       "      <td>-0.354012</td>\n",
       "      <td>0</td>\n",
       "      <td>0.0</td>\n",
       "      <td>0</td>\n",
       "      <td>1.0</td>\n",
       "      <td>0</td>\n",
       "      <td>0.000007</td>\n",
       "      <td>0</td>\n",
       "      <td>0.0</td>\n",
       "      <td>0</td>\n",
       "    </tr>\n",
       "    <tr>\n",
       "      <th>...</th>\n",
       "      <td>...</td>\n",
       "      <td>...</td>\n",
       "      <td>...</td>\n",
       "      <td>...</td>\n",
       "      <td>...</td>\n",
       "      <td>...</td>\n",
       "      <td>...</td>\n",
       "      <td>...</td>\n",
       "      <td>...</td>\n",
       "      <td>...</td>\n",
       "      <td>...</td>\n",
       "      <td>...</td>\n",
       "    </tr>\n",
       "    <tr>\n",
       "      <th>2020-06-25 20:56:51</th>\n",
       "      <td>3</td>\n",
       "      <td>False</td>\n",
       "      <td>-0.332515</td>\n",
       "      <td>0</td>\n",
       "      <td>0.0</td>\n",
       "      <td>0</td>\n",
       "      <td>1.0</td>\n",
       "      <td>0</td>\n",
       "      <td>0.000006</td>\n",
       "      <td>0</td>\n",
       "      <td>0.0</td>\n",
       "      <td>0</td>\n",
       "    </tr>\n",
       "    <tr>\n",
       "      <th>2020-06-25 20:56:52</th>\n",
       "      <td>2</td>\n",
       "      <td>False</td>\n",
       "      <td>-0.354012</td>\n",
       "      <td>0</td>\n",
       "      <td>0.0</td>\n",
       "      <td>0</td>\n",
       "      <td>1.0</td>\n",
       "      <td>0</td>\n",
       "      <td>0.000007</td>\n",
       "      <td>0</td>\n",
       "      <td>0.0</td>\n",
       "      <td>0</td>\n",
       "    </tr>\n",
       "    <tr>\n",
       "      <th>2020-06-25 20:56:53</th>\n",
       "      <td>2</td>\n",
       "      <td>False</td>\n",
       "      <td>-0.332515</td>\n",
       "      <td>0</td>\n",
       "      <td>0.0</td>\n",
       "      <td>0</td>\n",
       "      <td>1.0</td>\n",
       "      <td>0</td>\n",
       "      <td>0.000006</td>\n",
       "      <td>0</td>\n",
       "      <td>0.0</td>\n",
       "      <td>0</td>\n",
       "    </tr>\n",
       "    <tr>\n",
       "      <th>2020-06-25 20:56:54</th>\n",
       "      <td>3</td>\n",
       "      <td>False</td>\n",
       "      <td>-0.354012</td>\n",
       "      <td>0</td>\n",
       "      <td>0.0</td>\n",
       "      <td>0</td>\n",
       "      <td>1.0</td>\n",
       "      <td>0</td>\n",
       "      <td>0.000007</td>\n",
       "      <td>0</td>\n",
       "      <td>0.0</td>\n",
       "      <td>0</td>\n",
       "    </tr>\n",
       "    <tr>\n",
       "      <th>2020-06-25 20:56:55</th>\n",
       "      <td>1</td>\n",
       "      <td>False</td>\n",
       "      <td>-0.332515</td>\n",
       "      <td>0</td>\n",
       "      <td>0.0</td>\n",
       "      <td>0</td>\n",
       "      <td>1.0</td>\n",
       "      <td>0</td>\n",
       "      <td>0.000006</td>\n",
       "      <td>0</td>\n",
       "      <td>0.0</td>\n",
       "      <td>0</td>\n",
       "    </tr>\n",
       "  </tbody>\n",
       "</table>\n",
       "<p>572 rows × 12 columns</p>\n",
       "</div>"
      ],
      "text/plain": [
       "                     x  is_outlier  isolation_forest_score  \\\n",
       "timestamp                                                    \n",
       "2020-03-05 21:49:52  2       False               -0.332515   \n",
       "2020-03-05 21:49:53  2       False               -0.332515   \n",
       "2020-03-05 21:49:54  2       False               -0.332515   \n",
       "2020-03-05 21:49:55  2       False               -0.332515   \n",
       "2020-03-05 21:49:56  2       False               -0.354012   \n",
       "...                 ..         ...                     ...   \n",
       "2020-06-25 20:56:51  3       False               -0.332515   \n",
       "2020-06-25 20:56:52  2       False               -0.354012   \n",
       "2020-06-25 20:56:53  2       False               -0.332515   \n",
       "2020-06-25 20:56:54  3       False               -0.354012   \n",
       "2020-06-25 20:56:55  1       False               -0.332515   \n",
       "\n",
       "                     isolation_forest_outliers  KNN_score  KNN_outliers  \\\n",
       "timestamp                                                                 \n",
       "2020-03-05 21:49:52                          0        0.0             0   \n",
       "2020-03-05 21:49:53                          0        0.0             0   \n",
       "2020-03-05 21:49:54                          0        0.0             0   \n",
       "2020-03-05 21:49:55                          0        0.0             0   \n",
       "2020-03-05 21:49:56                          0        0.0             0   \n",
       "...                                        ...        ...           ...   \n",
       "2020-06-25 20:56:51                          0        0.0             0   \n",
       "2020-06-25 20:56:52                          0        0.0             0   \n",
       "2020-06-25 20:56:53                          0        0.0             0   \n",
       "2020-06-25 20:56:54                          0        0.0             0   \n",
       "2020-06-25 20:56:55                          0        0.0             0   \n",
       "\n",
       "                     LOF_score  LOF_outliers  OCSVM_score  OCSVM_outliers  \\\n",
       "timestamp                                                                   \n",
       "2020-03-05 21:49:52        1.0             0     0.000006               0   \n",
       "2020-03-05 21:49:53        1.0             0     0.000006               0   \n",
       "2020-03-05 21:49:54        1.0             0     0.000006               0   \n",
       "2020-03-05 21:49:55        1.0             0     0.000006               0   \n",
       "2020-03-05 21:49:56        1.0             0     0.000007               0   \n",
       "...                        ...           ...          ...             ...   \n",
       "2020-06-25 20:56:51        1.0             0     0.000006               0   \n",
       "2020-06-25 20:56:52        1.0             0     0.000007               0   \n",
       "2020-06-25 20:56:53        1.0             0     0.000006               0   \n",
       "2020-06-25 20:56:54        1.0             0     0.000007               0   \n",
       "2020-06-25 20:56:55        1.0             0     0.000006               0   \n",
       "\n",
       "                     COF_score  COF_outliers  \n",
       "timestamp                                     \n",
       "2020-03-05 21:49:52        0.0             0  \n",
       "2020-03-05 21:49:53        0.0             0  \n",
       "2020-03-05 21:49:54        0.0             0  \n",
       "2020-03-05 21:49:55        0.0             0  \n",
       "2020-03-05 21:49:56        0.0             0  \n",
       "...                        ...           ...  \n",
       "2020-06-25 20:56:51        0.0             0  \n",
       "2020-06-25 20:56:52        0.0             0  \n",
       "2020-06-25 20:56:53        0.0             0  \n",
       "2020-06-25 20:56:54        0.0             0  \n",
       "2020-06-25 20:56:55        0.0             0  \n",
       "\n",
       "[572 rows x 12 columns]"
      ]
     },
     "execution_count": 79,
     "metadata": {},
     "output_type": "execute_result"
    }
   ],
   "source": [
    "%%time\n",
    "# get the prediction on the test data\n",
    "\n",
    "# clf.decision_function: Predict raw anomaly score of X using the fitted detector.\n",
    "# We apply the model to the test data X_test to get the outlier scores.\n",
    "y_test_scores = clf_cof.decision_function(X_test )  # outlier scores\n",
    "#y_test_scores = pd.Series(y_test_scores)\n",
    "y_test_pred = clf_cof.predict(X_test)\n",
    "y_test_scores\n",
    "\n",
    "\n",
    "df_test_plot['COF_score'] = y_test_scores  \n",
    "df_test_plot['COF_outliers'] = y_test_pred \n",
    "\n",
    "df_test_plot\n",
    "\n",
    "#df_test_plot['COF_outliers'].value_counts()"
   ]
  },
  {
   "cell_type": "code",
   "execution_count": 80,
   "metadata": {},
   "outputs": [
    {
     "data": {
      "text/plain": [
       "<matplotlib.axes._subplots.AxesSubplot at 0x253e1a06448>"
      ]
     },
     "execution_count": 80,
     "metadata": {},
     "output_type": "execute_result"
    },
    {
     "data": {
      "image/png": "[encoded data removed]",
      "text/plain": [
       "<Figure size 1152x576 with 1 Axes>"
      ]
     },
     "metadata": {
      "needs_background": "light"
     },
     "output_type": "display_data"
    }
   ],
   "source": [
    "#plot the results on the testset\n",
    "fig, ax = plt.subplots(figsize=(16,8))\n",
    "markers = {0: \"s\", 1: \"X\"}\n",
    "sns.scatterplot(\n",
    "    data=df_test_plot, \n",
    "    x='x', \n",
    "    y='COF_score', \n",
    "    hue='COF_outliers',\n",
    "    style='COF_outliers',\n",
    "    palette=\"Set1\",\n",
    "    sizes=(40, 200), hue_norm=(0, 9),\n",
    "    markers= markers,\n",
    "    ax=ax\n",
    ")"
   ]
  },
  {
   "cell_type": "markdown",
   "metadata": {},
   "source": [
    "in the Y axis, the plot shows the “score” values which are the average distance of those observations to others. \n",
    "A high “score” means that observation is far away from the norm.\n",
    "in the X axis, the 'count ' values.\n",
    "*note* in the training,fitting and prediction,the model uses normalized count values.Here, we only use non-normalized values to make the plot readable"
   ]
  },
  {
   "cell_type": "markdown",
   "metadata": {},
   "source": [
    "#### COF on testset avec Ground truth labels"
   ]
  },
  {
   "cell_type": "code",
   "execution_count": 81,
   "metadata": {},
   "outputs": [
    {
     "data": {
      "text/plain": [
       "<matplotlib.axes._subplots.AxesSubplot at 0x253e1e53a48>"
      ]
     },
     "execution_count": 81,
     "metadata": {},
     "output_type": "execute_result"
    },
    {
     "data": {
      "image/png": "[encoded data removed]",
      "text/plain": [
       "<Figure size 1152x576 with 1 Axes>"
      ]
     },
     "metadata": {
      "needs_background": "light"
     },
     "output_type": "display_data"
    }
   ],
   "source": [
    "fig, ax = plt.subplots(figsize=(16,8))\n",
    "markers = {0: \"s\", 1: \"X\"}\n",
    "sns.scatterplot(\n",
    "    data=df_test_plot, \n",
    "    x='x', \n",
    "    y='COF_score', \n",
    "    hue='is_outlier',\n",
    "    style='COF_outliers',\n",
    "    palette=\"Set1\",\n",
    "    sizes=(40, 200), hue_norm=(0, 9),\n",
    "    markers= markers,\n",
    "    ax=ax\n",
    ")"
   ]
  },
  {
   "cell_type": "markdown",
   "metadata": {},
   "source": [
    "in the Y axis, the plot shows the “score” values whoch are the average distance of those observations to others. \n",
    "A high “score” means that observation is far away from the norm.\n",
    "in the X axis, the 'count ' values.\n",
    "*note* in the training,fitting and prediction,the model uses normalized count values.Here, we only use non-normalized values to make the plot readable"
   ]
  },
  {
   "cell_type": "code",
   "execution_count": 82,
   "metadata": {},
   "outputs": [
    {
     "name": "stdout",
     "output_type": "stream",
     "text": [
      "f1_score  0.7108482458800931\n",
      "precision_score  0.6428571428571428\n",
      "recall_score  0.9777580071174377\n"
     ]
    }
   ],
   "source": [
    "\n",
    "\n",
    "#y_true=y_test.astype(int)\n",
    "y_pred=df_test_plot.COF_outliers\n",
    "\n",
    "confusion_matrix(y_val, y_pred )\n",
    "\n",
    "#The F1 score: weighted average of the precision and recall, \n",
    "  #  where an F1 score reaches its best value at 1 and worst score at 0. \n",
    "  #  The relative contribution of precision and recall to the F1 score are equal.\n",
    "    #F1 = 2 * (precision * recall) / (precision + recall)\n",
    "print('f1_score ', f1_score(y_val, y_pred, average=\"macro\"))\n",
    "\n",
    "\n",
    "#The precision is the ratio tp / (tp + fp) where tp is the number of true positives and \n",
    "#fp the number of false positives.\n",
    "#The precision is intuitively the ability of the classifier not to label as positive a sample that is negative.\n",
    "print('precision_score ',precision_score(y_val, y_pred, average=\"macro\"))\n",
    "\n",
    "\n",
    "#The recall is the ratio tp / (tp + fn) where tp is the number of true positives and fn the number \n",
    "#of false negatives.\n",
    "#The recall is intuitively the ability of the classifier to find all the positive samples.\n",
    "print('recall_score ',recall_score(y_val, y_pred, average=\"macro\"))"
   ]
  },
  {
   "cell_type": "code",
   "execution_count": 83,
   "metadata": {},
   "outputs": [
    {
     "name": "stderr",
     "output_type": "stream",
     "text": [
      "C:\\Users\\Syrine.benaziza\\Anaconda3\\lib\\site-packages\\pyod\\models\\cof.py:155: RuntimeWarning: invalid value encountered in double_scalars\n",
      "  np.sum(itemgetter(*sbn_path_index[_g])(ac_dist)))\n"
     ]
    },
    {
     "data": {
      "image/png": "[encoded data removed]",
      "text/plain": [
       "<Figure size 432x288 with 2 Axes>"
      ]
     },
     "metadata": {
      "needs_background": "light"
     },
     "output_type": "display_data"
    }
   ],
   "source": [
    "#Let’s plot the confusion matrix for the test set.\n",
    "\n",
    "# plot the comfusion matrix  in the test set\n",
    "y_preds = clf_cof.predict(X_test)\n",
    "\n",
    "skplt.metrics.plot_confusion_matrix(y_test,y_preds, normalize=False,\n",
    "                                    title=\"Confusion Matrix on Test Set\")\n",
    "plt.show()"
   ]
  },
  {
   "cell_type": "code",
   "execution_count": null,
   "metadata": {},
   "outputs": [],
   "source": []
  },
  {
   "cell_type": "markdown",
   "metadata": {},
   "source": [
    "## compare ML,models"
   ]
  },
  {
   "cell_type": "code",
   "execution_count": 84,
   "metadata": {},
   "outputs": [
    {
     "data": {
      "text/html": [
       "<div>\n",
       "<style scoped>\n",
       "    .dataframe tbody tr th:only-of-type {\n",
       "        vertical-align: middle;\n",
       "    }\n",
       "\n",
       "    .dataframe tbody tr th {\n",
       "        vertical-align: top;\n",
       "    }\n",
       "\n",
       "    .dataframe thead th {\n",
       "        text-align: right;\n",
       "    }\n",
       "</style>\n",
       "<table border=\"1\" class=\"dataframe\">\n",
       "  <thead>\n",
       "    <tr style=\"text-align: right;\">\n",
       "      <th></th>\n",
       "      <th>x</th>\n",
       "      <th>is_outlier</th>\n",
       "      <th>isolation_forest_score</th>\n",
       "      <th>isolation_forest_outliers</th>\n",
       "      <th>KNN_score</th>\n",
       "      <th>KNN_outliers</th>\n",
       "      <th>LOF_score</th>\n",
       "      <th>LOF_outliers</th>\n",
       "      <th>OCSVM_score</th>\n",
       "      <th>OCSVM_outliers</th>\n",
       "      <th>COF_score</th>\n",
       "      <th>COF_outliers</th>\n",
       "    </tr>\n",
       "    <tr>\n",
       "      <th>timestamp</th>\n",
       "      <th></th>\n",
       "      <th></th>\n",
       "      <th></th>\n",
       "      <th></th>\n",
       "      <th></th>\n",
       "      <th></th>\n",
       "      <th></th>\n",
       "      <th></th>\n",
       "      <th></th>\n",
       "      <th></th>\n",
       "      <th></th>\n",
       "      <th></th>\n",
       "    </tr>\n",
       "  </thead>\n",
       "  <tbody>\n",
       "    <tr>\n",
       "      <th>2020-03-05 21:49:52</th>\n",
       "      <td>2</td>\n",
       "      <td>False</td>\n",
       "      <td>-0.332515</td>\n",
       "      <td>0</td>\n",
       "      <td>0.0</td>\n",
       "      <td>0</td>\n",
       "      <td>1.0</td>\n",
       "      <td>0</td>\n",
       "      <td>0.000006</td>\n",
       "      <td>0</td>\n",
       "      <td>0.0</td>\n",
       "      <td>0</td>\n",
       "    </tr>\n",
       "    <tr>\n",
       "      <th>2020-03-05 21:49:53</th>\n",
       "      <td>2</td>\n",
       "      <td>False</td>\n",
       "      <td>-0.332515</td>\n",
       "      <td>0</td>\n",
       "      <td>0.0</td>\n",
       "      <td>0</td>\n",
       "      <td>1.0</td>\n",
       "      <td>0</td>\n",
       "      <td>0.000006</td>\n",
       "      <td>0</td>\n",
       "      <td>0.0</td>\n",
       "      <td>0</td>\n",
       "    </tr>\n",
       "    <tr>\n",
       "      <th>2020-03-05 21:49:54</th>\n",
       "      <td>2</td>\n",
       "      <td>False</td>\n",
       "      <td>-0.332515</td>\n",
       "      <td>0</td>\n",
       "      <td>0.0</td>\n",
       "      <td>0</td>\n",
       "      <td>1.0</td>\n",
       "      <td>0</td>\n",
       "      <td>0.000006</td>\n",
       "      <td>0</td>\n",
       "      <td>0.0</td>\n",
       "      <td>0</td>\n",
       "    </tr>\n",
       "    <tr>\n",
       "      <th>2020-03-05 21:49:55</th>\n",
       "      <td>2</td>\n",
       "      <td>False</td>\n",
       "      <td>-0.332515</td>\n",
       "      <td>0</td>\n",
       "      <td>0.0</td>\n",
       "      <td>0</td>\n",
       "      <td>1.0</td>\n",
       "      <td>0</td>\n",
       "      <td>0.000006</td>\n",
       "      <td>0</td>\n",
       "      <td>0.0</td>\n",
       "      <td>0</td>\n",
       "    </tr>\n",
       "    <tr>\n",
       "      <th>2020-03-05 21:49:56</th>\n",
       "      <td>2</td>\n",
       "      <td>False</td>\n",
       "      <td>-0.354012</td>\n",
       "      <td>0</td>\n",
       "      <td>0.0</td>\n",
       "      <td>0</td>\n",
       "      <td>1.0</td>\n",
       "      <td>0</td>\n",
       "      <td>0.000007</td>\n",
       "      <td>0</td>\n",
       "      <td>0.0</td>\n",
       "      <td>0</td>\n",
       "    </tr>\n",
       "  </tbody>\n",
       "</table>\n",
       "</div>"
      ],
      "text/plain": [
       "                     x  is_outlier  isolation_forest_score  \\\n",
       "timestamp                                                    \n",
       "2020-03-05 21:49:52  2       False               -0.332515   \n",
       "2020-03-05 21:49:53  2       False               -0.332515   \n",
       "2020-03-05 21:49:54  2       False               -0.332515   \n",
       "2020-03-05 21:49:55  2       False               -0.332515   \n",
       "2020-03-05 21:49:56  2       False               -0.354012   \n",
       "\n",
       "                     isolation_forest_outliers  KNN_score  KNN_outliers  \\\n",
       "timestamp                                                                 \n",
       "2020-03-05 21:49:52                          0        0.0             0   \n",
       "2020-03-05 21:49:53                          0        0.0             0   \n",
       "2020-03-05 21:49:54                          0        0.0             0   \n",
       "2020-03-05 21:49:55                          0        0.0             0   \n",
       "2020-03-05 21:49:56                          0        0.0             0   \n",
       "\n",
       "                     LOF_score  LOF_outliers  OCSVM_score  OCSVM_outliers  \\\n",
       "timestamp                                                                   \n",
       "2020-03-05 21:49:52        1.0             0     0.000006               0   \n",
       "2020-03-05 21:49:53        1.0             0     0.000006               0   \n",
       "2020-03-05 21:49:54        1.0             0     0.000006               0   \n",
       "2020-03-05 21:49:55        1.0             0     0.000006               0   \n",
       "2020-03-05 21:49:56        1.0             0     0.000007               0   \n",
       "\n",
       "                     COF_score  COF_outliers  \n",
       "timestamp                                     \n",
       "2020-03-05 21:49:52        0.0             0  \n",
       "2020-03-05 21:49:53        0.0             0  \n",
       "2020-03-05 21:49:54        0.0             0  \n",
       "2020-03-05 21:49:55        0.0             0  \n",
       "2020-03-05 21:49:56        0.0             0  "
      ]
     },
     "execution_count": 84,
     "metadata": {},
     "output_type": "execute_result"
    }
   ],
   "source": [
    "\n",
    "df_test_plot.head()"
   ]
  },
  {
   "cell_type": "code",
   "execution_count": 85,
   "metadata": {},
   "outputs": [
    {
     "data": {
      "text/plain": [
       "<matplotlib.legend.Legend at 0x253e2553e88>"
      ]
     },
     "execution_count": 85,
     "metadata": {},
     "output_type": "execute_result"
    },
    {
     "data": {
      "image/png": "[encoded data removed]",
      "text/plain": [
       "<Figure size 1152x576 with 1 Axes>"
      ]
     },
     "metadata": {
      "needs_background": "light"
     },
     "output_type": "display_data"
    }
   ],
   "source": [
    "from sklearn import metrics\n",
    "\n",
    "if_preds = df_test_plot['isolation_forest_outliers']\n",
    "knn_preds = df_test_plot['KNN_outliers']\n",
    "cof_preds = df_test_plot['COF_outliers']\n",
    "lof_preds = df_test_plot['LOF_outliers']\n",
    "ocsvm_preds = df_test_plot['OCSVM_outliers']\n",
    "\n",
    "\n",
    "plt.figure(figsize=(16,8)).clf()\n",
    "\n",
    "pred = if_preds\n",
    "label = y_test\n",
    "fpr, tpr, thresh = metrics.roc_curve(label, pred)\n",
    "auc = metrics.roc_auc_score(label, pred)\n",
    "plt.plot(fpr,tpr,label=\"IF,  auc= %0.2f\" %(auc))\n",
    "\n",
    "pred = knn_preds\n",
    "fpr, tpr, thresh = metrics.roc_curve(label, pred)\n",
    "auc = metrics.roc_auc_score(label, pred)\n",
    "plt.plot(fpr,tpr,label=\"KNN,  auc= %0.2f\" %(auc))\n",
    "\n",
    "\n",
    "pred = cof_preds\n",
    "fpr, tpr, thresh = metrics.roc_curve(label, pred)\n",
    "auc = metrics.roc_auc_score(label, pred)\n",
    "plt.plot(fpr,tpr,label=\"COF, auc= %0.2f\" % (auc))\n",
    "\n",
    "pred = lof_preds\n",
    "fpr, tpr, thresh = metrics.roc_curve(label, pred)\n",
    "auc = metrics.roc_auc_score(label, pred)\n",
    "plt.plot(fpr,tpr,label=\"LOF, auc= %0.2f\"% (auc))\n",
    "\n",
    "pred = ocsvm_preds\n",
    "\n",
    "fpr, tpr, thresh = metrics.roc_curve(label, pred)\n",
    "auc = metrics.roc_auc_score(label, pred)\n",
    "plt.plot(fpr,tpr,label=\"ocsvm, auc= %0.2f\"% (auc))\n",
    "\n",
    "lw = 1\n",
    "plt.plot([0, 1], [0, 1], color='navy', lw=lw, linestyle='--')\n",
    "\n",
    "plt.xlabel('False Positive Rate')\n",
    "plt.ylabel('True Positive Rate')\n",
    "plt.title('Receiver operating characteristic example')\n",
    "plt.legend(loc=\"lower right\")\n",
    "\n"
   ]
  },
  {
   "cell_type": "markdown",
   "metadata": {},
   "source": [
    "On this graph, the y-axis is true positive rate, and the x-axis is false positive rate. \n",
    "\n",
    "Note the diagonal line - this is the baseline, that can be obtained with a random classifier. \n",
    "The further our ROC curve is above the line, the better"
   ]
  },
  {
   "cell_type": "code",
   "execution_count": null,
   "metadata": {},
   "outputs": [],
   "source": []
  },
  {
   "cell_type": "code",
   "execution_count": null,
   "metadata": {},
   "outputs": [],
   "source": []
  }
 ],
 "metadata": {
  "kernelspec": {
   "display_name": "Python 3",
   "language": "python",
   "name": "python3"
  },
  "language_info": {
   "codemirror_mode": {
    "name": "ipython",
    "version": 3
   },
   "file_extension": ".py",
   "mimetype": "text/x-python",
   "name": "python",
   "nbconvert_exporter": "python",
   "pygments_lexer": "ipython3",
   "version": "3.7.6"
  }
 },
 "nbformat": 4,
 "nbformat_minor": 4
}
