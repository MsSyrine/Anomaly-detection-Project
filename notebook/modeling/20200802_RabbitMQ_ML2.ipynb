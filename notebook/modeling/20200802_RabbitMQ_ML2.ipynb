{
 "cells": [
  {
   "cell_type": "markdown",
   "metadata": {},
   "source": [
    "## Brief description of the notebook\n",
    "\n",
    "In This notebook ,we aim for semi supervised ML algorithms for AD within our RabbitMQ.\n",
    " the dataset saas is the output of our previous processing and aggregation of features (notebook SaasV1Visualization&Generation)\n",
    "For threshold definition we rely on chebyshev inequality\n",
    "For validation, we use the chebyshev inequality threshold to build the ground truth, we use it along with confusion matrix and ROC-AUC to assess performance.\n",
    "\n",
    " \n",
    "For Anomaly detection we rely on tools from PYOD Library ,which is a comprehensive and scalable Python toolkit for detecting outlying objects in multivariate data. for further reading https://pyod.readthedocs.io/en/latest/\n",
    "\n",
    "for our case,We chose to apply two commonly used algorithms for AD:\n",
    "    \n",
    "     ISOLATION FOREST\n",
    "         The IsolationForest ‘isolates’ observations by randomly selecting a feature and then randomly selecting\n",
    "         a split value between the maximum and minimum values of the selected feature. \n",
    "     KNN\n",
    "        kNN class for outlier detection. For an observation, its distance to its kth nearest neighbor could be\n",
    "        viewed as the outlying score. It could be viewed as a way to measure the density. \n",
    "        \n",
    "     LOF\n",
    "         LOF Wrapper of scikit-learn LOF Class with more functionalities. \n",
    "         Unsupervised Outlier Detection using Local Outlier Factor (LOF).\n",
    "    The anomaly score of each sample is called Local Outlier Factor. It measures the local deviation of density of a given sample with respect to its neighbors. It is local in that the anomaly score depends on how isolated the object is with respect to the surrounding neighborhood. More precisely, locality is given by k-nearest neighbors, whose distance is used to estimate the local density. By comparing the local density of a sample to the local densities of its neighbors, one can identify samples that have a substantially lower density than their neighbors. These are considered outliers.\n",
    "    \n",
    "     OCSVM\n",
    "         Wrapper of scikit-learn one-class SVM Class with more functionalities. Unsupervised Outlier Detection.\n",
    "    Estimate the support of a high-dimensional distribution.\n",
    "     \n",
    "     COF\n",
    "         Connectivity-Based Outlier Factor (COF) COF uses the ratio of average chaining distance of data point and \n",
    "         the average of average chaining distance of k nearest neighbor of the data point, as the outlier score for observations."
   ]
  },
  {
   "cell_type": "code",
   "execution_count": 1,
   "metadata": {},
   "outputs": [],
   "source": [
    "import pandas as pd  # manipulation et l'analyse des données\n",
    "import numpy as np   #numpy pour manipuler les tableaux et faire des operations scientifiques\n",
    "\n",
    "import matplotlib # pour  tracer et visualiser des données sous formes de graphiques\n",
    "import matplotlib.pyplot as plt\n",
    "import seaborn as sns # tracer et visualiser des données sous des formats avancées (statistique par exemple)\n",
    "\n",
    "#Scipy : bibliotheque scientifique sous python\n",
    "from scipy.stats import norm\n",
    "from scipy.stats import kstest, norm #pour etudier la normalité des données\n",
    "import scikitplot as skplt #outil de visualisation\n",
    "\n",
    "#apprentissage:\n",
    "#sklearn bibliotheque destinée à l'apprentissage automatique.\n",
    "from sklearn.model_selection import train_test_split\n",
    "\n",
    "#pyod :bibliotheque python dediée a la detection d'anomalie\n",
    "from pyod.models.iforest import IForest #Isolation Forest\n",
    "from pyod.models.knn import KNN     #K-Nearest-Neighbour\n",
    "from pyod.models.lof import LOF    #Local Outlier Factor\n",
    "from pyod.models.ocsvm import OCSVM  # One class SVM\n",
    "from pyod.models.cof import COF       #Connectivity-based Outlier Factor\n",
    "\n",
    "#Evaluation:\n",
    "from sklearn.datasets import make_classification\n",
    "from sklearn.model_selection import StratifiedShuffleSplit\n",
    "from sklearn.metrics import accuracy_score, f1_score, precision_score, recall_score,\\\n",
    "    classification_report, confusion_matrix\n",
    "from pyod.utils.data import evaluate_print"
   ]
  },
  {
   "cell_type": "code",
   "execution_count": 2,
   "metadata": {},
   "outputs": [],
   "source": [
    "%matplotlib inline\n",
    "np.random.seed = 0"
   ]
  },
  {
   "cell_type": "code",
   "execution_count": 3,
   "metadata": {},
   "outputs": [
    {
     "data": {
      "text/plain": [
       "array([[<matplotlib.axes._subplots.AxesSubplot object at 0x000001DEEA6B1F48>]],\n",
       "      dtype=object)"
      ]
     },
     "execution_count": 3,
     "metadata": {},
     "output_type": "execute_result"
    },
    {
     "data": {
      "image/png": "[encoded data removed]",
      "text/plain": [
       "<Figure size 432x288 with 1 Axes>"
      ]
     },
     "metadata": {
      "needs_background": "light"
     },
     "output_type": "display_data"
    }
   ],
   "source": [
    "df =pd.read_csv(\"RabbitMQ.csv\",parse_dates=['timestamp'] ,\n",
    "                       index_col=['timestamp'])#comment if timestamp indexing not wanted\n",
    "df_rabbitmq = df[['count']]\n",
    "df_rabbitmq.hist()\n",
    "\n"
   ]
  },
  {
   "cell_type": "code",
   "execution_count": 4,
   "metadata": {},
   "outputs": [
    {
     "name": "stdout",
     "output_type": "stream",
     "text": [
      "<class 'pandas.core.frame.DataFrame'>\n",
      "DatetimeIndex: 36593 entries, 2020-05-04 19:08:38 to 2020-06-26 15:44:00\n",
      "Data columns (total 4 columns):\n",
      " #   Column                             Non-Null Count  Dtype \n",
      "---  ------                             --------------  ----- \n",
      " 0   routing_key                        36593 non-null  object\n",
      " 1   headers.name                       36593 non-null  object\n",
      " 2   headers.user_who_performed_action  36593 non-null  object\n",
      " 3   count                              36593 non-null  int64 \n",
      "dtypes: int64(1), object(3)\n",
      "memory usage: 1.4+ MB\n"
     ]
    }
   ],
   "source": [
    "df.info()"
   ]
  },
  {
   "cell_type": "markdown",
   "metadata": {},
   "source": [
    "## SaaS Data normality ,chebyshev rule and threshold"
   ]
  },
  {
   "cell_type": "code",
   "execution_count": 5,
   "metadata": {},
   "outputs": [
    {
     "name": "stdout",
     "output_type": "stream",
     "text": [
      "RabbitMQ data normality test\n",
      "ks_statistic  1.0\n",
      "p_value  0.0\n"
     ]
    }
   ],
   "source": [
    "print(\"RabbitMQ data normality test\")\n",
    "ks_statistic, p_value = kstest(df_rabbitmq, 'norm')\n",
    "print(\"ks_statistic \" ,ks_statistic)\n",
    "print(\"p_value \" ,p_value)"
   ]
  },
  {
   "cell_type": "markdown",
   "metadata": {},
   "source": [
    "    The Test Statistic of the KS Test is the Kolmogorov Smirnov Statistic, which follows a \n",
    "    Kolmogorov distribution if the null hypothesis is true.\n",
    "\n",
    "    If the observed data perfectly follow a normal distribution, the value of the KS statistic will be 0.\n",
    "    The P-Value is used to decide whether the difference is large enough to reject the null hypothesis\n",
    "\n",
    "    If the P-Value of the KS Test is larger than 0.05, we assume a normal distribution\n",
    "    If the P-Value of the KS Test is smaller than 0.05, we do not assume a normal distribution"
   ]
  },
  {
   "cell_type": "markdown",
   "metadata": {},
   "source": [
    "## “Chebyshev Bound”."
   ]
  },
  {
   "cell_type": "code",
   "execution_count": 6,
   "metadata": {},
   "outputs": [],
   "source": [
    "def find_anomalies(random_data):\n",
    "    sigma = np.std(random_data)\n",
    "    mu = np.mean(random_data)\n",
    "    print('DATA MEAN :')\n",
    "    print(mu)\n",
    "    print('  STD : ')\n",
    "    print(sigma)\n",
    "    \n",
    "    # Set upper and lower limit to 2 standard deviation\n",
    "    print(\"\")\n",
    "    print('upper  value')\n",
    "    upper_limit = mu+ (2*sigma)\n",
    "    print(upper_limit)\n",
    "    print('lower value')\n",
    "    lower_limit = mu- (2*sigma)\n",
    "    print(lower_limit)\n",
    "    \n",
    "    # Find outliers\n",
    "    anomalies = []\n",
    "    for outlier in random_data:\n",
    "        if outlier > upper_limit or outlier < lower_limit:\n",
    "            anomalies.append(outlier)\n",
    "    return upper_limit,anomalies"
   ]
  },
  {
   "cell_type": "code",
   "execution_count": 7,
   "metadata": {},
   "outputs": [
    {
     "name": "stdout",
     "output_type": "stream",
     "text": [
      "DATA MEAN :\n",
      "5.170087175142787\n",
      "  STD : \n",
      "8.933889058907841\n",
      "\n",
      "upper  value\n",
      "23.037865292958468\n",
      "lower value\n",
      "-12.697690942672896\n"
     ]
    }
   ],
   "source": [
    "lim , anom = find_anomalies(df['count'] )\n"
   ]
  },
  {
   "cell_type": "code",
   "execution_count": 8,
   "metadata": {},
   "outputs": [
    {
     "name": "stdout",
     "output_type": "stream",
     "text": [
      "---------------------------------------------\n",
      "\n",
      " Events outside of the upper limit per user_id+clients per seconds-min-hour-day-month:  \n"
     ]
    },
    {
     "data": {
      "text/html": [
       "<div>\n",
       "<style scoped>\n",
       "    .dataframe tbody tr th:only-of-type {\n",
       "        vertical-align: middle;\n",
       "    }\n",
       "\n",
       "    .dataframe tbody tr th {\n",
       "        vertical-align: top;\n",
       "    }\n",
       "\n",
       "    .dataframe thead th {\n",
       "        text-align: right;\n",
       "    }\n",
       "</style>\n",
       "<table border=\"1\" class=\"dataframe\">\n",
       "  <thead>\n",
       "    <tr style=\"text-align: right;\">\n",
       "      <th></th>\n",
       "      <th>routing_key</th>\n",
       "      <th>headers.name</th>\n",
       "      <th>headers.user_who_performed_action</th>\n",
       "      <th>count</th>\n",
       "    </tr>\n",
       "    <tr>\n",
       "      <th>timestamp</th>\n",
       "      <th></th>\n",
       "      <th></th>\n",
       "      <th></th>\n",
       "      <th></th>\n",
       "    </tr>\n",
       "  </thead>\n",
       "  <tbody>\n",
       "    <tr>\n",
       "      <th>2020-05-14 22:46:28</th>\n",
       "      <td>channel.created</td>\n",
       "      <td>10.238.22.7:49044 -&gt; 10.238.22.5:5672 (1)</td>\n",
       "      <td>bus-consolesaas</td>\n",
       "      <td>26</td>\n",
       "    </tr>\n",
       "    <tr>\n",
       "      <th>2020-05-14 22:48:28</th>\n",
       "      <td>channel.created</td>\n",
       "      <td>10.238.22.7:49044 -&gt; 10.238.22.5:5672 (1)</td>\n",
       "      <td>bus-consolesaas</td>\n",
       "      <td>26</td>\n",
       "    </tr>\n",
       "    <tr>\n",
       "      <th>2020-05-14 22:51:29</th>\n",
       "      <td>channel.created</td>\n",
       "      <td>10.238.22.7:49044 -&gt; 10.238.22.5:5672 (1)</td>\n",
       "      <td>bus-consolesaas</td>\n",
       "      <td>27</td>\n",
       "    </tr>\n",
       "    <tr>\n",
       "      <th>2020-05-15 22:02:12</th>\n",
       "      <td>channel.created</td>\n",
       "      <td>10.238.22.6:55420 -&gt; 10.238.22.5:5672 (1)</td>\n",
       "      <td>bus-consolesaas</td>\n",
       "      <td>59</td>\n",
       "    </tr>\n",
       "    <tr>\n",
       "      <th>2020-05-15 22:02:13</th>\n",
       "      <td>channel.created</td>\n",
       "      <td>10.238.22.6:55420 -&gt; 10.238.22.5:5672 (1)</td>\n",
       "      <td>bus-consolesaas</td>\n",
       "      <td>62</td>\n",
       "    </tr>\n",
       "    <tr>\n",
       "      <th>...</th>\n",
       "      <td>...</td>\n",
       "      <td>...</td>\n",
       "      <td>...</td>\n",
       "      <td>...</td>\n",
       "    </tr>\n",
       "    <tr>\n",
       "      <th>2020-06-20 22:03:14</th>\n",
       "      <td>channel.created</td>\n",
       "      <td>10.238.22.6:59072 -&gt; 10.238.22.5:5672 (1)</td>\n",
       "      <td>bus-consolesaas</td>\n",
       "      <td>50</td>\n",
       "    </tr>\n",
       "    <tr>\n",
       "      <th>2020-06-24 22:46:35</th>\n",
       "      <td>channel.created</td>\n",
       "      <td>10.238.22.7:38992 -&gt; 10.238.22.5:5672 (1)</td>\n",
       "      <td>bus-consolesaas</td>\n",
       "      <td>26</td>\n",
       "    </tr>\n",
       "    <tr>\n",
       "      <th>2020-06-24 22:54:01</th>\n",
       "      <td>channel.created</td>\n",
       "      <td>10.238.22.7:38992 -&gt; 10.238.22.5:5672 (1)</td>\n",
       "      <td>bus-consolesaas</td>\n",
       "      <td>28</td>\n",
       "    </tr>\n",
       "    <tr>\n",
       "      <th>2020-06-24 22:54:12</th>\n",
       "      <td>channel.created</td>\n",
       "      <td>10.238.22.7:38992 -&gt; 10.238.22.5:5672 (1)</td>\n",
       "      <td>bus-consolesaas</td>\n",
       "      <td>26</td>\n",
       "    </tr>\n",
       "    <tr>\n",
       "      <th>2020-06-24 22:54:26</th>\n",
       "      <td>channel.created</td>\n",
       "      <td>10.238.22.7:38992 -&gt; 10.238.22.5:5672 (1)</td>\n",
       "      <td>bus-consolesaas</td>\n",
       "      <td>29</td>\n",
       "    </tr>\n",
       "  </tbody>\n",
       "</table>\n",
       "<p>251 rows × 4 columns</p>\n",
       "</div>"
      ],
      "text/plain": [
       "                         routing_key  \\\n",
       "timestamp                              \n",
       "2020-05-14 22:46:28  channel.created   \n",
       "2020-05-14 22:48:28  channel.created   \n",
       "2020-05-14 22:51:29  channel.created   \n",
       "2020-05-15 22:02:12  channel.created   \n",
       "2020-05-15 22:02:13  channel.created   \n",
       "...                              ...   \n",
       "2020-06-20 22:03:14  channel.created   \n",
       "2020-06-24 22:46:35  channel.created   \n",
       "2020-06-24 22:54:01  channel.created   \n",
       "2020-06-24 22:54:12  channel.created   \n",
       "2020-06-24 22:54:26  channel.created   \n",
       "\n",
       "                                                  headers.name  \\\n",
       "timestamp                                                        \n",
       "2020-05-14 22:46:28  10.238.22.7:49044 -> 10.238.22.5:5672 (1)   \n",
       "2020-05-14 22:48:28  10.238.22.7:49044 -> 10.238.22.5:5672 (1)   \n",
       "2020-05-14 22:51:29  10.238.22.7:49044 -> 10.238.22.5:5672 (1)   \n",
       "2020-05-15 22:02:12  10.238.22.6:55420 -> 10.238.22.5:5672 (1)   \n",
       "2020-05-15 22:02:13  10.238.22.6:55420 -> 10.238.22.5:5672 (1)   \n",
       "...                                                        ...   \n",
       "2020-06-20 22:03:14  10.238.22.6:59072 -> 10.238.22.5:5672 (1)   \n",
       "2020-06-24 22:46:35  10.238.22.7:38992 -> 10.238.22.5:5672 (1)   \n",
       "2020-06-24 22:54:01  10.238.22.7:38992 -> 10.238.22.5:5672 (1)   \n",
       "2020-06-24 22:54:12  10.238.22.7:38992 -> 10.238.22.5:5672 (1)   \n",
       "2020-06-24 22:54:26  10.238.22.7:38992 -> 10.238.22.5:5672 (1)   \n",
       "\n",
       "                    headers.user_who_performed_action  count  \n",
       "timestamp                                                     \n",
       "2020-05-14 22:46:28                   bus-consolesaas     26  \n",
       "2020-05-14 22:48:28                   bus-consolesaas     26  \n",
       "2020-05-14 22:51:29                   bus-consolesaas     27  \n",
       "2020-05-15 22:02:12                   bus-consolesaas     59  \n",
       "2020-05-15 22:02:13                   bus-consolesaas     62  \n",
       "...                                               ...    ...  \n",
       "2020-06-20 22:03:14                   bus-consolesaas     50  \n",
       "2020-06-24 22:46:35                   bus-consolesaas     26  \n",
       "2020-06-24 22:54:01                   bus-consolesaas     28  \n",
       "2020-06-24 22:54:12                   bus-consolesaas     26  \n",
       "2020-06-24 22:54:26                   bus-consolesaas     29  \n",
       "\n",
       "[251 rows x 4 columns]"
      ]
     },
     "execution_count": 8,
     "metadata": {},
     "output_type": "execute_result"
    }
   ],
   "source": [
    "print(\"---------------------------------------------\")\n",
    "print(\"\")\n",
    "print(' Events outside of the upper limit per routing_key and headers.name, headers.user_who_performed_action per seconds-min-hour-day-month:  ')\n",
    "evt_anom = df[ df['count'] > lim ]\n",
    "evt_anom\n",
    "\n",
    "#uncomment for further details about the data>threshold\n",
    "#evt_anom =  df_saas[  df_saas['count'] > lim ]\n",
    "#evt_anom"
   ]
  },
  {
   "cell_type": "code",
   "execution_count": 9,
   "metadata": {},
   "outputs": [
    {
     "data": {
      "image/png": "[encoded data removed]",
      "text/plain": [
       "<Figure size 1440x720 with 1 Axes>"
      ]
     },
     "metadata": {
      "needs_background": "light"
     },
     "output_type": "display_data"
    }
   ],
   "source": [
    "\n",
    "#plotting the count graphic/ figure \n",
    "df['count'].plot(#kind='line',\n",
    "             figsize=(20, 10), # pass a tuple (x, y) size\n",
    "             )\n",
    "\n",
    "plt.title('ALL Activity rate  ')\n",
    "plt.ylabel(' Activity Rate')\n",
    "plt.xlabel('time')\n",
    "\n",
    "plt.show() "
   ]
  },
  {
   "cell_type": "code",
   "execution_count": 10,
   "metadata": {},
   "outputs": [],
   "source": [
    "x = df['count']"
   ]
  },
  {
   "cell_type": "code",
   "execution_count": 11,
   "metadata": {},
   "outputs": [
    {
     "data": {
      "image/png": "[encoded data removed]",
      "text/plain": [
       "<Figure size 1080x360 with 2 Axes>"
      ]
     },
     "metadata": {
      "needs_background": "light"
     },
     "output_type": "display_data"
    }
   ],
   "source": [
    "fig, axes = plt.subplots(1,2, figsize=(15,5), sharey=True, gridspec_kw={'width_ratios': [3, 2]})\n",
    "# time plot with median Q1 and Q3 displayed\n",
    "\n",
    "x.plot(ax=axes[0], label='x')\n",
    "axes[0].axhline(x.median(), color='y', label='Median (Q2)')\n",
    "axes[0].axhline(x.quantile(0.25), color='c', linestyle='--', label='Q3')\n",
    "axes[0].axhline(x.quantile(0.75), color='c', linestyle='--', label='Q1')\n",
    "axes[0].axhline(lim, color='r', linestyle='--', linewidth=1, label='up')\n",
    "#axes[0].axhline(down_limit, color='r', linestyle='--', linewidth=1, label='down')\n",
    "\n",
    "\n",
    "# boxplot\n",
    "x.plot.box(ax=axes[1])\n",
    "axes[1].axhline(x.median(), color='r')\n",
    "axes[1].axhline(x.quantile(0.25), color='c', linestyle='--')\n",
    "axes[1].axhline(x.quantile(0.75), color='c', linestyle='--')\n",
    "axes[1].axhline(lim, color='r', linestyle='--', linewidth=1)\n",
    "#axes[2].axhline(down_limit, color='r', linestyle='--', linewidth=1)\n",
    "fig.legend();"
   ]
  },
  {
   "cell_type": "markdown",
   "metadata": {},
   "source": [
    "le 1er quartile est la donnée de la série qui sépare les 25 % inférieurs des données (notation Q1) ;\n",
    "le 2e quartile est la donnée de la série qui sépare les 50 % inférieurs des données (notation Q2) ; il est également appelé médiane ;\n",
    "le 3e quartile est la donnée de la série qui sépare les 75 % inférieurs des données (notation Q3) \n",
    "\n",
    "La différence entre le troisième quartile et le premier quartile s'appelle écart interquartile ;\n",
    " c'est un critère de dispersion de la série. \n"
   ]
  },
  {
   "cell_type": "markdown",
   "metadata": {},
   "source": [
    "# ML OUTLIER DETECTION\n",
    "## 1. Preparing data for outliers detection"
   ]
  },
  {
   "cell_type": "code",
   "execution_count": 12,
   "metadata": {},
   "outputs": [
    {
     "name": "stdout",
     "output_type": "stream",
     "text": [
      "<class 'pandas.core.frame.DataFrame'>\n",
      "DatetimeIndex: 36593 entries, 2020-05-04 19:08:38 to 2020-06-26 15:44:00\n",
      "Data columns (total 4 columns):\n",
      " #   Column                             Non-Null Count  Dtype \n",
      "---  ------                             --------------  ----- \n",
      " 0   routing_key                        36593 non-null  object\n",
      " 1   headers.name                       36593 non-null  object\n",
      " 2   headers.user_who_performed_action  36593 non-null  object\n",
      " 3   count                              36593 non-null  int64 \n",
      "dtypes: int64(1), object(3)\n",
      "memory usage: 1.4+ MB\n"
     ]
    }
   ],
   "source": [
    "df.info()"
   ]
  },
  {
   "cell_type": "markdown",
   "metadata": {},
   "source": [
    "## building the ground Truth"
   ]
  },
  {
   "cell_type": "code",
   "execution_count": 13,
   "metadata": {},
   "outputs": [
    {
     "data": {
      "text/html": [
       "<div>\n",
       "<style scoped>\n",
       "    .dataframe tbody tr th:only-of-type {\n",
       "        vertical-align: middle;\n",
       "    }\n",
       "\n",
       "    .dataframe tbody tr th {\n",
       "        vertical-align: top;\n",
       "    }\n",
       "\n",
       "    .dataframe thead th {\n",
       "        text-align: right;\n",
       "    }\n",
       "</style>\n",
       "<table border=\"1\" class=\"dataframe\">\n",
       "  <thead>\n",
       "    <tr style=\"text-align: right;\">\n",
       "      <th></th>\n",
       "      <th>routing_key</th>\n",
       "      <th>headers.name</th>\n",
       "      <th>headers.user_who_performed_action</th>\n",
       "      <th>count</th>\n",
       "    </tr>\n",
       "    <tr>\n",
       "      <th>timestamp</th>\n",
       "      <th></th>\n",
       "      <th></th>\n",
       "      <th></th>\n",
       "      <th></th>\n",
       "    </tr>\n",
       "  </thead>\n",
       "  <tbody>\n",
       "    <tr>\n",
       "      <th>2020-05-04 19:08:38</th>\n",
       "      <td>channel.created</td>\n",
       "      <td>10.238.22.7:35540 -&gt; 10.238.22.5:5672 (1)</td>\n",
       "      <td>bus-consolesaas</td>\n",
       "      <td>1</td>\n",
       "    </tr>\n",
       "    <tr>\n",
       "      <th>2020-05-04 19:09:53</th>\n",
       "      <td>channel.created</td>\n",
       "      <td>10.238.22.6:55420 -&gt; 10.238.22.5:5672 (1)</td>\n",
       "      <td>bus-consolesaas</td>\n",
       "      <td>1</td>\n",
       "    </tr>\n",
       "    <tr>\n",
       "      <th>2020-05-04 20:30:13</th>\n",
       "      <td>channel.created</td>\n",
       "      <td>10.238.22.6:55420 -&gt; 10.238.22.5:5672 (1)</td>\n",
       "      <td>bus-consolesaas</td>\n",
       "      <td>1</td>\n",
       "    </tr>\n",
       "    <tr>\n",
       "      <th>2020-05-04 20:33:58</th>\n",
       "      <td>channel.created</td>\n",
       "      <td>10.238.22.6:55420 -&gt; 10.238.22.5:5672 (1)</td>\n",
       "      <td>bus-consolesaas</td>\n",
       "      <td>1</td>\n",
       "    </tr>\n",
       "    <tr>\n",
       "      <th>2020-05-04 22:02:12</th>\n",
       "      <td>channel.created</td>\n",
       "      <td>10.238.22.6:55420 -&gt; 10.238.22.5:5672 (1)</td>\n",
       "      <td>bus-consolesaas</td>\n",
       "      <td>1</td>\n",
       "    </tr>\n",
       "  </tbody>\n",
       "</table>\n",
       "</div>"
      ],
      "text/plain": [
       "                         routing_key  \\\n",
       "timestamp                              \n",
       "2020-05-04 19:08:38  channel.created   \n",
       "2020-05-04 19:09:53  channel.created   \n",
       "2020-05-04 20:30:13  channel.created   \n",
       "2020-05-04 20:33:58  channel.created   \n",
       "2020-05-04 22:02:12  channel.created   \n",
       "\n",
       "                                                  headers.name  \\\n",
       "timestamp                                                        \n",
       "2020-05-04 19:08:38  10.238.22.7:35540 -> 10.238.22.5:5672 (1)   \n",
       "2020-05-04 19:09:53  10.238.22.6:55420 -> 10.238.22.5:5672 (1)   \n",
       "2020-05-04 20:30:13  10.238.22.6:55420 -> 10.238.22.5:5672 (1)   \n",
       "2020-05-04 20:33:58  10.238.22.6:55420 -> 10.238.22.5:5672 (1)   \n",
       "2020-05-04 22:02:12  10.238.22.6:55420 -> 10.238.22.5:5672 (1)   \n",
       "\n",
       "                    headers.user_who_performed_action  count  \n",
       "timestamp                                                     \n",
       "2020-05-04 19:08:38                   bus-consolesaas      1  \n",
       "2020-05-04 19:09:53                   bus-consolesaas      1  \n",
       "2020-05-04 20:30:13                   bus-consolesaas      1  \n",
       "2020-05-04 20:33:58                   bus-consolesaas      1  \n",
       "2020-05-04 22:02:12                   bus-consolesaas      1  "
      ]
     },
     "execution_count": 13,
     "metadata": {},
     "output_type": "execute_result"
    }
   ],
   "source": [
    "df.head()\n"
   ]
  },
  {
   "cell_type": "code",
   "execution_count": 50,
   "metadata": {},
   "outputs": [
    {
     "data": {
      "text/plain": [
       "False    36342\n",
       "True       251\n",
       "Name: is_outlier, dtype: int64"
      ]
     },
     "execution_count": 50,
     "metadata": {},
     "output_type": "execute_result"
    }
   ],
   "source": [
    "is_outlier = (x > lim)\n",
    "\n",
    "\n",
    "df_rabbitmq = pd.concat([x, is_outlier], axis=1, keys=['x', 'is_outlier'])#we add the \"labels\" to our dataframe \n",
    "df_rabbitmq['is_outlier'].value_counts()\n",
    "\n",
    "df_rabbitmq['is_outlier'].value_counts()"
   ]
  },
  {
   "cell_type": "code",
   "execution_count": 51,
   "metadata": {},
   "outputs": [
    {
     "name": "stdout",
     "output_type": "stream",
     "text": [
      "Number of theoretical outliers: 251\n",
      "Number of theoretical  inliers: 36342\n",
      "Percentage of outliers (contamination): 0.0068592353728855245\n"
     ]
    }
   ],
   "source": [
    "print(f'Number of theoretical outliers: {len(df_rabbitmq[df_rabbitmq.is_outlier])}')\n",
    "print(f'Number of theoretical  inliers: {len(df_rabbitmq[~df_rabbitmq.is_outlier])}') \n",
    "print(f'Percentage of outliers (contamination): {len(df_rabbitmq[df_rabbitmq.is_outlier]) * 1. / len(df_rabbitmq)}') "
   ]
  },
  {
   "cell_type": "code",
   "execution_count": 53,
   "metadata": {},
   "outputs": [],
   "source": [
    "#defining our y variable ,which we gonna use later for validation aka ground truth\n",
    "y_true=df_rabbitmq.is_outlier.astype(int)\n",
    "y =  y_true.copy()\n"
   ]
  },
  {
   "cell_type": "markdown",
   "metadata": {},
   "source": [
    "### data normalisation"
   ]
  },
  {
   "cell_type": "code",
   "execution_count": 54,
   "metadata": {},
   "outputs": [],
   "source": [
    "df = pd.read_csv('RabbitMQ.csv')"
   ]
  },
  {
   "cell_type": "code",
   "execution_count": 55,
   "metadata": {},
   "outputs": [
    {
     "data": {
      "text/plain": [
       "(36593, 5)"
      ]
     },
     "execution_count": 55,
     "metadata": {},
     "output_type": "execute_result"
    }
   ],
   "source": [
    "df.head()\n",
    "df.shape"
   ]
  },
  {
   "cell_type": "code",
   "execution_count": 56,
   "metadata": {},
   "outputs": [],
   "source": [
    "X = df['count']\n",
    "\n",
    "# formating data for the algorithm (should be a 2D numpy array, see sklearn API)\n",
    "X=x.values.reshape(-1, 1)\n",
    "\n",
    "#When you do unsupervised learning, it is always a safe step to standardize the predictors\n",
    "from sklearn.preprocessing import StandardScaler\n",
    "X = StandardScaler().fit_transform(X)\n"
   ]
  },
  {
   "cell_type": "code",
   "execution_count": 57,
   "metadata": {},
   "outputs": [
    {
     "data": {
      "text/plain": [
       "array([[-0.46677177],\n",
       "       [-0.46677177],\n",
       "       [-0.46677177],\n",
       "       ...,\n",
       "       [-0.46677177],\n",
       "       [-0.46677177],\n",
       "       [-0.46677177]])"
      ]
     },
     "execution_count": 57,
     "metadata": {},
     "output_type": "execute_result"
    }
   ],
   "source": [
    "X"
   ]
  },
  {
   "cell_type": "markdown",
   "metadata": {},
   "source": [
    "### Splitting train test set"
   ]
  },
  {
   "cell_type": "code",
   "execution_count": 58,
   "metadata": {},
   "outputs": [
    {
     "name": "stdout",
     "output_type": "stream",
     "text": [
      "X_train:  (25615, 1)\n",
      "X_test :  (10978, 1)\n"
     ]
    }
   ],
   "source": [
    "\n",
    "# Split the dataset in two parts\n",
    "#train set 70% of data\n",
    "#test set 30% of data\n",
    "#here, we are still in an unsupervised learning, we only add the ground truth (y_true) to the split_train_test so that\n",
    "#we get correspond y_train and y_test to evaluate our train set x_train and testset x_test\n",
    "X_train, X_test ,y_train ,y_test = train_test_split(X,y_true, test_size=0.3, random_state=42)\n",
    "\n",
    "\n",
    "print('X_train: ' , X_train.shape )\n",
    "print('X_test : ' , X_test.shape)\n",
    "y_val =y_test.astype(int)\n",
    "\n",
    "#print('y_train: ' , y_train.shape )\n",
    "#print('y_test : ' , y_test.shape)"
   ]
  },
  {
   "cell_type": "code",
   "execution_count": 59,
   "metadata": {},
   "outputs": [],
   "source": [
    "#we will need each of the testset and trainset lengths for building the corresponding results dataframes\n",
    "l_test = X_test.size\n",
    "l_train = X_train.size"
   ]
  },
  {
   "cell_type": "code",
   "execution_count": 60,
   "metadata": {},
   "outputs": [],
   "source": [
    "df_test_plot = df_rabbitmq.tail(l_test) #dataframe for saving the Ml results on the testset"
   ]
  },
  {
   "cell_type": "markdown",
   "metadata": {},
   "source": [
    "# ISOLATION FOREST PYOD VERSION\n",
    "\n",
    "https://pyod.readthedocs.io/en/latest/pyod.models.html#module-pyod.models.iforest\n",
    "https://scikit-learn.org/stable/modules/generated/sklearn.ensemble.IsolationForest.html#sklearn.ensemble.IsolationForest"
   ]
  },
  {
   "cell_type": "code",
   "execution_count": 61,
   "metadata": {},
   "outputs": [],
   "source": [
    "df_train_plot = df_rabbitmq.head(l_train) #this dataframe is for saving th results of Ml model performed on trainset\n"
   ]
  },
  {
   "cell_type": "code",
   "execution_count": 62,
   "metadata": {},
   "outputs": [],
   "source": [
    "# creating the outlier detector\n",
    "clf_iforest = IForest(\n",
    "    behaviour='new',\n",
    "    random_state=47,\n",
    "    n_estimators=100,#, # the number of base estimators\n",
    "    #max_samples=0.8, #number of samples to draw from X to train each base estimator\n",
    "    contamination=0.01, #proportion of outliers in the data set -->threshold to decision function\n",
    "   # max_features=1.0\n",
    "    \n",
    "    )"
   ]
  },
  {
   "cell_type": "markdown",
   "metadata": {},
   "source": [
    "I apply the trained model *mod* to predict the anomaly score for each observation in the test data.\n",
    "How do we define an outlier? An outlier is a point that is distant from other points, so the outlier score is defined by distance. \n",
    "The PyOD function .decision_function() calculates the distance or the anomaly score for each data point.\n"
   ]
  },
  {
   "cell_type": "code",
   "execution_count": 63,
   "metadata": {},
   "outputs": [
    {
     "name": "stdout",
     "output_type": "stream",
     "text": [
      "Wall time: 1.25 s\n"
     ]
    },
    {
     "data": {
      "text/plain": [
       "0   -0.240971\n",
       "1   -0.265321\n",
       "2   -0.254099\n",
       "3   -0.284251\n",
       "4   -0.265321\n",
       "dtype: float64"
      ]
     },
     "execution_count": 63,
     "metadata": {},
     "output_type": "execute_result"
    }
   ],
   "source": [
    "%%time\n",
    "# \"fitting\" the detector \n",
    "clf_iforest.fit(X_train)\n",
    "# clf.decision_function: Predict raw anomaly score of X using the fitted detector.\n",
    "# We apply the model to the test data X_test to get the outlier scores.\n",
    "y_test_scores = clf_iforest.decision_function(X_test )  # outlier scores\n",
    "y_test_scores = pd.Series(y_test_scores)\n",
    "y_test_scores.head()"
   ]
  },
  {
   "cell_type": "code",
   "execution_count": 64,
   "metadata": {},
   "outputs": [
    {
     "data": {
      "image/png": "[encoded data removed]",
      "text/plain": [
       "<Figure size 432x288 with 1 Axes>"
      ]
     },
     "metadata": {
      "needs_background": "light"
     },
     "output_type": "display_data"
    }
   ],
   "source": [
    "plt.hist(y_test_scores, bins='auto')  # arguments are passed to np.histogram\n",
    "plt.title(\"Histogram for Model IF Anomaly Scores\")\n",
    "plt.show()"
   ]
  },
  {
   "cell_type": "markdown",
   "metadata": {},
   "source": [
    "we use a histogram to count the frequency by the anomaly score, \n",
    "\n",
    "    in the X axis, the histogram shows the “score” values whoch are the average distance of those observations to others. High score (as 30) correspnding to low frequency -->evidence of outliers\n",
    "    in the Y axis, the number of corresponding obsrvations/entrees"
   ]
  },
  {
   "cell_type": "markdown",
   "metadata": {},
   "source": [
    "### On the TRAIN DATA"
   ]
  },
  {
   "cell_type": "code",
   "execution_count": 65,
   "metadata": {},
   "outputs": [
    {
     "name": "stderr",
     "output_type": "stream",
     "text": [
      "C:\\Users\\Syrine.benaziza\\Anaconda3\\lib\\site-packages\\ipykernel_launcher.py:2: SettingWithCopyWarning: \n",
      "A value is trying to be set on a copy of a slice from a DataFrame.\n",
      "Try using .loc[row_indexer,col_indexer] = value instead\n",
      "\n",
      "See the caveats in the documentation: https://pandas.pydata.org/pandas-docs/stable/user_guide/indexing.html#returning-a-view-versus-a-copy\n",
      "  \n",
      "C:\\Users\\Syrine.benaziza\\Anaconda3\\lib\\site-packages\\ipykernel_launcher.py:3: SettingWithCopyWarning: \n",
      "A value is trying to be set on a copy of a slice from a DataFrame.\n",
      "Try using .loc[row_indexer,col_indexer] = value instead\n",
      "\n",
      "See the caveats in the documentation: https://pandas.pydata.org/pandas-docs/stable/user_guide/indexing.html#returning-a-view-versus-a-copy\n",
      "  This is separate from the ipykernel package so we can avoid doing imports until\n"
     ]
    },
    {
     "data": {
      "text/html": [
       "<div>\n",
       "<style scoped>\n",
       "    .dataframe tbody tr th:only-of-type {\n",
       "        vertical-align: middle;\n",
       "    }\n",
       "\n",
       "    .dataframe tbody tr th {\n",
       "        vertical-align: top;\n",
       "    }\n",
       "\n",
       "    .dataframe thead th {\n",
       "        text-align: right;\n",
       "    }\n",
       "</style>\n",
       "<table border=\"1\" class=\"dataframe\">\n",
       "  <thead>\n",
       "    <tr style=\"text-align: right;\">\n",
       "      <th></th>\n",
       "      <th>x</th>\n",
       "      <th>is_outlier</th>\n",
       "      <th>isolation_forest_score</th>\n",
       "      <th>isolation_forest_outliers</th>\n",
       "    </tr>\n",
       "    <tr>\n",
       "      <th>timestamp</th>\n",
       "      <th></th>\n",
       "      <th></th>\n",
       "      <th></th>\n",
       "      <th></th>\n",
       "    </tr>\n",
       "  </thead>\n",
       "  <tbody>\n",
       "    <tr>\n",
       "      <th>2020-05-04 19:08:38</th>\n",
       "      <td>1</td>\n",
       "      <td>False</td>\n",
       "      <td>-0.318798</td>\n",
       "      <td>0</td>\n",
       "    </tr>\n",
       "    <tr>\n",
       "      <th>2020-05-04 19:09:53</th>\n",
       "      <td>1</td>\n",
       "      <td>False</td>\n",
       "      <td>-0.254099</td>\n",
       "      <td>0</td>\n",
       "    </tr>\n",
       "    <tr>\n",
       "      <th>2020-05-04 20:30:13</th>\n",
       "      <td>1</td>\n",
       "      <td>False</td>\n",
       "      <td>-0.318798</td>\n",
       "      <td>0</td>\n",
       "    </tr>\n",
       "    <tr>\n",
       "      <th>2020-05-04 20:33:58</th>\n",
       "      <td>1</td>\n",
       "      <td>False</td>\n",
       "      <td>-0.353242</td>\n",
       "      <td>0</td>\n",
       "    </tr>\n",
       "    <tr>\n",
       "      <th>2020-05-04 22:02:12</th>\n",
       "      <td>1</td>\n",
       "      <td>False</td>\n",
       "      <td>-0.353242</td>\n",
       "      <td>0</td>\n",
       "    </tr>\n",
       "    <tr>\n",
       "      <th>...</th>\n",
       "      <td>...</td>\n",
       "      <td>...</td>\n",
       "      <td>...</td>\n",
       "      <td>...</td>\n",
       "    </tr>\n",
       "    <tr>\n",
       "      <th>2020-06-03 22:48:12</th>\n",
       "      <td>5</td>\n",
       "      <td>False</td>\n",
       "      <td>-0.353242</td>\n",
       "      <td>0</td>\n",
       "    </tr>\n",
       "    <tr>\n",
       "      <th>2020-06-03 22:48:12</th>\n",
       "      <td>6</td>\n",
       "      <td>False</td>\n",
       "      <td>-0.318798</td>\n",
       "      <td>0</td>\n",
       "    </tr>\n",
       "    <tr>\n",
       "      <th>2020-06-03 22:48:13</th>\n",
       "      <td>5</td>\n",
       "      <td>False</td>\n",
       "      <td>-0.284251</td>\n",
       "      <td>0</td>\n",
       "    </tr>\n",
       "    <tr>\n",
       "      <th>2020-06-03 22:48:13</th>\n",
       "      <td>6</td>\n",
       "      <td>False</td>\n",
       "      <td>-0.210972</td>\n",
       "      <td>0</td>\n",
       "    </tr>\n",
       "    <tr>\n",
       "      <th>2020-06-03 22:48:14</th>\n",
       "      <td>6</td>\n",
       "      <td>False</td>\n",
       "      <td>-0.353242</td>\n",
       "      <td>0</td>\n",
       "    </tr>\n",
       "  </tbody>\n",
       "</table>\n",
       "<p>25615 rows × 4 columns</p>\n",
       "</div>"
      ],
      "text/plain": [
       "                     x  is_outlier  isolation_forest_score  \\\n",
       "timestamp                                                    \n",
       "2020-05-04 19:08:38  1       False               -0.318798   \n",
       "2020-05-04 19:09:53  1       False               -0.254099   \n",
       "2020-05-04 20:30:13  1       False               -0.318798   \n",
       "2020-05-04 20:33:58  1       False               -0.353242   \n",
       "2020-05-04 22:02:12  1       False               -0.353242   \n",
       "...                 ..         ...                     ...   \n",
       "2020-06-03 22:48:12  5       False               -0.353242   \n",
       "2020-06-03 22:48:12  6       False               -0.318798   \n",
       "2020-06-03 22:48:13  5       False               -0.284251   \n",
       "2020-06-03 22:48:13  6       False               -0.210972   \n",
       "2020-06-03 22:48:14  6       False               -0.353242   \n",
       "\n",
       "                     isolation_forest_outliers  \n",
       "timestamp                                       \n",
       "2020-05-04 19:08:38                          0  \n",
       "2020-05-04 19:09:53                          0  \n",
       "2020-05-04 20:30:13                          0  \n",
       "2020-05-04 20:33:58                          0  \n",
       "2020-05-04 22:02:12                          0  \n",
       "...                                        ...  \n",
       "2020-06-03 22:48:12                          0  \n",
       "2020-06-03 22:48:12                          0  \n",
       "2020-06-03 22:48:13                          0  \n",
       "2020-06-03 22:48:13                          0  \n",
       "2020-06-03 22:48:14                          0  \n",
       "\n",
       "[25615 rows x 4 columns]"
      ]
     },
     "execution_count": 65,
     "metadata": {},
     "output_type": "execute_result"
    }
   ],
   "source": [
    "df_train_plot = df_rabbitmq.head(l_train) #this dataframe is for saving th results of Ml model performed on trainset\n",
    "df_train_plot['isolation_forest_score'] = clf_iforest.decision_function(X_train)#calculate score of observations on trainset\n",
    "df_train_plot['isolation_forest_outliers'] = clf_iforest.predict(X_train)#decide for observations based on their scores whether they are outliers or inliers\n",
    "df_train_plot"
   ]
  },
  {
   "cell_type": "code",
   "execution_count": 66,
   "metadata": {},
   "outputs": [
    {
     "data": {
      "text/plain": [
       "<matplotlib.axes._subplots.AxesSubplot at 0x1deeddd8c88>"
      ]
     },
     "execution_count": 66,
     "metadata": {},
     "output_type": "execute_result"
    },
    {
     "data": {
      "image/png": "[encoded data removed]",
      "text/plain": [
       "<Figure size 1152x576 with 1 Axes>"
      ]
     },
     "metadata": {
      "needs_background": "light"
     },
     "output_type": "display_data"
    }
   ],
   "source": [
    "#scatterplot the obtained results on the trainset\n",
    "fig, ax = plt.subplots(figsize=(16,8))\n",
    "markers = {0: \"s\", 1: \"X\"}\n",
    "sns.scatterplot(\n",
    "    data=df_train_plot, \n",
    "    x='x', \n",
    "    y='isolation_forest_score', \n",
    "    #hue='is_outlier',\n",
    "    hue='isolation_forest_outliers',\n",
    "\n",
    "    palette=\"Set1\",\n",
    "    sizes=(40, 200), #hue_norm=(0, 9),\n",
    "    style='isolation_forest_outliers',\n",
    "    markers= markers,\n",
    "    ax=ax\n",
    ")"
   ]
  },
  {
   "cell_type": "markdown",
   "metadata": {},
   "source": [
    "in the Y axis, the plot shows the “score” values whoch are the average distance of those observations to others. \n",
    "A high “score” means that observation is far away from the norm.\n",
    "in the X axis, the 'count ' values.\n",
    "*note* in the training,fitting and prediction,the model uses normalized count values.Here, we only use non-normalized values to make the plot readable"
   ]
  },
  {
   "cell_type": "markdown",
   "metadata": {},
   "source": [
    "### on the TEST DATA"
   ]
  },
  {
   "cell_type": "code",
   "execution_count": 67,
   "metadata": {},
   "outputs": [
    {
     "name": "stdout",
     "output_type": "stream",
     "text": [
      "Wall time: 352 ms\n"
     ]
    },
    {
     "name": "stderr",
     "output_type": "stream",
     "text": [
      "C:\\Users\\Syrine.benaziza\\Anaconda3\\lib\\site-packages\\ipykernel_launcher.py:1: SettingWithCopyWarning: \n",
      "A value is trying to be set on a copy of a slice from a DataFrame.\n",
      "Try using .loc[row_indexer,col_indexer] = value instead\n",
      "\n",
      "See the caveats in the documentation: https://pandas.pydata.org/pandas-docs/stable/user_guide/indexing.html#returning-a-view-versus-a-copy\n",
      "  \"\"\"Entry point for launching an IPython kernel.\n",
      "C:\\Users\\Syrine.benaziza\\Anaconda3\\lib\\site-packages\\ipykernel_launcher.py:2: SettingWithCopyWarning: \n",
      "A value is trying to be set on a copy of a slice from a DataFrame.\n",
      "Try using .loc[row_indexer,col_indexer] = value instead\n",
      "\n",
      "See the caveats in the documentation: https://pandas.pydata.org/pandas-docs/stable/user_guide/indexing.html#returning-a-view-versus-a-copy\n",
      "  \n"
     ]
    },
    {
     "data": {
      "text/html": [
       "<div>\n",
       "<style scoped>\n",
       "    .dataframe tbody tr th:only-of-type {\n",
       "        vertical-align: middle;\n",
       "    }\n",
       "\n",
       "    .dataframe tbody tr th {\n",
       "        vertical-align: top;\n",
       "    }\n",
       "\n",
       "    .dataframe thead th {\n",
       "        text-align: right;\n",
       "    }\n",
       "</style>\n",
       "<table border=\"1\" class=\"dataframe\">\n",
       "  <thead>\n",
       "    <tr style=\"text-align: right;\">\n",
       "      <th></th>\n",
       "      <th>x</th>\n",
       "      <th>is_outlier</th>\n",
       "      <th>isolation_forest_score</th>\n",
       "      <th>isolation_forest_outliers</th>\n",
       "    </tr>\n",
       "    <tr>\n",
       "      <th>timestamp</th>\n",
       "      <th></th>\n",
       "      <th></th>\n",
       "      <th></th>\n",
       "      <th></th>\n",
       "    </tr>\n",
       "  </thead>\n",
       "  <tbody>\n",
       "    <tr>\n",
       "      <th>2020-06-03 22:48:14</th>\n",
       "      <td>3</td>\n",
       "      <td>False</td>\n",
       "      <td>-0.240971</td>\n",
       "      <td>0</td>\n",
       "    </tr>\n",
       "    <tr>\n",
       "      <th>2020-06-03 22:48:15</th>\n",
       "      <td>6</td>\n",
       "      <td>False</td>\n",
       "      <td>-0.265321</td>\n",
       "      <td>0</td>\n",
       "    </tr>\n",
       "    <tr>\n",
       "      <th>2020-06-03 22:48:15</th>\n",
       "      <td>6</td>\n",
       "      <td>False</td>\n",
       "      <td>-0.254099</td>\n",
       "      <td>0</td>\n",
       "    </tr>\n",
       "    <tr>\n",
       "      <th>2020-06-03 22:48:16</th>\n",
       "      <td>5</td>\n",
       "      <td>False</td>\n",
       "      <td>-0.284251</td>\n",
       "      <td>0</td>\n",
       "    </tr>\n",
       "    <tr>\n",
       "      <th>2020-06-03 22:48:16</th>\n",
       "      <td>6</td>\n",
       "      <td>False</td>\n",
       "      <td>-0.265321</td>\n",
       "      <td>0</td>\n",
       "    </tr>\n",
       "    <tr>\n",
       "      <th>...</th>\n",
       "      <td>...</td>\n",
       "      <td>...</td>\n",
       "      <td>...</td>\n",
       "      <td>...</td>\n",
       "    </tr>\n",
       "    <tr>\n",
       "      <th>2020-06-26 15:00:43</th>\n",
       "      <td>1</td>\n",
       "      <td>False</td>\n",
       "      <td>-0.318798</td>\n",
       "      <td>0</td>\n",
       "    </tr>\n",
       "    <tr>\n",
       "      <th>2020-06-26 15:01:06</th>\n",
       "      <td>1</td>\n",
       "      <td>False</td>\n",
       "      <td>-0.353242</td>\n",
       "      <td>0</td>\n",
       "    </tr>\n",
       "    <tr>\n",
       "      <th>2020-06-26 15:07:34</th>\n",
       "      <td>1</td>\n",
       "      <td>False</td>\n",
       "      <td>-0.318798</td>\n",
       "      <td>0</td>\n",
       "    </tr>\n",
       "    <tr>\n",
       "      <th>2020-06-26 15:44:00</th>\n",
       "      <td>1</td>\n",
       "      <td>False</td>\n",
       "      <td>-0.318798</td>\n",
       "      <td>0</td>\n",
       "    </tr>\n",
       "    <tr>\n",
       "      <th>2020-06-26 15:44:00</th>\n",
       "      <td>1</td>\n",
       "      <td>False</td>\n",
       "      <td>-0.318798</td>\n",
       "      <td>0</td>\n",
       "    </tr>\n",
       "  </tbody>\n",
       "</table>\n",
       "<p>10978 rows × 4 columns</p>\n",
       "</div>"
      ],
      "text/plain": [
       "                     x  is_outlier  isolation_forest_score  \\\n",
       "timestamp                                                    \n",
       "2020-06-03 22:48:14  3       False               -0.240971   \n",
       "2020-06-03 22:48:15  6       False               -0.265321   \n",
       "2020-06-03 22:48:15  6       False               -0.254099   \n",
       "2020-06-03 22:48:16  5       False               -0.284251   \n",
       "2020-06-03 22:48:16  6       False               -0.265321   \n",
       "...                 ..         ...                     ...   \n",
       "2020-06-26 15:00:43  1       False               -0.318798   \n",
       "2020-06-26 15:01:06  1       False               -0.353242   \n",
       "2020-06-26 15:07:34  1       False               -0.318798   \n",
       "2020-06-26 15:44:00  1       False               -0.318798   \n",
       "2020-06-26 15:44:00  1       False               -0.318798   \n",
       "\n",
       "                     isolation_forest_outliers  \n",
       "timestamp                                       \n",
       "2020-06-03 22:48:14                          0  \n",
       "2020-06-03 22:48:15                          0  \n",
       "2020-06-03 22:48:15                          0  \n",
       "2020-06-03 22:48:16                          0  \n",
       "2020-06-03 22:48:16                          0  \n",
       "...                                        ...  \n",
       "2020-06-26 15:00:43                          0  \n",
       "2020-06-26 15:01:06                          0  \n",
       "2020-06-26 15:07:34                          0  \n",
       "2020-06-26 15:44:00                          0  \n",
       "2020-06-26 15:44:00                          0  \n",
       "\n",
       "[10978 rows x 4 columns]"
      ]
     },
     "execution_count": 67,
     "metadata": {},
     "output_type": "execute_result"
    }
   ],
   "source": [
    "%%time\n",
    "df_test_plot['isolation_forest_score'] = clf_iforest.decision_function(X_test)#calculate score for each observation in testset\n",
    "df_test_plot['isolation_forest_outliers'] = clf_iforest.predict(X_test)# decide for calculated scores if an observation is an outlier or inlier\n",
    "\n",
    "df_test_plot"
   ]
  },
  {
   "cell_type": "code",
   "execution_count": 68,
   "metadata": {},
   "outputs": [
    {
     "data": {
      "text/plain": [
       "<matplotlib.axes._subplots.AxesSubplot at 0x1deede58088>"
      ]
     },
     "execution_count": 68,
     "metadata": {},
     "output_type": "execute_result"
    },
    {
     "data": {
      "image/png": "[encoded data removed]",
      "text/plain": [
       "<Figure size 1152x576 with 1 Axes>"
      ]
     },
     "metadata": {
      "needs_background": "light"
     },
     "output_type": "display_data"
    }
   ],
   "source": [
    "#plot the resuls on testset\n",
    "fig, ax = plt.subplots(figsize=(16,8))\n",
    "markers = {0: \"s\", 1: \"X\"}\n",
    "sns.scatterplot(\n",
    "    data=df_test_plot, \n",
    "    x='x', \n",
    "    y='isolation_forest_score', \n",
    "    hue='is_outlier',\n",
    "    palette=\"Set1\",\n",
    "    sizes=(40, 200), hue_norm=(0, 9),\n",
    "    style='isolation_forest_outliers',\n",
    "    markers= markers,\n",
    "    ax=ax\n",
    ")"
   ]
  },
  {
   "cell_type": "markdown",
   "metadata": {},
   "source": [
    "in the Y axis, the plot shows the “score” values which are the average distance of those observations to others. \n",
    "A high “score” means that observation is far away from the norm.\n",
    "in the X axis, the 'count ' values.\n",
    "*note* in the training,fitting and prediction,the model uses normalized count values.Here, we only use non-normalized values to make the plot readable"
   ]
  },
  {
   "cell_type": "markdown",
   "metadata": {},
   "source": [
    "#### Plot IF results on Test set with Ground Truth labels"
   ]
  },
  {
   "cell_type": "code",
   "execution_count": 69,
   "metadata": {},
   "outputs": [
    {
     "data": {
      "text/plain": [
       "<matplotlib.axes._subplots.AxesSubplot at 0x1deef093748>"
      ]
     },
     "execution_count": 69,
     "metadata": {},
     "output_type": "execute_result"
    },
    {
     "data": {
      "image/png": "[encoded data removed]",
      "text/plain": [
       "<Figure size 1152x576 with 1 Axes>"
      ]
     },
     "metadata": {
      "needs_background": "light"
     },
     "output_type": "display_data"
    }
   ],
   "source": [
    "fig, ax = plt.subplots(figsize=(16,8))\n",
    "markers = {0: \"s\", 1: \"X\"}\n",
    "sns.scatterplot(\n",
    "    data=df_test_plot, \n",
    "    x='x', \n",
    "    y='isolation_forest_score', \n",
    "    hue='is_outlier',\n",
    "\n",
    "    palette=\"Set1\",\n",
    "    sizes=(40, 200), hue_norm=(0, 9),\n",
    "    style='isolation_forest_outliers',\n",
    "    markers= markers,\n",
    "    ax=ax\n",
    ")"
   ]
  },
  {
   "cell_type": "markdown",
   "metadata": {},
   "source": [
    "in the Y axis, the plot shows the “score” values which are the average distance of those observations to others. \n",
    "A high “score” means that observation is far away from the norm.\n",
    "in the X axis, the 'count ' values.\n",
    "*note* in the training,fitting and prediction,the model uses normalized count values.Here, we only use non-normalized values to make the plot readable\n",
    "\n",
    "we add to the plot, the labels from the groundTruth so we can visually estimate how good/bad our model is"
   ]
  },
  {
   "cell_type": "markdown",
   "metadata": {},
   "source": [
    "## Evaluating isolation forest algorithm\n"
   ]
  },
  {
   "cell_type": "code",
   "execution_count": 70,
   "metadata": {},
   "outputs": [
    {
     "name": "stdout",
     "output_type": "stream",
     "text": [
      "\n",
      "On Training Data:\n",
      "Isolation Forest ROC:0.9984, precision @ rank n:0.0\n",
      "\n",
      "On Test Data:\n",
      "Isolation Forest ROC:0.9983, precision @ rank n:0.0\n"
     ]
    },
    {
     "name": "stderr",
     "output_type": "stream",
     "text": [
      "C:\\Users\\Syrine.benaziza\\Anaconda3\\lib\\site-packages\\sklearn\\metrics\\_classification.py:1272: UndefinedMetricWarning: Precision is ill-defined and being set to 0.0 due to no predicted samples. Use `zero_division` parameter to control this behavior.\n",
      "  _warn_prf(average, modifier, msg_start, len(result))\n",
      "C:\\Users\\Syrine.benaziza\\Anaconda3\\lib\\site-packages\\sklearn\\metrics\\_classification.py:1272: UndefinedMetricWarning: Precision is ill-defined and being set to 0.0 due to no predicted samples. Use `zero_division` parameter to control this behavior.\n",
      "  _warn_prf(average, modifier, msg_start, len(result))\n"
     ]
    }
   ],
   "source": [
    "clf_name = 'Isolation Forest'\n",
    "# evaluate and print the results\n",
    "print(\"\\nOn Training Data:\")\n",
    "evaluate_print(clf_name, y_train, df_train_plot.isolation_forest_outliers)\n",
    "print(\"\\nOn Test Data:\")\n",
    "evaluate_print(clf_name, y_test, df_test_plot.isolation_forest_outliers)"
   ]
  },
  {
   "cell_type": "code",
   "execution_count": 71,
   "metadata": {},
   "outputs": [
    {
     "name": "stdout",
     "output_type": "stream",
     "text": [
      "f1_score  0.912294691357145\n",
      "precision_score  0.852\n",
      "recall_score  0.9983011937557392\n"
     ]
    }
   ],
   "source": [
    "\n",
    "\n",
    "y_pred=df_test_plot.isolation_forest_outliers\n",
    "\n",
    "#The F1 score: weighted average of the precision and recall, \n",
    "  #  where an F1 score reaches its best value at 1 and worst score at 0. \n",
    "  #  The relative contribution of precision and recall to the F1 score are equal.\n",
    "    #F1 = 2 * (precision * recall) / (precision + recall)\n",
    "print('f1_score ', f1_score(y_val\n",
    "                            , y_pred, average=\"macro\"))\n",
    "\n",
    "\n",
    "#The precision is the ratio tp / (tp + fp) where tp is the number of true positives and \n",
    "#fp the number of false positives.\n",
    "#The precision is intuitively the ability of the classifier not to label as positive a sample that is negative.\n",
    "print('precision_score ',precision_score(y_val, y_pred, average=\"macro\"))\n",
    "\n",
    "\n",
    "#The recall is the ratio tp / (tp + fn) where tp is the number of true positives and fn the number \n",
    "#of false negatives.\n",
    "#The recall is intuitively the ability of the classifier to find all the positive samples.\n",
    "print('recall_score ',recall_score(y_val, y_pred, average=\"macro\"))"
   ]
  },
  {
   "cell_type": "code",
   "execution_count": 72,
   "metadata": {},
   "outputs": [
    {
     "data": {
      "text/plain": [
       "array([[10853,    37],\n",
       "       [    0,    88]], dtype=int64)"
      ]
     },
     "execution_count": 72,
     "metadata": {},
     "output_type": "execute_result"
    }
   ],
   "source": [
    "\n",
    "\n",
    "confusion_matrix(y_val, y_pred=df_test_plot.isolation_forest_outliers )\n",
    "\n"
   ]
  },
  {
   "cell_type": "code",
   "execution_count": 73,
   "metadata": {},
   "outputs": [
    {
     "data": {
      "image/png": "[encoded data removed]",
      "text/plain": [
       "<Figure size 432x288 with 2 Axes>"
      ]
     },
     "metadata": {
      "needs_background": "light"
     },
     "output_type": "display_data"
    }
   ],
   "source": [
    "\n",
    "\n",
    "# plot the comfusion matrix  in the test set\n",
    "y_preds = clf_iforest.predict(X_test)\n",
    "\n",
    "\n",
    "skplt.metrics.plot_confusion_matrix(y_test,y_preds, normalize=False,\n",
    "                                    title=\" Isolation forest Consfusion Matrix on Test Set\")\n",
    "plt.show()"
   ]
  },
  {
   "cell_type": "markdown",
   "metadata": {},
   "source": [
    "# K Nearest Neighbors\n",
    "    https://pyod.readthedocs.io/en/latest/pyod.models.html#module-pyod.models.knn\n"
   ]
  },
  {
   "cell_type": "code",
   "execution_count": 74,
   "metadata": {},
   "outputs": [],
   "source": [
    "clf_knn = KNN(\n",
    "    contamination=0.01,\n",
    "    n_neighbors=5,\n",
    "    method='median',\n",
    "    algorithm= 'ball_tree',\n",
    "    #leaf_size=30,\n",
    "    metric='minkowski'\n",
    ")\n"
   ]
  },
  {
   "cell_type": "code",
   "execution_count": 75,
   "metadata": {},
   "outputs": [
    {
     "name": "stderr",
     "output_type": "stream",
     "text": [
      "C:\\Users\\Syrine.benaziza\\Anaconda3\\lib\\site-packages\\ipykernel_launcher.py:2: SettingWithCopyWarning: \n",
      "A value is trying to be set on a copy of a slice from a DataFrame.\n",
      "Try using .loc[row_indexer,col_indexer] = value instead\n",
      "\n",
      "See the caveats in the documentation: https://pandas.pydata.org/pandas-docs/stable/user_guide/indexing.html#returning-a-view-versus-a-copy\n",
      "  \n"
     ]
    },
    {
     "name": "stdout",
     "output_type": "stream",
     "text": [
      "Wall time: 8.47 s\n"
     ]
    },
    {
     "name": "stderr",
     "output_type": "stream",
     "text": [
      "C:\\Users\\Syrine.benaziza\\Anaconda3\\lib\\site-packages\\ipykernel_launcher.py:3: SettingWithCopyWarning: \n",
      "A value is trying to be set on a copy of a slice from a DataFrame.\n",
      "Try using .loc[row_indexer,col_indexer] = value instead\n",
      "\n",
      "See the caveats in the documentation: https://pandas.pydata.org/pandas-docs/stable/user_guide/indexing.html#returning-a-view-versus-a-copy\n",
      "  This is separate from the ipykernel package so we can avoid doing imports until\n"
     ]
    },
    {
     "data": {
      "text/html": [
       "<div>\n",
       "<style scoped>\n",
       "    .dataframe tbody tr th:only-of-type {\n",
       "        vertical-align: middle;\n",
       "    }\n",
       "\n",
       "    .dataframe tbody tr th {\n",
       "        vertical-align: top;\n",
       "    }\n",
       "\n",
       "    .dataframe thead th {\n",
       "        text-align: right;\n",
       "    }\n",
       "</style>\n",
       "<table border=\"1\" class=\"dataframe\">\n",
       "  <thead>\n",
       "    <tr style=\"text-align: right;\">\n",
       "      <th></th>\n",
       "      <th>x</th>\n",
       "      <th>is_outlier</th>\n",
       "      <th>isolation_forest_score</th>\n",
       "      <th>isolation_forest_outliers</th>\n",
       "      <th>KNN_score</th>\n",
       "      <th>KNN_outliers</th>\n",
       "    </tr>\n",
       "    <tr>\n",
       "      <th>timestamp</th>\n",
       "      <th></th>\n",
       "      <th></th>\n",
       "      <th></th>\n",
       "      <th></th>\n",
       "      <th></th>\n",
       "      <th></th>\n",
       "    </tr>\n",
       "  </thead>\n",
       "  <tbody>\n",
       "    <tr>\n",
       "      <th>2020-05-04 19:08:38</th>\n",
       "      <td>1</td>\n",
       "      <td>False</td>\n",
       "      <td>-0.318798</td>\n",
       "      <td>0</td>\n",
       "      <td>0.0</td>\n",
       "      <td>0</td>\n",
       "    </tr>\n",
       "    <tr>\n",
       "      <th>2020-05-04 19:09:53</th>\n",
       "      <td>1</td>\n",
       "      <td>False</td>\n",
       "      <td>-0.254099</td>\n",
       "      <td>0</td>\n",
       "      <td>0.0</td>\n",
       "      <td>0</td>\n",
       "    </tr>\n",
       "    <tr>\n",
       "      <th>2020-05-04 20:30:13</th>\n",
       "      <td>1</td>\n",
       "      <td>False</td>\n",
       "      <td>-0.318798</td>\n",
       "      <td>0</td>\n",
       "      <td>0.0</td>\n",
       "      <td>0</td>\n",
       "    </tr>\n",
       "    <tr>\n",
       "      <th>2020-05-04 20:33:58</th>\n",
       "      <td>1</td>\n",
       "      <td>False</td>\n",
       "      <td>-0.353242</td>\n",
       "      <td>0</td>\n",
       "      <td>0.0</td>\n",
       "      <td>0</td>\n",
       "    </tr>\n",
       "    <tr>\n",
       "      <th>2020-05-04 22:02:12</th>\n",
       "      <td>1</td>\n",
       "      <td>False</td>\n",
       "      <td>-0.353242</td>\n",
       "      <td>0</td>\n",
       "      <td>0.0</td>\n",
       "      <td>0</td>\n",
       "    </tr>\n",
       "    <tr>\n",
       "      <th>...</th>\n",
       "      <td>...</td>\n",
       "      <td>...</td>\n",
       "      <td>...</td>\n",
       "      <td>...</td>\n",
       "      <td>...</td>\n",
       "      <td>...</td>\n",
       "    </tr>\n",
       "    <tr>\n",
       "      <th>2020-06-03 22:48:12</th>\n",
       "      <td>5</td>\n",
       "      <td>False</td>\n",
       "      <td>-0.353242</td>\n",
       "      <td>0</td>\n",
       "      <td>0.0</td>\n",
       "      <td>0</td>\n",
       "    </tr>\n",
       "    <tr>\n",
       "      <th>2020-06-03 22:48:12</th>\n",
       "      <td>6</td>\n",
       "      <td>False</td>\n",
       "      <td>-0.318798</td>\n",
       "      <td>0</td>\n",
       "      <td>0.0</td>\n",
       "      <td>0</td>\n",
       "    </tr>\n",
       "    <tr>\n",
       "      <th>2020-06-03 22:48:13</th>\n",
       "      <td>5</td>\n",
       "      <td>False</td>\n",
       "      <td>-0.284251</td>\n",
       "      <td>0</td>\n",
       "      <td>0.0</td>\n",
       "      <td>0</td>\n",
       "    </tr>\n",
       "    <tr>\n",
       "      <th>2020-06-03 22:48:13</th>\n",
       "      <td>6</td>\n",
       "      <td>False</td>\n",
       "      <td>-0.210972</td>\n",
       "      <td>0</td>\n",
       "      <td>0.0</td>\n",
       "      <td>0</td>\n",
       "    </tr>\n",
       "    <tr>\n",
       "      <th>2020-06-03 22:48:14</th>\n",
       "      <td>6</td>\n",
       "      <td>False</td>\n",
       "      <td>-0.353242</td>\n",
       "      <td>0</td>\n",
       "      <td>0.0</td>\n",
       "      <td>0</td>\n",
       "    </tr>\n",
       "  </tbody>\n",
       "</table>\n",
       "<p>25615 rows × 6 columns</p>\n",
       "</div>"
      ],
      "text/plain": [
       "                     x  is_outlier  isolation_forest_score  \\\n",
       "timestamp                                                    \n",
       "2020-05-04 19:08:38  1       False               -0.318798   \n",
       "2020-05-04 19:09:53  1       False               -0.254099   \n",
       "2020-05-04 20:30:13  1       False               -0.318798   \n",
       "2020-05-04 20:33:58  1       False               -0.353242   \n",
       "2020-05-04 22:02:12  1       False               -0.353242   \n",
       "...                 ..         ...                     ...   \n",
       "2020-06-03 22:48:12  5       False               -0.353242   \n",
       "2020-06-03 22:48:12  6       False               -0.318798   \n",
       "2020-06-03 22:48:13  5       False               -0.284251   \n",
       "2020-06-03 22:48:13  6       False               -0.210972   \n",
       "2020-06-03 22:48:14  6       False               -0.353242   \n",
       "\n",
       "                     isolation_forest_outliers  KNN_score  KNN_outliers  \n",
       "timestamp                                                                \n",
       "2020-05-04 19:08:38                          0        0.0             0  \n",
       "2020-05-04 19:09:53                          0        0.0             0  \n",
       "2020-05-04 20:30:13                          0        0.0             0  \n",
       "2020-05-04 20:33:58                          0        0.0             0  \n",
       "2020-05-04 22:02:12                          0        0.0             0  \n",
       "...                                        ...        ...           ...  \n",
       "2020-06-03 22:48:12                          0        0.0             0  \n",
       "2020-06-03 22:48:12                          0        0.0             0  \n",
       "2020-06-03 22:48:13                          0        0.0             0  \n",
       "2020-06-03 22:48:13                          0        0.0             0  \n",
       "2020-06-03 22:48:14                          0        0.0             0  \n",
       "\n",
       "[25615 rows x 6 columns]"
      ]
     },
     "execution_count": 75,
     "metadata": {},
     "output_type": "execute_result"
    }
   ],
   "source": [
    "%%time\n",
    "clf_knn.fit(X_train) #adjust the model to trainset data\n",
    "df_train_plot['KNN_score'] = clf_knn.decision_function(X_train)#calculate the scores for trainset\n",
    "df_train_plot['KNN_outliers'] = clf_knn.predict(X_train)#decide for observations in trainset whether they are anomalies or normal \n",
    "\n",
    "df_train_plot\n",
    "\n"
   ]
  },
  {
   "cell_type": "code",
   "execution_count": 76,
   "metadata": {},
   "outputs": [
    {
     "data": {
      "text/plain": [
       "<matplotlib.axes._subplots.AxesSubplot at 0x1deef5a4948>"
      ]
     },
     "execution_count": 76,
     "metadata": {},
     "output_type": "execute_result"
    },
    {
     "data": {
      "image/png": "[encoded data removed]",
      "text/plain": [
       "<Figure size 1152x576 with 1 Axes>"
      ]
     },
     "metadata": {
      "needs_background": "light"
     },
     "output_type": "display_data"
    }
   ],
   "source": [
    "#scatterplot the obtained results on the trainset\n",
    "fig, ax = plt.subplots(figsize=(16,8))\n",
    "markers = {0: \"s\", 1: \"X\"}\n",
    "sns.scatterplot(\n",
    "    data=df_train_plot, \n",
    "    x='x', \n",
    "    y='isolation_forest_score', \n",
    "    #hue='is_outlier',\n",
    "    hue='isolation_forest_outliers',\n",
    "\n",
    "    palette=\"Set1\",\n",
    "    sizes=(40, 200), #hue_norm=(0, 9),\n",
    "    style='isolation_forest_outliers',\n",
    "    markers= markers,\n",
    "    ax=ax\n",
    ")"
   ]
  },
  {
   "cell_type": "markdown",
   "metadata": {},
   "source": [
    "in the X axis, the histogram shows the “score” values which are the average distance of those observations to others. \n",
    "A high “score” means that observation is far away from the norm.\n",
    "high scores tend to be at low frequency, which validates the assumption of outlier presence\n",
    "in the Y axis, the number of corresponding obsrvations/entrees"
   ]
  },
  {
   "cell_type": "code",
   "execution_count": 77,
   "metadata": {},
   "outputs": [
    {
     "data": {
      "image/png": "[encoded data removed]",
      "text/plain": [
       "<Figure size 432x288 with 1 Axes>"
      ]
     },
     "metadata": {
      "needs_background": "light"
     },
     "output_type": "display_data"
    },
    {
     "name": "stdout",
     "output_type": "stream",
     "text": [
      "Wall time: 120 ms\n"
     ]
    }
   ],
   "source": [
    "%%time\n",
    "\n",
    "# clf.decision_function: Predict raw anomaly score of X using the fitted detector.\n",
    "# We apply the model to the test data X_test to get the outlier scores.\n",
    "y_test_scores =df_train_plot['KNN_score']  # outlier scores\n",
    "y_test_scores = pd.Series(y_test_scores)\n",
    "\n",
    "plt.hist(y_test_scores, bins='auto')  # arguments are passed to np.histogram\n",
    "plt.title(\"Histogram for Model KNN Anomaly Scores\")\n",
    "plt.show()\n"
   ]
  },
  {
   "cell_type": "markdown",
   "metadata": {},
   "source": [
    "    in the X axis, the histogram shows the “score” values whoch are the average distance of those observations to others. \n",
    "    A high “score” means that observation is far away from the norm.\n",
    "    high scores tend to be at low frequency, which validates the assumption of outlier presence\n",
    "    in the Y axis, the number of corresponding obsrvations/entrees\n"
   ]
  },
  {
   "cell_type": "code",
   "execution_count": 78,
   "metadata": {},
   "outputs": [
    {
     "name": "stderr",
     "output_type": "stream",
     "text": [
      "C:\\Users\\Syrine.benaziza\\Anaconda3\\lib\\site-packages\\ipykernel_launcher.py:13: SettingWithCopyWarning: \n",
      "A value is trying to be set on a copy of a slice from a DataFrame.\n",
      "Try using .loc[row_indexer,col_indexer] = value instead\n",
      "\n",
      "See the caveats in the documentation: https://pandas.pydata.org/pandas-docs/stable/user_guide/indexing.html#returning-a-view-versus-a-copy\n",
      "  del sys.path[0]\n",
      "C:\\Users\\Syrine.benaziza\\Anaconda3\\lib\\site-packages\\ipykernel_launcher.py:14: SettingWithCopyWarning: \n",
      "A value is trying to be set on a copy of a slice from a DataFrame.\n",
      "Try using .loc[row_indexer,col_indexer] = value instead\n",
      "\n",
      "See the caveats in the documentation: https://pandas.pydata.org/pandas-docs/stable/user_guide/indexing.html#returning-a-view-versus-a-copy\n",
      "  \n"
     ]
    },
    {
     "data": {
      "text/html": [
       "<div>\n",
       "<style scoped>\n",
       "    .dataframe tbody tr th:only-of-type {\n",
       "        vertical-align: middle;\n",
       "    }\n",
       "\n",
       "    .dataframe tbody tr th {\n",
       "        vertical-align: top;\n",
       "    }\n",
       "\n",
       "    .dataframe thead th {\n",
       "        text-align: right;\n",
       "    }\n",
       "</style>\n",
       "<table border=\"1\" class=\"dataframe\">\n",
       "  <thead>\n",
       "    <tr style=\"text-align: right;\">\n",
       "      <th></th>\n",
       "      <th>x</th>\n",
       "      <th>is_outlier</th>\n",
       "      <th>isolation_forest_score</th>\n",
       "      <th>isolation_forest_outliers</th>\n",
       "      <th>KNN_score</th>\n",
       "      <th>KNN_outliers</th>\n",
       "    </tr>\n",
       "    <tr>\n",
       "      <th>timestamp</th>\n",
       "      <th></th>\n",
       "      <th></th>\n",
       "      <th></th>\n",
       "      <th></th>\n",
       "      <th></th>\n",
       "      <th></th>\n",
       "    </tr>\n",
       "  </thead>\n",
       "  <tbody>\n",
       "    <tr>\n",
       "      <th>2020-06-03 22:48:14</th>\n",
       "      <td>3</td>\n",
       "      <td>False</td>\n",
       "      <td>-0.240971</td>\n",
       "      <td>0</td>\n",
       "      <td>0.0</td>\n",
       "      <td>0</td>\n",
       "    </tr>\n",
       "    <tr>\n",
       "      <th>2020-06-03 22:48:15</th>\n",
       "      <td>6</td>\n",
       "      <td>False</td>\n",
       "      <td>-0.265321</td>\n",
       "      <td>0</td>\n",
       "      <td>0.0</td>\n",
       "      <td>0</td>\n",
       "    </tr>\n",
       "    <tr>\n",
       "      <th>2020-06-03 22:48:15</th>\n",
       "      <td>6</td>\n",
       "      <td>False</td>\n",
       "      <td>-0.254099</td>\n",
       "      <td>0</td>\n",
       "      <td>0.0</td>\n",
       "      <td>0</td>\n",
       "    </tr>\n",
       "    <tr>\n",
       "      <th>2020-06-03 22:48:16</th>\n",
       "      <td>5</td>\n",
       "      <td>False</td>\n",
       "      <td>-0.284251</td>\n",
       "      <td>0</td>\n",
       "      <td>0.0</td>\n",
       "      <td>0</td>\n",
       "    </tr>\n",
       "    <tr>\n",
       "      <th>2020-06-03 22:48:16</th>\n",
       "      <td>6</td>\n",
       "      <td>False</td>\n",
       "      <td>-0.265321</td>\n",
       "      <td>0</td>\n",
       "      <td>0.0</td>\n",
       "      <td>0</td>\n",
       "    </tr>\n",
       "    <tr>\n",
       "      <th>...</th>\n",
       "      <td>...</td>\n",
       "      <td>...</td>\n",
       "      <td>...</td>\n",
       "      <td>...</td>\n",
       "      <td>...</td>\n",
       "      <td>...</td>\n",
       "    </tr>\n",
       "    <tr>\n",
       "      <th>2020-06-26 15:00:43</th>\n",
       "      <td>1</td>\n",
       "      <td>False</td>\n",
       "      <td>-0.318798</td>\n",
       "      <td>0</td>\n",
       "      <td>0.0</td>\n",
       "      <td>0</td>\n",
       "    </tr>\n",
       "    <tr>\n",
       "      <th>2020-06-26 15:01:06</th>\n",
       "      <td>1</td>\n",
       "      <td>False</td>\n",
       "      <td>-0.353242</td>\n",
       "      <td>0</td>\n",
       "      <td>0.0</td>\n",
       "      <td>0</td>\n",
       "    </tr>\n",
       "    <tr>\n",
       "      <th>2020-06-26 15:07:34</th>\n",
       "      <td>1</td>\n",
       "      <td>False</td>\n",
       "      <td>-0.318798</td>\n",
       "      <td>0</td>\n",
       "      <td>0.0</td>\n",
       "      <td>0</td>\n",
       "    </tr>\n",
       "    <tr>\n",
       "      <th>2020-06-26 15:44:00</th>\n",
       "      <td>1</td>\n",
       "      <td>False</td>\n",
       "      <td>-0.318798</td>\n",
       "      <td>0</td>\n",
       "      <td>0.0</td>\n",
       "      <td>0</td>\n",
       "    </tr>\n",
       "    <tr>\n",
       "      <th>2020-06-26 15:44:00</th>\n",
       "      <td>1</td>\n",
       "      <td>False</td>\n",
       "      <td>-0.318798</td>\n",
       "      <td>0</td>\n",
       "      <td>0.0</td>\n",
       "      <td>0</td>\n",
       "    </tr>\n",
       "  </tbody>\n",
       "</table>\n",
       "<p>10978 rows × 6 columns</p>\n",
       "</div>"
      ],
      "text/plain": [
       "                     x  is_outlier  isolation_forest_score  \\\n",
       "timestamp                                                    \n",
       "2020-06-03 22:48:14  3       False               -0.240971   \n",
       "2020-06-03 22:48:15  6       False               -0.265321   \n",
       "2020-06-03 22:48:15  6       False               -0.254099   \n",
       "2020-06-03 22:48:16  5       False               -0.284251   \n",
       "2020-06-03 22:48:16  6       False               -0.265321   \n",
       "...                 ..         ...                     ...   \n",
       "2020-06-26 15:00:43  1       False               -0.318798   \n",
       "2020-06-26 15:01:06  1       False               -0.353242   \n",
       "2020-06-26 15:07:34  1       False               -0.318798   \n",
       "2020-06-26 15:44:00  1       False               -0.318798   \n",
       "2020-06-26 15:44:00  1       False               -0.318798   \n",
       "\n",
       "                     isolation_forest_outliers  KNN_score  KNN_outliers  \n",
       "timestamp                                                                \n",
       "2020-06-03 22:48:14                          0        0.0             0  \n",
       "2020-06-03 22:48:15                          0        0.0             0  \n",
       "2020-06-03 22:48:15                          0        0.0             0  \n",
       "2020-06-03 22:48:16                          0        0.0             0  \n",
       "2020-06-03 22:48:16                          0        0.0             0  \n",
       "...                                        ...        ...           ...  \n",
       "2020-06-26 15:00:43                          0        0.0             0  \n",
       "2020-06-26 15:01:06                          0        0.0             0  \n",
       "2020-06-26 15:07:34                          0        0.0             0  \n",
       "2020-06-26 15:44:00                          0        0.0             0  \n",
       "2020-06-26 15:44:00                          0        0.0             0  \n",
       "\n",
       "[10978 rows x 6 columns]"
      ]
     },
     "execution_count": 78,
     "metadata": {},
     "output_type": "execute_result"
    }
   ],
   "source": [
    "# clf.decision_function: Predict raw anomaly score of X using the fitted detector.\n",
    "# We apply the model to the test data X_test to get the outlier scores.\n",
    "y_test_scores = clf_knn.decision_function(X_test )  # outlier scores\n",
    "y_test_scores = pd.Series(y_test_scores)\n",
    "y_test_scores\n",
    "\n",
    "\n",
    "# get the prediction on the test data\n",
    "\n",
    "# clf.decision_function: Predict raw anomaly score of X using the fitted detector.\n",
    "# We apply the model to the test data X_test to get the outlier scores.\n",
    "\n",
    "df_test_plot['KNN_score'] = clf_knn.decision_function(X_test)\n",
    "df_test_plot['KNN_outliers'] = clf_knn.predict(X_test)\n",
    "\n",
    "df_test_plot"
   ]
  },
  {
   "cell_type": "code",
   "execution_count": 79,
   "metadata": {},
   "outputs": [
    {
     "data": {
      "text/plain": [
       "<matplotlib.axes._subplots.AxesSubplot at 0x1deecabc948>"
      ]
     },
     "execution_count": 79,
     "metadata": {},
     "output_type": "execute_result"
    },
    {
     "data": {
      "image/png": "[encoded data removed]",
      "text/plain": [
       "<Figure size 1152x576 with 1 Axes>"
      ]
     },
     "metadata": {
      "needs_background": "light"
     },
     "output_type": "display_data"
    }
   ],
   "source": [
    "#plot the resuls on testset\n",
    "fig, ax = plt.subplots(figsize=(16,8))\n",
    "markers = {0: \"s\", 1: \"X\"}\n",
    "sns.scatterplot(\n",
    "    data=df_test_plot, \n",
    "    x='x', \n",
    "    y='isolation_forest_score', \n",
    "     #hue='is_outlier',\n",
    "    hue='isolation_forest_outliers',\n",
    "\n",
    "    palette=\"Set1\",\n",
    "    sizes=(40, 200), hue_norm=(0, 9),\n",
    "    style='isolation_forest_outliers',\n",
    "    markers= markers,\n",
    "    ax=ax\n",
    ")"
   ]
  },
  {
   "cell_type": "markdown",
   "metadata": {},
   "source": [
    "in the X axis, the histogram shows the “score” values which are the average distance of those observations to others. \n",
    "A high “score” means that observation is far away from the norm.\n",
    "high scores tend to be at low frequency, which validates the assumption of outlier presence\n",
    "in the Y axis, the number of corresponding obsrvations/entrees"
   ]
  },
  {
   "cell_type": "code",
   "execution_count": 80,
   "metadata": {},
   "outputs": [
    {
     "data": {
      "text/plain": [
       "<matplotlib.axes._subplots.AxesSubplot at 0x1deec974f08>"
      ]
     },
     "execution_count": 80,
     "metadata": {},
     "output_type": "execute_result"
    },
    {
     "data": {
      "image/png": "[encoded data removed]",
      "text/plain": [
       "<Figure size 1152x576 with 1 Axes>"
      ]
     },
     "metadata": {
      "needs_background": "light"
     },
     "output_type": "display_data"
    }
   ],
   "source": [
    "#scatterplot the results of the testset predictions with the groundtruth labels\n",
    "fig, ax = plt.subplots(figsize=(16,8))\n",
    "markers = {0: \"s\", 1: \"X\"}\n",
    "sns.scatterplot(\n",
    "    data=df_test_plot, \n",
    "    x='x', \n",
    "    y='KNN_score', \n",
    "    hue='is_outlier',\n",
    "    style='KNN_outliers',\n",
    "    palette=\"Set1\",\n",
    "    sizes=(40, 200), hue_norm=(0, 9),\n",
    "    markers= markers,\n",
    "    ax=ax\n",
    ")"
   ]
  },
  {
   "cell_type": "markdown",
   "metadata": {},
   "source": [
    "in the Y axis, the plot shows the “score” values which are the average distance of those observations to others. \n",
    "A high “score” means that observation is far away from the norm.\n",
    "in the X axis, the 'count ' values.\n",
    "*note* in the training,fitting and prediction,the model uses normalized count values.Here, we only use non-normalized values to make the plot readable\n",
    "\n",
    "we add to the plot, the labels from the groundTruth so we can visually estimate how good/bad our model is"
   ]
  },
  {
   "cell_type": "code",
   "execution_count": 81,
   "metadata": {},
   "outputs": [
    {
     "name": "stdout",
     "output_type": "stream",
     "text": [
      "f1_score  0.8059642540101426\n",
      "precision_score  0.9977603071578756\n",
      "recall_score  0.7215909090909091\n"
     ]
    }
   ],
   "source": [
    "\n",
    "\n",
    "confusion_matrix(y_val, y_pred=df_test_plot.KNN_outliers )\n",
    "\n",
    "y_pred=df_test_plot.KNN_outliers\n",
    "\n",
    "#The F1 score: weighted average of the precision and recall, \n",
    "  #  where an F1 score reaches its best value at 1 and worst score at 0. \n",
    "  #  The relative contribution of precision and recall to the F1 score are equal.\n",
    "    #F1 = 2 * (precision * recall) / (precision + recall)\n",
    "print('f1_score ', f1_score(y_val, y_pred, average=\"macro\"))\n",
    "\n",
    "\n",
    "#The precision is the ratio tp / (tp + fp) where tp is the number of true positives and \n",
    "#fp the number of false positives.\n",
    "#The precision is intuitively the ability of the classifier not to label as positive a sample that is negative.\n",
    "print('precision_score ',precision_score(y_val, y_pred, average=\"macro\"))\n",
    "\n",
    "\n",
    "#The recall is the ratio tp / (tp + fn) where tp is the number of true positives and fn the number \n",
    "#of false negatives.\n",
    "#The recall is intuitively the ability of the classifier to find all the positive samples.\n",
    "print('recall_score ',recall_score(y_val, y_pred, average=\"macro\"))"
   ]
  },
  {
   "cell_type": "markdown",
   "metadata": {},
   "source": [
    "After training our KNN Detector model, we can get the prediction labels on the training data and then get the outlier scores of the training data. The higher the scores are, the more abnormal. This indicates the overall abnormality in the data. These features make PyOD a great utility for anomaly detection tasks.\n"
   ]
  },
  {
   "cell_type": "code",
   "execution_count": 82,
   "metadata": {},
   "outputs": [],
   "source": [
    "# Get the prediction labels of the training data \n",
    "y_train_pred = clf_knn.predict(X_train) # binary labels (0: inliers, 1: outliers) # Outlier scores \n",
    "y_train_scores = clf_knn.decision_function(X_train)\n",
    "\n",
    "y_test_scores = clf_knn.decision_function(X_test)  # outlier scores\n"
   ]
  },
  {
   "cell_type": "markdown",
   "metadata": {},
   "source": [
    "We can evaluate KNN() with respect to the training data. PyOD provides a handy function for this task called evaluate_print(). The default metrics include ROC and Precision @ n. We will pass class name, y_train values and y_train_scores(outlier scores as returned by a fitted model.)\n"
   ]
  },
  {
   "cell_type": "code",
   "execution_count": 83,
   "metadata": {},
   "outputs": [
    {
     "name": "stdout",
     "output_type": "stream",
     "text": [
      "KNN ROC:0.681, precision @ rank n:1.0\n",
      "KNN ROC:0.7216, precision @ rank n:1.0\n"
     ]
    }
   ],
   "source": [
    "# Evaluate on the training data \n",
    "evaluate_print('KNN', y_train, y_train_scores)\n",
    "# Evaluate on the test data\n",
    "evaluate_print('KNN', y_test,y_test_scores)\n"
   ]
  },
  {
   "cell_type": "markdown",
   "metadata": {},
   "source": [
    "We will use decision_function to predict anomaly scores of the test set using the \n",
    "fitted detector(KNN Detector) and evaluate the results.\n"
   ]
  },
  {
   "cell_type": "code",
   "execution_count": 84,
   "metadata": {},
   "outputs": [
    {
     "data": {
      "image/png": "[encoded data removed]",
      "text/plain": [
       "<Figure size 432x288 with 2 Axes>"
      ]
     },
     "metadata": {
      "needs_background": "light"
     },
     "output_type": "display_data"
    }
   ],
   "source": [
    "#Our KNN() model continues to perform well on the test set. Let’s plot the confusion matrix for the test set.\n",
    "\n",
    "# plot the comfusion matrix  in the test set\n",
    "y_preds = clf_knn.predict(X_test)\n",
    "\n",
    "skplt.metrics.plot_confusion_matrix(y_val,y_preds, normalize=False,\n",
    "                                    title=\"Consfusion Matrix on Test Set\")\n",
    "plt.show()"
   ]
  },
  {
   "cell_type": "markdown",
   "metadata": {},
   "source": [
    "## LOF\n"
   ]
  },
  {
   "cell_type": "code",
   "execution_count": 85,
   "metadata": {},
   "outputs": [],
   "source": [
    "clf_lof = LOF(\n",
    "    algorithm='auto',\n",
    "    n_neighbors=30 ,\n",
    "    contamination=0.1,\n",
    "    metric='minkowski',\n",
    "    n_jobs=1)\n",
    "\n",
    "#A quick tip: the square-root of the number of samples\n",
    "    #is usually a good choice of n_neighbor so include it in GridSearchCV. \n",
    "\n",
    "                  "
   ]
  },
  {
   "cell_type": "code",
   "execution_count": 86,
   "metadata": {},
   "outputs": [
    {
     "name": "stderr",
     "output_type": "stream",
     "text": [
      "C:\\Users\\Syrine.benaziza\\Anaconda3\\lib\\site-packages\\ipykernel_launcher.py:3: SettingWithCopyWarning: \n",
      "A value is trying to be set on a copy of a slice from a DataFrame.\n",
      "Try using .loc[row_indexer,col_indexer] = value instead\n",
      "\n",
      "See the caveats in the documentation: https://pandas.pydata.org/pandas-docs/stable/user_guide/indexing.html#returning-a-view-versus-a-copy\n",
      "  This is separate from the ipykernel package so we can avoid doing imports until\n"
     ]
    },
    {
     "name": "stdout",
     "output_type": "stream",
     "text": [
      "Wall time: 2.36 s\n"
     ]
    },
    {
     "name": "stderr",
     "output_type": "stream",
     "text": [
      "C:\\Users\\Syrine.benaziza\\Anaconda3\\lib\\site-packages\\ipykernel_launcher.py:4: SettingWithCopyWarning: \n",
      "A value is trying to be set on a copy of a slice from a DataFrame.\n",
      "Try using .loc[row_indexer,col_indexer] = value instead\n",
      "\n",
      "See the caveats in the documentation: https://pandas.pydata.org/pandas-docs/stable/user_guide/indexing.html#returning-a-view-versus-a-copy\n",
      "  after removing the cwd from sys.path.\n"
     ]
    },
    {
     "data": {
      "text/html": [
       "<div>\n",
       "<style scoped>\n",
       "    .dataframe tbody tr th:only-of-type {\n",
       "        vertical-align: middle;\n",
       "    }\n",
       "\n",
       "    .dataframe tbody tr th {\n",
       "        vertical-align: top;\n",
       "    }\n",
       "\n",
       "    .dataframe thead th {\n",
       "        text-align: right;\n",
       "    }\n",
       "</style>\n",
       "<table border=\"1\" class=\"dataframe\">\n",
       "  <thead>\n",
       "    <tr style=\"text-align: right;\">\n",
       "      <th></th>\n",
       "      <th>x</th>\n",
       "      <th>is_outlier</th>\n",
       "      <th>isolation_forest_score</th>\n",
       "      <th>isolation_forest_outliers</th>\n",
       "      <th>KNN_score</th>\n",
       "      <th>KNN_outliers</th>\n",
       "      <th>LOF_score</th>\n",
       "      <th>LOF_outliers</th>\n",
       "    </tr>\n",
       "    <tr>\n",
       "      <th>timestamp</th>\n",
       "      <th></th>\n",
       "      <th></th>\n",
       "      <th></th>\n",
       "      <th></th>\n",
       "      <th></th>\n",
       "      <th></th>\n",
       "      <th></th>\n",
       "      <th></th>\n",
       "    </tr>\n",
       "  </thead>\n",
       "  <tbody>\n",
       "    <tr>\n",
       "      <th>2020-05-04 19:08:38</th>\n",
       "      <td>1</td>\n",
       "      <td>False</td>\n",
       "      <td>-0.318798</td>\n",
       "      <td>0</td>\n",
       "      <td>0.0</td>\n",
       "      <td>0</td>\n",
       "      <td>1.0</td>\n",
       "      <td>0</td>\n",
       "    </tr>\n",
       "    <tr>\n",
       "      <th>2020-05-04 19:09:53</th>\n",
       "      <td>1</td>\n",
       "      <td>False</td>\n",
       "      <td>-0.254099</td>\n",
       "      <td>0</td>\n",
       "      <td>0.0</td>\n",
       "      <td>0</td>\n",
       "      <td>1.0</td>\n",
       "      <td>0</td>\n",
       "    </tr>\n",
       "    <tr>\n",
       "      <th>2020-05-04 20:30:13</th>\n",
       "      <td>1</td>\n",
       "      <td>False</td>\n",
       "      <td>-0.318798</td>\n",
       "      <td>0</td>\n",
       "      <td>0.0</td>\n",
       "      <td>0</td>\n",
       "      <td>1.0</td>\n",
       "      <td>0</td>\n",
       "    </tr>\n",
       "    <tr>\n",
       "      <th>2020-05-04 20:33:58</th>\n",
       "      <td>1</td>\n",
       "      <td>False</td>\n",
       "      <td>-0.353242</td>\n",
       "      <td>0</td>\n",
       "      <td>0.0</td>\n",
       "      <td>0</td>\n",
       "      <td>1.0</td>\n",
       "      <td>0</td>\n",
       "    </tr>\n",
       "    <tr>\n",
       "      <th>2020-05-04 22:02:12</th>\n",
       "      <td>1</td>\n",
       "      <td>False</td>\n",
       "      <td>-0.353242</td>\n",
       "      <td>0</td>\n",
       "      <td>0.0</td>\n",
       "      <td>0</td>\n",
       "      <td>1.0</td>\n",
       "      <td>0</td>\n",
       "    </tr>\n",
       "    <tr>\n",
       "      <th>...</th>\n",
       "      <td>...</td>\n",
       "      <td>...</td>\n",
       "      <td>...</td>\n",
       "      <td>...</td>\n",
       "      <td>...</td>\n",
       "      <td>...</td>\n",
       "      <td>...</td>\n",
       "      <td>...</td>\n",
       "    </tr>\n",
       "    <tr>\n",
       "      <th>2020-06-03 22:48:12</th>\n",
       "      <td>5</td>\n",
       "      <td>False</td>\n",
       "      <td>-0.353242</td>\n",
       "      <td>0</td>\n",
       "      <td>0.0</td>\n",
       "      <td>0</td>\n",
       "      <td>1.0</td>\n",
       "      <td>0</td>\n",
       "    </tr>\n",
       "    <tr>\n",
       "      <th>2020-06-03 22:48:12</th>\n",
       "      <td>6</td>\n",
       "      <td>False</td>\n",
       "      <td>-0.318798</td>\n",
       "      <td>0</td>\n",
       "      <td>0.0</td>\n",
       "      <td>0</td>\n",
       "      <td>1.0</td>\n",
       "      <td>0</td>\n",
       "    </tr>\n",
       "    <tr>\n",
       "      <th>2020-06-03 22:48:13</th>\n",
       "      <td>5</td>\n",
       "      <td>False</td>\n",
       "      <td>-0.284251</td>\n",
       "      <td>0</td>\n",
       "      <td>0.0</td>\n",
       "      <td>0</td>\n",
       "      <td>1.0</td>\n",
       "      <td>0</td>\n",
       "    </tr>\n",
       "    <tr>\n",
       "      <th>2020-06-03 22:48:13</th>\n",
       "      <td>6</td>\n",
       "      <td>False</td>\n",
       "      <td>-0.210972</td>\n",
       "      <td>0</td>\n",
       "      <td>0.0</td>\n",
       "      <td>0</td>\n",
       "      <td>1.0</td>\n",
       "      <td>0</td>\n",
       "    </tr>\n",
       "    <tr>\n",
       "      <th>2020-06-03 22:48:14</th>\n",
       "      <td>6</td>\n",
       "      <td>False</td>\n",
       "      <td>-0.353242</td>\n",
       "      <td>0</td>\n",
       "      <td>0.0</td>\n",
       "      <td>0</td>\n",
       "      <td>1.0</td>\n",
       "      <td>0</td>\n",
       "    </tr>\n",
       "  </tbody>\n",
       "</table>\n",
       "<p>25615 rows × 8 columns</p>\n",
       "</div>"
      ],
      "text/plain": [
       "                     x  is_outlier  isolation_forest_score  \\\n",
       "timestamp                                                    \n",
       "2020-05-04 19:08:38  1       False               -0.318798   \n",
       "2020-05-04 19:09:53  1       False               -0.254099   \n",
       "2020-05-04 20:30:13  1       False               -0.318798   \n",
       "2020-05-04 20:33:58  1       False               -0.353242   \n",
       "2020-05-04 22:02:12  1       False               -0.353242   \n",
       "...                 ..         ...                     ...   \n",
       "2020-06-03 22:48:12  5       False               -0.353242   \n",
       "2020-06-03 22:48:12  6       False               -0.318798   \n",
       "2020-06-03 22:48:13  5       False               -0.284251   \n",
       "2020-06-03 22:48:13  6       False               -0.210972   \n",
       "2020-06-03 22:48:14  6       False               -0.353242   \n",
       "\n",
       "                     isolation_forest_outliers  KNN_score  KNN_outliers  \\\n",
       "timestamp                                                                 \n",
       "2020-05-04 19:08:38                          0        0.0             0   \n",
       "2020-05-04 19:09:53                          0        0.0             0   \n",
       "2020-05-04 20:30:13                          0        0.0             0   \n",
       "2020-05-04 20:33:58                          0        0.0             0   \n",
       "2020-05-04 22:02:12                          0        0.0             0   \n",
       "...                                        ...        ...           ...   \n",
       "2020-06-03 22:48:12                          0        0.0             0   \n",
       "2020-06-03 22:48:12                          0        0.0             0   \n",
       "2020-06-03 22:48:13                          0        0.0             0   \n",
       "2020-06-03 22:48:13                          0        0.0             0   \n",
       "2020-06-03 22:48:14                          0        0.0             0   \n",
       "\n",
       "                     LOF_score  LOF_outliers  \n",
       "timestamp                                     \n",
       "2020-05-04 19:08:38        1.0             0  \n",
       "2020-05-04 19:09:53        1.0             0  \n",
       "2020-05-04 20:30:13        1.0             0  \n",
       "2020-05-04 20:33:58        1.0             0  \n",
       "2020-05-04 22:02:12        1.0             0  \n",
       "...                        ...           ...  \n",
       "2020-06-03 22:48:12        1.0             0  \n",
       "2020-06-03 22:48:12        1.0             0  \n",
       "2020-06-03 22:48:13        1.0             0  \n",
       "2020-06-03 22:48:13        1.0             0  \n",
       "2020-06-03 22:48:14        1.0             0  \n",
       "\n",
       "[25615 rows x 8 columns]"
      ]
     },
     "execution_count": 86,
     "metadata": {},
     "output_type": "execute_result"
    }
   ],
   "source": [
    "%%time\n",
    "\n",
    "clf_lof.fit(X_train) #adjust the model to our trainset\n",
    "#train visualization\n",
    "df_train_plot['LOF_score'] = clf_lof.decision_function(X_train)#calculate scores for observations in the trainset\n",
    "df_train_plot['LOF_outliers'] = clf_lof.predict(X_train)#decide if an observation is outlier/inlier based the score\n",
    "\n",
    "df_train_plot\n"
   ]
  },
  {
   "cell_type": "code",
   "execution_count": 87,
   "metadata": {},
   "outputs": [
    {
     "name": "stdout",
     "output_type": "stream",
     "text": [
      "Wall time: 338 ms\n"
     ]
    }
   ],
   "source": [
    "%%time\n",
    "\n",
    "# clf.decision_function: Predict raw anomaly score of X using the fitted detector.\n",
    "# We apply the model to the test data X_test to get the outlier scores.\n",
    "y_test_scores =clf_lof.decision_function(X_test )  # outlier scores\n",
    "y_test_scores = pd.Series(y_test_scores)\n",
    "\n",
    "\n"
   ]
  },
  {
   "cell_type": "code",
   "execution_count": 88,
   "metadata": {},
   "outputs": [
    {
     "data": {
      "text/plain": [
       "<matplotlib.axes._subplots.AxesSubplot at 0x1deecf867c8>"
      ]
     },
     "execution_count": 88,
     "metadata": {},
     "output_type": "execute_result"
    },
    {
     "data": {
      "image/png": "[encoded data removed]",
      "text/plain": [
       "<Figure size 1152x576 with 1 Axes>"
      ]
     },
     "metadata": {
      "needs_background": "light"
     },
     "output_type": "display_data"
    }
   ],
   "source": [
    "#scatterplot the results\n",
    "fig, ax = plt.subplots(figsize=(16,8))\n",
    "markers = {0: \"s\", 1: \"X\"}\n",
    "sns.scatterplot(\n",
    "    data=df_train_plot, \n",
    "    x='x', \n",
    "    y='LOF_score', \n",
    "    #hue='is_outlier',\n",
    "    hue='LOF_outliers',\n",
    "    style='LOF_outliers',\n",
    "    palette=\"Set1\",\n",
    "    sizes=(40, 200), hue_norm=(0, 9),\n",
    "    markers= markers,\n",
    "    ax=ax\n",
    ")"
   ]
  },
  {
   "cell_type": "markdown",
   "metadata": {},
   "source": [
    "in the Y axis, the plot shows the “score” values which are the average distance of those observations to others. \n",
    "A high “score” means that observation is far away from the norm.\n",
    "in the X axis, the 'count ' values.\n",
    "*note* in the training,fitting and prediction,the model uses normalized count values.Here, we only use non-normalized values to make the plot readable\n",
    "\n"
   ]
  },
  {
   "cell_type": "code",
   "execution_count": 90,
   "metadata": {},
   "outputs": [
    {
     "name": "stderr",
     "output_type": "stream",
     "text": [
      "C:\\Users\\Syrine.benaziza\\Anaconda3\\lib\\site-packages\\ipykernel_launcher.py:9: SettingWithCopyWarning: \n",
      "A value is trying to be set on a copy of a slice from a DataFrame.\n",
      "Try using .loc[row_indexer,col_indexer] = value instead\n",
      "\n",
      "See the caveats in the documentation: https://pandas.pydata.org/pandas-docs/stable/user_guide/indexing.html#returning-a-view-versus-a-copy\n",
      "  if __name__ == '__main__':\n",
      "C:\\Users\\Syrine.benaziza\\Anaconda3\\lib\\site-packages\\ipykernel_launcher.py:10: SettingWithCopyWarning: \n",
      "A value is trying to be set on a copy of a slice from a DataFrame.\n",
      "Try using .loc[row_indexer,col_indexer] = value instead\n",
      "\n",
      "See the caveats in the documentation: https://pandas.pydata.org/pandas-docs/stable/user_guide/indexing.html#returning-a-view-versus-a-copy\n",
      "  # Remove the CWD from sys.path while we load stuff.\n"
     ]
    },
    {
     "data": {
      "text/html": [
       "<div>\n",
       "<style scoped>\n",
       "    .dataframe tbody tr th:only-of-type {\n",
       "        vertical-align: middle;\n",
       "    }\n",
       "\n",
       "    .dataframe tbody tr th {\n",
       "        vertical-align: top;\n",
       "    }\n",
       "\n",
       "    .dataframe thead th {\n",
       "        text-align: right;\n",
       "    }\n",
       "</style>\n",
       "<table border=\"1\" class=\"dataframe\">\n",
       "  <thead>\n",
       "    <tr style=\"text-align: right;\">\n",
       "      <th></th>\n",
       "      <th>x</th>\n",
       "      <th>is_outlier</th>\n",
       "      <th>isolation_forest_score</th>\n",
       "      <th>isolation_forest_outliers</th>\n",
       "      <th>KNN_score</th>\n",
       "      <th>KNN_outliers</th>\n",
       "      <th>LOF_score</th>\n",
       "      <th>LOF_outliers</th>\n",
       "    </tr>\n",
       "    <tr>\n",
       "      <th>timestamp</th>\n",
       "      <th></th>\n",
       "      <th></th>\n",
       "      <th></th>\n",
       "      <th></th>\n",
       "      <th></th>\n",
       "      <th></th>\n",
       "      <th></th>\n",
       "      <th></th>\n",
       "    </tr>\n",
       "  </thead>\n",
       "  <tbody>\n",
       "    <tr>\n",
       "      <th>2020-06-03 22:48:14</th>\n",
       "      <td>3</td>\n",
       "      <td>False</td>\n",
       "      <td>-0.240971</td>\n",
       "      <td>0</td>\n",
       "      <td>0.0</td>\n",
       "      <td>0</td>\n",
       "      <td>1.0</td>\n",
       "      <td>0</td>\n",
       "    </tr>\n",
       "    <tr>\n",
       "      <th>2020-06-03 22:48:15</th>\n",
       "      <td>6</td>\n",
       "      <td>False</td>\n",
       "      <td>-0.265321</td>\n",
       "      <td>0</td>\n",
       "      <td>0.0</td>\n",
       "      <td>0</td>\n",
       "      <td>1.0</td>\n",
       "      <td>0</td>\n",
       "    </tr>\n",
       "    <tr>\n",
       "      <th>2020-06-03 22:48:15</th>\n",
       "      <td>6</td>\n",
       "      <td>False</td>\n",
       "      <td>-0.254099</td>\n",
       "      <td>0</td>\n",
       "      <td>0.0</td>\n",
       "      <td>0</td>\n",
       "      <td>1.0</td>\n",
       "      <td>0</td>\n",
       "    </tr>\n",
       "    <tr>\n",
       "      <th>2020-06-03 22:48:16</th>\n",
       "      <td>5</td>\n",
       "      <td>False</td>\n",
       "      <td>-0.284251</td>\n",
       "      <td>0</td>\n",
       "      <td>0.0</td>\n",
       "      <td>0</td>\n",
       "      <td>1.0</td>\n",
       "      <td>0</td>\n",
       "    </tr>\n",
       "    <tr>\n",
       "      <th>2020-06-03 22:48:16</th>\n",
       "      <td>6</td>\n",
       "      <td>False</td>\n",
       "      <td>-0.265321</td>\n",
       "      <td>0</td>\n",
       "      <td>0.0</td>\n",
       "      <td>0</td>\n",
       "      <td>1.0</td>\n",
       "      <td>0</td>\n",
       "    </tr>\n",
       "    <tr>\n",
       "      <th>...</th>\n",
       "      <td>...</td>\n",
       "      <td>...</td>\n",
       "      <td>...</td>\n",
       "      <td>...</td>\n",
       "      <td>...</td>\n",
       "      <td>...</td>\n",
       "      <td>...</td>\n",
       "      <td>...</td>\n",
       "    </tr>\n",
       "    <tr>\n",
       "      <th>2020-06-26 15:00:43</th>\n",
       "      <td>1</td>\n",
       "      <td>False</td>\n",
       "      <td>-0.318798</td>\n",
       "      <td>0</td>\n",
       "      <td>0.0</td>\n",
       "      <td>0</td>\n",
       "      <td>1.0</td>\n",
       "      <td>0</td>\n",
       "    </tr>\n",
       "    <tr>\n",
       "      <th>2020-06-26 15:01:06</th>\n",
       "      <td>1</td>\n",
       "      <td>False</td>\n",
       "      <td>-0.353242</td>\n",
       "      <td>0</td>\n",
       "      <td>0.0</td>\n",
       "      <td>0</td>\n",
       "      <td>1.0</td>\n",
       "      <td>0</td>\n",
       "    </tr>\n",
       "    <tr>\n",
       "      <th>2020-06-26 15:07:34</th>\n",
       "      <td>1</td>\n",
       "      <td>False</td>\n",
       "      <td>-0.318798</td>\n",
       "      <td>0</td>\n",
       "      <td>0.0</td>\n",
       "      <td>0</td>\n",
       "      <td>1.0</td>\n",
       "      <td>0</td>\n",
       "    </tr>\n",
       "    <tr>\n",
       "      <th>2020-06-26 15:44:00</th>\n",
       "      <td>1</td>\n",
       "      <td>False</td>\n",
       "      <td>-0.318798</td>\n",
       "      <td>0</td>\n",
       "      <td>0.0</td>\n",
       "      <td>0</td>\n",
       "      <td>1.0</td>\n",
       "      <td>0</td>\n",
       "    </tr>\n",
       "    <tr>\n",
       "      <th>2020-06-26 15:44:00</th>\n",
       "      <td>1</td>\n",
       "      <td>False</td>\n",
       "      <td>-0.318798</td>\n",
       "      <td>0</td>\n",
       "      <td>0.0</td>\n",
       "      <td>0</td>\n",
       "      <td>1.0</td>\n",
       "      <td>0</td>\n",
       "    </tr>\n",
       "  </tbody>\n",
       "</table>\n",
       "<p>10978 rows × 8 columns</p>\n",
       "</div>"
      ],
      "text/plain": [
       "                     x  is_outlier  isolation_forest_score  \\\n",
       "timestamp                                                    \n",
       "2020-06-03 22:48:14  3       False               -0.240971   \n",
       "2020-06-03 22:48:15  6       False               -0.265321   \n",
       "2020-06-03 22:48:15  6       False               -0.254099   \n",
       "2020-06-03 22:48:16  5       False               -0.284251   \n",
       "2020-06-03 22:48:16  6       False               -0.265321   \n",
       "...                 ..         ...                     ...   \n",
       "2020-06-26 15:00:43  1       False               -0.318798   \n",
       "2020-06-26 15:01:06  1       False               -0.353242   \n",
       "2020-06-26 15:07:34  1       False               -0.318798   \n",
       "2020-06-26 15:44:00  1       False               -0.318798   \n",
       "2020-06-26 15:44:00  1       False               -0.318798   \n",
       "\n",
       "                     isolation_forest_outliers  KNN_score  KNN_outliers  \\\n",
       "timestamp                                                                 \n",
       "2020-06-03 22:48:14                          0        0.0             0   \n",
       "2020-06-03 22:48:15                          0        0.0             0   \n",
       "2020-06-03 22:48:15                          0        0.0             0   \n",
       "2020-06-03 22:48:16                          0        0.0             0   \n",
       "2020-06-03 22:48:16                          0        0.0             0   \n",
       "...                                        ...        ...           ...   \n",
       "2020-06-26 15:00:43                          0        0.0             0   \n",
       "2020-06-26 15:01:06                          0        0.0             0   \n",
       "2020-06-26 15:07:34                          0        0.0             0   \n",
       "2020-06-26 15:44:00                          0        0.0             0   \n",
       "2020-06-26 15:44:00                          0        0.0             0   \n",
       "\n",
       "                     LOF_score  LOF_outliers  \n",
       "timestamp                                     \n",
       "2020-06-03 22:48:14        1.0             0  \n",
       "2020-06-03 22:48:15        1.0             0  \n",
       "2020-06-03 22:48:15        1.0             0  \n",
       "2020-06-03 22:48:16        1.0             0  \n",
       "2020-06-03 22:48:16        1.0             0  \n",
       "...                        ...           ...  \n",
       "2020-06-26 15:00:43        1.0             0  \n",
       "2020-06-26 15:01:06        1.0             0  \n",
       "2020-06-26 15:07:34        1.0             0  \n",
       "2020-06-26 15:44:00        1.0             0  \n",
       "2020-06-26 15:44:00        1.0             0  \n",
       "\n",
       "[10978 rows x 8 columns]"
      ]
     },
     "execution_count": 90,
     "metadata": {},
     "output_type": "execute_result"
    }
   ],
   "source": [
    "# get the prediction on the test data\n",
    "\n",
    "# clf.decision_function: Predict raw anomaly score of X using the fitted detector.\n",
    "# We apply the model to the test data X_test to get the outlier scores.\n",
    "y_test_scores =  clf_lof.decision_function(X_test )  # outlier scores\n",
    "#y_test_scores = pd.Series(y_test_scores)\n",
    "y_test_pred =  clf_lof.predict(X_test)\n",
    "\n",
    "df_test_plot['LOF_score'] = y_test_scores  \n",
    "df_test_plot['LOF_outliers'] = y_test_pred \n",
    "\n",
    "df_test_plot\n",
    "\n",
    "#df_test_plot['LOF_outliers'].value_counts()"
   ]
  },
  {
   "cell_type": "code",
   "execution_count": 91,
   "metadata": {},
   "outputs": [
    {
     "data": {
      "text/plain": [
       "<matplotlib.axes._subplots.AxesSubplot at 0x1deef33e1c8>"
      ]
     },
     "execution_count": 91,
     "metadata": {},
     "output_type": "execute_result"
    },
    {
     "data": {
      "image/png": "[encoded data removed]",
      "text/plain": [
       "<Figure size 1152x576 with 1 Axes>"
      ]
     },
     "metadata": {
      "needs_background": "light"
     },
     "output_type": "display_data"
    }
   ],
   "source": [
    "fig, ax = plt.subplots(figsize=(16,8))\n",
    "markers = {0: \"s\", 1: \"X\"}\n",
    "sns.scatterplot(\n",
    "    data=df_test_plot, \n",
    "     x='x', \n",
    "    y='LOF_score', \n",
    "    #hue='is_outlier',\n",
    "    hue='LOF_outliers',\n",
    "    style='LOF_outliers',\n",
    "    palette=\"Set1\",\n",
    "    sizes=(40, 200), hue_norm=(0, 9),\n",
    "    markers= markers,\n",
    "    ax=ax\n",
    ")"
   ]
  },
  {
   "cell_type": "markdown",
   "metadata": {},
   "source": [
    "in the Y axis, the plot shows the “score” values which are the average distance of those observations to others. \n",
    "A high “score” means that observation is far away from the norm.\n",
    "in the X axis, the 'count ' values.\n",
    "*note* in the training,fitting and prediction,the model uses normalized count values.Here, we only use non-normalized values to make the plot readable\n",
    "\n",
    "we add to the plot, the labels from the groundTruth so we can visually estimate how good/bad our model is"
   ]
  },
  {
   "cell_type": "markdown",
   "metadata": {},
   "source": [
    "#### test  visualization avec GroundTruth Labels\n"
   ]
  },
  {
   "cell_type": "code",
   "execution_count": 92,
   "metadata": {},
   "outputs": [
    {
     "data": {
      "text/plain": [
       "<matplotlib.axes._subplots.AxesSubplot at 0x1deef33e8c8>"
      ]
     },
     "execution_count": 92,
     "metadata": {},
     "output_type": "execute_result"
    },
    {
     "data": {
      "image/png": "[encoded data removed]",
      "text/plain": [
       "<Figure size 1152x576 with 1 Axes>"
      ]
     },
     "metadata": {
      "needs_background": "light"
     },
     "output_type": "display_data"
    }
   ],
   "source": [
    "fig, ax = plt.subplots(figsize=(16,8))\n",
    "markers = {0: \"s\", 1: \"X\"}\n",
    "sns.scatterplot(\n",
    "    data=df_test_plot, \n",
    "     x='x', \n",
    "    y='LOF_score', \n",
    "    hue='is_outlier',\n",
    "    style='LOF_outliers',\n",
    "    palette=\"Set1\",\n",
    "    sizes=(40, 200), hue_norm=(0, 9),\n",
    "    markers= markers,\n",
    "    ax=ax\n",
    ")"
   ]
  },
  {
   "cell_type": "markdown",
   "metadata": {},
   "source": [
    "in the Y axis, the plot shows the “score” values which are the average distance of those observations to others. \n",
    "A high “score” means that observation is far away from the norm.\n",
    "in the X axis, the 'count ' values.\n",
    "*note* in the training,fitting and prediction,the model uses normalized count values.Here, we only use non-normalized values to make the plot readable\n",
    "\n",
    "we add to the plot, the labels from the groundTruth so we can visually estimate how good/bad our model is"
   ]
  },
  {
   "cell_type": "code",
   "execution_count": 93,
   "metadata": {},
   "outputs": [
    {
     "name": "stdout",
     "output_type": "stream",
     "text": [
      "f1_score  0.9093776731698107\n",
      "precision_score  0.904866723814189\n",
      "recall_score  0.9139921946740128\n"
     ]
    }
   ],
   "source": [
    "\n",
    "\n",
    "\n",
    "confusion_matrix(y_val, y_pred=df_test_plot.LOF_outliers )\n",
    "\n",
    "y_pred=df_test_plot.LOF_outliers\n",
    "\n",
    "#The F1 score: weighted average of the precision and recall, \n",
    "  #  where an F1 score reaches its best value at 1 and worst score at 0. \n",
    "  #  The relative contribution of precision and recall to the F1 score are equal.\n",
    "    #F1 = 2 * (precision * recall) / (precision + recall)\n",
    "print('f1_score ', f1_score(y_val, y_pred, average=\"macro\"))\n",
    "\n",
    "\n",
    "#The precision is the ratio tp / (tp + fp) where tp is the number of true positives and \n",
    "#fp the number of false positives.\n",
    "#The precision is intuitively the ability of the classifier not to label as positive a sample that is negative.\n",
    "print('precision_score ',precision_score(y_val, y_pred, average=\"macro\"))\n",
    "\n",
    "\n",
    "#The recall is the ratio tp / (tp + fn) where tp is the number of true positives and fn the number \n",
    "#of false negatives.\n",
    "#The recall is intuitively the ability of the classifier to find all the positive samples.\n",
    "print('recall_score ',recall_score(y_val, y_pred, average=\"macro\"))"
   ]
  },
  {
   "cell_type": "code",
   "execution_count": 94,
   "metadata": {},
   "outputs": [
    {
     "data": {
      "image/png": "[encoded data removed]",
      "text/plain": [
       "<Figure size 432x288 with 2 Axes>"
      ]
     },
     "metadata": {
      "needs_background": "light"
     },
     "output_type": "display_data"
    }
   ],
   "source": [
    "#Let’s plot the confusion matrix for the test set.\n",
    "\n",
    "# plot the comfusion matrix  in the test set\n",
    "skplt.metrics.plot_confusion_matrix(y_val,y_pred, normalize=False,\n",
    "                                    title=\"LOF Consfusion Matrix on Test Set\")\n",
    "plt.show()"
   ]
  },
  {
   "cell_type": "code",
   "execution_count": 95,
   "metadata": {},
   "outputs": [
    {
     "name": "stdout",
     "output_type": "stream",
     "text": [
      "LOF ROC:0.7601, precision @ rank n:0.7134\n",
      "LOF ROC:0.8292, precision @ rank n:0.7976\n"
     ]
    }
   ],
   "source": [
    "# Get the scores of the training data \n",
    "y_train_scores = clf_lof.decision_function(X_train)\n",
    "\n",
    "# Get the prediction labels of the testing data \n",
    "y_test_scores = clf_lof.decision_function(X_test)  # outlier scores\n",
    "\n",
    "# Evaluate on the trainset\n",
    "evaluate_print('LOF', y_train, y_train_scores)\n",
    "\n",
    "# Evaluate on the testset\n",
    "evaluate_print('LOF', y_test,y_test_scores)\n"
   ]
  },
  {
   "cell_type": "markdown",
   "metadata": {},
   "source": [
    "## OCSVM"
   ]
  },
  {
   "cell_type": "code",
   "execution_count": 96,
   "metadata": {},
   "outputs": [],
   "source": [
    "\n",
    "clf_ocsvm = OCSVM(kernel='rbf',  gamma='auto',nu=0.5,\n",
    "                  contamination=0.1,tol=0.001, degree = 6,\n",
    "                shrinking=True, cache_size=200,\n",
    "                verbose=True, max_iter=-1)\n",
    "\n",
    "\n",
    "            "
   ]
  },
  {
   "cell_type": "code",
   "execution_count": 97,
   "metadata": {},
   "outputs": [
    {
     "name": "stdout",
     "output_type": "stream",
     "text": [
      "[LibSVM]"
     ]
    },
    {
     "name": "stderr",
     "output_type": "stream",
     "text": [
      "C:\\Users\\Syrine.benaziza\\Anaconda3\\lib\\site-packages\\ipykernel_launcher.py:3: SettingWithCopyWarning: \n",
      "A value is trying to be set on a copy of a slice from a DataFrame.\n",
      "Try using .loc[row_indexer,col_indexer] = value instead\n",
      "\n",
      "See the caveats in the documentation: https://pandas.pydata.org/pandas-docs/stable/user_guide/indexing.html#returning-a-view-versus-a-copy\n",
      "  This is separate from the ipykernel package so we can avoid doing imports until\n"
     ]
    },
    {
     "name": "stdout",
     "output_type": "stream",
     "text": [
      "Wall time: 23.4 s\n"
     ]
    },
    {
     "name": "stderr",
     "output_type": "stream",
     "text": [
      "C:\\Users\\Syrine.benaziza\\Anaconda3\\lib\\site-packages\\ipykernel_launcher.py:4: SettingWithCopyWarning: \n",
      "A value is trying to be set on a copy of a slice from a DataFrame.\n",
      "Try using .loc[row_indexer,col_indexer] = value instead\n",
      "\n",
      "See the caveats in the documentation: https://pandas.pydata.org/pandas-docs/stable/user_guide/indexing.html#returning-a-view-versus-a-copy\n",
      "  after removing the cwd from sys.path.\n"
     ]
    },
    {
     "data": {
      "text/html": [
       "<div>\n",
       "<style scoped>\n",
       "    .dataframe tbody tr th:only-of-type {\n",
       "        vertical-align: middle;\n",
       "    }\n",
       "\n",
       "    .dataframe tbody tr th {\n",
       "        vertical-align: top;\n",
       "    }\n",
       "\n",
       "    .dataframe thead th {\n",
       "        text-align: right;\n",
       "    }\n",
       "</style>\n",
       "<table border=\"1\" class=\"dataframe\">\n",
       "  <thead>\n",
       "    <tr style=\"text-align: right;\">\n",
       "      <th></th>\n",
       "      <th>x</th>\n",
       "      <th>is_outlier</th>\n",
       "      <th>isolation_forest_score</th>\n",
       "      <th>isolation_forest_outliers</th>\n",
       "      <th>KNN_score</th>\n",
       "      <th>KNN_outliers</th>\n",
       "      <th>LOF_score</th>\n",
       "      <th>LOF_outliers</th>\n",
       "      <th>OCSVM_score</th>\n",
       "      <th>OCSVM_outliers</th>\n",
       "    </tr>\n",
       "    <tr>\n",
       "      <th>timestamp</th>\n",
       "      <th></th>\n",
       "      <th></th>\n",
       "      <th></th>\n",
       "      <th></th>\n",
       "      <th></th>\n",
       "      <th></th>\n",
       "      <th></th>\n",
       "      <th></th>\n",
       "      <th></th>\n",
       "      <th></th>\n",
       "    </tr>\n",
       "  </thead>\n",
       "  <tbody>\n",
       "    <tr>\n",
       "      <th>2020-05-04 19:08:38</th>\n",
       "      <td>1</td>\n",
       "      <td>False</td>\n",
       "      <td>-0.318798</td>\n",
       "      <td>0</td>\n",
       "      <td>0.0</td>\n",
       "      <td>0</td>\n",
       "      <td>1.0</td>\n",
       "      <td>0</td>\n",
       "      <td>-246.015937</td>\n",
       "      <td>0</td>\n",
       "    </tr>\n",
       "    <tr>\n",
       "      <th>2020-05-04 19:09:53</th>\n",
       "      <td>1</td>\n",
       "      <td>False</td>\n",
       "      <td>-0.254099</td>\n",
       "      <td>0</td>\n",
       "      <td>0.0</td>\n",
       "      <td>0</td>\n",
       "      <td>1.0</td>\n",
       "      <td>0</td>\n",
       "      <td>-131.890859</td>\n",
       "      <td>0</td>\n",
       "    </tr>\n",
       "    <tr>\n",
       "      <th>2020-05-04 20:30:13</th>\n",
       "      <td>1</td>\n",
       "      <td>False</td>\n",
       "      <td>-0.318798</td>\n",
       "      <td>0</td>\n",
       "      <td>0.0</td>\n",
       "      <td>0</td>\n",
       "      <td>1.0</td>\n",
       "      <td>0</td>\n",
       "      <td>-246.015937</td>\n",
       "      <td>0</td>\n",
       "    </tr>\n",
       "    <tr>\n",
       "      <th>2020-05-04 20:33:58</th>\n",
       "      <td>1</td>\n",
       "      <td>False</td>\n",
       "      <td>-0.353242</td>\n",
       "      <td>0</td>\n",
       "      <td>0.0</td>\n",
       "      <td>0</td>\n",
       "      <td>1.0</td>\n",
       "      <td>0</td>\n",
       "      <td>0.000085</td>\n",
       "      <td>0</td>\n",
       "    </tr>\n",
       "    <tr>\n",
       "      <th>2020-05-04 22:02:12</th>\n",
       "      <td>1</td>\n",
       "      <td>False</td>\n",
       "      <td>-0.353242</td>\n",
       "      <td>0</td>\n",
       "      <td>0.0</td>\n",
       "      <td>0</td>\n",
       "      <td>1.0</td>\n",
       "      <td>0</td>\n",
       "      <td>0.000085</td>\n",
       "      <td>0</td>\n",
       "    </tr>\n",
       "    <tr>\n",
       "      <th>...</th>\n",
       "      <td>...</td>\n",
       "      <td>...</td>\n",
       "      <td>...</td>\n",
       "      <td>...</td>\n",
       "      <td>...</td>\n",
       "      <td>...</td>\n",
       "      <td>...</td>\n",
       "      <td>...</td>\n",
       "      <td>...</td>\n",
       "      <td>...</td>\n",
       "    </tr>\n",
       "    <tr>\n",
       "      <th>2020-06-03 22:48:12</th>\n",
       "      <td>5</td>\n",
       "      <td>False</td>\n",
       "      <td>-0.353242</td>\n",
       "      <td>0</td>\n",
       "      <td>0.0</td>\n",
       "      <td>0</td>\n",
       "      <td>1.0</td>\n",
       "      <td>0</td>\n",
       "      <td>0.000085</td>\n",
       "      <td>0</td>\n",
       "    </tr>\n",
       "    <tr>\n",
       "      <th>2020-06-03 22:48:12</th>\n",
       "      <td>6</td>\n",
       "      <td>False</td>\n",
       "      <td>-0.318798</td>\n",
       "      <td>0</td>\n",
       "      <td>0.0</td>\n",
       "      <td>0</td>\n",
       "      <td>1.0</td>\n",
       "      <td>0</td>\n",
       "      <td>-246.015937</td>\n",
       "      <td>0</td>\n",
       "    </tr>\n",
       "    <tr>\n",
       "      <th>2020-06-03 22:48:13</th>\n",
       "      <td>5</td>\n",
       "      <td>False</td>\n",
       "      <td>-0.284251</td>\n",
       "      <td>0</td>\n",
       "      <td>0.0</td>\n",
       "      <td>0</td>\n",
       "      <td>1.0</td>\n",
       "      <td>0</td>\n",
       "      <td>-291.498583</td>\n",
       "      <td>0</td>\n",
       "    </tr>\n",
       "    <tr>\n",
       "      <th>2020-06-03 22:48:13</th>\n",
       "      <td>6</td>\n",
       "      <td>False</td>\n",
       "      <td>-0.210972</td>\n",
       "      <td>0</td>\n",
       "      <td>0.0</td>\n",
       "      <td>0</td>\n",
       "      <td>1.0</td>\n",
       "      <td>0</td>\n",
       "      <td>1023.729561</td>\n",
       "      <td>1</td>\n",
       "    </tr>\n",
       "    <tr>\n",
       "      <th>2020-06-03 22:48:14</th>\n",
       "      <td>6</td>\n",
       "      <td>False</td>\n",
       "      <td>-0.353242</td>\n",
       "      <td>0</td>\n",
       "      <td>0.0</td>\n",
       "      <td>0</td>\n",
       "      <td>1.0</td>\n",
       "      <td>0</td>\n",
       "      <td>0.000085</td>\n",
       "      <td>0</td>\n",
       "    </tr>\n",
       "  </tbody>\n",
       "</table>\n",
       "<p>25615 rows × 10 columns</p>\n",
       "</div>"
      ],
      "text/plain": [
       "                     x  is_outlier  isolation_forest_score  \\\n",
       "timestamp                                                    \n",
       "2020-05-04 19:08:38  1       False               -0.318798   \n",
       "2020-05-04 19:09:53  1       False               -0.254099   \n",
       "2020-05-04 20:30:13  1       False               -0.318798   \n",
       "2020-05-04 20:33:58  1       False               -0.353242   \n",
       "2020-05-04 22:02:12  1       False               -0.353242   \n",
       "...                 ..         ...                     ...   \n",
       "2020-06-03 22:48:12  5       False               -0.353242   \n",
       "2020-06-03 22:48:12  6       False               -0.318798   \n",
       "2020-06-03 22:48:13  5       False               -0.284251   \n",
       "2020-06-03 22:48:13  6       False               -0.210972   \n",
       "2020-06-03 22:48:14  6       False               -0.353242   \n",
       "\n",
       "                     isolation_forest_outliers  KNN_score  KNN_outliers  \\\n",
       "timestamp                                                                 \n",
       "2020-05-04 19:08:38                          0        0.0             0   \n",
       "2020-05-04 19:09:53                          0        0.0             0   \n",
       "2020-05-04 20:30:13                          0        0.0             0   \n",
       "2020-05-04 20:33:58                          0        0.0             0   \n",
       "2020-05-04 22:02:12                          0        0.0             0   \n",
       "...                                        ...        ...           ...   \n",
       "2020-06-03 22:48:12                          0        0.0             0   \n",
       "2020-06-03 22:48:12                          0        0.0             0   \n",
       "2020-06-03 22:48:13                          0        0.0             0   \n",
       "2020-06-03 22:48:13                          0        0.0             0   \n",
       "2020-06-03 22:48:14                          0        0.0             0   \n",
       "\n",
       "                     LOF_score  LOF_outliers  OCSVM_score  OCSVM_outliers  \n",
       "timestamp                                                                  \n",
       "2020-05-04 19:08:38        1.0             0  -246.015937               0  \n",
       "2020-05-04 19:09:53        1.0             0  -131.890859               0  \n",
       "2020-05-04 20:30:13        1.0             0  -246.015937               0  \n",
       "2020-05-04 20:33:58        1.0             0     0.000085               0  \n",
       "2020-05-04 22:02:12        1.0             0     0.000085               0  \n",
       "...                        ...           ...          ...             ...  \n",
       "2020-06-03 22:48:12        1.0             0     0.000085               0  \n",
       "2020-06-03 22:48:12        1.0             0  -246.015937               0  \n",
       "2020-06-03 22:48:13        1.0             0  -291.498583               0  \n",
       "2020-06-03 22:48:13        1.0             0  1023.729561               1  \n",
       "2020-06-03 22:48:14        1.0             0     0.000085               0  \n",
       "\n",
       "[25615 rows x 10 columns]"
      ]
     },
     "execution_count": 97,
     "metadata": {},
     "output_type": "execute_result"
    }
   ],
   "source": [
    "%%time\n",
    "clf_ocsvm.fit(X_train)#adjust the model to our trainset\n",
    "\n",
    "df_train_plot['OCSVM_score'] = clf_ocsvm.decision_function(X_train)#calculate scores for the trainset\n",
    "df_train_plot['OCSVM_outliers'] = clf_ocsvm.predict(X_train)#decide\n",
    "\n",
    "df_train_plot\n",
    "\n"
   ]
  },
  {
   "cell_type": "code",
   "execution_count": 98,
   "metadata": {},
   "outputs": [
    {
     "data": {
      "text/plain": [
       "<matplotlib.axes._subplots.AxesSubplot at 0x1deec3a7308>"
      ]
     },
     "execution_count": 98,
     "metadata": {},
     "output_type": "execute_result"
    },
    {
     "data": {
      "image/png": "[encoded data removed]",
      "text/plain": [
       "<Figure size 1152x576 with 1 Axes>"
      ]
     },
     "metadata": {
      "needs_background": "light"
     },
     "output_type": "display_data"
    }
   ],
   "source": [
    "#scatterplot the results on the trainset\n",
    "fig, ax = plt.subplots(figsize=(16,8))\n",
    "markers = {0: \"s\", 1: \"X\"}\n",
    "sns.scatterplot(\n",
    "    data=df_train_plot, \n",
    "    x='x', \n",
    "    y='OCSVM_score', \n",
    "    hue='OCSVM_outliers',\n",
    "    style='OCSVM_outliers',\n",
    "    palette=\"Set1\",\n",
    "    sizes=(40, 200), hue_norm=(0, 9),\n",
    "    markers= markers,\n",
    "    ax=ax\n",
    ")"
   ]
  },
  {
   "cell_type": "markdown",
   "metadata": {},
   "source": [
    "in the Y axis, the plot shows the “score” values which are the average distance of those observations to others. \n",
    "A high “score” means that observation is far away from the norm.\n",
    "in the X axis, the 'count ' values.\n",
    "*note* in the training,fitting and prediction,the model uses normalized count values.Here, we only use non-normalized values to make the plot readable"
   ]
  },
  {
   "cell_type": "code",
   "execution_count": 99,
   "metadata": {},
   "outputs": [
    {
     "name": "stdout",
     "output_type": "stream",
     "text": [
      "Wall time: 3.24 s\n"
     ]
    },
    {
     "name": "stderr",
     "output_type": "stream",
     "text": [
      "C:\\Users\\Syrine.benaziza\\Anaconda3\\lib\\site-packages\\ipykernel_launcher.py:12: SettingWithCopyWarning: \n",
      "A value is trying to be set on a copy of a slice from a DataFrame.\n",
      "Try using .loc[row_indexer,col_indexer] = value instead\n",
      "\n",
      "See the caveats in the documentation: https://pandas.pydata.org/pandas-docs/stable/user_guide/indexing.html#returning-a-view-versus-a-copy\n",
      "  if sys.path[0] == '':\n",
      "C:\\Users\\Syrine.benaziza\\Anaconda3\\lib\\site-packages\\ipykernel_launcher.py:13: SettingWithCopyWarning: \n",
      "A value is trying to be set on a copy of a slice from a DataFrame.\n",
      "Try using .loc[row_indexer,col_indexer] = value instead\n",
      "\n",
      "See the caveats in the documentation: https://pandas.pydata.org/pandas-docs/stable/user_guide/indexing.html#returning-a-view-versus-a-copy\n",
      "  del sys.path[0]\n"
     ]
    },
    {
     "data": {
      "text/html": [
       "<div>\n",
       "<style scoped>\n",
       "    .dataframe tbody tr th:only-of-type {\n",
       "        vertical-align: middle;\n",
       "    }\n",
       "\n",
       "    .dataframe tbody tr th {\n",
       "        vertical-align: top;\n",
       "    }\n",
       "\n",
       "    .dataframe thead th {\n",
       "        text-align: right;\n",
       "    }\n",
       "</style>\n",
       "<table border=\"1\" class=\"dataframe\">\n",
       "  <thead>\n",
       "    <tr style=\"text-align: right;\">\n",
       "      <th></th>\n",
       "      <th>x</th>\n",
       "      <th>is_outlier</th>\n",
       "      <th>isolation_forest_score</th>\n",
       "      <th>isolation_forest_outliers</th>\n",
       "      <th>KNN_score</th>\n",
       "      <th>KNN_outliers</th>\n",
       "      <th>LOF_score</th>\n",
       "      <th>LOF_outliers</th>\n",
       "      <th>OCSVM_score</th>\n",
       "      <th>OCSVM_outliers</th>\n",
       "    </tr>\n",
       "    <tr>\n",
       "      <th>timestamp</th>\n",
       "      <th></th>\n",
       "      <th></th>\n",
       "      <th></th>\n",
       "      <th></th>\n",
       "      <th></th>\n",
       "      <th></th>\n",
       "      <th></th>\n",
       "      <th></th>\n",
       "      <th></th>\n",
       "      <th></th>\n",
       "    </tr>\n",
       "  </thead>\n",
       "  <tbody>\n",
       "    <tr>\n",
       "      <th>2020-06-03 22:48:14</th>\n",
       "      <td>3</td>\n",
       "      <td>False</td>\n",
       "      <td>-0.240971</td>\n",
       "      <td>0</td>\n",
       "      <td>0.0</td>\n",
       "      <td>0</td>\n",
       "      <td>1.0</td>\n",
       "      <td>0</td>\n",
       "      <td>431.367785</td>\n",
       "      <td>0</td>\n",
       "    </tr>\n",
       "    <tr>\n",
       "      <th>2020-06-03 22:48:15</th>\n",
       "      <td>6</td>\n",
       "      <td>False</td>\n",
       "      <td>-0.265321</td>\n",
       "      <td>0</td>\n",
       "      <td>0.0</td>\n",
       "      <td>0</td>\n",
       "      <td>1.0</td>\n",
       "      <td>0</td>\n",
       "      <td>765.209199</td>\n",
       "      <td>0</td>\n",
       "    </tr>\n",
       "    <tr>\n",
       "      <th>2020-06-03 22:48:15</th>\n",
       "      <td>6</td>\n",
       "      <td>False</td>\n",
       "      <td>-0.254099</td>\n",
       "      <td>0</td>\n",
       "      <td>0.0</td>\n",
       "      <td>0</td>\n",
       "      <td>1.0</td>\n",
       "      <td>0</td>\n",
       "      <td>-131.890859</td>\n",
       "      <td>0</td>\n",
       "    </tr>\n",
       "    <tr>\n",
       "      <th>2020-06-03 22:48:16</th>\n",
       "      <td>5</td>\n",
       "      <td>False</td>\n",
       "      <td>-0.284251</td>\n",
       "      <td>0</td>\n",
       "      <td>0.0</td>\n",
       "      <td>0</td>\n",
       "      <td>1.0</td>\n",
       "      <td>0</td>\n",
       "      <td>-291.498583</td>\n",
       "      <td>0</td>\n",
       "    </tr>\n",
       "    <tr>\n",
       "      <th>2020-06-03 22:48:16</th>\n",
       "      <td>6</td>\n",
       "      <td>False</td>\n",
       "      <td>-0.265321</td>\n",
       "      <td>0</td>\n",
       "      <td>0.0</td>\n",
       "      <td>0</td>\n",
       "      <td>1.0</td>\n",
       "      <td>0</td>\n",
       "      <td>765.209199</td>\n",
       "      <td>0</td>\n",
       "    </tr>\n",
       "    <tr>\n",
       "      <th>...</th>\n",
       "      <td>...</td>\n",
       "      <td>...</td>\n",
       "      <td>...</td>\n",
       "      <td>...</td>\n",
       "      <td>...</td>\n",
       "      <td>...</td>\n",
       "      <td>...</td>\n",
       "      <td>...</td>\n",
       "      <td>...</td>\n",
       "      <td>...</td>\n",
       "    </tr>\n",
       "    <tr>\n",
       "      <th>2020-06-26 15:00:43</th>\n",
       "      <td>1</td>\n",
       "      <td>False</td>\n",
       "      <td>-0.318798</td>\n",
       "      <td>0</td>\n",
       "      <td>0.0</td>\n",
       "      <td>0</td>\n",
       "      <td>1.0</td>\n",
       "      <td>0</td>\n",
       "      <td>-246.015937</td>\n",
       "      <td>0</td>\n",
       "    </tr>\n",
       "    <tr>\n",
       "      <th>2020-06-26 15:01:06</th>\n",
       "      <td>1</td>\n",
       "      <td>False</td>\n",
       "      <td>-0.353242</td>\n",
       "      <td>0</td>\n",
       "      <td>0.0</td>\n",
       "      <td>0</td>\n",
       "      <td>1.0</td>\n",
       "      <td>0</td>\n",
       "      <td>0.000085</td>\n",
       "      <td>0</td>\n",
       "    </tr>\n",
       "    <tr>\n",
       "      <th>2020-06-26 15:07:34</th>\n",
       "      <td>1</td>\n",
       "      <td>False</td>\n",
       "      <td>-0.318798</td>\n",
       "      <td>0</td>\n",
       "      <td>0.0</td>\n",
       "      <td>0</td>\n",
       "      <td>1.0</td>\n",
       "      <td>0</td>\n",
       "      <td>-246.015937</td>\n",
       "      <td>0</td>\n",
       "    </tr>\n",
       "    <tr>\n",
       "      <th>2020-06-26 15:44:00</th>\n",
       "      <td>1</td>\n",
       "      <td>False</td>\n",
       "      <td>-0.318798</td>\n",
       "      <td>0</td>\n",
       "      <td>0.0</td>\n",
       "      <td>0</td>\n",
       "      <td>1.0</td>\n",
       "      <td>0</td>\n",
       "      <td>-246.015937</td>\n",
       "      <td>0</td>\n",
       "    </tr>\n",
       "    <tr>\n",
       "      <th>2020-06-26 15:44:00</th>\n",
       "      <td>1</td>\n",
       "      <td>False</td>\n",
       "      <td>-0.318798</td>\n",
       "      <td>0</td>\n",
       "      <td>0.0</td>\n",
       "      <td>0</td>\n",
       "      <td>1.0</td>\n",
       "      <td>0</td>\n",
       "      <td>-246.015937</td>\n",
       "      <td>0</td>\n",
       "    </tr>\n",
       "  </tbody>\n",
       "</table>\n",
       "<p>10978 rows × 10 columns</p>\n",
       "</div>"
      ],
      "text/plain": [
       "                     x  is_outlier  isolation_forest_score  \\\n",
       "timestamp                                                    \n",
       "2020-06-03 22:48:14  3       False               -0.240971   \n",
       "2020-06-03 22:48:15  6       False               -0.265321   \n",
       "2020-06-03 22:48:15  6       False               -0.254099   \n",
       "2020-06-03 22:48:16  5       False               -0.284251   \n",
       "2020-06-03 22:48:16  6       False               -0.265321   \n",
       "...                 ..         ...                     ...   \n",
       "2020-06-26 15:00:43  1       False               -0.318798   \n",
       "2020-06-26 15:01:06  1       False               -0.353242   \n",
       "2020-06-26 15:07:34  1       False               -0.318798   \n",
       "2020-06-26 15:44:00  1       False               -0.318798   \n",
       "2020-06-26 15:44:00  1       False               -0.318798   \n",
       "\n",
       "                     isolation_forest_outliers  KNN_score  KNN_outliers  \\\n",
       "timestamp                                                                 \n",
       "2020-06-03 22:48:14                          0        0.0             0   \n",
       "2020-06-03 22:48:15                          0        0.0             0   \n",
       "2020-06-03 22:48:15                          0        0.0             0   \n",
       "2020-06-03 22:48:16                          0        0.0             0   \n",
       "2020-06-03 22:48:16                          0        0.0             0   \n",
       "...                                        ...        ...           ...   \n",
       "2020-06-26 15:00:43                          0        0.0             0   \n",
       "2020-06-26 15:01:06                          0        0.0             0   \n",
       "2020-06-26 15:07:34                          0        0.0             0   \n",
       "2020-06-26 15:44:00                          0        0.0             0   \n",
       "2020-06-26 15:44:00                          0        0.0             0   \n",
       "\n",
       "                     LOF_score  LOF_outliers  OCSVM_score  OCSVM_outliers  \n",
       "timestamp                                                                  \n",
       "2020-06-03 22:48:14        1.0             0   431.367785               0  \n",
       "2020-06-03 22:48:15        1.0             0   765.209199               0  \n",
       "2020-06-03 22:48:15        1.0             0  -131.890859               0  \n",
       "2020-06-03 22:48:16        1.0             0  -291.498583               0  \n",
       "2020-06-03 22:48:16        1.0             0   765.209199               0  \n",
       "...                        ...           ...          ...             ...  \n",
       "2020-06-26 15:00:43        1.0             0  -246.015937               0  \n",
       "2020-06-26 15:01:06        1.0             0     0.000085               0  \n",
       "2020-06-26 15:07:34        1.0             0  -246.015937               0  \n",
       "2020-06-26 15:44:00        1.0             0  -246.015937               0  \n",
       "2020-06-26 15:44:00        1.0             0  -246.015937               0  \n",
       "\n",
       "[10978 rows x 10 columns]"
      ]
     },
     "execution_count": 99,
     "metadata": {},
     "output_type": "execute_result"
    }
   ],
   "source": [
    "%%time\n",
    "# get the prediction on the test data\n",
    "\n",
    "# clf.decision_function: Predict raw anomaly score of X using the fitted detector.\n",
    "# We apply the model to the test data X_test to get the outlier scores.\n",
    "y_test_scores =  clf_ocsvm.decision_function(X_test )  # outlier scores\n",
    "#y_test_scores = pd.Series(y_test_scores)\n",
    "y_test_pred =  clf_ocsvm.predict(X_test)\n",
    "y_test_scores\n",
    "\n",
    "\n",
    "\n",
    "df_test_plot['OCSVM_score'] = y_test_scores  \n",
    "df_test_plot['OCSVM_outliers'] = y_test_pred \n",
    "\n",
    "df_test_plot\n",
    "\n",
    "#df_test_plot['COF_outliers'].value_counts()"
   ]
  },
  {
   "cell_type": "code",
   "execution_count": null,
   "metadata": {},
   "outputs": [],
   "source": []
  },
  {
   "cell_type": "markdown",
   "metadata": {},
   "source": [
    "#### OCSVM  on testset "
   ]
  },
  {
   "cell_type": "code",
   "execution_count": 100,
   "metadata": {},
   "outputs": [
    {
     "data": {
      "text/plain": [
       "<matplotlib.axes._subplots.AxesSubplot at 0x1deeca5c8c8>"
      ]
     },
     "execution_count": 100,
     "metadata": {},
     "output_type": "execute_result"
    },
    {
     "data": {
      "image/png": "[encoded data removed]",
      "text/plain": [
       "<Figure size 1152x576 with 1 Axes>"
      ]
     },
     "metadata": {
      "needs_background": "light"
     },
     "output_type": "display_data"
    }
   ],
   "source": [
    "fig, ax = plt.subplots(figsize=(16,8))\n",
    "markers = {0: \"s\", 1: \"X\"}\n",
    "sns.scatterplot(\n",
    "    data=df_test_plot, \n",
    "    x='x', \n",
    "    y='OCSVM_score', \n",
    "    hue='OCSVM_outliers',\n",
    "   \n",
    "    style='OCSVM_outliers',\n",
    "    palette=\"Set1\",\n",
    "    sizes=(40, 200), hue_norm=(0, 9),\n",
    "    markers= markers,\n",
    "    ax=ax\n",
    ")"
   ]
  },
  {
   "cell_type": "markdown",
   "metadata": {},
   "source": [
    "in the Y axis, the plot shows the “score” values whoch are the average distance of those observations to others. \n",
    "A high “score” means that observation is far away from the norm.\n",
    "in the X axis, the 'count ' values.\n",
    "*note* in the training,fitting and prediction,the model uses normalized count values.Here, we only use non-normalized values to make the plot readable"
   ]
  },
  {
   "cell_type": "markdown",
   "metadata": {},
   "source": [
    "#### OCSVM on test set with Ground Truth labels"
   ]
  },
  {
   "cell_type": "code",
   "execution_count": 101,
   "metadata": {},
   "outputs": [
    {
     "data": {
      "text/plain": [
       "<matplotlib.axes._subplots.AxesSubplot at 0x1deecc21948>"
      ]
     },
     "execution_count": 101,
     "metadata": {},
     "output_type": "execute_result"
    },
    {
     "data": {
      "image/png": "[encoded data removed]",
      "text/plain": [
       "<Figure size 1152x576 with 1 Axes>"
      ]
     },
     "metadata": {
      "needs_background": "light"
     },
     "output_type": "display_data"
    }
   ],
   "source": [
    "fig, ax = plt.subplots(figsize=(16,8))\n",
    "markers = {0: \"s\", 1: \"X\"}\n",
    "sns.scatterplot(\n",
    "    data=df_test_plot, \n",
    "    x='x', \n",
    "    y='OCSVM_score', \n",
    "    hue='is_outlier',\n",
    "    style='OCSVM_outliers',\n",
    "    palette=\"Set1\",\n",
    "    sizes=(40, 200), hue_norm=(0, 9),\n",
    "    markers= markers,\n",
    "    ax=ax\n",
    ")"
   ]
  },
  {
   "cell_type": "markdown",
   "metadata": {},
   "source": [
    "in the Y axis, the plot shows the “score” values which are the average distance of those observations to others. \n",
    "A high “score” means that observation is far away from the norm.\n",
    "in the X axis, the 'count ' values.\n",
    "*note* in the training,fitting and prediction,the model uses normalized count values.Here, we only use non-normalized values to make the plot readable\n",
    "\n",
    "we add to the plot, the labels from the groundTruth so we can visually estimate how good/bad our model is"
   ]
  },
  {
   "cell_type": "code",
   "execution_count": 102,
   "metadata": {},
   "outputs": [
    {
     "name": "stdout",
     "output_type": "stream",
     "text": [
      "f1_score  0.5585356461547887\n",
      "precision_score  0.5437810945273632\n",
      "recall_score  0.9578971533516988\n"
     ]
    }
   ],
   "source": [
    "\n",
    "\n",
    "y_pred=df_test_plot.OCSVM_outliers\n",
    "\n",
    "#The F1 score: weighted average of the precision and recall, \n",
    "  #  where an F1 score reaches its best value at 1 and worst score at 0. \n",
    "  #  The relative contribution of precision and recall to the F1 score are equal.\n",
    "    #F1 = 2 * (precision * recall) / (precision + recall)\n",
    "print('f1_score ', f1_score(y_val, y_pred, average=\"macro\"))\n",
    "\n",
    "\n",
    "#The precision is the ratio tp / (tp + fp) where tp is the number of true positives and \n",
    "#fp the number of false positives.\n",
    "#The precision is intuitively the ability of the classifier not to label as positive a sample that is negative.\n",
    "print('precision_score ',precision_score(y_val, y_pred, average=\"macro\"))\n",
    "\n",
    "\n",
    "#The recall is the ratio tp / (tp + fn) where tp is the number of true positives and fn the number \n",
    "#of false negatives.\n",
    "#The recall is intuitively the ability of the classifier to find all the positive samples.\n",
    "print('recall_score ',recall_score(y_val, y_pred, average=\"macro\"))"
   ]
  },
  {
   "cell_type": "code",
   "execution_count": 103,
   "metadata": {},
   "outputs": [
    {
     "data": {
      "image/png": "[encoded data removed]",
      "text/plain": [
       "<Figure size 432x288 with 2 Axes>"
      ]
     },
     "metadata": {
      "needs_background": "light"
     },
     "output_type": "display_data"
    }
   ],
   "source": [
    "#Let’s plot the confusion matrix for the test set.\n",
    "\n",
    "# plot the comfusion matrix  in the test set\n",
    "\n",
    "skplt.metrics.plot_confusion_matrix(y_val,y_pred, normalize=False,\n",
    "                                    title=\"OCSVM Consfusion Matrix on Test Set\")\n",
    "plt.show()"
   ]
  },
  {
   "cell_type": "code",
   "execution_count": 104,
   "metadata": {},
   "outputs": [],
   "source": [
    "# Get the scores of the training data \n",
    "y_train_scores = clf_ocsvm.decision_function(X_train)\n",
    "\n",
    "# Get the prediction labels of the testing data \n",
    "y_test_scores = clf_ocsvm.decision_function(X_test)  # outlier scores"
   ]
  },
  {
   "cell_type": "code",
   "execution_count": 105,
   "metadata": {},
   "outputs": [
    {
     "name": "stdout",
     "output_type": "stream",
     "text": [
      "‘OCSVM’ ROC:1.0, precision @ rank n:1.0\n",
      "OCSVM ROC:1.0, precision @ rank n:1.0\n"
     ]
    }
   ],
   "source": [
    "# Evaluate on the trainset\n",
    "evaluate_print('‘OCSVM’', y_train, y_train_scores)\n",
    "\n",
    "# Evaluate on the testset\n",
    "evaluate_print('OCSVM', y_test,y_test_scores)\n"
   ]
  },
  {
   "cell_type": "markdown",
   "metadata": {},
   "source": [
    "## Connectivity-Based Outlier Factor (COF) Algorithm\n",
    "Connectivity-Based Outlier Factor (COF) COF uses the ratio of average chaining distance of data point and the average of average chaining distance of k nearest neighbor of the data point, as the outlier score for observations."
   ]
  },
  {
   "cell_type": "code",
   "execution_count": 106,
   "metadata": {},
   "outputs": [],
   "source": [
    "clf_cof =COF(contamination=0.1, n_neighbors=2)\n"
   ]
  },
  {
   "cell_type": "code",
   "execution_count": 107,
   "metadata": {},
   "outputs": [
    {
     "name": "stderr",
     "output_type": "stream",
     "text": [
      "C:\\Users\\Syrine.benaziza\\Anaconda3\\lib\\site-packages\\pyod\\models\\cof.py:155: RuntimeWarning: invalid value encountered in double_scalars\n",
      "  np.sum(itemgetter(*sbn_path_index[_g])(ac_dist)))\n",
      "C:\\Users\\Syrine.benaziza\\Anaconda3\\lib\\site-packages\\pyod\\models\\cof.py:155: RuntimeWarning: divide by zero encountered in double_scalars\n",
      "  np.sum(itemgetter(*sbn_path_index[_g])(ac_dist)))\n",
      "C:\\Users\\Syrine.benaziza\\Anaconda3\\lib\\site-packages\\numpy\\core\\_methods.py:151: RuntimeWarning: overflow encountered in reduce\n",
      "  ret = umr_sum(arr, axis, dtype, out, keepdims)\n",
      "C:\\Users\\Syrine.benaziza\\Anaconda3\\lib\\site-packages\\numpy\\core\\_methods.py:183: RuntimeWarning: overflow encountered in reduce\n",
      "  arrmean = umr_sum(arr, axis, dtype, keepdims=True)\n",
      "C:\\Users\\Syrine.benaziza\\Anaconda3\\lib\\site-packages\\ipykernel_launcher.py:2: SettingWithCopyWarning: \n",
      "A value is trying to be set on a copy of a slice from a DataFrame.\n",
      "Try using .loc[row_indexer,col_indexer] = value instead\n",
      "\n",
      "See the caveats in the documentation: https://pandas.pydata.org/pandas-docs/stable/user_guide/indexing.html#returning-a-view-versus-a-copy\n",
      "  \n"
     ]
    },
    {
     "name": "stdout",
     "output_type": "stream",
     "text": [
      "Wall time: 15min 14s\n"
     ]
    },
    {
     "name": "stderr",
     "output_type": "stream",
     "text": [
      "C:\\Users\\Syrine.benaziza\\Anaconda3\\lib\\site-packages\\ipykernel_launcher.py:3: SettingWithCopyWarning: \n",
      "A value is trying to be set on a copy of a slice from a DataFrame.\n",
      "Try using .loc[row_indexer,col_indexer] = value instead\n",
      "\n",
      "See the caveats in the documentation: https://pandas.pydata.org/pandas-docs/stable/user_guide/indexing.html#returning-a-view-versus-a-copy\n",
      "  This is separate from the ipykernel package so we can avoid doing imports until\n"
     ]
    }
   ],
   "source": [
    "%%time\n",
    "clf_cof.fit(X_train)#adjust our model to trainset\n",
    "df_train_plot['COF_score'] = clf_cof.decision_function(X_train)#calculate the scores for trainset\n",
    "df_train_plot['COF_outliers'] = clf_cof.predict(X_train) #decide for each observation"
   ]
  },
  {
   "cell_type": "code",
   "execution_count": 108,
   "metadata": {},
   "outputs": [
    {
     "data": {
      "text/plain": [
       "<matplotlib.axes._subplots.AxesSubplot at 0x1deecfbdbc8>"
      ]
     },
     "execution_count": 108,
     "metadata": {},
     "output_type": "execute_result"
    },
    {
     "data": {
      "image/png": "[encoded data removed]",
      "text/plain": [
       "<Figure size 1152x576 with 1 Axes>"
      ]
     },
     "metadata": {
      "needs_background": "light"
     },
     "output_type": "display_data"
    }
   ],
   "source": [
    "#plot the results on the trainset\n",
    "fig, ax = plt.subplots(figsize=(16,8))\n",
    "markers = {0: \"s\", 1: \"X\"}\n",
    "sns.scatterplot(\n",
    "    data=df_train_plot, \n",
    "    x='x', \n",
    "    y='COF_score', \n",
    "   # hue='is_outlier',\n",
    "    hue='COF_outliers',\n",
    "    style='COF_outliers',\n",
    "    palette=\"Set1\",\n",
    "    sizes=(40, 200), hue_norm=(0, 9),\n",
    "    markers= markers,\n",
    "    ax=ax\n",
    ")"
   ]
  },
  {
   "cell_type": "code",
   "execution_count": 109,
   "metadata": {},
   "outputs": [
    {
     "name": "stdout",
     "output_type": "stream",
     "text": [
      "Wall time: 1min 47s\n"
     ]
    },
    {
     "name": "stderr",
     "output_type": "stream",
     "text": [
      "C:\\Users\\Syrine.benaziza\\Anaconda3\\lib\\site-packages\\ipykernel_launcher.py:11: SettingWithCopyWarning: \n",
      "A value is trying to be set on a copy of a slice from a DataFrame.\n",
      "Try using .loc[row_indexer,col_indexer] = value instead\n",
      "\n",
      "See the caveats in the documentation: https://pandas.pydata.org/pandas-docs/stable/user_guide/indexing.html#returning-a-view-versus-a-copy\n",
      "  # This is added back by InteractiveShellApp.init_path()\n",
      "C:\\Users\\Syrine.benaziza\\Anaconda3\\lib\\site-packages\\ipykernel_launcher.py:12: SettingWithCopyWarning: \n",
      "A value is trying to be set on a copy of a slice from a DataFrame.\n",
      "Try using .loc[row_indexer,col_indexer] = value instead\n",
      "\n",
      "See the caveats in the documentation: https://pandas.pydata.org/pandas-docs/stable/user_guide/indexing.html#returning-a-view-versus-a-copy\n",
      "  if sys.path[0] == '':\n"
     ]
    },
    {
     "data": {
      "text/html": [
       "<div>\n",
       "<style scoped>\n",
       "    .dataframe tbody tr th:only-of-type {\n",
       "        vertical-align: middle;\n",
       "    }\n",
       "\n",
       "    .dataframe tbody tr th {\n",
       "        vertical-align: top;\n",
       "    }\n",
       "\n",
       "    .dataframe thead th {\n",
       "        text-align: right;\n",
       "    }\n",
       "</style>\n",
       "<table border=\"1\" class=\"dataframe\">\n",
       "  <thead>\n",
       "    <tr style=\"text-align: right;\">\n",
       "      <th></th>\n",
       "      <th>x</th>\n",
       "      <th>is_outlier</th>\n",
       "      <th>isolation_forest_score</th>\n",
       "      <th>isolation_forest_outliers</th>\n",
       "      <th>KNN_score</th>\n",
       "      <th>KNN_outliers</th>\n",
       "      <th>LOF_score</th>\n",
       "      <th>LOF_outliers</th>\n",
       "      <th>OCSVM_score</th>\n",
       "      <th>OCSVM_outliers</th>\n",
       "      <th>COF_score</th>\n",
       "      <th>COF_outliers</th>\n",
       "    </tr>\n",
       "    <tr>\n",
       "      <th>timestamp</th>\n",
       "      <th></th>\n",
       "      <th></th>\n",
       "      <th></th>\n",
       "      <th></th>\n",
       "      <th></th>\n",
       "      <th></th>\n",
       "      <th></th>\n",
       "      <th></th>\n",
       "      <th></th>\n",
       "      <th></th>\n",
       "      <th></th>\n",
       "      <th></th>\n",
       "    </tr>\n",
       "  </thead>\n",
       "  <tbody>\n",
       "    <tr>\n",
       "      <th>2020-06-03 22:48:14</th>\n",
       "      <td>3</td>\n",
       "      <td>False</td>\n",
       "      <td>-0.240971</td>\n",
       "      <td>0</td>\n",
       "      <td>0.0</td>\n",
       "      <td>0</td>\n",
       "      <td>1.0</td>\n",
       "      <td>0</td>\n",
       "      <td>431.367785</td>\n",
       "      <td>0</td>\n",
       "      <td>0.0</td>\n",
       "      <td>0</td>\n",
       "    </tr>\n",
       "    <tr>\n",
       "      <th>2020-06-03 22:48:15</th>\n",
       "      <td>6</td>\n",
       "      <td>False</td>\n",
       "      <td>-0.265321</td>\n",
       "      <td>0</td>\n",
       "      <td>0.0</td>\n",
       "      <td>0</td>\n",
       "      <td>1.0</td>\n",
       "      <td>0</td>\n",
       "      <td>765.209199</td>\n",
       "      <td>0</td>\n",
       "      <td>0.0</td>\n",
       "      <td>0</td>\n",
       "    </tr>\n",
       "    <tr>\n",
       "      <th>2020-06-03 22:48:15</th>\n",
       "      <td>6</td>\n",
       "      <td>False</td>\n",
       "      <td>-0.254099</td>\n",
       "      <td>0</td>\n",
       "      <td>0.0</td>\n",
       "      <td>0</td>\n",
       "      <td>1.0</td>\n",
       "      <td>0</td>\n",
       "      <td>-131.890859</td>\n",
       "      <td>0</td>\n",
       "      <td>0.0</td>\n",
       "      <td>0</td>\n",
       "    </tr>\n",
       "    <tr>\n",
       "      <th>2020-06-03 22:48:16</th>\n",
       "      <td>5</td>\n",
       "      <td>False</td>\n",
       "      <td>-0.284251</td>\n",
       "      <td>0</td>\n",
       "      <td>0.0</td>\n",
       "      <td>0</td>\n",
       "      <td>1.0</td>\n",
       "      <td>0</td>\n",
       "      <td>-291.498583</td>\n",
       "      <td>0</td>\n",
       "      <td>0.0</td>\n",
       "      <td>0</td>\n",
       "    </tr>\n",
       "    <tr>\n",
       "      <th>2020-06-03 22:48:16</th>\n",
       "      <td>6</td>\n",
       "      <td>False</td>\n",
       "      <td>-0.265321</td>\n",
       "      <td>0</td>\n",
       "      <td>0.0</td>\n",
       "      <td>0</td>\n",
       "      <td>1.0</td>\n",
       "      <td>0</td>\n",
       "      <td>765.209199</td>\n",
       "      <td>0</td>\n",
       "      <td>0.0</td>\n",
       "      <td>0</td>\n",
       "    </tr>\n",
       "    <tr>\n",
       "      <th>...</th>\n",
       "      <td>...</td>\n",
       "      <td>...</td>\n",
       "      <td>...</td>\n",
       "      <td>...</td>\n",
       "      <td>...</td>\n",
       "      <td>...</td>\n",
       "      <td>...</td>\n",
       "      <td>...</td>\n",
       "      <td>...</td>\n",
       "      <td>...</td>\n",
       "      <td>...</td>\n",
       "      <td>...</td>\n",
       "    </tr>\n",
       "    <tr>\n",
       "      <th>2020-06-26 15:00:43</th>\n",
       "      <td>1</td>\n",
       "      <td>False</td>\n",
       "      <td>-0.318798</td>\n",
       "      <td>0</td>\n",
       "      <td>0.0</td>\n",
       "      <td>0</td>\n",
       "      <td>1.0</td>\n",
       "      <td>0</td>\n",
       "      <td>-246.015937</td>\n",
       "      <td>0</td>\n",
       "      <td>0.0</td>\n",
       "      <td>0</td>\n",
       "    </tr>\n",
       "    <tr>\n",
       "      <th>2020-06-26 15:01:06</th>\n",
       "      <td>1</td>\n",
       "      <td>False</td>\n",
       "      <td>-0.353242</td>\n",
       "      <td>0</td>\n",
       "      <td>0.0</td>\n",
       "      <td>0</td>\n",
       "      <td>1.0</td>\n",
       "      <td>0</td>\n",
       "      <td>0.000085</td>\n",
       "      <td>0</td>\n",
       "      <td>0.0</td>\n",
       "      <td>0</td>\n",
       "    </tr>\n",
       "    <tr>\n",
       "      <th>2020-06-26 15:07:34</th>\n",
       "      <td>1</td>\n",
       "      <td>False</td>\n",
       "      <td>-0.318798</td>\n",
       "      <td>0</td>\n",
       "      <td>0.0</td>\n",
       "      <td>0</td>\n",
       "      <td>1.0</td>\n",
       "      <td>0</td>\n",
       "      <td>-246.015937</td>\n",
       "      <td>0</td>\n",
       "      <td>0.0</td>\n",
       "      <td>0</td>\n",
       "    </tr>\n",
       "    <tr>\n",
       "      <th>2020-06-26 15:44:00</th>\n",
       "      <td>1</td>\n",
       "      <td>False</td>\n",
       "      <td>-0.318798</td>\n",
       "      <td>0</td>\n",
       "      <td>0.0</td>\n",
       "      <td>0</td>\n",
       "      <td>1.0</td>\n",
       "      <td>0</td>\n",
       "      <td>-246.015937</td>\n",
       "      <td>0</td>\n",
       "      <td>0.0</td>\n",
       "      <td>0</td>\n",
       "    </tr>\n",
       "    <tr>\n",
       "      <th>2020-06-26 15:44:00</th>\n",
       "      <td>1</td>\n",
       "      <td>False</td>\n",
       "      <td>-0.318798</td>\n",
       "      <td>0</td>\n",
       "      <td>0.0</td>\n",
       "      <td>0</td>\n",
       "      <td>1.0</td>\n",
       "      <td>0</td>\n",
       "      <td>-246.015937</td>\n",
       "      <td>0</td>\n",
       "      <td>0.0</td>\n",
       "      <td>0</td>\n",
       "    </tr>\n",
       "  </tbody>\n",
       "</table>\n",
       "<p>10978 rows × 12 columns</p>\n",
       "</div>"
      ],
      "text/plain": [
       "                     x  is_outlier  isolation_forest_score  \\\n",
       "timestamp                                                    \n",
       "2020-06-03 22:48:14  3       False               -0.240971   \n",
       "2020-06-03 22:48:15  6       False               -0.265321   \n",
       "2020-06-03 22:48:15  6       False               -0.254099   \n",
       "2020-06-03 22:48:16  5       False               -0.284251   \n",
       "2020-06-03 22:48:16  6       False               -0.265321   \n",
       "...                 ..         ...                     ...   \n",
       "2020-06-26 15:00:43  1       False               -0.318798   \n",
       "2020-06-26 15:01:06  1       False               -0.353242   \n",
       "2020-06-26 15:07:34  1       False               -0.318798   \n",
       "2020-06-26 15:44:00  1       False               -0.318798   \n",
       "2020-06-26 15:44:00  1       False               -0.318798   \n",
       "\n",
       "                     isolation_forest_outliers  KNN_score  KNN_outliers  \\\n",
       "timestamp                                                                 \n",
       "2020-06-03 22:48:14                          0        0.0             0   \n",
       "2020-06-03 22:48:15                          0        0.0             0   \n",
       "2020-06-03 22:48:15                          0        0.0             0   \n",
       "2020-06-03 22:48:16                          0        0.0             0   \n",
       "2020-06-03 22:48:16                          0        0.0             0   \n",
       "...                                        ...        ...           ...   \n",
       "2020-06-26 15:00:43                          0        0.0             0   \n",
       "2020-06-26 15:01:06                          0        0.0             0   \n",
       "2020-06-26 15:07:34                          0        0.0             0   \n",
       "2020-06-26 15:44:00                          0        0.0             0   \n",
       "2020-06-26 15:44:00                          0        0.0             0   \n",
       "\n",
       "                     LOF_score  LOF_outliers  OCSVM_score  OCSVM_outliers  \\\n",
       "timestamp                                                                   \n",
       "2020-06-03 22:48:14        1.0             0   431.367785               0   \n",
       "2020-06-03 22:48:15        1.0             0   765.209199               0   \n",
       "2020-06-03 22:48:15        1.0             0  -131.890859               0   \n",
       "2020-06-03 22:48:16        1.0             0  -291.498583               0   \n",
       "2020-06-03 22:48:16        1.0             0   765.209199               0   \n",
       "...                        ...           ...          ...             ...   \n",
       "2020-06-26 15:00:43        1.0             0  -246.015937               0   \n",
       "2020-06-26 15:01:06        1.0             0     0.000085               0   \n",
       "2020-06-26 15:07:34        1.0             0  -246.015937               0   \n",
       "2020-06-26 15:44:00        1.0             0  -246.015937               0   \n",
       "2020-06-26 15:44:00        1.0             0  -246.015937               0   \n",
       "\n",
       "                     COF_score  COF_outliers  \n",
       "timestamp                                     \n",
       "2020-06-03 22:48:14        0.0             0  \n",
       "2020-06-03 22:48:15        0.0             0  \n",
       "2020-06-03 22:48:15        0.0             0  \n",
       "2020-06-03 22:48:16        0.0             0  \n",
       "2020-06-03 22:48:16        0.0             0  \n",
       "...                        ...           ...  \n",
       "2020-06-26 15:00:43        0.0             0  \n",
       "2020-06-26 15:01:06        0.0             0  \n",
       "2020-06-26 15:07:34        0.0             0  \n",
       "2020-06-26 15:44:00        0.0             0  \n",
       "2020-06-26 15:44:00        0.0             0  \n",
       "\n",
       "[10978 rows x 12 columns]"
      ]
     },
     "execution_count": 109,
     "metadata": {},
     "output_type": "execute_result"
    }
   ],
   "source": [
    "%%time\n",
    "# get the prediction on the test data\n",
    "\n",
    "# clf.decision_function: Predict raw anomaly score of X using the fitted detector.\n",
    "# We apply the model to the test data X_test to get the outlier scores.\n",
    "y_test_scores = clf_cof.decision_function(X_test )  # outlier scores\n",
    "#y_test_scores = pd.Series(y_test_scores)\n",
    "y_test_pred = clf_cof.predict(X_test)\n",
    "y_test_scores\n",
    "\n",
    "\n",
    "df_test_plot['COF_score'] = y_test_scores  \n",
    "df_test_plot['COF_outliers'] = y_test_pred \n",
    "\n",
    "df_test_plot\n",
    "\n",
    "#df_test_plot['COF_outliers'].value_counts()"
   ]
  },
  {
   "cell_type": "code",
   "execution_count": 110,
   "metadata": {},
   "outputs": [
    {
     "data": {
      "text/plain": [
       "<matplotlib.axes._subplots.AxesSubplot at 0x1deec3b58c8>"
      ]
     },
     "execution_count": 110,
     "metadata": {},
     "output_type": "execute_result"
    },
    {
     "data": {
      "image/png": "[encoded data removed]",
      "text/plain": [
       "<Figure size 1152x576 with 1 Axes>"
      ]
     },
     "metadata": {
      "needs_background": "light"
     },
     "output_type": "display_data"
    }
   ],
   "source": [
    "#plot the results on the testset\n",
    "fig, ax = plt.subplots(figsize=(16,8))\n",
    "markers = {0: \"s\", 1: \"X\"}\n",
    "sns.scatterplot(\n",
    "    data=df_test_plot, \n",
    "    x='x', \n",
    "    y='COF_score', \n",
    "    hue='COF_outliers',\n",
    "    style='COF_outliers',\n",
    "    palette=\"Set1\",\n",
    "    sizes=(40, 200), hue_norm=(0, 9),\n",
    "    markers= markers,\n",
    "    ax=ax\n",
    ")"
   ]
  },
  {
   "cell_type": "markdown",
   "metadata": {},
   "source": [
    "in the Y axis, the plot shows the “score” values which are the average distance of those observations to others. \n",
    "A high “score” means that observation is far away from the norm.\n",
    "in the X axis, the 'count ' values.\n",
    "*note* in the training,fitting and prediction,the model uses normalized count values.Here, we only use non-normalized values to make the plot readable"
   ]
  },
  {
   "cell_type": "markdown",
   "metadata": {},
   "source": [
    "#### COF on testset avec Ground truth labels"
   ]
  },
  {
   "cell_type": "code",
   "execution_count": 111,
   "metadata": {},
   "outputs": [
    {
     "data": {
      "text/plain": [
       "<matplotlib.axes._subplots.AxesSubplot at 0x1deeab03308>"
      ]
     },
     "execution_count": 111,
     "metadata": {},
     "output_type": "execute_result"
    },
    {
     "data": {
      "image/png": "[encoded data removed]",
      "text/plain": [
       "<Figure size 1152x576 with 1 Axes>"
      ]
     },
     "metadata": {
      "needs_background": "light"
     },
     "output_type": "display_data"
    }
   ],
   "source": [
    "fig, ax = plt.subplots(figsize=(16,8))\n",
    "markers = {0: \"s\", 1: \"X\"}\n",
    "sns.scatterplot(\n",
    "    data=df_test_plot, \n",
    "    x='x', \n",
    "    y='COF_score', \n",
    "    hue='is_outlier',\n",
    "    style='COF_outliers',\n",
    "    palette=\"Set1\",\n",
    "    sizes=(40, 200), hue_norm=(0, 9),\n",
    "    markers= markers,\n",
    "    ax=ax\n",
    ")"
   ]
  },
  {
   "cell_type": "markdown",
   "metadata": {},
   "source": [
    "in the Y axis, the plot shows the “score” values whoch are the average distance of those observations to others. \n",
    "A high “score” means that observation is far away from the norm.\n",
    "in the X axis, the 'count ' values.\n",
    "*note* in the training,fitting and prediction,the model uses normalized count values.Here, we only use non-normalized values to make the plot readable"
   ]
  },
  {
   "cell_type": "code",
   "execution_count": 112,
   "metadata": {},
   "outputs": [
    {
     "name": "stdout",
     "output_type": "stream",
     "text": [
      "f1_score  0.8059642540101426\n",
      "precision_score  0.9977603071578756\n",
      "recall_score  0.7215909090909091\n"
     ]
    }
   ],
   "source": [
    "\n",
    "\n",
    "#y_true=y_test.astype(int)\n",
    "y_pred=df_test_plot.COF_outliers\n",
    "\n",
    "confusion_matrix(y_val, y_pred )\n",
    "\n",
    "#The F1 score: weighted average of the precision and recall, \n",
    "  #  where an F1 score reaches its best value at 1 and worst score at 0. \n",
    "  #  The relative contribution of precision and recall to the F1 score are equal.\n",
    "    #F1 = 2 * (precision * recall) / (precision + recall)\n",
    "print('f1_score ', f1_score(y_val, y_pred, average=\"macro\"))\n",
    "\n",
    "\n",
    "#The precision is the ratio tp / (tp + fp) where tp is the number of true positives and \n",
    "#fp the number of false positives.\n",
    "#The precision is intuitively the ability of the classifier not to label as positive a sample that is negative.\n",
    "print('precision_score ',precision_score(y_val, y_pred, average=\"macro\"))\n",
    "\n",
    "\n",
    "#The recall is the ratio tp / (tp + fn) where tp is the number of true positives and fn the number \n",
    "#of false negatives.\n",
    "#The recall is intuitively the ability of the classifier to find all the positive samples.\n",
    "print('recall_score ',recall_score(y_val, y_pred, average=\"macro\"))"
   ]
  },
  {
   "cell_type": "code",
   "execution_count": 113,
   "metadata": {},
   "outputs": [
    {
     "name": "stderr",
     "output_type": "stream",
     "text": [
      "C:\\Users\\Syrine.benaziza\\Anaconda3\\lib\\site-packages\\pyod\\models\\cof.py:155: RuntimeWarning: invalid value encountered in double_scalars\n",
      "  np.sum(itemgetter(*sbn_path_index[_g])(ac_dist)))\n",
      "C:\\Users\\Syrine.benaziza\\Anaconda3\\lib\\site-packages\\pyod\\models\\cof.py:155: RuntimeWarning: divide by zero encountered in double_scalars\n",
      "  np.sum(itemgetter(*sbn_path_index[_g])(ac_dist)))\n"
     ]
    },
    {
     "data": {
      "image/png": "[encoded data removed]",
      "text/plain": [
       "<Figure size 432x288 with 2 Axes>"
      ]
     },
     "metadata": {
      "needs_background": "light"
     },
     "output_type": "display_data"
    }
   ],
   "source": [
    "#Let’s plot the confusion matrix for the test set.\n",
    "\n",
    "# plot the comfusion matrix  in the test set\n",
    "y_preds = clf_cof.predict(X_test)\n",
    "\n",
    "skplt.metrics.plot_confusion_matrix(y_test,y_preds, normalize=False,\n",
    "                                    title=\"Confusion Matrix on Test Set\")\n",
    "plt.show()"
   ]
  },
  {
   "cell_type": "code",
   "execution_count": 114,
   "metadata": {},
   "outputs": [
    {
     "name": "stdout",
     "output_type": "stream",
     "text": [
      "‘COF’ ROC:0.681, precision @ rank n:1.0\n",
      "COF ROC:0.7216, precision @ rank n:1.0\n"
     ]
    },
    {
     "name": "stderr",
     "output_type": "stream",
     "text": [
      "C:\\Users\\Syrine.benaziza\\Anaconda3\\lib\\site-packages\\numpy\\core\\fromnumeric.py:90: RuntimeWarning: overflow encountered in reduce\n",
      "  return ufunc.reduce(obj, axis, dtype, out, **passkwargs)\n",
      "C:\\Users\\Syrine.benaziza\\Anaconda3\\lib\\site-packages\\numpy\\core\\fromnumeric.py:90: RuntimeWarning: overflow encountered in reduce\n",
      "  return ufunc.reduce(obj, axis, dtype, out, **passkwargs)\n",
      "C:\\Users\\Syrine.benaziza\\Anaconda3\\lib\\site-packages\\numpy\\core\\fromnumeric.py:90: RuntimeWarning: overflow encountered in reduce\n",
      "  return ufunc.reduce(obj, axis, dtype, out, **passkwargs)\n",
      "C:\\Users\\Syrine.benaziza\\Anaconda3\\lib\\site-packages\\numpy\\core\\fromnumeric.py:90: RuntimeWarning: overflow encountered in reduce\n",
      "  return ufunc.reduce(obj, axis, dtype, out, **passkwargs)\n"
     ]
    }
   ],
   "source": [
    "# Get the scores of the training data \n",
    "y_train_scores = clf_cof.decision_function(X_train)\n",
    "\n",
    "# Get the prediction labels of the testing data \n",
    "y_test_scores = clf_cof.decision_function(X_test)  # outlier scores\n",
    "\n",
    "# Evaluate on the trainset\n",
    "evaluate_print('‘COF’', y_train, y_train_scores)\n",
    "\n",
    "# Evaluate on the testset\n",
    "evaluate_print('COF', y_test,y_test_scores)"
   ]
  },
  {
   "cell_type": "markdown",
   "metadata": {},
   "source": [
    "## Evaluation of implemented models"
   ]
  },
  {
   "cell_type": "code",
   "execution_count": 115,
   "metadata": {},
   "outputs": [
    {
     "data": {
      "text/plain": [
       "<matplotlib.legend.Legend at 0x1deed6d5f08>"
      ]
     },
     "execution_count": 115,
     "metadata": {},
     "output_type": "execute_result"
    },
    {
     "data": {
      "image/png": "[encoded data removed]",
      "text/plain": [
       "<Figure size 1152x576 with 1 Axes>"
      ]
     },
     "metadata": {
      "needs_background": "light"
     },
     "output_type": "display_data"
    }
   ],
   "source": [
    "from sklearn import metrics\n",
    "\n",
    "if_preds = df_test_plot['isolation_forest_outliers']\n",
    "knn_preds = df_test_plot['KNN_outliers']\n",
    "cof_preds = df_test_plot['COF_outliers']\n",
    "lof_preds = df_test_plot['LOF_outliers']\n",
    "ocsvm_preds = df_test_plot['OCSVM_outliers']\n",
    "\n",
    "\n",
    "plt.figure(figsize=(16,8)).clf()\n",
    "\n",
    "pred = if_preds\n",
    "label = y_test\n",
    "fpr, tpr, thresh = metrics.roc_curve(label, pred)\n",
    "auc = metrics.roc_auc_score(label, pred)\n",
    "plt.plot(fpr,tpr,label=\"IF,  auc= %0.2f\" %(auc))\n",
    "\n",
    "pred = knn_preds\n",
    "fpr, tpr, thresh = metrics.roc_curve(label, pred)\n",
    "auc = metrics.roc_auc_score(label, pred)\n",
    "plt.plot(fpr,tpr,label=\"KNN,  auc= %0.2f\" %(auc))\n",
    "\n",
    "\n",
    "pred = cof_preds\n",
    "fpr, tpr, thresh = metrics.roc_curve(label, pred)\n",
    "auc = metrics.roc_auc_score(label, pred)\n",
    "plt.plot(fpr,tpr,label=\"COF, auc= %0.2f\" % (auc))\n",
    "\n",
    "pred = lof_preds\n",
    "fpr, tpr, thresh = metrics.roc_curve(label, pred)\n",
    "auc = metrics.roc_auc_score(label, pred)\n",
    "plt.plot(fpr,tpr,label=\"LOF, auc= %0.2f\"% (auc))\n",
    "\n",
    "pred = ocsvm_preds\n",
    "\n",
    "fpr, tpr, thresh = metrics.roc_curve(label, pred)\n",
    "auc = metrics.roc_auc_score(label, pred)\n",
    "plt.plot(fpr,tpr,label=\"ocsvm, auc= %0.2f\"% (auc))\n",
    "\n",
    "lw = 1\n",
    "plt.plot([0, 1], [0, 1], color='navy', lw=lw, linestyle='--')\n",
    "\n",
    "plt.xlabel('False Positive Rate')\n",
    "plt.ylabel('True Positive Rate')\n",
    "plt.title('Receiver operating characteristic example')\n",
    "plt.legend(loc=\"lower right\")\n",
    "\n"
   ]
  },
  {
   "cell_type": "code",
   "execution_count": null,
   "metadata": {},
   "outputs": [],
   "source": []
  },
  {
   "cell_type": "markdown",
   "metadata": {},
   "source": [
    "#### "
   ]
  },
  {
   "cell_type": "code",
   "execution_count": null,
   "metadata": {},
   "outputs": [],
   "source": []
  },
  {
   "cell_type": "code",
   "execution_count": null,
   "metadata": {},
   "outputs": [],
   "source": []
  },
  {
   "cell_type": "code",
   "execution_count": null,
   "metadata": {},
   "outputs": [],
   "source": []
  },
  {
   "cell_type": "code",
   "execution_count": null,
   "metadata": {},
   "outputs": [],
   "source": []
  },
  {
   "cell_type": "code",
   "execution_count": null,
   "metadata": {},
   "outputs": [],
   "source": []
  }
 ],
 "metadata": {
  "kernelspec": {
   "display_name": "Python 3",
   "language": "python",
   "name": "python3"
  },
  "language_info": {
   "codemirror_mode": {
    "name": "ipython",
    "version": 3
   },
   "file_extension": ".py",
   "mimetype": "text/x-python",
   "name": "python",
   "nbconvert_exporter": "python",
   "pygments_lexer": "ipython3",
   "version": "3.7.6"
  }
 },
 "nbformat": 4,
 "nbformat_minor": 4
}
