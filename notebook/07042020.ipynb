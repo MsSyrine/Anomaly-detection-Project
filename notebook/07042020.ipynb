{
 "cells": [
  {
   "cell_type": "code",
   "execution_count": 1,
   "metadata": {},
   "outputs": [],
   "source": [
    "import pandas as pd\n",
    "import os\n",
    "\n",
    "\n",
    "DATA_PATH = \"D:/Users/Syrine.benaziza/Documents/Project/Data\"\n",
    "\n",
    "\n",
    "def load_data(data_path=DATA_PATH):\n",
    "    csv_path = os.path.join(data_path, \"consolesaasevents.csv\")\n",
    "    return pd.read_csv(csv_path)"
   ]
  },
  {
   "cell_type": "code",
   "execution_count": 2,
   "metadata": {},
   "outputs": [
    {
     "data": {
      "text/html": [
       "<div>\n",
       "<style scoped>\n",
       "    .dataframe tbody tr th:only-of-type {\n",
       "        vertical-align: middle;\n",
       "    }\n",
       "\n",
       "    .dataframe tbody tr th {\n",
       "        vertical-align: top;\n",
       "    }\n",
       "\n",
       "    .dataframe thead th {\n",
       "        text-align: right;\n",
       "    }\n",
       "</style>\n",
       "<table border=\"1\" class=\"dataframe\">\n",
       "  <thead>\n",
       "    <tr style=\"text-align: right;\">\n",
       "      <th></th>\n",
       "      <th>_id</th>\n",
       "      <th>timestamp</th>\n",
       "      <th>event_type</th>\n",
       "      <th>user_id</th>\n",
       "      <th>user_type</th>\n",
       "      <th>clients_codes.0</th>\n",
       "      <th>clients_codes.1</th>\n",
       "      <th>clients_codes.2</th>\n",
       "      <th>clients_codes.3</th>\n",
       "      <th>clients_codes.4</th>\n",
       "      <th>...</th>\n",
       "      <th>profiles.1.application_code</th>\n",
       "      <th>profiles.2.role_code</th>\n",
       "      <th>profiles.2.application_code</th>\n",
       "      <th>profiles.3.role_code</th>\n",
       "      <th>profiles.3.application_code</th>\n",
       "      <th>profiles.4.role_code</th>\n",
       "      <th>profiles.4.application_code</th>\n",
       "      <th>profiles.5.role_code</th>\n",
       "      <th>profiles.5.application_code</th>\n",
       "      <th>_class</th>\n",
       "    </tr>\n",
       "  </thead>\n",
       "  <tbody>\n",
       "    <tr>\n",
       "      <td>0</td>\n",
       "      <td>5e7b882dd21b7c58687083a4</td>\n",
       "      <td>2019-05-17T07:05:34.725Z</td>\n",
       "      <td>USER_CREATED</td>\n",
       "      <td>423146</td>\n",
       "      <td>STANDARD</td>\n",
       "      <td>1360</td>\n",
       "      <td>NaN</td>\n",
       "      <td>NaN</td>\n",
       "      <td>NaN</td>\n",
       "      <td>NaN</td>\n",
       "      <td>...</td>\n",
       "      <td>NaN</td>\n",
       "      <td>NaN</td>\n",
       "      <td>NaN</td>\n",
       "      <td>NaN</td>\n",
       "      <td>NaN</td>\n",
       "      <td>NaN</td>\n",
       "      <td>NaN</td>\n",
       "      <td>NaN</td>\n",
       "      <td>NaN</td>\n",
       "      <td>com.bl.consolesaas.interop.traces.domain.Messa...</td>\n",
       "    </tr>\n",
       "    <tr>\n",
       "      <td>1</td>\n",
       "      <td>5e7b882dd21b7c58687083a5</td>\n",
       "      <td>2019-05-17T07:05:42.191Z</td>\n",
       "      <td>PROFILE_CREATED</td>\n",
       "      <td>423146</td>\n",
       "      <td>STANDARD</td>\n",
       "      <td>1360</td>\n",
       "      <td>NaN</td>\n",
       "      <td>NaN</td>\n",
       "      <td>NaN</td>\n",
       "      <td>NaN</td>\n",
       "      <td>...</td>\n",
       "      <td>NaN</td>\n",
       "      <td>NaN</td>\n",
       "      <td>NaN</td>\n",
       "      <td>NaN</td>\n",
       "      <td>NaN</td>\n",
       "      <td>NaN</td>\n",
       "      <td>NaN</td>\n",
       "      <td>NaN</td>\n",
       "      <td>NaN</td>\n",
       "      <td>com.bl.consolesaas.interop.traces.domain.Messa...</td>\n",
       "    </tr>\n",
       "    <tr>\n",
       "      <td>2</td>\n",
       "      <td>5e7b882dd21b7c58687083a6</td>\n",
       "      <td>2019-05-17T07:06:29.054Z</td>\n",
       "      <td>USER_CREATED</td>\n",
       "      <td>423148</td>\n",
       "      <td>STANDARD</td>\n",
       "      <td>1360</td>\n",
       "      <td>NaN</td>\n",
       "      <td>NaN</td>\n",
       "      <td>NaN</td>\n",
       "      <td>NaN</td>\n",
       "      <td>...</td>\n",
       "      <td>NaN</td>\n",
       "      <td>NaN</td>\n",
       "      <td>NaN</td>\n",
       "      <td>NaN</td>\n",
       "      <td>NaN</td>\n",
       "      <td>NaN</td>\n",
       "      <td>NaN</td>\n",
       "      <td>NaN</td>\n",
       "      <td>NaN</td>\n",
       "      <td>com.bl.consolesaas.interop.traces.domain.Messa...</td>\n",
       "    </tr>\n",
       "    <tr>\n",
       "      <td>3</td>\n",
       "      <td>5e7b882dd21b7c58687083a7</td>\n",
       "      <td>2019-05-17T07:06:36.717Z</td>\n",
       "      <td>PROFILE_CREATED</td>\n",
       "      <td>423148</td>\n",
       "      <td>STANDARD</td>\n",
       "      <td>1360</td>\n",
       "      <td>NaN</td>\n",
       "      <td>NaN</td>\n",
       "      <td>NaN</td>\n",
       "      <td>NaN</td>\n",
       "      <td>...</td>\n",
       "      <td>NaN</td>\n",
       "      <td>NaN</td>\n",
       "      <td>NaN</td>\n",
       "      <td>NaN</td>\n",
       "      <td>NaN</td>\n",
       "      <td>NaN</td>\n",
       "      <td>NaN</td>\n",
       "      <td>NaN</td>\n",
       "      <td>NaN</td>\n",
       "      <td>com.bl.consolesaas.interop.traces.domain.Messa...</td>\n",
       "    </tr>\n",
       "    <tr>\n",
       "      <td>4</td>\n",
       "      <td>5e7b882dd21b7c58687083a8</td>\n",
       "      <td>2019-05-17T07:06:47.609Z</td>\n",
       "      <td>USER_UPDATED</td>\n",
       "      <td>423146</td>\n",
       "      <td>STANDARD</td>\n",
       "      <td>1360</td>\n",
       "      <td>NaN</td>\n",
       "      <td>NaN</td>\n",
       "      <td>NaN</td>\n",
       "      <td>NaN</td>\n",
       "      <td>...</td>\n",
       "      <td>NaN</td>\n",
       "      <td>NaN</td>\n",
       "      <td>NaN</td>\n",
       "      <td>NaN</td>\n",
       "      <td>NaN</td>\n",
       "      <td>NaN</td>\n",
       "      <td>NaN</td>\n",
       "      <td>NaN</td>\n",
       "      <td>NaN</td>\n",
       "      <td>com.bl.consolesaas.interop.traces.domain.Messa...</td>\n",
       "    </tr>\n",
       "  </tbody>\n",
       "</table>\n",
       "<p>5 rows × 23 columns</p>\n",
       "</div>"
      ],
      "text/plain": [
       "                        _id                 timestamp       event_type  \\\n",
       "0  5e7b882dd21b7c58687083a4  2019-05-17T07:05:34.725Z     USER_CREATED   \n",
       "1  5e7b882dd21b7c58687083a5  2019-05-17T07:05:42.191Z  PROFILE_CREATED   \n",
       "2  5e7b882dd21b7c58687083a6  2019-05-17T07:06:29.054Z     USER_CREATED   \n",
       "3  5e7b882dd21b7c58687083a7  2019-05-17T07:06:36.717Z  PROFILE_CREATED   \n",
       "4  5e7b882dd21b7c58687083a8  2019-05-17T07:06:47.609Z     USER_UPDATED   \n",
       "\n",
       "   user_id user_type clients_codes.0 clients_codes.1 clients_codes.2  \\\n",
       "0   423146  STANDARD            1360             NaN             NaN   \n",
       "1   423146  STANDARD            1360             NaN             NaN   \n",
       "2   423148  STANDARD            1360             NaN             NaN   \n",
       "3   423148  STANDARD            1360             NaN             NaN   \n",
       "4   423146  STANDARD            1360             NaN             NaN   \n",
       "\n",
       "  clients_codes.3 clients_codes.4  ... profiles.1.application_code  \\\n",
       "0             NaN             NaN  ...                         NaN   \n",
       "1             NaN             NaN  ...                         NaN   \n",
       "2             NaN             NaN  ...                         NaN   \n",
       "3             NaN             NaN  ...                         NaN   \n",
       "4             NaN             NaN  ...                         NaN   \n",
       "\n",
       "  profiles.2.role_code profiles.2.application_code profiles.3.role_code  \\\n",
       "0                  NaN                         NaN                  NaN   \n",
       "1                  NaN                         NaN                  NaN   \n",
       "2                  NaN                         NaN                  NaN   \n",
       "3                  NaN                         NaN                  NaN   \n",
       "4                  NaN                         NaN                  NaN   \n",
       "\n",
       "  profiles.3.application_code profiles.4.role_code  \\\n",
       "0                         NaN                  NaN   \n",
       "1                         NaN                  NaN   \n",
       "2                         NaN                  NaN   \n",
       "3                         NaN                  NaN   \n",
       "4                         NaN                  NaN   \n",
       "\n",
       "  profiles.4.application_code profiles.5.role_code  \\\n",
       "0                         NaN                  NaN   \n",
       "1                         NaN                  NaN   \n",
       "2                         NaN                  NaN   \n",
       "3                         NaN                  NaN   \n",
       "4                         NaN                  NaN   \n",
       "\n",
       "  profiles.5.application_code  \\\n",
       "0                         NaN   \n",
       "1                         NaN   \n",
       "2                         NaN   \n",
       "3                         NaN   \n",
       "4                         NaN   \n",
       "\n",
       "                                              _class  \n",
       "0  com.bl.consolesaas.interop.traces.domain.Messa...  \n",
       "1  com.bl.consolesaas.interop.traces.domain.Messa...  \n",
       "2  com.bl.consolesaas.interop.traces.domain.Messa...  \n",
       "3  com.bl.consolesaas.interop.traces.domain.Messa...  \n",
       "4  com.bl.consolesaas.interop.traces.domain.Messa...  \n",
       "\n",
       "[5 rows x 23 columns]"
      ]
     },
     "execution_count": 2,
     "metadata": {},
     "output_type": "execute_result"
    }
   ],
   "source": [
    "my_data = load_data()\n",
    "my_data.head()"
   ]
  },
  {
   "cell_type": "raw",
   "metadata": {},
   "source": [
    "Each row represents one district. There are 23 attributes (you can see the first 4 ) .\n"
   ]
  },
  {
   "cell_type": "code",
   "execution_count": 3,
   "metadata": {},
   "outputs": [
    {
     "name": "stdout",
     "output_type": "stream",
     "text": [
      "<class 'pandas.core.frame.DataFrame'>\n",
      "RangeIndex: 112459 entries, 0 to 112458\n",
      "Data columns (total 23 columns):\n",
      "_id                            112459 non-null object\n",
      "timestamp                      112459 non-null object\n",
      "event_type                     112459 non-null object\n",
      "user_id                        112459 non-null int64\n",
      "user_type                      112459 non-null object\n",
      "clients_codes.0                112459 non-null object\n",
      "clients_codes.1                16069 non-null object\n",
      "clients_codes.2                10569 non-null object\n",
      "clients_codes.3                8782 non-null object\n",
      "clients_codes.4                8277 non-null object\n",
      "profiles.0.role_code           104551 non-null object\n",
      "profiles.0.application_code    104551 non-null object\n",
      "profiles.1.role_code           5279 non-null object\n",
      "profiles.1.application_code    5279 non-null object\n",
      "profiles.2.role_code           2791 non-null object\n",
      "profiles.2.application_code    2791 non-null object\n",
      "profiles.3.role_code           1913 non-null object\n",
      "profiles.3.application_code    1913 non-null object\n",
      "profiles.4.role_code           1057 non-null object\n",
      "profiles.4.application_code    1057 non-null object\n",
      "profiles.5.role_code           731 non-null object\n",
      "profiles.5.application_code    731 non-null object\n",
      "_class                         112459 non-null object\n",
      "dtypes: int64(1), object(22)\n",
      "memory usage: 19.7+ MB\n"
     ]
    }
   ],
   "source": [
    "my_data.info()"
   ]
  },
  {
   "cell_type": "markdown",
   "metadata": {},
   "source": []
  },
  {
   "cell_type": "raw",
   "metadata": {},
   "source": [
    "There are 112,459 instances in the dataset. Notice that some attributes have less nonnull values than \n",
    "the total number of instances:\n",
    "clients_codes.1                16069 non-null object missing 96390\n",
    "clients_codes.2                10569 non-null object missing 102390\n",
    "clients_codes.3                8782 non-null object  missing 103767\n",
    "clients_codes.4                8277 non-null object  missing 104272\n",
    "profiles.0.role_code           104551 non-null object missing 7908\n",
    "profiles.0.application_code    104551 non-null object missing 7908\n",
    "profiles.1.role_code           5279 non-null object missing 107180\n",
    "profiles.1.application_code    5279 non-null object missing 107180\n",
    "profiles.2.role_code           2791 non-null object missing 109668\n",
    "profiles.2.application_code    2791 non-null object\n",
    "profiles.3.role_code           1913 non-null object missing 110546\n",
    "profiles.3.application_code    1913 non-null object\n",
    "profiles.4.role_code           1057 non-null object missing 111402\n",
    "profiles.4.application_code    1057 non-null object\n",
    "profiles.5.role_code           731 non-null object missing 111728\n",
    "profiles.5.application_code    731 non-null object\n",
    "_class                         112459 non-null object \n",
    ", meaning that some values are missing from these features,We will need to take care of this later.\n",
    "All attributes are objects, so it\n",
    "could hold any kind of Python object. But since the data  isfrom a CSV file,\n",
    "it must be a text attribute.\n",
    "looking at the top five rows,the values in the user_id ,event_type ,user_type and _class column were repetitive,\n",
    "which means that it is probably a categorical attribute. \n",
    "we can find out what categories\n",
    "exist and how many districts belong to each category by using the\n",
    "value_counts() method:"
   ]
  },
  {
   "cell_type": "code",
   "execution_count": 4,
   "metadata": {},
   "outputs": [
    {
     "data": {
      "text/plain": [
       "PROFILE_UPDATED    66190\n",
       "PROFILE_CREATED    19084\n",
       "USER_UPDATED       16367\n",
       "USER_CREATED        7102\n",
       "PROFILE_DELETED     2745\n",
       "USER_DELETED         971\n",
       "Name: event_type, dtype: int64"
      ]
     },
     "execution_count": 4,
     "metadata": {},
     "output_type": "execute_result"
    }
   ],
   "source": [
    "my_data[\"event_type\"].value_counts()"
   ]
  },
  {
   "cell_type": "code",
   "execution_count": 5,
   "metadata": {},
   "outputs": [
    {
     "data": {
      "text/plain": [
       "196338    3150\n",
       "447586    2188\n",
       "269770    2022\n",
       "446773    1230\n",
       "444423    1214\n",
       "          ... \n",
       "404672       1\n",
       "200573       1\n",
       "190203       1\n",
       "200827       1\n",
       "193289       1\n",
       "Name: user_id, Length: 14708, dtype: int64"
      ]
     },
     "execution_count": 5,
     "metadata": {},
     "output_type": "execute_result"
    }
   ],
   "source": [
    "my_data[\"user_id\"].value_counts()"
   ]
  },
  {
   "cell_type": "code",
   "execution_count": 6,
   "metadata": {},
   "outputs": [
    {
     "data": {
      "text/plain": [
       "STANDARD     111297\n",
       "TECHNICAL      1162\n",
       "Name: user_type, dtype: int64"
      ]
     },
     "execution_count": 6,
     "metadata": {},
     "output_type": "execute_result"
    }
   ],
   "source": [
    "my_data[\"user_type\"].value_counts()"
   ]
  },
  {
   "cell_type": "code",
   "execution_count": 7,
   "metadata": {},
   "outputs": [
    {
     "data": {
      "text/plain": [
       "2019-08-19T18:34:23.053Z    2\n",
       "2019-08-20T05:58:09.234Z    2\n",
       "2019-05-22T05:35:36.156Z    2\n",
       "2020-03-03T21:53:47.788Z    1\n",
       "2019-05-20T20:05:52.112Z    1\n",
       "                           ..\n",
       "2020-03-12T08:43:32.929Z    1\n",
       "2020-02-12T12:50:39.393Z    1\n",
       "2020-02-11T21:48:52.679Z    1\n",
       "2020-02-07T06:30:47.959Z    1\n",
       "2019-11-28T22:03:03.223Z    1\n",
       "Name: timestamp, Length: 112456, dtype: int64"
      ]
     },
     "execution_count": 7,
     "metadata": {},
     "output_type": "execute_result"
    }
   ],
   "source": [
    "my_data[\"timestamp\"].value_counts()"
   ]
  },
  {
   "cell_type": "code",
   "execution_count": 8,
   "metadata": {},
   "outputs": [
    {
     "data": {
      "text/html": [
       "<div>\n",
       "<style scoped>\n",
       "    .dataframe tbody tr th:only-of-type {\n",
       "        vertical-align: middle;\n",
       "    }\n",
       "\n",
       "    .dataframe tbody tr th {\n",
       "        vertical-align: top;\n",
       "    }\n",
       "\n",
       "    .dataframe thead th {\n",
       "        text-align: right;\n",
       "    }\n",
       "</style>\n",
       "<table border=\"1\" class=\"dataframe\">\n",
       "  <thead>\n",
       "    <tr style=\"text-align: right;\">\n",
       "      <th></th>\n",
       "      <th>_id</th>\n",
       "      <th>timestamp</th>\n",
       "      <th>event_type</th>\n",
       "      <th>user_id</th>\n",
       "      <th>user_type</th>\n",
       "      <th>clients_codes.0</th>\n",
       "      <th>clients_codes.1</th>\n",
       "      <th>clients_codes.2</th>\n",
       "      <th>clients_codes.3</th>\n",
       "      <th>clients_codes.4</th>\n",
       "      <th>...</th>\n",
       "      <th>profiles.1.application_code</th>\n",
       "      <th>profiles.2.role_code</th>\n",
       "      <th>profiles.2.application_code</th>\n",
       "      <th>profiles.3.role_code</th>\n",
       "      <th>profiles.3.application_code</th>\n",
       "      <th>profiles.4.role_code</th>\n",
       "      <th>profiles.4.application_code</th>\n",
       "      <th>profiles.5.role_code</th>\n",
       "      <th>profiles.5.application_code</th>\n",
       "      <th>_class</th>\n",
       "    </tr>\n",
       "  </thead>\n",
       "  <tbody>\n",
       "    <tr>\n",
       "      <td>18582</td>\n",
       "      <td>5e7b8851d21b7c586870cc3a</td>\n",
       "      <td>2019-08-20T05:58:09.234Z</td>\n",
       "      <td>USER_UPDATED</td>\n",
       "      <td>436850</td>\n",
       "      <td>STANDARD</td>\n",
       "      <td>344693</td>\n",
       "      <td>NaN</td>\n",
       "      <td>NaN</td>\n",
       "      <td>NaN</td>\n",
       "      <td>NaN</td>\n",
       "      <td>...</td>\n",
       "      <td>LEGIBASE_MP</td>\n",
       "      <td>ROLE_USER</td>\n",
       "      <td>LEGIREDAC</td>\n",
       "      <td>ROLE_USER</td>\n",
       "      <td>LEGIPROC</td>\n",
       "      <td>NaN</td>\n",
       "      <td>NaN</td>\n",
       "      <td>NaN</td>\n",
       "      <td>NaN</td>\n",
       "      <td>com.bl.consolesaas.interop.traces.domain.Messa...</td>\n",
       "    </tr>\n",
       "    <tr>\n",
       "      <td>18583</td>\n",
       "      <td>5e7b8851d21b7c586870cc3b</td>\n",
       "      <td>2019-08-20T05:58:09.234Z</td>\n",
       "      <td>USER_UPDATED</td>\n",
       "      <td>436850</td>\n",
       "      <td>STANDARD</td>\n",
       "      <td>344693</td>\n",
       "      <td>NaN</td>\n",
       "      <td>NaN</td>\n",
       "      <td>NaN</td>\n",
       "      <td>NaN</td>\n",
       "      <td>...</td>\n",
       "      <td>LEGIBASE_MP</td>\n",
       "      <td>ROLE_USER</td>\n",
       "      <td>LEGIREDAC</td>\n",
       "      <td>ROLE_USER</td>\n",
       "      <td>LEGIPROC</td>\n",
       "      <td>NaN</td>\n",
       "      <td>NaN</td>\n",
       "      <td>NaN</td>\n",
       "      <td>NaN</td>\n",
       "      <td>com.bl.consolesaas.interop.traces.domain.Messa...</td>\n",
       "    </tr>\n",
       "  </tbody>\n",
       "</table>\n",
       "<p>2 rows × 23 columns</p>\n",
       "</div>"
      ],
      "text/plain": [
       "                            _id                 timestamp    event_type  \\\n",
       "18582  5e7b8851d21b7c586870cc3a  2019-08-20T05:58:09.234Z  USER_UPDATED   \n",
       "18583  5e7b8851d21b7c586870cc3b  2019-08-20T05:58:09.234Z  USER_UPDATED   \n",
       "\n",
       "       user_id user_type clients_codes.0 clients_codes.1 clients_codes.2  \\\n",
       "18582   436850  STANDARD          344693             NaN             NaN   \n",
       "18583   436850  STANDARD          344693             NaN             NaN   \n",
       "\n",
       "      clients_codes.3 clients_codes.4  ... profiles.1.application_code  \\\n",
       "18582             NaN             NaN  ...                 LEGIBASE_MP   \n",
       "18583             NaN             NaN  ...                 LEGIBASE_MP   \n",
       "\n",
       "      profiles.2.role_code profiles.2.application_code profiles.3.role_code  \\\n",
       "18582            ROLE_USER                   LEGIREDAC            ROLE_USER   \n",
       "18583            ROLE_USER                   LEGIREDAC            ROLE_USER   \n",
       "\n",
       "      profiles.3.application_code profiles.4.role_code  \\\n",
       "18582                    LEGIPROC                  NaN   \n",
       "18583                    LEGIPROC                  NaN   \n",
       "\n",
       "      profiles.4.application_code profiles.5.role_code  \\\n",
       "18582                         NaN                  NaN   \n",
       "18583                         NaN                  NaN   \n",
       "\n",
       "      profiles.5.application_code  \\\n",
       "18582                         NaN   \n",
       "18583                         NaN   \n",
       "\n",
       "                                                  _class  \n",
       "18582  com.bl.consolesaas.interop.traces.domain.Messa...  \n",
       "18583  com.bl.consolesaas.interop.traces.domain.Messa...  \n",
       "\n",
       "[2 rows x 23 columns]"
      ]
     },
     "execution_count": 8,
     "metadata": {},
     "output_type": "execute_result"
    }
   ],
   "source": [
    "my_data[my_data['timestamp'].str.contains('019-08-20T05:58:09.234Z')]"
   ]
  },
  {
   "cell_type": "code",
   "execution_count": 9,
   "metadata": {},
   "outputs": [
    {
     "data": {
      "text/html": [
       "<div>\n",
       "<style scoped>\n",
       "    .dataframe tbody tr th:only-of-type {\n",
       "        vertical-align: middle;\n",
       "    }\n",
       "\n",
       "    .dataframe tbody tr th {\n",
       "        vertical-align: top;\n",
       "    }\n",
       "\n",
       "    .dataframe thead th {\n",
       "        text-align: right;\n",
       "    }\n",
       "</style>\n",
       "<table border=\"1\" class=\"dataframe\">\n",
       "  <thead>\n",
       "    <tr style=\"text-align: right;\">\n",
       "      <th></th>\n",
       "      <th>_id</th>\n",
       "      <th>timestamp</th>\n",
       "      <th>event_type</th>\n",
       "      <th>user_id</th>\n",
       "      <th>user_type</th>\n",
       "      <th>clients_codes.0</th>\n",
       "      <th>clients_codes.1</th>\n",
       "      <th>clients_codes.2</th>\n",
       "      <th>clients_codes.3</th>\n",
       "      <th>clients_codes.4</th>\n",
       "      <th>...</th>\n",
       "      <th>profiles.1.application_code</th>\n",
       "      <th>profiles.2.role_code</th>\n",
       "      <th>profiles.2.application_code</th>\n",
       "      <th>profiles.3.role_code</th>\n",
       "      <th>profiles.3.application_code</th>\n",
       "      <th>profiles.4.role_code</th>\n",
       "      <th>profiles.4.application_code</th>\n",
       "      <th>profiles.5.role_code</th>\n",
       "      <th>profiles.5.application_code</th>\n",
       "      <th>_class</th>\n",
       "    </tr>\n",
       "  </thead>\n",
       "  <tbody>\n",
       "    <tr>\n",
       "      <td>18547</td>\n",
       "      <td>5e7b8851d21b7c586870cc17</td>\n",
       "      <td>2019-08-19T18:34:23.053Z</td>\n",
       "      <td>USER_UPDATED</td>\n",
       "      <td>416684</td>\n",
       "      <td>STANDARD</td>\n",
       "      <td>191658</td>\n",
       "      <td>NaN</td>\n",
       "      <td>NaN</td>\n",
       "      <td>NaN</td>\n",
       "      <td>NaN</td>\n",
       "      <td>...</td>\n",
       "      <td>NaN</td>\n",
       "      <td>NaN</td>\n",
       "      <td>NaN</td>\n",
       "      <td>NaN</td>\n",
       "      <td>NaN</td>\n",
       "      <td>NaN</td>\n",
       "      <td>NaN</td>\n",
       "      <td>NaN</td>\n",
       "      <td>NaN</td>\n",
       "      <td>com.bl.consolesaas.interop.traces.domain.Messa...</td>\n",
       "    </tr>\n",
       "    <tr>\n",
       "      <td>18548</td>\n",
       "      <td>5e7b8851d21b7c586870cc18</td>\n",
       "      <td>2019-08-19T18:34:23.053Z</td>\n",
       "      <td>USER_UPDATED</td>\n",
       "      <td>416684</td>\n",
       "      <td>STANDARD</td>\n",
       "      <td>191658</td>\n",
       "      <td>NaN</td>\n",
       "      <td>NaN</td>\n",
       "      <td>NaN</td>\n",
       "      <td>NaN</td>\n",
       "      <td>...</td>\n",
       "      <td>NaN</td>\n",
       "      <td>NaN</td>\n",
       "      <td>NaN</td>\n",
       "      <td>NaN</td>\n",
       "      <td>NaN</td>\n",
       "      <td>NaN</td>\n",
       "      <td>NaN</td>\n",
       "      <td>NaN</td>\n",
       "      <td>NaN</td>\n",
       "      <td>com.bl.consolesaas.interop.traces.domain.Messa...</td>\n",
       "    </tr>\n",
       "  </tbody>\n",
       "</table>\n",
       "<p>2 rows × 23 columns</p>\n",
       "</div>"
      ],
      "text/plain": [
       "                            _id                 timestamp    event_type  \\\n",
       "18547  5e7b8851d21b7c586870cc17  2019-08-19T18:34:23.053Z  USER_UPDATED   \n",
       "18548  5e7b8851d21b7c586870cc18  2019-08-19T18:34:23.053Z  USER_UPDATED   \n",
       "\n",
       "       user_id user_type clients_codes.0 clients_codes.1 clients_codes.2  \\\n",
       "18547   416684  STANDARD          191658             NaN             NaN   \n",
       "18548   416684  STANDARD          191658             NaN             NaN   \n",
       "\n",
       "      clients_codes.3 clients_codes.4  ... profiles.1.application_code  \\\n",
       "18547             NaN             NaN  ...                         NaN   \n",
       "18548             NaN             NaN  ...                         NaN   \n",
       "\n",
       "      profiles.2.role_code profiles.2.application_code profiles.3.role_code  \\\n",
       "18547                  NaN                         NaN                  NaN   \n",
       "18548                  NaN                         NaN                  NaN   \n",
       "\n",
       "      profiles.3.application_code profiles.4.role_code  \\\n",
       "18547                         NaN                  NaN   \n",
       "18548                         NaN                  NaN   \n",
       "\n",
       "      profiles.4.application_code profiles.5.role_code  \\\n",
       "18547                         NaN                  NaN   \n",
       "18548                         NaN                  NaN   \n",
       "\n",
       "      profiles.5.application_code  \\\n",
       "18547                         NaN   \n",
       "18548                         NaN   \n",
       "\n",
       "                                                  _class  \n",
       "18547  com.bl.consolesaas.interop.traces.domain.Messa...  \n",
       "18548  com.bl.consolesaas.interop.traces.domain.Messa...  \n",
       "\n",
       "[2 rows x 23 columns]"
      ]
     },
     "execution_count": 9,
     "metadata": {},
     "output_type": "execute_result"
    }
   ],
   "source": [
    "my_data[my_data['timestamp'].str.contains('2019-08-19T18:34:23.053Z')]"
   ]
  },
  {
   "cell_type": "code",
   "execution_count": 10,
   "metadata": {},
   "outputs": [
    {
     "data": {
      "text/html": [
       "<div>\n",
       "<style scoped>\n",
       "    .dataframe tbody tr th:only-of-type {\n",
       "        vertical-align: middle;\n",
       "    }\n",
       "\n",
       "    .dataframe tbody tr th {\n",
       "        vertical-align: top;\n",
       "    }\n",
       "\n",
       "    .dataframe thead th {\n",
       "        text-align: right;\n",
       "    }\n",
       "</style>\n",
       "<table border=\"1\" class=\"dataframe\">\n",
       "  <thead>\n",
       "    <tr style=\"text-align: right;\">\n",
       "      <th></th>\n",
       "      <th>_id</th>\n",
       "      <th>timestamp</th>\n",
       "      <th>event_type</th>\n",
       "      <th>user_id</th>\n",
       "      <th>user_type</th>\n",
       "      <th>clients_codes.0</th>\n",
       "      <th>clients_codes.1</th>\n",
       "      <th>clients_codes.2</th>\n",
       "      <th>clients_codes.3</th>\n",
       "      <th>clients_codes.4</th>\n",
       "      <th>...</th>\n",
       "      <th>profiles.1.application_code</th>\n",
       "      <th>profiles.2.role_code</th>\n",
       "      <th>profiles.2.application_code</th>\n",
       "      <th>profiles.3.role_code</th>\n",
       "      <th>profiles.3.application_code</th>\n",
       "      <th>profiles.4.role_code</th>\n",
       "      <th>profiles.4.application_code</th>\n",
       "      <th>profiles.5.role_code</th>\n",
       "      <th>profiles.5.application_code</th>\n",
       "      <th>_class</th>\n",
       "    </tr>\n",
       "  </thead>\n",
       "  <tbody>\n",
       "    <tr>\n",
       "      <td>696</td>\n",
       "      <td>5e7b8830d21b7c586870865c</td>\n",
       "      <td>2019-05-22T05:35:36.156Z</td>\n",
       "      <td>USER_UPDATED</td>\n",
       "      <td>423631</td>\n",
       "      <td>STANDARD</td>\n",
       "      <td>322124</td>\n",
       "      <td>NaN</td>\n",
       "      <td>NaN</td>\n",
       "      <td>NaN</td>\n",
       "      <td>NaN</td>\n",
       "      <td>...</td>\n",
       "      <td>BL_SOINS</td>\n",
       "      <td>ROLE_USER</td>\n",
       "      <td>CONSOLE_SAAS</td>\n",
       "      <td>NaN</td>\n",
       "      <td>NaN</td>\n",
       "      <td>NaN</td>\n",
       "      <td>NaN</td>\n",
       "      <td>NaN</td>\n",
       "      <td>NaN</td>\n",
       "      <td>com.bl.consolesaas.interop.traces.domain.Messa...</td>\n",
       "    </tr>\n",
       "    <tr>\n",
       "      <td>697</td>\n",
       "      <td>5e7b8830d21b7c586870865d</td>\n",
       "      <td>2019-05-22T05:35:36.156Z</td>\n",
       "      <td>USER_UPDATED</td>\n",
       "      <td>423631</td>\n",
       "      <td>STANDARD</td>\n",
       "      <td>322124</td>\n",
       "      <td>NaN</td>\n",
       "      <td>NaN</td>\n",
       "      <td>NaN</td>\n",
       "      <td>NaN</td>\n",
       "      <td>...</td>\n",
       "      <td>BL_SOINS</td>\n",
       "      <td>ROLE_USER</td>\n",
       "      <td>CONSOLE_SAAS</td>\n",
       "      <td>NaN</td>\n",
       "      <td>NaN</td>\n",
       "      <td>NaN</td>\n",
       "      <td>NaN</td>\n",
       "      <td>NaN</td>\n",
       "      <td>NaN</td>\n",
       "      <td>com.bl.consolesaas.interop.traces.domain.Messa...</td>\n",
       "    </tr>\n",
       "  </tbody>\n",
       "</table>\n",
       "<p>2 rows × 23 columns</p>\n",
       "</div>"
      ],
      "text/plain": [
       "                          _id                 timestamp    event_type  \\\n",
       "696  5e7b8830d21b7c586870865c  2019-05-22T05:35:36.156Z  USER_UPDATED   \n",
       "697  5e7b8830d21b7c586870865d  2019-05-22T05:35:36.156Z  USER_UPDATED   \n",
       "\n",
       "     user_id user_type clients_codes.0 clients_codes.1 clients_codes.2  \\\n",
       "696   423631  STANDARD          322124             NaN             NaN   \n",
       "697   423631  STANDARD          322124             NaN             NaN   \n",
       "\n",
       "    clients_codes.3 clients_codes.4  ... profiles.1.application_code  \\\n",
       "696             NaN             NaN  ...                    BL_SOINS   \n",
       "697             NaN             NaN  ...                    BL_SOINS   \n",
       "\n",
       "    profiles.2.role_code profiles.2.application_code profiles.3.role_code  \\\n",
       "696            ROLE_USER                CONSOLE_SAAS                  NaN   \n",
       "697            ROLE_USER                CONSOLE_SAAS                  NaN   \n",
       "\n",
       "    profiles.3.application_code profiles.4.role_code  \\\n",
       "696                         NaN                  NaN   \n",
       "697                         NaN                  NaN   \n",
       "\n",
       "    profiles.4.application_code profiles.5.role_code  \\\n",
       "696                         NaN                  NaN   \n",
       "697                         NaN                  NaN   \n",
       "\n",
       "    profiles.5.application_code  \\\n",
       "696                         NaN   \n",
       "697                         NaN   \n",
       "\n",
       "                                                _class  \n",
       "696  com.bl.consolesaas.interop.traces.domain.Messa...  \n",
       "697  com.bl.consolesaas.interop.traces.domain.Messa...  \n",
       "\n",
       "[2 rows x 23 columns]"
      ]
     },
     "execution_count": 10,
     "metadata": {},
     "output_type": "execute_result"
    }
   ],
   "source": [
    "my_data[my_data['timestamp'].str.contains('2019-05-22T05:35:36.156Z')]"
   ]
  },
  {
   "cell_type": "code",
   "execution_count": 11,
   "metadata": {},
   "outputs": [
    {
     "data": {
      "text/plain": [
       "com.bl.consolesaas.interop.traces.domain.MessagingEvent    112459\n",
       "Name: _class, dtype: int64"
      ]
     },
     "execution_count": 11,
     "metadata": {},
     "output_type": "execute_result"
    }
   ],
   "source": [
    "my_data[\"_class\"].value_counts()"
   ]
  },
  {
   "cell_type": "code",
   "execution_count": 22,
   "metadata": {},
   "outputs": [
    {
     "data": {
      "text/plain": [
       "0           1360\n",
       "1           1360\n",
       "2           1360\n",
       "3           1360\n",
       "4           1360\n",
       "           ...  \n",
       "112454    247226\n",
       "112455    266385\n",
       "112456     20810\n",
       "112457     20810\n",
       "112458    266385\n",
       "Name: clients_codes.0, Length: 112459, dtype: object"
      ]
     },
     "execution_count": 22,
     "metadata": {},
     "output_type": "execute_result"
    }
   ],
   "source": [
    "df = my_data[\"clients_codes.0\"]\n",
    "df"
   ]
  },
  {
   "cell_type": "code",
   "execution_count": 12,
   "metadata": {},
   "outputs": [
    {
     "data": {
      "text/plain": [
       "56776    2638\n",
       "36476    2188\n",
       "41763    2014\n",
       "44902    1862\n",
       "42539    1847\n",
       "         ... \n",
       "19269       1\n",
       "20493       1\n",
       "21298       1\n",
       "12303       1\n",
       "22782       1\n",
       "Name: clients_codes.0, Length: 4339, dtype: int64"
      ]
     },
     "execution_count": 12,
     "metadata": {},
     "output_type": "execute_result"
    }
   ],
   "source": [
    "my_data[\"clients_codes.0\"].value_counts()"
   ]
  },
  {
   "cell_type": "code",
   "execution_count": 34,
   "metadata": {},
   "outputs": [
    {
     "data": {
      "text/plain": [
       "LEGB_TI_SERV_CIV             162\n",
       "LEGB_VOIE_EXEC                61\n",
       "BL_ACCESS_TOKEN               57\n",
       "LEGB_TRIB_POLICE              47\n",
       "LEGIBASE2_ELEC                36\n",
       "LEGB_AIDE_JURID               36\n",
       "LEGB_FRAIS_DEPEN              32\n",
       "PFA                           31\n",
       "CONSOLE_SAAS                  26\n",
       "LEGB_TUTELLE                  24\n",
       "LEGB_TI_SERV_GEN              20\n",
       "LEGB_TRIB_ENF                 19\n",
       "LEGIBASE_ETAT_CIVIL           15\n",
       "LEGB_COUR_ASSISE              15\n",
       "LEGIMARCHES                   14\n",
       "LEGIBASE_URBA                 13\n",
       "LEGB_FIN_COMPTA               13\n",
       "BL_RESIDENT                   12\n",
       "BL_SOINS                      11\n",
       "LEGIBASE_RH_TERR               9\n",
       "LEGB_AUD_CORREC                8\n",
       "BL_REFERENTIEL                 7\n",
       "BL_PLANNING                    7\n",
       "LEGB_APPL_PEINE                6\n",
       "BL_SENIOR_BLRESIDENT_DEMO      6\n",
       "LEGIBASE_MP                    5\n",
       "BL_SENIOR_BLSOINS_DEMO         5\n",
       "PFA_PREPROD                    5\n",
       "LEGIBASE_SANTE                 5\n",
       "LEGB_INSTRUCTION               4\n",
       "FORM_GENERATOR                 4\n",
       "LEGIREDAC                      4\n",
       "LEGB_TGI_SERV_CIV              4\n",
       "LEGB_PROC_PRUD                 3\n",
       "ABOREVNUM                      2\n",
       "LEGIPROC                       2\n",
       "BL_SENIOR_BLPLANNING_DEMO      1\n",
       "Name: profiles.5.application_code, dtype: int64"
      ]
     },
     "execution_count": 34,
     "metadata": {},
     "output_type": "execute_result"
    }
   ],
   "source": [
    "my_data[\"profiles.5.application_code\"].value_counts()\n"
   ]
  },
  {
   "cell_type": "code",
   "execution_count": 14,
   "metadata": {},
   "outputs": [
    {
     "data": {
      "text/html": [
       "<div>\n",
       "<style scoped>\n",
       "    .dataframe tbody tr th:only-of-type {\n",
       "        vertical-align: middle;\n",
       "    }\n",
       "\n",
       "    .dataframe tbody tr th {\n",
       "        vertical-align: top;\n",
       "    }\n",
       "\n",
       "    .dataframe thead th {\n",
       "        text-align: right;\n",
       "    }\n",
       "</style>\n",
       "<table border=\"1\" class=\"dataframe\">\n",
       "  <thead>\n",
       "    <tr style=\"text-align: right;\">\n",
       "      <th></th>\n",
       "      <th>user_id</th>\n",
       "    </tr>\n",
       "  </thead>\n",
       "  <tbody>\n",
       "    <tr>\n",
       "      <td>count</td>\n",
       "      <td>112459.000000</td>\n",
       "    </tr>\n",
       "    <tr>\n",
       "      <td>mean</td>\n",
       "      <td>372939.061142</td>\n",
       "    </tr>\n",
       "    <tr>\n",
       "      <td>std</td>\n",
       "      <td>107152.509180</td>\n",
       "    </tr>\n",
       "    <tr>\n",
       "      <td>min</td>\n",
       "      <td>3.000000</td>\n",
       "    </tr>\n",
       "    <tr>\n",
       "      <td>25%</td>\n",
       "      <td>268358.000000</td>\n",
       "    </tr>\n",
       "    <tr>\n",
       "      <td>50%</td>\n",
       "      <td>438211.000000</td>\n",
       "    </tr>\n",
       "    <tr>\n",
       "      <td>75%</td>\n",
       "      <td>451973.000000</td>\n",
       "    </tr>\n",
       "    <tr>\n",
       "      <td>max</td>\n",
       "      <td>458731.000000</td>\n",
       "    </tr>\n",
       "  </tbody>\n",
       "</table>\n",
       "</div>"
      ],
      "text/plain": [
       "             user_id\n",
       "count  112459.000000\n",
       "mean   372939.061142\n",
       "std    107152.509180\n",
       "min         3.000000\n",
       "25%    268358.000000\n",
       "50%    438211.000000\n",
       "75%    451973.000000\n",
       "max    458731.000000"
      ]
     },
     "execution_count": 14,
     "metadata": {},
     "output_type": "execute_result"
    }
   ],
   "source": [
    "my_data.describe()"
   ]
  },
  {
   "cell_type": "raw",
   "metadata": {},
   "source": [
    "we dont have any numerical values other than the user_id so we need to convert the fields\n",
    "but before any further processing ,we need to create a test set and put it aside\n",
    "so we can avoid data snooping bias.\n"
   ]
  },
  {
   "cell_type": "code",
   "execution_count": 15,
   "metadata": {},
   "outputs": [],
   "source": [
    "from sklearn.model_selection import train_test_split \n",
    "\n",
    "train_set, test_set = train_test_split(my_data, test_size=0.2, random_state=42)"
   ]
  },
  {
   "cell_type": "markdown",
   "metadata": {},
   "source": [
    "# Handling Text and Categorical Attributes"
   ]
  },
  {
   "cell_type": "code",
   "execution_count": 16,
   "metadata": {},
   "outputs": [
    {
     "data": {
      "text/plain": [
       "PROFILE_UPDATED    66190\n",
       "PROFILE_CREATED    19084\n",
       "USER_UPDATED       16367\n",
       "USER_CREATED        7102\n",
       "PROFILE_DELETED     2745\n",
       "USER_DELETED         971\n",
       "Name: event_type, dtype: int64"
      ]
     },
     "execution_count": 16,
     "metadata": {},
     "output_type": "execute_result"
    }
   ],
   "source": [
    "event_type = my_data[[\"event_type\"]]\n",
    "my_data[\"event_type\"].value_counts()\n"
   ]
  },
  {
   "cell_type": "raw",
   "metadata": {},
   "source": [
    "It’s not arbitrary text: there are a limited number of possible values, each of which\n",
    "represents a category. So this attribute is a categorical attribute.\n",
    "Most Machine Learning algorithms prefer to work with numbers, so let’s convert these categories\n",
    "from text to numbers. \n",
    "For this, we can use Scikit-Learn’s OneHotEncoder class:"
   ]
  },
  {
   "cell_type": "code",
   "execution_count": 17,
   "metadata": {},
   "outputs": [
    {
     "data": {
      "text/plain": [
       "<112459x6 sparse matrix of type '<class 'numpy.float64'>'\n",
       "\twith 112459 stored elements in Compressed Sparse Row format>"
      ]
     },
     "execution_count": 17,
     "metadata": {},
     "output_type": "execute_result"
    }
   ],
   "source": [
    "from sklearn.preprocessing import OneHotEncoder\n",
    "\n",
    "cat_encoder = OneHotEncoder()\n",
    "event_type_1hot = cat_encoder.fit_transform(event_type)\n",
    "event_type_1hot\n"
   ]
  },
  {
   "cell_type": "raw",
   "metadata": {},
   "source": [
    "the output is a SciPy sparse matrix, instead of a NumPy array. This is very\n",
    "useful when you have categorical attributes with thousands of categories. After onehot\n",
    "encoding, we get a matrix with thousands of columns, and the matrix is full of 0s\n",
    "except for a single 1 per row. Using up tons of memory mostly to store zeros would\n",
    "be very wasteful, so instead a sparse matrix only stores the location of the nonzero\n",
    "elements."
   ]
  },
  {
   "cell_type": "code",
   "execution_count": 18,
   "metadata": {},
   "outputs": [
    {
     "data": {
      "text/plain": [
       "array([[0., 0., 0., 1., 0., 0.],\n",
       "       [1., 0., 0., 0., 0., 0.],\n",
       "       [0., 0., 0., 1., 0., 0.],\n",
       "       ...,\n",
       "       [0., 0., 0., 0., 0., 1.],\n",
       "       [0., 0., 1., 0., 0., 0.],\n",
       "       [1., 0., 0., 0., 0., 0.]])"
      ]
     },
     "execution_count": 18,
     "metadata": {},
     "output_type": "execute_result"
    }
   ],
   "source": [
    "event_type_1hot.toarray()#convert the sparse matrix to a numpy array"
   ]
  },
  {
   "cell_type": "code",
   "execution_count": 19,
   "metadata": {},
   "outputs": [
    {
     "data": {
      "text/plain": [
       "[array(['PROFILE_CREATED', 'PROFILE_DELETED', 'PROFILE_UPDATED',\n",
       "        'USER_CREATED', 'USER_DELETED', 'USER_UPDATED'], dtype=object)]"
      ]
     },
     "execution_count": 19,
     "metadata": {},
     "output_type": "execute_result"
    }
   ],
   "source": [
    "cat_encoder.categories_"
   ]
  },
  {
   "cell_type": "code",
   "execution_count": null,
   "metadata": {},
   "outputs": [],
   "source": []
  },
  {
   "cell_type": "code",
   "execution_count": null,
   "metadata": {},
   "outputs": [],
   "source": [
    " "
   ]
  },
  {
   "cell_type": "raw",
   "metadata": {},
   "source": [
    "from sklearn.compose import ColumnTransformer\n",
    "\n",
    "#num_attribs = list(housing_num)\n",
    "cat_attribs = [\"event_type\", \"user_id\", \"user_type\" , \"_class\"]\n",
    "full_pipeline = ColumnTransformer([\n",
    "#(\"num\", num_pipeline, num_attribs),\n",
    "(\"cat\", OneHotEncoder(), cat_attribs),\n",
    "])\n",
    "data_prepared = full_pipeline.fit_transform(my_data)"
   ]
  },
  {
   "cell_type": "raw",
   "metadata": {},
   "source": [
    "data_prepared.toarray()"
   ]
  },
  {
   "cell_type": "code",
   "execution_count": 20,
   "metadata": {},
   "outputs": [
    {
     "data": {
      "text/plain": [
       "'2019-05-17T07:05:42.191Z'"
      ]
     },
     "execution_count": 20,
     "metadata": {},
     "output_type": "execute_result"
    }
   ],
   "source": [
    "my_data[\"timestamp\"][1]"
   ]
  },
  {
   "cell_type": "code",
   "execution_count": 21,
   "metadata": {},
   "outputs": [
    {
     "data": {
      "text/plain": [
       "datetime.datetime(2019, 5, 17, 7, 5, 42, 191000, tzinfo=datetime.timezone.utc)"
      ]
     },
     "execution_count": 21,
     "metadata": {},
     "output_type": "execute_result"
    }
   ],
   "source": [
    "import datetime\n",
    "datetime.datetime.strptime(my_data[\"timestamp\"][1], \"%Y-%m-%dT%H:%M:%S.%f%z\")"
   ]
  },
  {
   "cell_type": "code",
   "execution_count": 24,
   "metadata": {},
   "outputs": [],
   "source": [
    "df1 = pd.DataFrame(my_data)\n",
    "\n",
    "\n",
    "\n",
    "df1['COLUMN'] =  pd.to_datetime(my_data[\"timestamp\"].str.strip(), format=\"%Y-%m-%dT%H:%M:%S.%f%z\")\n",
    "\n"
   ]
  },
  {
   "cell_type": "code",
   "execution_count": 32,
   "metadata": {},
   "outputs": [
    {
     "data": {
      "text/plain": [
       "0         2019-05-17\n",
       "1         2019-05-17\n",
       "2         2019-05-17\n",
       "3         2019-05-17\n",
       "4         2019-05-17\n",
       "             ...    \n",
       "112454    2020-03-25\n",
       "112455    2020-03-25\n",
       "112456    2020-03-25\n",
       "112457    2020-03-25\n",
       "112458    2020-03-25\n",
       "Name: COLUMN, Length: 112459, dtype: object"
      ]
     },
     "execution_count": 32,
     "metadata": {},
     "output_type": "execute_result"
    }
   ],
   "source": [
    "df1['COLUMN'].dt.date"
   ]
  },
  {
   "cell_type": "code",
   "execution_count": 33,
   "metadata": {},
   "outputs": [
    {
     "name": "stdout",
     "output_type": "stream",
     "text": [
      "<class 'pandas.core.frame.DataFrame'>\n",
      "RangeIndex: 112459 entries, 0 to 112458\n",
      "Data columns (total 24 columns):\n",
      "_id                            112459 non-null object\n",
      "timestamp                      112459 non-null object\n",
      "event_type                     112459 non-null object\n",
      "user_id                        112459 non-null int64\n",
      "user_type                      112459 non-null object\n",
      "clients_codes.0                112459 non-null object\n",
      "clients_codes.1                16069 non-null object\n",
      "clients_codes.2                10569 non-null object\n",
      "clients_codes.3                8782 non-null object\n",
      "clients_codes.4                8277 non-null object\n",
      "profiles.0.role_code           104551 non-null object\n",
      "profiles.0.application_code    104551 non-null object\n",
      "profiles.1.role_code           5279 non-null object\n",
      "profiles.1.application_code    5279 non-null object\n",
      "profiles.2.role_code           2791 non-null object\n",
      "profiles.2.application_code    2791 non-null object\n",
      "profiles.3.role_code           1913 non-null object\n",
      "profiles.3.application_code    1913 non-null object\n",
      "profiles.4.role_code           1057 non-null object\n",
      "profiles.4.application_code    1057 non-null object\n",
      "profiles.5.role_code           731 non-null object\n",
      "profiles.5.application_code    731 non-null object\n",
      "_class                         112459 non-null object\n",
      "COLUMN                         112459 non-null datetime64[ns, UTC]\n",
      "dtypes: datetime64[ns, UTC](1), int64(1), object(22)\n",
      "memory usage: 20.6+ MB\n"
     ]
    }
   ],
   "source": [
    "df1.info()"
   ]
  },
  {
   "cell_type": "code",
   "execution_count": null,
   "metadata": {},
   "outputs": [],
   "source": []
  }
 ],
 "metadata": {
  "kernelspec": {
   "display_name": "Python 3",
   "language": "python",
   "name": "python3"
  },
  "language_info": {
   "codemirror_mode": {
    "name": "ipython",
    "version": 3
   },
   "file_extension": ".py",
   "mimetype": "text/x-python",
   "name": "python",
   "nbconvert_exporter": "python",
   "pygments_lexer": "ipython3",
   "version": "3.7.4"
  }
 },
 "nbformat": 4,
 "nbformat_minor": 2
}
